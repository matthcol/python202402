{
 "cells": [
  {
   "cell_type": "markdown",
   "id": "5bcf8f4c-b0b1-481b-bba2-87dfff32d9ed",
   "metadata": {},
   "source": [
    "# Object Oriented Programming in Python"
   ]
  },
  {
   "cell_type": "code",
   "execution_count": 1,
   "id": "0e2be214-e029-4102-b294-b9a5b1722ec2",
   "metadata": {},
   "outputs": [],
   "source": [
    "import numpy as np\n",
    "import pandas as pd\n",
    "from datetime import date, datetime, time\n",
    "import pytz\n",
    "from city import City, CoastalCity"
   ]
  },
  {
   "cell_type": "markdown",
   "id": "d8d51e62-7d63-4d80-a31c-a3ec6331bf5f",
   "metadata": {},
   "source": [
    "## Constructor"
   ]
  },
  {
   "cell_type": "code",
   "execution_count": 2,
   "id": "f38a06e3-3d2a-431e-9bcd-751d4eeffcaa",
   "metadata": {},
   "outputs": [
    {
     "data": {
      "text/plain": [
       "range(0, 100)"
      ]
     },
     "execution_count": 2,
     "metadata": {},
     "output_type": "execute_result"
    }
   ],
   "source": [
    "# build an instance of class range\n",
    "r = range(100)\n",
    "r"
   ]
  },
  {
   "cell_type": "code",
   "execution_count": 3,
   "id": "489ec397-5a4c-4196-a51c-a50d184d3a29",
   "metadata": {},
   "outputs": [
    {
     "data": {
      "text/plain": [
       "range"
      ]
     },
     "execution_count": 3,
     "metadata": {},
     "output_type": "execute_result"
    }
   ],
   "source": [
    "type(r)"
   ]
  },
  {
   "cell_type": "code",
   "execution_count": 4,
   "id": "7715aaa3-120c-4e0b-8466-da04a2c50dd8",
   "metadata": {},
   "outputs": [
    {
     "data": {
      "text/plain": [
       "[0,\n",
       " 1,\n",
       " 2,\n",
       " 3,\n",
       " 4,\n",
       " 5,\n",
       " 6,\n",
       " 7,\n",
       " 8,\n",
       " 9,\n",
       " 10,\n",
       " 11,\n",
       " 12,\n",
       " 13,\n",
       " 14,\n",
       " 15,\n",
       " 16,\n",
       " 17,\n",
       " 18,\n",
       " 19,\n",
       " 20,\n",
       " 21,\n",
       " 22,\n",
       " 23,\n",
       " 24,\n",
       " 25,\n",
       " 26,\n",
       " 27,\n",
       " 28,\n",
       " 29,\n",
       " 30,\n",
       " 31,\n",
       " 32,\n",
       " 33,\n",
       " 34,\n",
       " 35,\n",
       " 36,\n",
       " 37,\n",
       " 38,\n",
       " 39,\n",
       " 40,\n",
       " 41,\n",
       " 42,\n",
       " 43,\n",
       " 44,\n",
       " 45,\n",
       " 46,\n",
       " 47,\n",
       " 48,\n",
       " 49,\n",
       " 50,\n",
       " 51,\n",
       " 52,\n",
       " 53,\n",
       " 54,\n",
       " 55,\n",
       " 56,\n",
       " 57,\n",
       " 58,\n",
       " 59,\n",
       " 60,\n",
       " 61,\n",
       " 62,\n",
       " 63,\n",
       " 64,\n",
       " 65,\n",
       " 66,\n",
       " 67,\n",
       " 68,\n",
       " 69,\n",
       " 70,\n",
       " 71,\n",
       " 72,\n",
       " 73,\n",
       " 74,\n",
       " 75,\n",
       " 76,\n",
       " 77,\n",
       " 78,\n",
       " 79,\n",
       " 80,\n",
       " 81,\n",
       " 82,\n",
       " 83,\n",
       " 84,\n",
       " 85,\n",
       " 86,\n",
       " 87,\n",
       " 88,\n",
       " 89,\n",
       " 90,\n",
       " 91,\n",
       " 92,\n",
       " 93,\n",
       " 94,\n",
       " 95,\n",
       " 96,\n",
       " 97,\n",
       " 98,\n",
       " 99]"
      ]
     },
     "execution_count": 4,
     "metadata": {},
     "output_type": "execute_result"
    }
   ],
   "source": [
    "# constructor class list adapt iterable object into a list\n",
    "l = list(r)\n",
    "l"
   ]
  },
  {
   "cell_type": "code",
   "execution_count": 5,
   "id": "78e192f2-9043-4aa8-bbd9-3832daa8037d",
   "metadata": {},
   "outputs": [
    {
     "data": {
      "text/plain": [
       "[]"
      ]
     },
     "execution_count": 5,
     "metadata": {},
     "output_type": "execute_result"
    }
   ],
   "source": [
    "list()"
   ]
  },
  {
   "cell_type": "code",
   "execution_count": 6,
   "id": "982f58ee-ca8a-435e-b1ba-e30859f16f3b",
   "metadata": {},
   "outputs": [
    {
     "data": {
      "text/plain": [
       "125"
      ]
     },
     "execution_count": 6,
     "metadata": {},
     "output_type": "execute_result"
    }
   ],
   "source": [
    "inputCount = '125'\n",
    "count = int(inputCount)\n",
    "count"
   ]
  },
  {
   "cell_type": "code",
   "execution_count": 7,
   "id": "215f6ba8-bcae-4c96-8aff-ccd1e3692dda",
   "metadata": {},
   "outputs": [],
   "source": [
    "# ValueError: invalid literal for int() with base 10: 'not an integer'\n",
    "# int('not an integer')"
   ]
  },
  {
   "cell_type": "code",
   "execution_count": 8,
   "id": "5c10ed29-6b77-4a7b-a3c6-59bb1bcd19e6",
   "metadata": {},
   "outputs": [
    {
     "name": "stdout",
     "output_type": "stream",
     "text": [
      "12.5\n",
      "1.345e-23\n",
      "nan\n",
      "inf\n"
     ]
    }
   ],
   "source": [
    "for inputFloat in '12.5', '1.345E-23', 'NaN', 'inf':\n",
    "    f = float(inputFloat)\n",
    "    print(f)"
   ]
  },
  {
   "cell_type": "code",
   "execution_count": 9,
   "id": "6cabc479-9366-4cf5-8bcf-34da063a54de",
   "metadata": {},
   "outputs": [
    {
     "data": {
      "text/html": [
       "<div>\n",
       "<style scoped>\n",
       "    .dataframe tbody tr th:only-of-type {\n",
       "        vertical-align: middle;\n",
       "    }\n",
       "\n",
       "    .dataframe tbody tr th {\n",
       "        vertical-align: top;\n",
       "    }\n",
       "\n",
       "    .dataframe thead th {\n",
       "        text-align: right;\n",
       "    }\n",
       "</style>\n",
       "<table border=\"1\" class=\"dataframe\">\n",
       "  <thead>\n",
       "    <tr style=\"text-align: right;\">\n",
       "      <th></th>\n",
       "      <th>name</th>\n",
       "      <th>population</th>\n",
       "      <th>department</th>\n",
       "    </tr>\n",
       "  </thead>\n",
       "  <tbody>\n",
       "    <tr>\n",
       "      <th>0</th>\n",
       "      <td>Pau</td>\n",
       "      <td>77000</td>\n",
       "      <td>64</td>\n",
       "    </tr>\n",
       "    <tr>\n",
       "      <th>1</th>\n",
       "      <td>Toulouse</td>\n",
       "      <td>470000</td>\n",
       "      <td>31</td>\n",
       "    </tr>\n",
       "    <tr>\n",
       "      <th>2</th>\n",
       "      <td>Montpellier</td>\n",
       "      <td>290000</td>\n",
       "      <td>34</td>\n",
       "    </tr>\n",
       "  </tbody>\n",
       "</table>\n",
       "</div>"
      ],
      "text/plain": [
       "          name  population  department\n",
       "0          Pau       77000          64\n",
       "1     Toulouse      470000          31\n",
       "2  Montpellier      290000          34"
      ]
     },
     "execution_count": 9,
     "metadata": {},
     "output_type": "execute_result"
    }
   ],
   "source": [
    "df = pd.DataFrame(\n",
    "    (\n",
    "        (\"Pau\", 77000, 64),\n",
    "        (\"Toulouse\", 470000, 31),\n",
    "        (\"Montpellier\", 290000, 34),\n",
    "    ),\n",
    "    columns=['name', 'population', 'department']\n",
    ")\n",
    "df"
   ]
  },
  {
   "cell_type": "code",
   "execution_count": 10,
   "id": "fb56e3bb-ae9c-4aab-a033-dfee9b76e163",
   "metadata": {},
   "outputs": [
    {
     "data": {
      "text/plain": [
       "pandas.core.frame.DataFrame"
      ]
     },
     "execution_count": 10,
     "metadata": {},
     "output_type": "execute_result"
    }
   ],
   "source": [
    " type(df)"
   ]
  },
  {
   "cell_type": "code",
   "execution_count": 11,
   "id": "9d1e671f-0b9c-4b75-90a4-c681b11caee6",
   "metadata": {},
   "outputs": [
    {
     "data": {
      "text/plain": [
       "array([[6.23042070e-307, 4.67296746e-307, 1.69121096e-306,\n",
       "        1.78019082e-306, 7.56596412e-307],\n",
       "       [1.33511018e-306, 1.33511969e-306, 6.23037996e-307,\n",
       "        1.69121639e-306, 1.95821439e-306],\n",
       "       [6.23037657e-307, 6.23053954e-307, 9.34609790e-307,\n",
       "        8.45593934e-307, 9.34600963e-307],\n",
       "       [7.56601165e-307, 1.69118787e-306, 1.60220393e-306,\n",
       "        1.37961302e-306, 1.78021798e-306],\n",
       "       [1.37961709e-306, 2.22522597e-306, 1.24610791e-306,\n",
       "        1.42410974e-306, 1.43868439e-133]])"
      ]
     },
     "execution_count": 11,
     "metadata": {},
     "output_type": "execute_result"
    }
   ],
   "source": [
    "# constructor ndarray: exists but not to be used directly\n",
    "# => use functions instead\n",
    "a = np.ndarray((5,5))\n",
    "a"
   ]
  },
  {
   "cell_type": "code",
   "execution_count": 12,
   "id": "90cc12dd-367d-4cd6-b1a8-440327e4dfd8",
   "metadata": {},
   "outputs": [],
   "source": [
    "a1 = np.empty((10,10))\n",
    "a2 = np.zeros((10,10))\n",
    "a3 = np.random.normal(12.0, 3.5, (10,10))"
   ]
  },
  {
   "cell_type": "code",
   "execution_count": 13,
   "id": "34794b4b-009c-47a5-acd6-e3432005fbab",
   "metadata": {},
   "outputs": [
    {
     "data": {
      "text/plain": [
       "array([[0.00000000e+000, 6.95167694e-310, 3.77960219e-321,\n",
       "                    nan, 8.49074123e-312, 1.20480715e+132,\n",
       "        1.57211607e-076, 1.08560026e-095, 1.72399088e-047,\n",
       "        7.26429152e-043],\n",
       "       [6.38854490e-067, 1.65618616e-076, 6.01347002e-154,\n",
       "        2.09129559e-076, 3.57280050e-062, 1.44923058e-047,\n",
       "        5.20267279e-090, 5.98149210e-154, 3.48987493e-086,\n",
       "        5.05117287e-038],\n",
       "       [4.57671243e-072, 1.72371734e-047, 1.05206135e-153,\n",
       "        4.46814865e-033, 1.08560026e-095, 6.01347002e-154,\n",
       "        1.02964652e-071, 1.10844292e-047, 8.97921055e-067,\n",
       "        1.65618618e-076],\n",
       "       [6.01346953e-154, 4.41943885e-062, 5.20748184e-090,\n",
       "        5.60302081e-067, 3.27550830e+179, 5.05218193e-086,\n",
       "        2.17767177e-076, 2.44006303e-154, 2.36942783e-038,\n",
       "        6.12580295e-062],\n",
       "       [1.05220702e-153, 3.11775839e-033, 1.10455295e+141,\n",
       "        6.01347002e-154, 1.91824408e-076, 1.65618616e-076,\n",
       "        1.42692839e-071, 3.57280977e-062, 1.91553993e-076,\n",
       "        5.20366155e-090],\n",
       "       [6.01334510e-154, 3.66962174e-062, 2.94814671e+179,\n",
       "        3.44357017e-086, 7.41019720e-038, 1.15298294e-259,\n",
       "        8.94213159e+130, 7.71804278e-043, 1.03878350e-095,\n",
       "        6.75364733e-067],\n",
       "       [1.10844292e-047, 1.25669568e-071, 1.65618614e-076,\n",
       "        6.01347002e-154, 2.90003741e-057, 3.57280420e-062,\n",
       "        4.90559251e-062, 5.20939193e-090, 7.97851503e+175,\n",
       "        3.80982566e-008],\n",
       "       [4.47266152e+251, 4.37082287e-019, 6.01346953e-154,\n",
       "        9.34787260e-019, 6.01334550e-154, 6.49177694e+097,\n",
       "        9.30289295e-018, 6.01334550e-154, 4.84178844e-057,\n",
       "        4.47269661e+251],\n",
       "       [6.01347002e-154, 9.32423126e-019, 6.01334550e-154,\n",
       "        2.44670252e-154, 2.47530935e-259, 8.05483211e+251,\n",
       "        4.55488372e-008, 4.37082288e-019, 5.07521538e+233,\n",
       "        3.74865535e-081],\n",
       "       [6.01346953e-154, 3.51361272e-033, 7.98758959e+175,\n",
       "        6.01347002e-154, 3.71663962e-081, 6.01346953e-154,\n",
       "        5.98159500e-154, 9.45937805e-008, 3.68065915e+180,\n",
       "        8.34900325e-008]])"
      ]
     },
     "execution_count": 13,
     "metadata": {},
     "output_type": "execute_result"
    }
   ],
   "source": [
    "a1"
   ]
  },
  {
   "cell_type": "code",
   "execution_count": 14,
   "id": "66ad146f-62f8-44d5-aedb-45cc676a8ed8",
   "metadata": {},
   "outputs": [
    {
     "data": {
      "text/plain": [
       "array([[0., 0., 0., 0., 0., 0., 0., 0., 0., 0.],\n",
       "       [0., 0., 0., 0., 0., 0., 0., 0., 0., 0.],\n",
       "       [0., 0., 0., 0., 0., 0., 0., 0., 0., 0.],\n",
       "       [0., 0., 0., 0., 0., 0., 0., 0., 0., 0.],\n",
       "       [0., 0., 0., 0., 0., 0., 0., 0., 0., 0.],\n",
       "       [0., 0., 0., 0., 0., 0., 0., 0., 0., 0.],\n",
       "       [0., 0., 0., 0., 0., 0., 0., 0., 0., 0.],\n",
       "       [0., 0., 0., 0., 0., 0., 0., 0., 0., 0.],\n",
       "       [0., 0., 0., 0., 0., 0., 0., 0., 0., 0.],\n",
       "       [0., 0., 0., 0., 0., 0., 0., 0., 0., 0.]])"
      ]
     },
     "execution_count": 14,
     "metadata": {},
     "output_type": "execute_result"
    }
   ],
   "source": [
    "a2"
   ]
  },
  {
   "cell_type": "code",
   "execution_count": 15,
   "id": "c0c7a61d-6628-4f66-9681-d6b745246cb0",
   "metadata": {},
   "outputs": [
    {
     "data": {
      "text/plain": [
       "array([[13.71005091, 13.98101781, 12.02773718, 10.61560857, 16.12594275,\n",
       "        12.29596413, 15.78196758,  8.88526584, 13.4394442 , 10.81295451],\n",
       "       [12.46805601, 10.14310934, 10.33551512, 10.41014766, 15.38994353,\n",
       "        12.03719318, 14.5251071 , 20.25415044, 11.03415793, 11.8467193 ],\n",
       "       [ 5.05959074, 13.05678039, 10.62224044, 12.39845392, 11.71222625,\n",
       "        17.09618669, 12.84651716, 19.96351755,  9.54620764,  7.73261092],\n",
       "       [ 8.00520307, 14.88232193, 13.07547014, 14.68827591, 13.01161308,\n",
       "        11.81763339,  5.50507766, 14.90748629, 16.9454591 ,  7.09809132],\n",
       "       [11.90044644, 13.58838171, 10.72212968, 18.37181104, 12.94046609,\n",
       "         9.53717799, 11.89433753, 10.31396526, 12.22500299, 14.33824616],\n",
       "       [12.42098983, 11.20641858, 13.47756241, 15.88407606, 12.5978636 ,\n",
       "        13.30257298, 13.03355695, 12.1810657 , 18.2597884 ,  4.19938004],\n",
       "       [ 8.82093525, 13.44831545, 18.90276829,  9.40728682, 10.32436508,\n",
       "        14.3851677 , 13.19241961, 17.72056231, 11.39049879, 16.99822387],\n",
       "       [16.13133413, 13.42302584, 12.30086618, 13.36988826,  4.55002709,\n",
       "        16.67384315, 12.54175186,  8.73258702, 15.56290058,  7.81257587],\n",
       "       [10.79778461,  4.71894861, 13.10077718,  2.10616962, 11.60790238,\n",
       "        11.26072915, 18.5819814 , 19.97225947, 14.10813362, 16.51576389],\n",
       "       [10.03848656,  9.40741175,  9.61499665, 15.32085586,  8.90078856,\n",
       "        12.83520481, 10.8888534 , 15.24626577,  8.006412  ,  8.12257811]])"
      ]
     },
     "execution_count": 15,
     "metadata": {},
     "output_type": "execute_result"
    }
   ],
   "source": [
    "a3"
   ]
  },
  {
   "cell_type": "code",
   "execution_count": 16,
   "id": "c7ae27c8-2827-4dc6-8ebc-d5fb2f97f009",
   "metadata": {},
   "outputs": [
    {
     "data": {
      "text/plain": [
       "(numpy.ndarray, numpy.ndarray, numpy.ndarray)"
      ]
     },
     "execution_count": 16,
     "metadata": {},
     "output_type": "execute_result"
    }
   ],
   "source": [
    "type(a1), type(a2), type(a3)"
   ]
  },
  {
   "cell_type": "code",
   "execution_count": 17,
   "id": "6f659113-b511-47c8-9ea7-0954e83eb5e2",
   "metadata": {},
   "outputs": [
    {
     "data": {
      "text/plain": [
       "(datetime.date(2024, 2, 29),\n",
       " datetime.datetime(2024, 2, 29, 14, 30),\n",
       " datetime.datetime(2024, 2, 29, 14, 30, 20, 125001, tzinfo=<DstTzInfo 'America/La_Paz' LMT-1 day, 19:27:00 STD>))"
      ]
     },
     "execution_count": 17,
     "metadata": {},
     "output_type": "execute_result"
    }
   ],
   "source": [
    "tz = pytz.timezone('America/La_Paz')\n",
    "d = date(2024, 2, 29)\n",
    "dt = datetime(2024, 2, 29, 14, 30)\n",
    "dt2 = datetime(2024, 2, 29, 14, 30, 20, 125001, tz)\n",
    "d, dt, dt2"
   ]
  },
  {
   "cell_type": "code",
   "execution_count": 18,
   "id": "7c5a82dc-11ce-4361-b1c6-0c66a6288fdf",
   "metadata": {},
   "outputs": [
    {
     "data": {
      "text/plain": [
       "(datetime.date(2024, 2, 8),\n",
       " datetime.datetime(2024, 2, 8, 9, 45, 46, 40917),\n",
       " datetime.time(9, 45, 46, 40917),\n",
       " datetime.datetime(2024, 2, 8, 4, 45, 46, 40917, tzinfo=<DstTzInfo 'America/La_Paz' -04-1 day, 20:00:00 STD>))"
      ]
     },
     "execution_count": 18,
     "metadata": {},
     "output_type": "execute_result"
    }
   ],
   "source": [
    "# build temporal object without constructor\n",
    "d2 = date.today()\n",
    "dt3 = datetime.now()\n",
    "dt4 = datetime.now(tz)\n",
    "d2, dt3, dt3.time(), dt4"
   ]
  },
  {
   "cell_type": "markdown",
   "id": "e91c3dc5-8c3e-49b6-9488-cd97a32ee7f6",
   "metadata": {},
   "source": [
    "Summary:\n",
    "- class = object type (model)\n",
    "- object = instance of a class"
   ]
  },
  {
   "cell_type": "markdown",
   "id": "150fbb94-d46b-4c7c-9c59-97284b4a2dcf",
   "metadata": {},
   "source": [
    "## Attributes\n",
    "- attribute = data part of an object"
   ]
  },
  {
   "cell_type": "code",
   "execution_count": 19,
   "id": "b3a5e065-21d2-47f2-9353-3de6d32375ac",
   "metadata": {},
   "outputs": [
    {
     "data": {
      "text/plain": [
       "(2024, 2, 29)"
      ]
     },
     "execution_count": 19,
     "metadata": {},
     "output_type": "execute_result"
    }
   ],
   "source": [
    "d.year, d.month, d.day"
   ]
  },
  {
   "cell_type": "code",
   "execution_count": 20,
   "id": "1d7eb2d8-b8c5-41c2-8e07-ace2d49a54b0",
   "metadata": {},
   "outputs": [
    {
     "data": {
      "text/plain": [
       "(2024, 2, 29, 14, 30, 0, 0, None)"
      ]
     },
     "execution_count": 20,
     "metadata": {},
     "output_type": "execute_result"
    }
   ],
   "source": [
    "dt.year, dt.month, dt.day, dt.hour, dt.minute, dt.second, dt.microsecond, dt.tzinfo"
   ]
  },
  {
   "cell_type": "code",
   "execution_count": 21,
   "id": "38a06d81-beed-4b64-b680-e419547f69f7",
   "metadata": {},
   "outputs": [
    {
     "data": {
      "text/plain": [
       "(10, 10)"
      ]
     },
     "execution_count": 21,
     "metadata": {},
     "output_type": "execute_result"
    }
   ],
   "source": [
    "a3.shape"
   ]
  },
  {
   "cell_type": "code",
   "execution_count": 22,
   "id": "6eb43330-1c24-473d-b20a-2ba513df59ca",
   "metadata": {},
   "outputs": [
    {
     "data": {
      "text/plain": [
       "dtype('float64')"
      ]
     },
     "execution_count": 22,
     "metadata": {},
     "output_type": "execute_result"
    }
   ],
   "source": [
    "a3.dtype"
   ]
  },
  {
   "cell_type": "code",
   "execution_count": 23,
   "id": "e513c0d9-9d9c-47fa-820e-d7ca37f063f2",
   "metadata": {},
   "outputs": [
    {
     "data": {
      "text/plain": [
       "  C_CONTIGUOUS : True\n",
       "  F_CONTIGUOUS : False\n",
       "  OWNDATA : True\n",
       "  WRITEABLE : True\n",
       "  ALIGNED : True\n",
       "  WRITEBACKIFCOPY : False"
      ]
     },
     "execution_count": 23,
     "metadata": {},
     "output_type": "execute_result"
    }
   ],
   "source": [
    "a3.flags"
   ]
  },
  {
   "cell_type": "code",
   "execution_count": 24,
   "id": "8432ce94-79ed-4d40-a6de-6def2262ce05",
   "metadata": {},
   "outputs": [
    {
     "data": {
      "text/plain": [
       "0            Pau\n",
       "1       Toulouse\n",
       "2    Montpellier\n",
       "Name: name, dtype: object"
      ]
     },
     "execution_count": 24,
     "metadata": {},
     "output_type": "execute_result"
    }
   ],
   "source": [
    "# DataFrame: dynamic attribute for each column (when possible)\n",
    "df.name"
   ]
  },
  {
   "cell_type": "markdown",
   "id": "4aef8a9b-b5cf-480d-84d8-78d6ee1cbcd0",
   "metadata": {},
   "source": [
    "## Methods and operators"
   ]
  },
  {
   "cell_type": "markdown",
   "id": "dee3e80a-ea51-43a3-bc6c-5acfb2cf2a5c",
   "metadata": {},
   "source": [
    "### visible methods\n",
    "start with a letter"
   ]
  },
  {
   "cell_type": "code",
   "execution_count": 25,
   "id": "42920add-cc68-4c17-818e-a5ec49aac25f",
   "metadata": {},
   "outputs": [],
   "source": [
    "# append method of class list\n",
    "l.append(12)"
   ]
  },
  {
   "cell_type": "code",
   "execution_count": 26,
   "id": "7ee4aa54-5753-4e15-91f3-93290e2ed1d6",
   "metadata": {},
   "outputs": [
    {
     "data": {
      "text/plain": [
       "<function list.append(object, /)>"
      ]
     },
     "execution_count": 26,
     "metadata": {},
     "output_type": "execute_result"
    }
   ],
   "source": [
    "l.append"
   ]
  },
  {
   "cell_type": "code",
   "execution_count": 27,
   "id": "d82cff0b-4de3-4c62-87a5-a709b3dd987c",
   "metadata": {},
   "outputs": [
    {
     "data": {
      "text/plain": [
       "datetime.time(14, 30)"
      ]
     },
     "execution_count": 27,
     "metadata": {},
     "output_type": "execute_result"
    }
   ],
   "source": [
    "dt.time()"
   ]
  },
  {
   "cell_type": "code",
   "execution_count": 28,
   "id": "b6c591fb-64b7-4fbb-a610-91bce9909b46",
   "metadata": {},
   "outputs": [
    {
     "data": {
      "text/plain": [
       "<function datetime.time>"
      ]
     },
     "execution_count": 28,
     "metadata": {},
     "output_type": "execute_result"
    }
   ],
   "source": [
    "dt.time"
   ]
  },
  {
   "cell_type": "code",
   "execution_count": 29,
   "id": "1e5fa309-cfb2-431a-9673-e9c3394b8131",
   "metadata": {},
   "outputs": [
    {
     "data": {
      "text/plain": [
       "'29/02/2024'"
      ]
     },
     "execution_count": 29,
     "metadata": {},
     "output_type": "execute_result"
    }
   ],
   "source": [
    "d.strftime(\"%d/%m/%Y\")"
   ]
  },
  {
   "cell_type": "markdown",
   "id": "0734bc6e-bdb6-4b6d-9a2e-58013ec45b94",
   "metadata": {},
   "source": [
    "#### ndarray methods"
   ]
  },
  {
   "cell_type": "code",
   "execution_count": 30,
   "id": "5672fac9-c39a-4e09-8766-ee047af1bed1",
   "metadata": {},
   "outputs": [
    {
     "name": "stdout",
     "output_type": "stream",
     "text": [
      "[127.67595347 128.44409961 120.0343317  119.93663189 125.83196489\n",
      " 126.56327454 134.59054316 121.09879998 122.77044994 108.38185347]\n",
      "[109.35287755 117.85573141 124.18006327 122.57257372 117.1611384\n",
      " 131.24167317 128.79157023 148.17712565 130.51800524 105.477144  ]\n"
     ]
    }
   ],
   "source": [
    "print(a3.sum(axis=1)) # rows\n",
    "print(a3.sum(axis=0)) # columns"
   ]
  },
  {
   "cell_type": "code",
   "execution_count": 31,
   "id": "61bd72e8-a0cb-45ff-ba32-61f9748ae682",
   "metadata": {},
   "outputs": [
    {
     "data": {
      "text/plain": [
       "array([13.71005091, 10.14310934, 10.62224044, 14.68827591, 12.94046609,\n",
       "       13.30257298, 13.19241961,  8.73258702, 14.10813362,  8.12257811])"
      ]
     },
     "execution_count": 31,
     "metadata": {},
     "output_type": "execute_result"
    }
   ],
   "source": [
    "a3.diagonal()"
   ]
  },
  {
   "cell_type": "code",
   "execution_count": 32,
   "id": "b9420084-ca1d-4daf-8b72-b8dfe4d3a52a",
   "metadata": {},
   "outputs": [
    {
     "data": {
      "text/plain": [
       "array([10.03848656,  4.71894861, 12.30086618,  9.40728682, 12.5978636 ,\n",
       "        9.53717799,  5.50507766, 19.96351755, 11.03415793, 10.81295451])"
      ]
     },
     "execution_count": 32,
     "metadata": {},
     "output_type": "execute_result"
    }
   ],
   "source": [
    "a3[::-1].diagonal()"
   ]
  },
  {
   "cell_type": "markdown",
   "id": "d1597cf5-cab8-49bf-be93-49af1f400bce",
   "metadata": {},
   "source": [
    "### Masked methods\n",
    "name: ```__mymethod__```\n",
    "usage: \n",
    "- operator (```__add__```)\n",
    "- builtin function: len (```__len__```)\n",
    "- with block: ```__enter__, __exit__```"
   ]
  },
  {
   "cell_type": "code",
   "execution_count": 33,
   "id": "afaae736-2e13-4b5f-aac8-cefe1eabdc1e",
   "metadata": {},
   "outputs": [
    {
     "data": {
      "text/plain": [
       "101"
      ]
     },
     "execution_count": 33,
     "metadata": {},
     "output_type": "execute_result"
    }
   ],
   "source": [
    "len(l)"
   ]
  },
  {
   "cell_type": "code",
   "execution_count": 34,
   "id": "a6c7df6b-a7af-43a4-9e1f-04ae0ed3184a",
   "metadata": {},
   "outputs": [
    {
     "data": {
      "text/plain": [
       "<method-wrapper '__len__' of list object at 0x00000190255ED300>"
      ]
     },
     "execution_count": 34,
     "metadata": {},
     "output_type": "execute_result"
    }
   ],
   "source": [
    "l.__len__"
   ]
  },
  {
   "cell_type": "code",
   "execution_count": 35,
   "id": "28796c12-d4e6-483d-84a9-c2589b99163f",
   "metadata": {},
   "outputs": [
    {
     "data": {
      "text/plain": [
       "101"
      ]
     },
     "execution_count": 35,
     "metadata": {},
     "output_type": "execute_result"
    }
   ],
   "source": [
    "l.__len__()"
   ]
  },
  {
   "cell_type": "code",
   "execution_count": 36,
   "id": "83a6a542-c9fe-4e8e-b9c7-a980831ce1ef",
   "metadata": {},
   "outputs": [
    {
     "data": {
      "text/plain": [
       "3"
      ]
     },
     "execution_count": 36,
     "metadata": {},
     "output_type": "execute_result"
    }
   ],
   "source": [
    "# DataFrame: len = number of rows\n",
    "len(df)"
   ]
  },
  {
   "cell_type": "code",
   "execution_count": 37,
   "id": "cceed647-5b75-42a2-b6a8-430689cf7d9e",
   "metadata": {},
   "outputs": [
    {
     "data": {
      "text/plain": [
       "10"
      ]
     },
     "execution_count": 37,
     "metadata": {},
     "output_type": "execute_result"
    }
   ],
   "source": [
    "# ndarray: size of first dimension\n",
    "len(a3)"
   ]
  },
  {
   "cell_type": "code",
   "execution_count": 38,
   "id": "b7cce446-788e-43e9-9afa-0bf5dccf3107",
   "metadata": {},
   "outputs": [],
   "source": [
    "# TypeError: object of type 'int' has no len()\n",
    "# len(123)"
   ]
  },
  {
   "cell_type": "code",
   "execution_count": 39,
   "id": "b2b61b2e-e200-49ba-853a-9f78807b241b",
   "metadata": {},
   "outputs": [
    {
     "data": {
      "text/plain": [
       "[1, 2, 3, 7, 8, 9]"
      ]
     },
     "execution_count": 39,
     "metadata": {},
     "output_type": "execute_result"
    }
   ],
   "source": [
    "[1, 2, 3] + [7, 8, 9]"
   ]
  },
  {
   "cell_type": "code",
   "execution_count": 40,
   "id": "65571dca-e79a-4eb8-89e7-2063652aac27",
   "metadata": {},
   "outputs": [
    {
     "data": {
      "text/plain": [
       "<slot wrapper '__add__' of 'list' objects>"
      ]
     },
     "execution_count": 40,
     "metadata": {},
     "output_type": "execute_result"
    }
   ],
   "source": [
    "list.__add__"
   ]
  },
  {
   "cell_type": "code",
   "execution_count": 41,
   "id": "297b0270-3a41-498d-8b91-8687c515e9b1",
   "metadata": {},
   "outputs": [
    {
     "data": {
      "text/plain": [
       "array([[0.00000000e+000, 6.95167694e-310, 3.77960219e-321,\n",
       "                    nan, 8.49074123e-312, 1.20480715e+132,\n",
       "        1.57211607e-076, 1.08560026e-095, 1.72399088e-047,\n",
       "        7.26429152e-043],\n",
       "       [6.38854490e-067, 1.65618616e-076, 6.01347002e-154,\n",
       "        2.09129559e-076, 3.57280050e-062, 1.44923058e-047,\n",
       "        5.20267279e-090, 5.98149210e-154, 3.48987493e-086,\n",
       "        5.05117287e-038],\n",
       "       [4.57671243e-072, 1.72371734e-047, 1.05206135e-153,\n",
       "        4.46814865e-033, 1.08560026e-095, 6.01347002e-154,\n",
       "        1.02964652e-071, 1.10844292e-047, 8.97921055e-067,\n",
       "        1.65618618e-076],\n",
       "       [6.01346953e-154, 4.41943885e-062, 5.20748184e-090,\n",
       "        5.60302081e-067, 3.27550830e+179, 5.05218193e-086,\n",
       "        2.17767177e-076, 2.44006303e-154, 2.36942783e-038,\n",
       "        6.12580295e-062],\n",
       "       [1.05220702e-153, 3.11775839e-033, 1.10455295e+141,\n",
       "        6.01347002e-154, 1.91824408e-076, 1.65618616e-076,\n",
       "        1.42692839e-071, 3.57280977e-062, 1.91553993e-076,\n",
       "        5.20366155e-090],\n",
       "       [6.01334510e-154, 3.66962174e-062, 2.94814671e+179,\n",
       "        3.44357017e-086, 7.41019720e-038, 1.15298294e-259,\n",
       "        8.94213159e+130, 7.71804278e-043, 1.03878350e-095,\n",
       "        6.75364733e-067],\n",
       "       [1.10844292e-047, 1.25669568e-071, 1.65618614e-076,\n",
       "        6.01347002e-154, 2.90003741e-057, 3.57280420e-062,\n",
       "        4.90559251e-062, 5.20939193e-090, 7.97851503e+175,\n",
       "        3.80982566e-008],\n",
       "       [4.47266152e+251, 4.37082287e-019, 6.01346953e-154,\n",
       "        9.34787260e-019, 6.01334550e-154, 6.49177694e+097,\n",
       "        9.30289295e-018, 6.01334550e-154, 4.84178844e-057,\n",
       "        4.47269661e+251],\n",
       "       [6.01347002e-154, 9.32423126e-019, 6.01334550e-154,\n",
       "        2.44670252e-154, 2.47530935e-259, 8.05483211e+251,\n",
       "        4.55488372e-008, 4.37082288e-019, 5.07521538e+233,\n",
       "        3.74865535e-081],\n",
       "       [6.01346953e-154, 3.51361272e-033, 7.98758959e+175,\n",
       "        6.01347002e-154, 3.71663962e-081, 6.01346953e-154,\n",
       "        5.98159500e-154, 9.45937805e-008, 3.68065915e+180,\n",
       "        8.34900325e-008]])"
      ]
     },
     "execution_count": 41,
     "metadata": {},
     "output_type": "execute_result"
    }
   ],
   "source": [
    "a1 + a2"
   ]
  },
  {
   "cell_type": "code",
   "execution_count": 42,
   "id": "a0b7d52e-e871-4f36-82dd-3ad36cc61401",
   "metadata": {},
   "outputs": [
    {
     "data": {
      "text/plain": [
       "<slot wrapper '__add__' of 'numpy.ndarray' objects>"
      ]
     },
     "execution_count": 42,
     "metadata": {},
     "output_type": "execute_result"
    }
   ],
   "source": [
    "np.ndarray.__add__"
   ]
  },
  {
   "cell_type": "code",
   "execution_count": 43,
   "id": "937f2f11-b87c-412d-a336-24eb3af91573",
   "metadata": {},
   "outputs": [
    {
     "data": {
      "text/plain": [
       "array([[4.00000000e+000, 4.00000000e+000, 4.00000000e+000,\n",
       "                    nan, 4.00000000e+000, 1.20480715e+132,\n",
       "        4.00000000e+000, 4.00000000e+000, 4.00000000e+000,\n",
       "        4.00000000e+000],\n",
       "       [4.00000000e+000, 4.00000000e+000, 4.00000000e+000,\n",
       "        4.00000000e+000, 4.00000000e+000, 4.00000000e+000,\n",
       "        4.00000000e+000, 4.00000000e+000, 4.00000000e+000,\n",
       "        4.00000000e+000],\n",
       "       [4.00000000e+000, 4.00000000e+000, 4.00000000e+000,\n",
       "        4.00000000e+000, 4.00000000e+000, 4.00000000e+000,\n",
       "        4.00000000e+000, 4.00000000e+000, 4.00000000e+000,\n",
       "        4.00000000e+000],\n",
       "       [4.00000000e+000, 4.00000000e+000, 4.00000000e+000,\n",
       "        4.00000000e+000, 3.27550830e+179, 4.00000000e+000,\n",
       "        4.00000000e+000, 4.00000000e+000, 4.00000000e+000,\n",
       "        4.00000000e+000],\n",
       "       [4.00000000e+000, 4.00000000e+000, 1.10455295e+141,\n",
       "        4.00000000e+000, 4.00000000e+000, 4.00000000e+000,\n",
       "        4.00000000e+000, 4.00000000e+000, 4.00000000e+000,\n",
       "        4.00000000e+000],\n",
       "       [4.00000000e+000, 4.00000000e+000, 2.94814671e+179,\n",
       "        4.00000000e+000, 4.00000000e+000, 4.00000000e+000,\n",
       "        8.94213159e+130, 4.00000000e+000, 4.00000000e+000,\n",
       "        4.00000000e+000],\n",
       "       [4.00000000e+000, 4.00000000e+000, 4.00000000e+000,\n",
       "        4.00000000e+000, 4.00000000e+000, 4.00000000e+000,\n",
       "        4.00000000e+000, 4.00000000e+000, 7.97851503e+175,\n",
       "        4.00000004e+000],\n",
       "       [4.47266152e+251, 4.00000000e+000, 4.00000000e+000,\n",
       "        4.00000000e+000, 4.00000000e+000, 6.49177694e+097,\n",
       "        4.00000000e+000, 4.00000000e+000, 4.00000000e+000,\n",
       "        4.47269661e+251],\n",
       "       [4.00000000e+000, 4.00000000e+000, 4.00000000e+000,\n",
       "        4.00000000e+000, 4.00000000e+000, 8.05483211e+251,\n",
       "        4.00000005e+000, 4.00000000e+000, 5.07521538e+233,\n",
       "        4.00000000e+000],\n",
       "       [4.00000000e+000, 4.00000000e+000, 7.98758959e+175,\n",
       "        4.00000000e+000, 4.00000000e+000, 4.00000000e+000,\n",
       "        4.00000000e+000, 4.00000009e+000, 3.68065915e+180,\n",
       "        4.00000008e+000]])"
      ]
     },
     "execution_count": 43,
     "metadata": {},
     "output_type": "execute_result"
    }
   ],
   "source": [
    "a4 = a1 + 4\n",
    "a4"
   ]
  },
  {
   "cell_type": "code",
   "execution_count": 44,
   "id": "2179a669-dc83-4fae-94af-ffa9dac905cd",
   "metadata": {},
   "outputs": [
    {
     "data": {
      "text/plain": [
       "array([[6.00000000e+000, 6.00000000e+000, 6.00000000e+000,\n",
       "                    nan, 6.00000000e+000, 1.20480715e+132,\n",
       "        6.00000000e+000, 6.00000000e+000, 6.00000000e+000,\n",
       "        6.00000000e+000],\n",
       "       [6.00000000e+000, 6.00000000e+000, 6.00000000e+000,\n",
       "        6.00000000e+000, 6.00000000e+000, 6.00000000e+000,\n",
       "        6.00000000e+000, 6.00000000e+000, 6.00000000e+000,\n",
       "        6.00000000e+000],\n",
       "       [6.00000000e+000, 6.00000000e+000, 6.00000000e+000,\n",
       "        6.00000000e+000, 6.00000000e+000, 6.00000000e+000,\n",
       "        6.00000000e+000, 6.00000000e+000, 6.00000000e+000,\n",
       "        6.00000000e+000],\n",
       "       [6.00000000e+000, 6.00000000e+000, 6.00000000e+000,\n",
       "        6.00000000e+000, 3.27550830e+179, 6.00000000e+000,\n",
       "        6.00000000e+000, 6.00000000e+000, 6.00000000e+000,\n",
       "        6.00000000e+000],\n",
       "       [6.00000000e+000, 6.00000000e+000, 1.10455295e+141,\n",
       "        6.00000000e+000, 6.00000000e+000, 6.00000000e+000,\n",
       "        6.00000000e+000, 6.00000000e+000, 6.00000000e+000,\n",
       "        6.00000000e+000],\n",
       "       [6.00000000e+000, 6.00000000e+000, 2.94814671e+179,\n",
       "        6.00000000e+000, 6.00000000e+000, 6.00000000e+000,\n",
       "        8.94213159e+130, 6.00000000e+000, 6.00000000e+000,\n",
       "        6.00000000e+000],\n",
       "       [6.00000000e+000, 6.00000000e+000, 6.00000000e+000,\n",
       "        6.00000000e+000, 6.00000000e+000, 6.00000000e+000,\n",
       "        6.00000000e+000, 6.00000000e+000, 7.97851503e+175,\n",
       "        6.00000004e+000],\n",
       "       [4.47266152e+251, 6.00000000e+000, 6.00000000e+000,\n",
       "        6.00000000e+000, 6.00000000e+000, 6.49177694e+097,\n",
       "        6.00000000e+000, 6.00000000e+000, 6.00000000e+000,\n",
       "        4.47269661e+251],\n",
       "       [6.00000000e+000, 6.00000000e+000, 6.00000000e+000,\n",
       "        6.00000000e+000, 6.00000000e+000, 8.05483211e+251,\n",
       "        6.00000005e+000, 6.00000000e+000, 5.07521538e+233,\n",
       "        6.00000000e+000],\n",
       "       [6.00000000e+000, 6.00000000e+000, 7.98758959e+175,\n",
       "        6.00000000e+000, 6.00000000e+000, 6.00000000e+000,\n",
       "        6.00000000e+000, 6.00000009e+000, 3.68065915e+180,\n",
       "        6.00000008e+000]])"
      ]
     },
     "execution_count": 44,
     "metadata": {},
     "output_type": "execute_result"
    }
   ],
   "source": [
    "# method called: __iadd__\n",
    "a4 += 2\n",
    "a4"
   ]
  },
  {
   "cell_type": "code",
   "execution_count": 45,
   "id": "5a52b7f2-5534-4cfa-a23a-55d05bb27b64",
   "metadata": {},
   "outputs": [
    {
     "data": {
      "text/plain": [
       "['T',\n",
       " '__abs__',\n",
       " '__add__',\n",
       " '__and__',\n",
       " '__array__',\n",
       " '__array_finalize__',\n",
       " '__array_function__',\n",
       " '__array_interface__',\n",
       " '__array_prepare__',\n",
       " '__array_priority__',\n",
       " '__array_struct__',\n",
       " '__array_ufunc__',\n",
       " '__array_wrap__',\n",
       " '__bool__',\n",
       " '__buffer__',\n",
       " '__class__',\n",
       " '__class_getitem__',\n",
       " '__complex__',\n",
       " '__contains__',\n",
       " '__copy__',\n",
       " '__deepcopy__',\n",
       " '__delattr__',\n",
       " '__delitem__',\n",
       " '__dir__',\n",
       " '__divmod__',\n",
       " '__dlpack__',\n",
       " '__dlpack_device__',\n",
       " '__doc__',\n",
       " '__eq__',\n",
       " '__float__',\n",
       " '__floordiv__',\n",
       " '__format__',\n",
       " '__ge__',\n",
       " '__getattribute__',\n",
       " '__getitem__',\n",
       " '__getstate__',\n",
       " '__gt__',\n",
       " '__hash__',\n",
       " '__iadd__',\n",
       " '__iand__',\n",
       " '__ifloordiv__',\n",
       " '__ilshift__',\n",
       " '__imatmul__',\n",
       " '__imod__',\n",
       " '__imul__',\n",
       " '__index__',\n",
       " '__init__',\n",
       " '__init_subclass__',\n",
       " '__int__',\n",
       " '__invert__',\n",
       " '__ior__',\n",
       " '__ipow__',\n",
       " '__irshift__',\n",
       " '__isub__',\n",
       " '__iter__',\n",
       " '__itruediv__',\n",
       " '__ixor__',\n",
       " '__le__',\n",
       " '__len__',\n",
       " '__lshift__',\n",
       " '__lt__',\n",
       " '__matmul__',\n",
       " '__mod__',\n",
       " '__mul__',\n",
       " '__ne__',\n",
       " '__neg__',\n",
       " '__new__',\n",
       " '__or__',\n",
       " '__pos__',\n",
       " '__pow__',\n",
       " '__radd__',\n",
       " '__rand__',\n",
       " '__rdivmod__',\n",
       " '__reduce__',\n",
       " '__reduce_ex__',\n",
       " '__repr__',\n",
       " '__rfloordiv__',\n",
       " '__rlshift__',\n",
       " '__rmatmul__',\n",
       " '__rmod__',\n",
       " '__rmul__',\n",
       " '__ror__',\n",
       " '__rpow__',\n",
       " '__rrshift__',\n",
       " '__rshift__',\n",
       " '__rsub__',\n",
       " '__rtruediv__',\n",
       " '__rxor__',\n",
       " '__setattr__',\n",
       " '__setitem__',\n",
       " '__setstate__',\n",
       " '__sizeof__',\n",
       " '__str__',\n",
       " '__sub__',\n",
       " '__subclasshook__',\n",
       " '__truediv__',\n",
       " '__xor__',\n",
       " 'all',\n",
       " 'any',\n",
       " 'argmax',\n",
       " 'argmin',\n",
       " 'argpartition',\n",
       " 'argsort',\n",
       " 'astype',\n",
       " 'base',\n",
       " 'byteswap',\n",
       " 'choose',\n",
       " 'clip',\n",
       " 'compress',\n",
       " 'conj',\n",
       " 'conjugate',\n",
       " 'copy',\n",
       " 'ctypes',\n",
       " 'cumprod',\n",
       " 'cumsum',\n",
       " 'data',\n",
       " 'diagonal',\n",
       " 'dot',\n",
       " 'dtype',\n",
       " 'dump',\n",
       " 'dumps',\n",
       " 'fill',\n",
       " 'flags',\n",
       " 'flat',\n",
       " 'flatten',\n",
       " 'getfield',\n",
       " 'imag',\n",
       " 'item',\n",
       " 'itemset',\n",
       " 'itemsize',\n",
       " 'max',\n",
       " 'mean',\n",
       " 'min',\n",
       " 'nbytes',\n",
       " 'ndim',\n",
       " 'newbyteorder',\n",
       " 'nonzero',\n",
       " 'partition',\n",
       " 'prod',\n",
       " 'ptp',\n",
       " 'put',\n",
       " 'ravel',\n",
       " 'real',\n",
       " 'repeat',\n",
       " 'reshape',\n",
       " 'resize',\n",
       " 'round',\n",
       " 'searchsorted',\n",
       " 'setfield',\n",
       " 'setflags',\n",
       " 'shape',\n",
       " 'size',\n",
       " 'sort',\n",
       " 'squeeze',\n",
       " 'std',\n",
       " 'strides',\n",
       " 'sum',\n",
       " 'swapaxes',\n",
       " 'take',\n",
       " 'tobytes',\n",
       " 'tofile',\n",
       " 'tolist',\n",
       " 'tostring',\n",
       " 'trace',\n",
       " 'transpose',\n",
       " 'var',\n",
       " 'view']"
      ]
     },
     "execution_count": 45,
     "metadata": {},
     "output_type": "execute_result"
    }
   ],
   "source": [
    "dir(a4)"
   ]
  },
  {
   "cell_type": "code",
   "execution_count": 46,
   "id": "7f709fae-2944-41fb-948b-7b4955cfc8fa",
   "metadata": {},
   "outputs": [
    {
     "data": {
      "text/plain": [
       "['T',\n",
       " '__abs__',\n",
       " '__add__',\n",
       " '__and__',\n",
       " '__array__',\n",
       " '__array_finalize__',\n",
       " '__array_function__',\n",
       " '__array_interface__',\n",
       " '__array_prepare__',\n",
       " '__array_priority__',\n",
       " '__array_struct__',\n",
       " '__array_ufunc__',\n",
       " '__array_wrap__',\n",
       " '__bool__',\n",
       " '__buffer__',\n",
       " '__class__',\n",
       " '__class_getitem__',\n",
       " '__complex__',\n",
       " '__contains__',\n",
       " '__copy__',\n",
       " '__deepcopy__',\n",
       " '__delattr__',\n",
       " '__delitem__',\n",
       " '__dir__',\n",
       " '__divmod__',\n",
       " '__dlpack__',\n",
       " '__dlpack_device__',\n",
       " '__doc__',\n",
       " '__eq__',\n",
       " '__float__',\n",
       " '__floordiv__',\n",
       " '__format__',\n",
       " '__ge__',\n",
       " '__getattribute__',\n",
       " '__getitem__',\n",
       " '__getstate__',\n",
       " '__gt__',\n",
       " '__hash__',\n",
       " '__iadd__',\n",
       " '__iand__',\n",
       " '__ifloordiv__',\n",
       " '__ilshift__',\n",
       " '__imatmul__',\n",
       " '__imod__',\n",
       " '__imul__',\n",
       " '__index__',\n",
       " '__init__',\n",
       " '__init_subclass__',\n",
       " '__int__',\n",
       " '__invert__',\n",
       " '__ior__',\n",
       " '__ipow__',\n",
       " '__irshift__',\n",
       " '__isub__',\n",
       " '__iter__',\n",
       " '__itruediv__',\n",
       " '__ixor__',\n",
       " '__le__',\n",
       " '__len__',\n",
       " '__lshift__',\n",
       " '__lt__',\n",
       " '__matmul__',\n",
       " '__mod__',\n",
       " '__mul__',\n",
       " '__ne__',\n",
       " '__neg__',\n",
       " '__new__',\n",
       " '__or__',\n",
       " '__pos__',\n",
       " '__pow__',\n",
       " '__radd__',\n",
       " '__rand__',\n",
       " '__rdivmod__',\n",
       " '__reduce__',\n",
       " '__reduce_ex__',\n",
       " '__repr__',\n",
       " '__rfloordiv__',\n",
       " '__rlshift__',\n",
       " '__rmatmul__',\n",
       " '__rmod__',\n",
       " '__rmul__',\n",
       " '__ror__',\n",
       " '__rpow__',\n",
       " '__rrshift__',\n",
       " '__rshift__',\n",
       " '__rsub__',\n",
       " '__rtruediv__',\n",
       " '__rxor__',\n",
       " '__setattr__',\n",
       " '__setitem__',\n",
       " '__setstate__',\n",
       " '__sizeof__',\n",
       " '__str__',\n",
       " '__sub__',\n",
       " '__subclasshook__',\n",
       " '__truediv__',\n",
       " '__xor__',\n",
       " 'all',\n",
       " 'any',\n",
       " 'argmax',\n",
       " 'argmin',\n",
       " 'argpartition',\n",
       " 'argsort',\n",
       " 'astype',\n",
       " 'base',\n",
       " 'byteswap',\n",
       " 'choose',\n",
       " 'clip',\n",
       " 'compress',\n",
       " 'conj',\n",
       " 'conjugate',\n",
       " 'copy',\n",
       " 'ctypes',\n",
       " 'cumprod',\n",
       " 'cumsum',\n",
       " 'data',\n",
       " 'diagonal',\n",
       " 'dot',\n",
       " 'dtype',\n",
       " 'dump',\n",
       " 'dumps',\n",
       " 'fill',\n",
       " 'flags',\n",
       " 'flat',\n",
       " 'flatten',\n",
       " 'getfield',\n",
       " 'imag',\n",
       " 'item',\n",
       " 'itemset',\n",
       " 'itemsize',\n",
       " 'max',\n",
       " 'mean',\n",
       " 'min',\n",
       " 'nbytes',\n",
       " 'ndim',\n",
       " 'newbyteorder',\n",
       " 'nonzero',\n",
       " 'partition',\n",
       " 'prod',\n",
       " 'ptp',\n",
       " 'put',\n",
       " 'ravel',\n",
       " 'real',\n",
       " 'repeat',\n",
       " 'reshape',\n",
       " 'resize',\n",
       " 'round',\n",
       " 'searchsorted',\n",
       " 'setfield',\n",
       " 'setflags',\n",
       " 'shape',\n",
       " 'size',\n",
       " 'sort',\n",
       " 'squeeze',\n",
       " 'std',\n",
       " 'strides',\n",
       " 'sum',\n",
       " 'swapaxes',\n",
       " 'take',\n",
       " 'tobytes',\n",
       " 'tofile',\n",
       " 'tolist',\n",
       " 'tostring',\n",
       " 'trace',\n",
       " 'transpose',\n",
       " 'var',\n",
       " 'view']"
      ]
     },
     "execution_count": 46,
     "metadata": {},
     "output_type": "execute_result"
    }
   ],
   "source": [
    "dir(np.ndarray)"
   ]
  },
  {
   "cell_type": "code",
   "execution_count": 47,
   "id": "fbc9c441-ae47-4b9a-9545-f7dec45e814d",
   "metadata": {},
   "outputs": [
    {
     "data": {
      "text/plain": [
       "['__add__', '__iadd__', '__radd__']"
      ]
     },
     "execution_count": 47,
     "metadata": {},
     "output_type": "execute_result"
    }
   ],
   "source": [
    "[ m for m in dir(a4) if 'add' in m ]"
   ]
  },
  {
   "cell_type": "code",
   "execution_count": 48,
   "id": "fc068ef4-9e32-4e29-94bb-c6522cc732a8",
   "metadata": {},
   "outputs": [
    {
     "data": {
      "text/plain": [
       "['__add__']"
      ]
     },
     "execution_count": 48,
     "metadata": {},
     "output_type": "execute_result"
    }
   ],
   "source": [
    "city = \"Pau\"\n",
    "[ m for m in dir(city) if 'add' in m ]"
   ]
  },
  {
   "cell_type": "code",
   "execution_count": 49,
   "id": "c8dd8897-3766-41b9-b843-0e2cc8355f3b",
   "metadata": {},
   "outputs": [
    {
     "data": {
      "text/plain": [
       "'Pau, city of king Henri IV'"
      ]
     },
     "execution_count": 49,
     "metadata": {},
     "output_type": "execute_result"
    }
   ],
   "source": [
    "# when __iadd__ is not available, __add__ is called (new object)\n",
    "# city = city.__add__(\", city of king Henri IV\")\n",
    "city += \", city of king Henri IV\"\n",
    "city"
   ]
  },
  {
   "cell_type": "code",
   "execution_count": 50,
   "id": "13fad134-f21c-4591-b61a-deb2dab8fa4d",
   "metadata": {},
   "outputs": [
    {
     "data": {
      "text/plain": [
       "['__abs__',\n",
       " '__add__',\n",
       " '__and__',\n",
       " '__array__',\n",
       " '__array_finalize__',\n",
       " '__array_function__',\n",
       " '__array_interface__',\n",
       " '__array_prepare__',\n",
       " '__array_priority__',\n",
       " '__array_struct__',\n",
       " '__array_ufunc__',\n",
       " '__array_wrap__',\n",
       " '__bool__',\n",
       " '__buffer__',\n",
       " '__class__',\n",
       " '__class_getitem__',\n",
       " '__complex__',\n",
       " '__contains__',\n",
       " '__copy__',\n",
       " '__deepcopy__',\n",
       " '__delattr__',\n",
       " '__delitem__',\n",
       " '__dir__',\n",
       " '__divmod__',\n",
       " '__dlpack__',\n",
       " '__dlpack_device__',\n",
       " '__doc__',\n",
       " '__eq__',\n",
       " '__float__',\n",
       " '__floordiv__',\n",
       " '__format__',\n",
       " '__ge__',\n",
       " '__getattribute__',\n",
       " '__getitem__',\n",
       " '__getstate__',\n",
       " '__gt__',\n",
       " '__hash__',\n",
       " '__iadd__',\n",
       " '__iand__',\n",
       " '__ifloordiv__',\n",
       " '__ilshift__',\n",
       " '__imatmul__',\n",
       " '__imod__',\n",
       " '__imul__',\n",
       " '__index__',\n",
       " '__init__',\n",
       " '__init_subclass__',\n",
       " '__int__',\n",
       " '__invert__',\n",
       " '__ior__',\n",
       " '__ipow__',\n",
       " '__irshift__',\n",
       " '__isub__',\n",
       " '__iter__',\n",
       " '__itruediv__',\n",
       " '__ixor__',\n",
       " '__le__',\n",
       " '__len__',\n",
       " '__lshift__',\n",
       " '__lt__',\n",
       " '__matmul__',\n",
       " '__mod__',\n",
       " '__mul__',\n",
       " '__ne__',\n",
       " '__neg__',\n",
       " '__new__',\n",
       " '__or__',\n",
       " '__pos__',\n",
       " '__pow__',\n",
       " '__radd__',\n",
       " '__rand__',\n",
       " '__rdivmod__',\n",
       " '__reduce__',\n",
       " '__reduce_ex__',\n",
       " '__repr__',\n",
       " '__rfloordiv__',\n",
       " '__rlshift__',\n",
       " '__rmatmul__',\n",
       " '__rmod__',\n",
       " '__rmul__',\n",
       " '__ror__',\n",
       " '__rpow__',\n",
       " '__rrshift__',\n",
       " '__rshift__',\n",
       " '__rsub__',\n",
       " '__rtruediv__',\n",
       " '__rxor__',\n",
       " '__setattr__',\n",
       " '__setitem__',\n",
       " '__setstate__',\n",
       " '__sizeof__',\n",
       " '__str__',\n",
       " '__sub__',\n",
       " '__subclasshook__',\n",
       " '__truediv__',\n",
       " '__xor__']"
      ]
     },
     "execution_count": 50,
     "metadata": {},
     "output_type": "execute_result"
    }
   ],
   "source": [
    "[ m for m in dir(a4) if m.startswith('__') ]"
   ]
  },
  {
   "cell_type": "code",
   "execution_count": 51,
   "id": "1c7e9592-97ca-44ce-9a4d-e0a665f9aa13",
   "metadata": {},
   "outputs": [],
   "source": [
    "# '__abs__' => builtin function abs\n",
    "#  '__add__' => operator + on left operand\n",
    "#  '__and__' => operator &\n",
    "#  '__array__',\n",
    "#  '__array_finalize__',\n",
    "#  '__array_function__',\n",
    "#  '__array_interface__',\n",
    "#  '__array_prepare__',\n",
    "#  '__array_priority__',\n",
    "#  '__array_struct__',\n",
    "#  '__array_ufunc__',\n",
    "#  '__array_wrap__',\n",
    "#  '__bool__',\n",
    "#  '__buffer__',\n",
    "#  '__class__',\n",
    "#  '__class_getitem__',\n",
    "#  '__complex__',\n",
    "#  '__contains__',\n",
    "#  '__copy__',\n",
    "#  '__deepcopy__',\n",
    "#  '__delattr__',\n",
    "#  '__delitem__',\n",
    "#  '__dir__',\n",
    "#  '__divmod__' => builtin function divmod()\n",
    "#  '__dlpack__',\n",
    "#  '__dlpack_device__',\n",
    "#  '__doc__',\n",
    "#  '__eq__' => operator ==\n",
    "#  '__float__',\n",
    "#  '__floordiv__' => operator // on left operand\n",
    "#  '__format__',\n",
    "#  '__ge__' => operator >= (greater or equal)\n",
    "#  '__getattribute__',\n",
    "#  '__getitem__',\n",
    "#  '__getstate__',\n",
    "#  '__gt__' => operator >= (greater)\n",
    "#  '__hash__',\n",
    "#  '__iadd__' => operator +=\n",
    "#  '__iand__',\n",
    "#  '__ifloordiv__',\n",
    "#  '__ilshift__',\n",
    "#  '__imatmul__',\n",
    "#  '__imod__',\n",
    "#  '__imul__',\n",
    "#  '__index__',\n",
    "#  '__init__',\n",
    "#  '__init_subclass__',\n",
    "#  '__int__',\n",
    "#  '__invert__',\n",
    "#  '__ior__',\n",
    "#  '__ipow__',\n",
    "#  '__irshift__',\n",
    "#  '__isub__',\n",
    "#  '__iter__',\n",
    "#  '__itruediv__',\n",
    "#  '__ixor__',\n",
    "#  '__le__' => operator <= (less or equal)\n",
    "#  '__len__' => builtin function len()\n",
    "#  '__lshift__',\n",
    "#  '__lt__' => operator < (less than)\n",
    "#  '__matmul__',\n",
    "#  '__mod__' => operator % on left operand\n",
    "#  '__mul__' => operator * on left operand\n",
    "#  '__ne__' => operator != (not equals)\n",
    "#  '__neg__',\n",
    "#  '__new__',\n",
    "#  '__or__',\n",
    "#  '__pos__',\n",
    "#  '__pow__' => operator ?? on left operand\n",
    "#  '__radd__' => operator + on right operand\n",
    "#  '__rand__',\n",
    "#  '__rdivmod__' => builtin function divmod on right operand\n",
    "#  '__reduce__',\n",
    "#  '__reduce_ex__',\n",
    "#  '__repr__',\n",
    "#  '__rfloordiv__' => operator // on right operand\n",
    "#  '__rlshift__',\n",
    "#  '__rmatmul__',\n",
    "#  '__rmod__',\n",
    "#  '__rmul__' => operator * on right operand\n",
    "#  '__ror__',\n",
    "#  '__rpow__',\n",
    "#  '__rrshift__',\n",
    "#  '__rshift__',\n",
    "#  '__rsub__' => operator - on right operand\n",
    "#  '__rtruediv__' => operator / on right operand\n",
    "#  '__rxor__',\n",
    "#  '__setattr__',\n",
    "#  '__setitem__',\n",
    "#  '__setstate__',\n",
    "#  '__sizeof__',\n",
    "#  '__str__',\n",
    "#  '__sub__' => operator - on left operand\n",
    "#  '__subclasshook__',\n",
    "#  '__truediv__' => operator / on left operand\n",
    "#  '__xor__']"
   ]
  },
  {
   "cell_type": "code",
   "execution_count": 52,
   "id": "2895ca73-939d-4107-bae4-8a51734d797b",
   "metadata": {},
   "outputs": [
    {
     "name": "stdout",
     "output_type": "stream",
     "text": [
      "8.4\n",
      "\n",
      "8.4\n",
      "\n",
      "[[1.00000000e+001 1.00000000e+001 1.00000000e+001             nan\n",
      "  1.00000000e+001 1.20480715e+132 1.00000000e+001 1.00000000e+001\n",
      "  1.00000000e+001 1.00000000e+001]\n",
      " [1.00000000e+001 1.00000000e+001 1.00000000e+001 1.00000000e+001\n",
      "  1.00000000e+001 1.00000000e+001 1.00000000e+001 1.00000000e+001\n",
      "  1.00000000e+001 1.00000000e+001]\n",
      " [1.00000000e+001 1.00000000e+001 1.00000000e+001 1.00000000e+001\n",
      "  1.00000000e+001 1.00000000e+001 1.00000000e+001 1.00000000e+001\n",
      "  1.00000000e+001 1.00000000e+001]\n",
      " [1.00000000e+001 1.00000000e+001 1.00000000e+001 1.00000000e+001\n",
      "  3.27550830e+179 1.00000000e+001 1.00000000e+001 1.00000000e+001\n",
      "  1.00000000e+001 1.00000000e+001]\n",
      " [1.00000000e+001 1.00000000e+001 1.10455295e+141 1.00000000e+001\n",
      "  1.00000000e+001 1.00000000e+001 1.00000000e+001 1.00000000e+001\n",
      "  1.00000000e+001 1.00000000e+001]\n",
      " [1.00000000e+001 1.00000000e+001 2.94814671e+179 1.00000000e+001\n",
      "  1.00000000e+001 1.00000000e+001 8.94213159e+130 1.00000000e+001\n",
      "  1.00000000e+001 1.00000000e+001]\n",
      " [1.00000000e+001 1.00000000e+001 1.00000000e+001 1.00000000e+001\n",
      "  1.00000000e+001 1.00000000e+001 1.00000000e+001 1.00000000e+001\n",
      "  7.97851503e+175 1.00000000e+001]\n",
      " [4.47266152e+251 1.00000000e+001 1.00000000e+001 1.00000000e+001\n",
      "  1.00000000e+001 6.49177694e+097 1.00000000e+001 1.00000000e+001\n",
      "  1.00000000e+001 4.47269661e+251]\n",
      " [1.00000000e+001 1.00000000e+001 1.00000000e+001 1.00000000e+001\n",
      "  1.00000000e+001 8.05483211e+251 1.00000000e+001 1.00000000e+001\n",
      "  5.07521538e+233 1.00000000e+001]\n",
      " [1.00000000e+001 1.00000000e+001 7.98758959e+175 1.00000000e+001\n",
      "  1.00000000e+001 1.00000000e+001 1.00000000e+001 1.00000001e+001\n",
      "  3.68065915e+180 1.00000001e+001]]\n",
      "\n",
      "[[1.00000000e+001 1.00000000e+001 1.00000000e+001             nan\n",
      "  1.00000000e+001 1.20480715e+132 1.00000000e+001 1.00000000e+001\n",
      "  1.00000000e+001 1.00000000e+001]\n",
      " [1.00000000e+001 1.00000000e+001 1.00000000e+001 1.00000000e+001\n",
      "  1.00000000e+001 1.00000000e+001 1.00000000e+001 1.00000000e+001\n",
      "  1.00000000e+001 1.00000000e+001]\n",
      " [1.00000000e+001 1.00000000e+001 1.00000000e+001 1.00000000e+001\n",
      "  1.00000000e+001 1.00000000e+001 1.00000000e+001 1.00000000e+001\n",
      "  1.00000000e+001 1.00000000e+001]\n",
      " [1.00000000e+001 1.00000000e+001 1.00000000e+001 1.00000000e+001\n",
      "  3.27550830e+179 1.00000000e+001 1.00000000e+001 1.00000000e+001\n",
      "  1.00000000e+001 1.00000000e+001]\n",
      " [1.00000000e+001 1.00000000e+001 1.10455295e+141 1.00000000e+001\n",
      "  1.00000000e+001 1.00000000e+001 1.00000000e+001 1.00000000e+001\n",
      "  1.00000000e+001 1.00000000e+001]\n",
      " [1.00000000e+001 1.00000000e+001 2.94814671e+179 1.00000000e+001\n",
      "  1.00000000e+001 1.00000000e+001 8.94213159e+130 1.00000000e+001\n",
      "  1.00000000e+001 1.00000000e+001]\n",
      " [1.00000000e+001 1.00000000e+001 1.00000000e+001 1.00000000e+001\n",
      "  1.00000000e+001 1.00000000e+001 1.00000000e+001 1.00000000e+001\n",
      "  7.97851503e+175 1.00000000e+001]\n",
      " [4.47266152e+251 1.00000000e+001 1.00000000e+001 1.00000000e+001\n",
      "  1.00000000e+001 6.49177694e+097 1.00000000e+001 1.00000000e+001\n",
      "  1.00000000e+001 4.47269661e+251]\n",
      " [1.00000000e+001 1.00000000e+001 1.00000000e+001 1.00000000e+001\n",
      "  1.00000000e+001 8.05483211e+251 1.00000000e+001 1.00000000e+001\n",
      "  5.07521538e+233 1.00000000e+001]\n",
      " [1.00000000e+001 1.00000000e+001 7.98758959e+175 1.00000000e+001\n",
      "  1.00000000e+001 1.00000000e+001 1.00000000e+001 1.00000001e+001\n",
      "  3.68065915e+180 1.00000001e+001]]\n"
     ]
    }
   ],
   "source": [
    "print(4.4 + 4) # method float.__add__ : OK\n",
    "print()\n",
    "print(4 + 4.4) # method int.__add__ : NotImplemented => float.__radd__\n",
    "print()\n",
    "print(a4 + 4) # method ndarray.__add__: OK\n",
    "print()\n",
    "print(4 + a4) # # method int.__add__ : NotImplemented => ndarray.__radd__"
   ]
  },
  {
   "cell_type": "code",
   "execution_count": 53,
   "id": "29d1ef46-c29e-41db-8bd2-37849d6574aa",
   "metadata": {},
   "outputs": [
    {
     "data": {
      "text/plain": [
       "NotImplemented"
      ]
     },
     "execution_count": 53,
     "metadata": {},
     "output_type": "execute_result"
    }
   ],
   "source": [
    "x = 4\n",
    "x.__add__(4.4)"
   ]
  },
  {
   "cell_type": "code",
   "execution_count": 54,
   "id": "b26b0cde-6996-4728-a4c2-3bffe91ca101",
   "metadata": {},
   "outputs": [
    {
     "data": {
      "text/plain": [
       "NotImplemented"
      ]
     },
     "execution_count": 54,
     "metadata": {},
     "output_type": "execute_result"
    }
   ],
   "source": [
    "x.__add__(a4)"
   ]
  },
  {
   "cell_type": "code",
   "execution_count": 55,
   "id": "dc4862a6-2c34-4d4b-82b8-34ae057fa403",
   "metadata": {},
   "outputs": [
    {
     "data": {
      "text/plain": [
       "(array([[3.00000000e+000, 3.00000000e+000, 3.00000000e+000,\n",
       "                     nan, 3.00000000e+000, 6.02403574e+131,\n",
       "         3.00000000e+000, 3.00000000e+000, 3.00000000e+000,\n",
       "         3.00000000e+000],\n",
       "        [3.00000000e+000, 3.00000000e+000, 3.00000000e+000,\n",
       "         3.00000000e+000, 3.00000000e+000, 3.00000000e+000,\n",
       "         3.00000000e+000, 3.00000000e+000, 3.00000000e+000,\n",
       "         3.00000000e+000],\n",
       "        [3.00000000e+000, 3.00000000e+000, 3.00000000e+000,\n",
       "         3.00000000e+000, 3.00000000e+000, 3.00000000e+000,\n",
       "         3.00000000e+000, 3.00000000e+000, 3.00000000e+000,\n",
       "         3.00000000e+000],\n",
       "        [3.00000000e+000, 3.00000000e+000, 3.00000000e+000,\n",
       "         3.00000000e+000, 1.63775415e+179, 3.00000000e+000,\n",
       "         3.00000000e+000, 3.00000000e+000, 3.00000000e+000,\n",
       "         3.00000000e+000],\n",
       "        [3.00000000e+000, 3.00000000e+000, 5.52276476e+140,\n",
       "         3.00000000e+000, 3.00000000e+000, 3.00000000e+000,\n",
       "         3.00000000e+000, 3.00000000e+000, 3.00000000e+000,\n",
       "         3.00000000e+000],\n",
       "        [3.00000000e+000, 3.00000000e+000, 1.47407335e+179,\n",
       "         3.00000000e+000, 3.00000000e+000, 3.00000000e+000,\n",
       "         4.47106580e+130, 3.00000000e+000, 3.00000000e+000,\n",
       "         3.00000000e+000],\n",
       "        [3.00000000e+000, 3.00000000e+000, 3.00000000e+000,\n",
       "         3.00000000e+000, 3.00000000e+000, 3.00000000e+000,\n",
       "         3.00000000e+000, 3.00000000e+000, 3.98925751e+175,\n",
       "         3.00000000e+000],\n",
       "        [2.23633076e+251, 3.00000000e+000, 3.00000000e+000,\n",
       "         3.00000000e+000, 3.00000000e+000, 3.24588847e+097,\n",
       "         3.00000000e+000, 3.00000000e+000, 3.00000000e+000,\n",
       "         2.23634831e+251],\n",
       "        [3.00000000e+000, 3.00000000e+000, 3.00000000e+000,\n",
       "         3.00000000e+000, 3.00000000e+000, 4.02741606e+251,\n",
       "         3.00000000e+000, 3.00000000e+000, 2.53760769e+233,\n",
       "         3.00000000e+000],\n",
       "        [3.00000000e+000, 3.00000000e+000, 3.99379479e+175,\n",
       "         3.00000000e+000, 3.00000000e+000, 3.00000000e+000,\n",
       "         3.00000000e+000, 3.00000000e+000, 1.84032958e+180,\n",
       "         3.00000000e+000]]),\n",
       " array([[1.        , 1.        , 1.        ,        nan, 1.        ,\n",
       "         0.        , 1.        , 1.        , 1.        , 1.        ],\n",
       "        [1.        , 1.        , 1.        , 1.        , 1.        ,\n",
       "         1.        , 1.        , 1.        , 1.        , 1.        ],\n",
       "        [1.        , 1.        , 1.        , 1.        , 1.        ,\n",
       "         1.        , 1.        , 1.        , 1.        , 1.        ],\n",
       "        [1.        , 1.        , 1.        , 1.        , 0.        ,\n",
       "         1.        , 1.        , 1.        , 1.        , 1.        ],\n",
       "        [1.        , 1.        , 0.        , 1.        , 1.        ,\n",
       "         1.        , 1.        , 1.        , 1.        , 1.        ],\n",
       "        [1.        , 1.        , 0.        , 1.        , 1.        ,\n",
       "         1.        , 0.        , 1.        , 1.        , 1.        ],\n",
       "        [1.        , 1.        , 1.        , 1.        , 1.        ,\n",
       "         1.        , 1.        , 1.        , 0.        , 1.00000004],\n",
       "        [0.        , 1.        , 1.        , 1.        , 1.        ,\n",
       "         0.        , 1.        , 1.        , 1.        , 0.        ],\n",
       "        [1.        , 1.        , 1.        , 1.        , 1.        ,\n",
       "         0.        , 1.00000005, 1.        , 0.        , 1.        ],\n",
       "        [1.        , 1.        , 0.        , 1.        , 1.        ,\n",
       "         1.        , 1.        , 1.00000009, 0.        , 1.00000008]]))"
      ]
     },
     "execution_count": 55,
     "metadata": {},
     "output_type": "execute_result"
    }
   ],
   "source": [
    "divmod(a4+1, 2)"
   ]
  },
  {
   "cell_type": "code",
   "execution_count": 56,
   "id": "75f13db8-46dd-4a16-aee0-64494dce03c5",
   "metadata": {},
   "outputs": [
    {
     "data": {
      "text/plain": [
       "array([[ True,  True,  True, False,  True,  True,  True,  True,  True,\n",
       "         True],\n",
       "       [ True,  True,  True,  True,  True,  True,  True,  True,  True,\n",
       "         True],\n",
       "       [ True,  True,  True,  True,  True,  True,  True,  True,  True,\n",
       "         True],\n",
       "       [ True,  True,  True,  True,  True,  True,  True,  True,  True,\n",
       "         True],\n",
       "       [ True,  True,  True,  True,  True,  True,  True,  True,  True,\n",
       "         True],\n",
       "       [ True,  True,  True,  True,  True,  True,  True,  True,  True,\n",
       "         True],\n",
       "       [ True,  True,  True,  True,  True,  True,  True,  True,  True,\n",
       "         True],\n",
       "       [ True,  True,  True,  True,  True,  True,  True,  True,  True,\n",
       "         True],\n",
       "       [ True,  True,  True,  True,  True,  True,  True,  True,  True,\n",
       "         True],\n",
       "       [ True,  True,  True,  True,  True,  True,  True,  True,  True,\n",
       "         True]])"
      ]
     },
     "execution_count": 56,
     "metadata": {},
     "output_type": "execute_result"
    }
   ],
   "source": [
    "a4 > 2"
   ]
  },
  {
   "cell_type": "code",
   "execution_count": 57,
   "id": "93a41129-768c-413a-9e6c-61f9e9292ec2",
   "metadata": {},
   "outputs": [
    {
     "data": {
      "text/plain": [
       "array([[2.00000000e+000, 6.00000000e+000, 6.00000000e+000,\n",
       "                    nan, 6.00000000e+000, 1.20480715e+132,\n",
       "        6.00000000e+000, 6.00000000e+000, 6.00000000e+000,\n",
       "        6.00000000e+000],\n",
       "       [6.00000000e+000, 6.00000000e+000, 6.00000000e+000,\n",
       "        6.00000000e+000, 6.00000000e+000, 6.00000000e+000,\n",
       "        6.00000000e+000, 6.00000000e+000, 6.00000000e+000,\n",
       "        6.00000000e+000],\n",
       "       [6.00000000e+000, 6.00000000e+000, 6.00000000e+000,\n",
       "        6.00000000e+000, 6.00000000e+000, 6.00000000e+000,\n",
       "        6.00000000e+000, 6.00000000e+000, 6.00000000e+000,\n",
       "        6.00000000e+000],\n",
       "       [6.00000000e+000, 6.00000000e+000, 6.00000000e+000,\n",
       "        6.00000000e+000, 3.27550830e+179, 6.00000000e+000,\n",
       "        6.00000000e+000, 6.00000000e+000, 6.00000000e+000,\n",
       "        6.00000000e+000],\n",
       "       [6.00000000e+000, 6.00000000e+000, 1.10455295e+141,\n",
       "        6.00000000e+000, 6.00000000e+000, 6.00000000e+000,\n",
       "        6.00000000e+000, 6.00000000e+000, 6.00000000e+000,\n",
       "        6.00000000e+000],\n",
       "       [6.00000000e+000, 6.00000000e+000, 2.94814671e+179,\n",
       "        6.00000000e+000, 6.00000000e+000, 6.00000000e+000,\n",
       "        8.94213159e+130, 6.00000000e+000, 6.00000000e+000,\n",
       "        6.00000000e+000],\n",
       "       [6.00000000e+000, 6.00000000e+000, 6.00000000e+000,\n",
       "        6.00000000e+000, 6.00000000e+000, 6.00000000e+000,\n",
       "        6.00000000e+000, 6.00000000e+000, 7.97851503e+175,\n",
       "        6.00000004e+000],\n",
       "       [4.47266152e+251, 6.00000000e+000, 6.00000000e+000,\n",
       "        6.00000000e+000, 6.00000000e+000, 6.49177694e+097,\n",
       "        6.00000000e+000, 6.00000000e+000, 6.00000000e+000,\n",
       "        4.47269661e+251],\n",
       "       [6.00000000e+000, 6.00000000e+000, 6.00000000e+000,\n",
       "        6.00000000e+000, 6.00000000e+000, 8.05483211e+251,\n",
       "        6.00000005e+000, 6.00000000e+000, 5.07521538e+233,\n",
       "        6.00000000e+000],\n",
       "       [6.00000000e+000, 6.00000000e+000, 7.98758959e+175,\n",
       "        6.00000000e+000, 6.00000000e+000, 6.00000000e+000,\n",
       "        6.00000000e+000, 6.00000009e+000, 3.68065915e+180,\n",
       "        6.00000008e+000]])"
      ]
     },
     "execution_count": 57,
     "metadata": {},
     "output_type": "execute_result"
    }
   ],
   "source": [
    "a4[0,0] = 2.0\n",
    "a4"
   ]
  },
  {
   "cell_type": "code",
   "execution_count": 58,
   "id": "ed2a5e2d-e9e1-4d89-936f-6f1d32575c98",
   "metadata": {},
   "outputs": [
    {
     "data": {
      "text/plain": [
       "array([[ True, False, False, False, False, False, False, False, False,\n",
       "        False],\n",
       "       [False, False, False, False, False, False, False, False, False,\n",
       "        False],\n",
       "       [False, False, False, False, False, False, False, False, False,\n",
       "        False],\n",
       "       [False, False, False, False, False, False, False, False, False,\n",
       "        False],\n",
       "       [False, False, False, False, False, False, False, False, False,\n",
       "        False],\n",
       "       [False, False, False, False, False, False, False, False, False,\n",
       "        False],\n",
       "       [False, False, False, False, False, False, False, False, False,\n",
       "        False],\n",
       "       [False, False, False, False, False, False, False, False, False,\n",
       "        False],\n",
       "       [False, False, False, False, False, False, False, False, False,\n",
       "        False],\n",
       "       [False, False, False, False, False, False, False, False, False,\n",
       "        False]])"
      ]
     },
     "execution_count": 58,
     "metadata": {},
     "output_type": "execute_result"
    }
   ],
   "source": [
    "a4 == 2.0"
   ]
  },
  {
   "cell_type": "code",
   "execution_count": 59,
   "id": "a830fafa-a5e9-453f-b7a3-e1dc94d99bf9",
   "metadata": {},
   "outputs": [
    {
     "name": "stderr",
     "output_type": "stream",
     "text": [
      "C:\\Users\\Matthias\\AppData\\Local\\Temp\\ipykernel_13948\\82979795.py:1: RuntimeWarning: overflow encountered in square\n",
      "  a5 = a4**2\n"
     ]
    },
    {
     "data": {
      "text/plain": [
       "array([[4.00000000e+000, 3.60000000e+001, 3.60000000e+001,\n",
       "                    nan, 3.60000000e+001, 1.45156026e+264,\n",
       "        3.60000000e+001, 3.60000000e+001, 3.60000000e+001,\n",
       "        3.60000000e+001],\n",
       "       [3.60000000e+001, 3.60000000e+001, 3.60000000e+001,\n",
       "        3.60000000e+001, 3.60000000e+001, 3.60000000e+001,\n",
       "        3.60000000e+001, 3.60000000e+001, 3.60000000e+001,\n",
       "        3.60000000e+001],\n",
       "       [3.60000000e+001, 3.60000000e+001, 3.60000000e+001,\n",
       "        3.60000000e+001, 3.60000000e+001, 3.60000000e+001,\n",
       "        3.60000000e+001, 3.60000000e+001, 3.60000000e+001,\n",
       "        3.60000000e+001],\n",
       "       [3.60000000e+001, 3.60000000e+001, 3.60000000e+001,\n",
       "        3.60000000e+001,             inf, 3.60000000e+001,\n",
       "        3.60000000e+001, 3.60000000e+001, 3.60000000e+001,\n",
       "        3.60000000e+001],\n",
       "       [3.60000000e+001, 3.60000000e+001, 1.22003722e+282,\n",
       "        3.60000000e+001, 3.60000000e+001, 3.60000000e+001,\n",
       "        3.60000000e+001, 3.60000000e+001, 3.60000000e+001,\n",
       "        3.60000000e+001],\n",
       "       [3.60000000e+001, 3.60000000e+001,             inf,\n",
       "        3.60000000e+001, 3.60000000e+001, 3.60000000e+001,\n",
       "        7.99617174e+261, 3.60000000e+001, 3.60000000e+001,\n",
       "        3.60000000e+001],\n",
       "       [3.60000000e+001, 3.60000000e+001, 3.60000000e+001,\n",
       "        3.60000000e+001, 3.60000000e+001, 3.60000000e+001,\n",
       "        3.60000000e+001, 3.60000000e+001,             inf,\n",
       "        3.60000005e+001],\n",
       "       [            inf, 3.60000000e+001, 3.60000000e+001,\n",
       "        3.60000000e+001, 3.60000000e+001, 4.21431678e+195,\n",
       "        3.60000000e+001, 3.60000000e+001, 3.60000000e+001,\n",
       "                    inf],\n",
       "       [3.60000000e+001, 3.60000000e+001, 3.60000000e+001,\n",
       "        3.60000000e+001, 3.60000000e+001,             inf,\n",
       "        3.60000005e+001, 3.60000000e+001,             inf,\n",
       "        3.60000000e+001],\n",
       "       [3.60000000e+001, 3.60000000e+001,             inf,\n",
       "        3.60000000e+001, 3.60000000e+001, 3.60000000e+001,\n",
       "        3.60000000e+001, 3.60000011e+001,             inf,\n",
       "        3.60000010e+001]])"
      ]
     },
     "execution_count": 59,
     "metadata": {},
     "output_type": "execute_result"
    }
   ],
   "source": [
    "a5 = a4**2\n",
    "a5"
   ]
  },
  {
   "cell_type": "code",
   "execution_count": 60,
   "id": "db33a87c-2eaf-45b6-90f7-67ac9f8825f0",
   "metadata": {},
   "outputs": [],
   "source": [
    "# ndarray 'and' raises exception\n",
    "# ValueError: The truth value of an array with more than one element is ambiguous. Use a.any() or a.all()\n",
    "# (a5 > 2) and (a4 < 100)"
   ]
  },
  {
   "cell_type": "code",
   "execution_count": 61,
   "id": "0e0cf2ef-1307-4420-ba1a-e9ebb044aace",
   "metadata": {},
   "outputs": [
    {
     "data": {
      "text/plain": [
       "array([[ True,  True,  True, False,  True, False,  True,  True,  True,\n",
       "         True],\n",
       "       [ True,  True,  True,  True,  True,  True,  True,  True,  True,\n",
       "         True],\n",
       "       [ True,  True,  True,  True,  True,  True,  True,  True,  True,\n",
       "         True],\n",
       "       [ True,  True,  True,  True, False,  True,  True,  True,  True,\n",
       "         True],\n",
       "       [ True,  True, False,  True,  True,  True,  True,  True,  True,\n",
       "         True],\n",
       "       [ True,  True, False,  True,  True,  True, False,  True,  True,\n",
       "         True],\n",
       "       [ True,  True,  True,  True,  True,  True,  True,  True, False,\n",
       "         True],\n",
       "       [False,  True,  True,  True,  True, False,  True,  True,  True,\n",
       "        False],\n",
       "       [ True,  True,  True,  True,  True, False,  True,  True, False,\n",
       "         True],\n",
       "       [ True,  True, False,  True,  True,  True,  True,  True, False,\n",
       "         True]])"
      ]
     },
     "execution_count": 61,
     "metadata": {},
     "output_type": "execute_result"
    }
   ],
   "source": [
    "# and bitwise (numpy => elementwise)\n",
    "(a5 > 2) & (a4 < 100)"
   ]
  },
  {
   "cell_type": "code",
   "execution_count": 62,
   "id": "7ab1259c-8f1c-4e2f-b111-aed0b4e603e1",
   "metadata": {},
   "outputs": [
    {
     "name": "stdout",
     "output_type": "stream",
     "text": [
      "[[2.00000000e+000 6.00000000e+000 6.00000000e+000             nan\n",
      "  6.00000000e+000 1.20480715e+132 6.00000000e+000 6.00000000e+000\n",
      "  6.00000000e+000 6.00000000e+000]\n",
      " [6.00000000e+000 6.00000000e+000 6.00000000e+000 6.00000000e+000\n",
      "  6.00000000e+000 6.00000000e+000 6.00000000e+000 6.00000000e+000\n",
      "  6.00000000e+000 6.00000000e+000]\n",
      " [6.00000000e+000 6.00000000e+000 6.00000000e+000 6.00000000e+000\n",
      "  6.00000000e+000 6.00000000e+000 6.00000000e+000 6.00000000e+000\n",
      "  6.00000000e+000 6.00000000e+000]\n",
      " [6.00000000e+000 6.00000000e+000 6.00000000e+000 6.00000000e+000\n",
      "  3.27550830e+179 6.00000000e+000 6.00000000e+000 6.00000000e+000\n",
      "  6.00000000e+000 6.00000000e+000]\n",
      " [6.00000000e+000 6.00000000e+000 1.10455295e+141 6.00000000e+000\n",
      "  6.00000000e+000 6.00000000e+000 6.00000000e+000 6.00000000e+000\n",
      "  6.00000000e+000 6.00000000e+000]\n",
      " [6.00000000e+000 6.00000000e+000 2.94814671e+179 6.00000000e+000\n",
      "  6.00000000e+000 6.00000000e+000 8.94213159e+130 6.00000000e+000\n",
      "  6.00000000e+000 6.00000000e+000]\n",
      " [6.00000000e+000 6.00000000e+000 6.00000000e+000 6.00000000e+000\n",
      "  6.00000000e+000 6.00000000e+000 6.00000000e+000 6.00000000e+000\n",
      "  7.97851503e+175 6.00000004e+000]\n",
      " [4.47266152e+251 6.00000000e+000 6.00000000e+000 6.00000000e+000\n",
      "  6.00000000e+000 6.49177694e+097 6.00000000e+000 6.00000000e+000\n",
      "  6.00000000e+000 4.47269661e+251]\n",
      " [6.00000000e+000 6.00000000e+000 6.00000000e+000 6.00000000e+000\n",
      "  6.00000000e+000 8.05483211e+251 6.00000005e+000 6.00000000e+000\n",
      "  5.07521538e+233 6.00000000e+000]\n",
      " [6.00000000e+000 6.00000000e+000 7.98758959e+175 6.00000000e+000\n",
      "  6.00000000e+000 6.00000000e+000 6.00000000e+000 6.00000009e+000\n",
      "  3.68065915e+180 6.00000008e+000]]\n"
     ]
    }
   ],
   "source": [
    "# use str conversion => __str__\n",
    "print(a4)"
   ]
  },
  {
   "cell_type": "code",
   "execution_count": 63,
   "id": "669032be-71fe-415f-8eb9-d230163074ba",
   "metadata": {},
   "outputs": [
    {
     "data": {
      "text/plain": [
       "array([[2.00000000e+000, 6.00000000e+000, 6.00000000e+000,\n",
       "                    nan, 6.00000000e+000, 1.20480715e+132,\n",
       "        6.00000000e+000, 6.00000000e+000, 6.00000000e+000,\n",
       "        6.00000000e+000],\n",
       "       [6.00000000e+000, 6.00000000e+000, 6.00000000e+000,\n",
       "        6.00000000e+000, 6.00000000e+000, 6.00000000e+000,\n",
       "        6.00000000e+000, 6.00000000e+000, 6.00000000e+000,\n",
       "        6.00000000e+000],\n",
       "       [6.00000000e+000, 6.00000000e+000, 6.00000000e+000,\n",
       "        6.00000000e+000, 6.00000000e+000, 6.00000000e+000,\n",
       "        6.00000000e+000, 6.00000000e+000, 6.00000000e+000,\n",
       "        6.00000000e+000],\n",
       "       [6.00000000e+000, 6.00000000e+000, 6.00000000e+000,\n",
       "        6.00000000e+000, 3.27550830e+179, 6.00000000e+000,\n",
       "        6.00000000e+000, 6.00000000e+000, 6.00000000e+000,\n",
       "        6.00000000e+000],\n",
       "       [6.00000000e+000, 6.00000000e+000, 1.10455295e+141,\n",
       "        6.00000000e+000, 6.00000000e+000, 6.00000000e+000,\n",
       "        6.00000000e+000, 6.00000000e+000, 6.00000000e+000,\n",
       "        6.00000000e+000],\n",
       "       [6.00000000e+000, 6.00000000e+000, 2.94814671e+179,\n",
       "        6.00000000e+000, 6.00000000e+000, 6.00000000e+000,\n",
       "        8.94213159e+130, 6.00000000e+000, 6.00000000e+000,\n",
       "        6.00000000e+000],\n",
       "       [6.00000000e+000, 6.00000000e+000, 6.00000000e+000,\n",
       "        6.00000000e+000, 6.00000000e+000, 6.00000000e+000,\n",
       "        6.00000000e+000, 6.00000000e+000, 7.97851503e+175,\n",
       "        6.00000004e+000],\n",
       "       [4.47266152e+251, 6.00000000e+000, 6.00000000e+000,\n",
       "        6.00000000e+000, 6.00000000e+000, 6.49177694e+097,\n",
       "        6.00000000e+000, 6.00000000e+000, 6.00000000e+000,\n",
       "        4.47269661e+251],\n",
       "       [6.00000000e+000, 6.00000000e+000, 6.00000000e+000,\n",
       "        6.00000000e+000, 6.00000000e+000, 8.05483211e+251,\n",
       "        6.00000005e+000, 6.00000000e+000, 5.07521538e+233,\n",
       "        6.00000000e+000],\n",
       "       [6.00000000e+000, 6.00000000e+000, 7.98758959e+175,\n",
       "        6.00000000e+000, 6.00000000e+000, 6.00000000e+000,\n",
       "        6.00000000e+000, 6.00000009e+000, 3.68065915e+180,\n",
       "        6.00000008e+000]])"
      ]
     },
     "execution_count": 63,
     "metadata": {},
     "output_type": "execute_result"
    }
   ],
   "source": [
    "# use repr conversion => __repr__\n",
    "a4"
   ]
  },
  {
   "cell_type": "code",
   "execution_count": 64,
   "id": "6e0402aa-4811-46be-a9da-d464e91a3fc5",
   "metadata": {},
   "outputs": [
    {
     "name": "stdout",
     "output_type": "stream",
     "text": [
      "2024-02-29\n"
     ]
    },
    {
     "data": {
      "text/plain": [
       "datetime.date(2024, 2, 29)"
      ]
     },
     "execution_count": 64,
     "metadata": {},
     "output_type": "execute_result"
    }
   ],
   "source": [
    "# date.__str__ => ISO format\n",
    "print(d)\n",
    "# date.__repr__ => type + attribute \n",
    "d"
   ]
  },
  {
   "cell_type": "markdown",
   "id": "50192531-af77-400b-bb98-f055406f03fe",
   "metadata": {},
   "source": [
    "## Iterable / Iterator"
   ]
  },
  {
   "cell_type": "code",
   "execution_count": 65,
   "id": "7f7b7cdd-02a2-4847-a0e0-dc47243760c0",
   "metadata": {},
   "outputs": [
    {
     "name": "stdout",
     "output_type": "stream",
     "text": [
      "T\n",
      "o\n",
      "u\n",
      "l\n",
      "o\n",
      "u\n",
      "s\n",
      "e\n"
     ]
    }
   ],
   "source": [
    "city = 'Toulouse'\n",
    "for letter in city:\n",
    "    print(letter)"
   ]
  },
  {
   "cell_type": "code",
   "execution_count": 66,
   "id": "b7e39e10-9b9f-435c-9378-eb34b70198cc",
   "metadata": {},
   "outputs": [
    {
     "data": {
      "text/plain": [
       "<method-wrapper '__iter__' of str object at 0x00000190255F6270>"
      ]
     },
     "execution_count": 66,
     "metadata": {},
     "output_type": "execute_result"
    }
   ],
   "source": [
    "city.__iter__"
   ]
  },
  {
   "cell_type": "code",
   "execution_count": 67,
   "id": "248c8bdd-c5af-495a-a6b6-69ba4ffc8093",
   "metadata": {},
   "outputs": [
    {
     "data": {
      "text/plain": [
       "<str_ascii_iterator at 0x19025460190>"
      ]
     },
     "execution_count": 67,
     "metadata": {},
     "output_type": "execute_result"
    }
   ],
   "source": [
    "it = iter(city) # call __iter__\n",
    "it"
   ]
  },
  {
   "cell_type": "code",
   "execution_count": 68,
   "id": "c22246f6-c72d-47da-b307-aff412d44276",
   "metadata": {},
   "outputs": [
    {
     "data": {
      "text/plain": [
       "<list_iterator at 0x19025649db0>"
      ]
     },
     "execution_count": 68,
     "metadata": {},
     "output_type": "execute_result"
    }
   ],
   "source": [
    "it2 = iter(l)\n",
    "it2"
   ]
  },
  {
   "cell_type": "code",
   "execution_count": 69,
   "id": "157cdaad-a416-4da3-b1c3-057e5218c411",
   "metadata": {},
   "outputs": [
    {
     "data": {
      "text/plain": [
       "'T'"
      ]
     },
     "execution_count": 69,
     "metadata": {},
     "output_type": "execute_result"
    }
   ],
   "source": [
    "# builtin next calls __next__ (go to next element and retrieve current element)\n",
    "next(it)"
   ]
  },
  {
   "cell_type": "code",
   "execution_count": 70,
   "id": "28c0f309-67a7-4ed0-b4eb-9c89e08c33d6",
   "metadata": {},
   "outputs": [
    {
     "data": {
      "text/plain": [
       "'o'"
      ]
     },
     "execution_count": 70,
     "metadata": {},
     "output_type": "execute_result"
    }
   ],
   "source": [
    "# execute n times this cell until having exception StopIteration\n",
    "next(it)"
   ]
  },
  {
   "cell_type": "code",
   "execution_count": 71,
   "id": "f41d06ec-9bdc-41e4-a8e5-1bb035d5bfc5",
   "metadata": {},
   "outputs": [
    {
     "name": "stdout",
     "output_type": "stream",
     "text": [
      "T\n",
      "o\n",
      "u\n",
      "l\n",
      "o\n",
      "u\n",
      "s\n",
      "e\n"
     ]
    }
   ],
   "source": [
    "# equivalent of a loop for with explicit iterator\n",
    "it = iter(city)\n",
    "while True:\n",
    "    try:\n",
    "        letter = next(it)\n",
    "        # do something with letter\n",
    "        print(letter)\n",
    "    except StopIteration:\n",
    "        break # exit while loop"
   ]
  },
  {
   "cell_type": "code",
   "execution_count": 72,
   "id": "4af6e0b5-1e2a-4c12-b535-42d154d365c1",
   "metadata": {},
   "outputs": [
    {
     "name": "stdout",
     "output_type": "stream",
     "text": [
      "[1, 2, 3, 4]\n",
      "[1, 2, 3, 4, 5, 6]\n",
      "[1, 2, 3, 4, 5, 6, 'T', 'o', 'u', 'l', 'o', 'u', 's', 'e']\n"
     ]
    }
   ],
   "source": [
    "# list.extend can use any iterable source\n",
    "l0 = [ 1, 2 ]\n",
    "l0.extend([3, 4])\n",
    "print(l0)\n",
    "l0.extend((5,6))\n",
    "print(l0)\n",
    "l0.extend('Toulouse')\n",
    "print(l0)"
   ]
  },
  {
   "cell_type": "code",
   "execution_count": 73,
   "id": "eead7f6b-2884-4957-81cf-7abb35873e7c",
   "metadata": {},
   "outputs": [
    {
     "data": {
      "text/plain": [
       "\u001b[1;31mSignature:\u001b[0m \u001b[0ml0\u001b[0m\u001b[1;33m.\u001b[0m\u001b[0mextend\u001b[0m\u001b[1;33m(\u001b[0m\u001b[0miterable\u001b[0m\u001b[1;33m,\u001b[0m \u001b[1;33m/\u001b[0m\u001b[1;33m)\u001b[0m\u001b[1;33m\u001b[0m\u001b[1;33m\u001b[0m\u001b[0m\n",
       "\u001b[1;31mDocstring:\u001b[0m Extend list by appending elements from the iterable.\n",
       "\u001b[1;31mType:\u001b[0m      builtin_function_or_method"
      ]
     },
     "metadata": {},
     "output_type": "display_data"
    }
   ],
   "source": [
    "l0.extend?"
   ]
  },
  {
   "cell_type": "markdown",
   "id": "eda052dc-4204-4f46-9231-e6c319c26f38",
   "metadata": {},
   "source": [
    "### builtin functions using iterable"
   ]
  },
  {
   "cell_type": "code",
   "execution_count": 74,
   "id": "db93c142-7fcb-48d9-a2f1-8e92fbe755a6",
   "metadata": {},
   "outputs": [
    {
     "data": {
      "text/plain": [
       "\u001b[1;31mSignature:\u001b[0m \u001b[0msum\u001b[0m\u001b[1;33m(\u001b[0m\u001b[0miterable\u001b[0m\u001b[1;33m,\u001b[0m \u001b[1;33m/\u001b[0m\u001b[1;33m,\u001b[0m \u001b[0mstart\u001b[0m\u001b[1;33m=\u001b[0m\u001b[1;36m0\u001b[0m\u001b[1;33m)\u001b[0m\u001b[1;33m\u001b[0m\u001b[1;33m\u001b[0m\u001b[0m\n",
       "\u001b[1;31mDocstring:\u001b[0m\n",
       "Return the sum of a 'start' value (default: 0) plus an iterable of numbers\n",
       "\n",
       "When the iterable is empty, return the start value.\n",
       "This function is intended specifically for use with numeric values and may\n",
       "reject non-numeric types.\n",
       "\u001b[1;31mType:\u001b[0m      builtin_function_or_method"
      ]
     },
     "metadata": {},
     "output_type": "display_data"
    }
   ],
   "source": [
    "sum?"
   ]
  },
  {
   "cell_type": "code",
   "execution_count": 75,
   "id": "48f0e7ee-f955-4ebb-9c0b-22d0daac18e6",
   "metadata": {},
   "outputs": [
    {
     "data": {
      "text/plain": [
       "4962"
      ]
     },
     "execution_count": 75,
     "metadata": {},
     "output_type": "execute_result"
    }
   ],
   "source": [
    "sum(l)"
   ]
  },
  {
   "cell_type": "code",
   "execution_count": 76,
   "id": "cef3cc0b-9b38-469b-9ce4-2e6f83184a6a",
   "metadata": {},
   "outputs": [
    {
     "data": {
      "text/plain": [
       "'T-o-u-l-o-u-s-e'"
      ]
     },
     "execution_count": 76,
     "metadata": {},
     "output_type": "execute_result"
    }
   ],
   "source": [
    "# sum(city, start='')\n",
    "'-'.join(city)"
   ]
  },
  {
   "cell_type": "code",
   "execution_count": 77,
   "id": "0bd06fb9-b495-4646-a3a0-5fd371e41766",
   "metadata": {},
   "outputs": [
    {
     "data": {
      "text/plain": [
       "(0, 99)"
      ]
     },
     "execution_count": 77,
     "metadata": {},
     "output_type": "execute_result"
    }
   ],
   "source": [
    "min(l), max(l)"
   ]
  },
  {
   "cell_type": "code",
   "execution_count": 78,
   "id": "a0e242d0-b85d-4543-b175-f701b5f58e27",
   "metadata": {},
   "outputs": [
    {
     "data": {
      "text/plain": [
       "<enumerate at 0x190256ad2b0>"
      ]
     },
     "execution_count": 78,
     "metadata": {},
     "output_type": "execute_result"
    }
   ],
   "source": [
    "# lazy evaluation\n",
    "e = enumerate(city, start=1)\n",
    "e"
   ]
  },
  {
   "cell_type": "code",
   "execution_count": 79,
   "id": "ef8abeb4-7abc-40be-ab9c-0c3c5f4dd08b",
   "metadata": {},
   "outputs": [
    {
     "data": {
      "text/plain": [
       "[(1, 'T'),\n",
       " (2, 'o'),\n",
       " (3, 'u'),\n",
       " (4, 'l'),\n",
       " (5, 'o'),\n",
       " (6, 'u'),\n",
       " (7, 's'),\n",
       " (8, 'e')]"
      ]
     },
     "execution_count": 79,
     "metadata": {},
     "output_type": "execute_result"
    }
   ],
   "source": [
    "letter_number_list = list(e)\n",
    "letter_number_list"
   ]
  },
  {
   "cell_type": "code",
   "execution_count": 80,
   "id": "35a1ab14-5fee-4dff-a0f0-f14c88044e98",
   "metadata": {},
   "outputs": [
    {
     "data": {
      "text/plain": [
       "\u001b[1;31mInit signature:\u001b[0m \u001b[0mzip\u001b[0m\u001b[1;33m(\u001b[0m\u001b[0mself\u001b[0m\u001b[1;33m,\u001b[0m \u001b[1;33m/\u001b[0m\u001b[1;33m,\u001b[0m \u001b[1;33m*\u001b[0m\u001b[0margs\u001b[0m\u001b[1;33m,\u001b[0m \u001b[1;33m**\u001b[0m\u001b[0mkwargs\u001b[0m\u001b[1;33m)\u001b[0m\u001b[1;33m\u001b[0m\u001b[1;33m\u001b[0m\u001b[0m\n",
       "\u001b[1;31mDocstring:\u001b[0m     \n",
       "zip(*iterables, strict=False) --> Yield tuples until an input is exhausted.\n",
       "\n",
       "   >>> list(zip('abcdefg', range(3), range(4)))\n",
       "   [('a', 0, 0), ('b', 1, 1), ('c', 2, 2)]\n",
       "\n",
       "The zip object yields n-length tuples, where n is the number of iterables\n",
       "passed as positional arguments to zip().  The i-th element in every tuple\n",
       "comes from the i-th iterable argument to zip().  This continues until the\n",
       "shortest argument is exhausted.\n",
       "\n",
       "If strict is true and one of the arguments is exhausted before the others,\n",
       "raise a ValueError.\n",
       "\u001b[1;31mType:\u001b[0m           type\n",
       "\u001b[1;31mSubclasses:\u001b[0m     "
      ]
     },
     "metadata": {},
     "output_type": "display_data"
    }
   ],
   "source": [
    "zip?"
   ]
  },
  {
   "cell_type": "code",
   "execution_count": 81,
   "id": "cd6e9221-5c71-4641-a0b0-b4281a1d2621",
   "metadata": {},
   "outputs": [
    {
     "data": {
      "text/plain": [
       "<zip at 0x1902568d680>"
      ]
     },
     "execution_count": 81,
     "metadata": {},
     "output_type": "execute_result"
    }
   ],
   "source": [
    "zip()"
   ]
  },
  {
   "cell_type": "code",
   "execution_count": 82,
   "id": "10cfdc75-533c-49d9-a37a-063940596697",
   "metadata": {},
   "outputs": [
    {
     "data": {
      "text/plain": [
       "<zip at 0x190256a12c0>"
      ]
     },
     "execution_count": 82,
     "metadata": {},
     "output_type": "execute_result"
    }
   ],
   "source": [
    "zip(city)"
   ]
  },
  {
   "cell_type": "code",
   "execution_count": 83,
   "id": "d28ef698-079d-4393-89af-6bba47671b77",
   "metadata": {},
   "outputs": [
    {
     "data": {
      "text/plain": [
       "<zip at 0x190256a1fc0>"
      ]
     },
     "execution_count": 83,
     "metadata": {},
     "output_type": "execute_result"
    }
   ],
   "source": [
    "z = zip(city, range(1000, 2000))\n",
    "z"
   ]
  },
  {
   "cell_type": "code",
   "execution_count": 84,
   "id": "e612ac0c-4b93-4f1a-b4f0-819f98e7fd9e",
   "metadata": {},
   "outputs": [
    {
     "data": {
      "text/plain": [
       "[('T', 1000),\n",
       " ('o', 1001),\n",
       " ('u', 1002),\n",
       " ('l', 1003),\n",
       " ('o', 1004),\n",
       " ('u', 1005),\n",
       " ('s', 1006),\n",
       " ('e', 1007)]"
      ]
     },
     "execution_count": 84,
     "metadata": {},
     "output_type": "execute_result"
    }
   ],
   "source": [
    "letter_number_list2 = list(z)\n",
    "letter_number_list2"
   ]
  },
  {
   "cell_type": "code",
   "execution_count": 85,
   "id": "a0a75860-b893-48b4-9ff7-c3c7cd69c641",
   "metadata": {},
   "outputs": [
    {
     "data": {
      "text/plain": [
       "[('T', 1, True), ('o', 3, False), ('u', 5, False), ('l', 7, True)]"
      ]
     },
     "execution_count": 85,
     "metadata": {},
     "output_type": "execute_result"
    }
   ],
   "source": [
    "list(zip(city, [1, 3, 5, 7], (True, False, False, True)))"
   ]
  },
  {
   "cell_type": "code",
   "execution_count": 86,
   "id": "522c0c8a-158b-4102-b1d8-2b26e964fe48",
   "metadata": {},
   "outputs": [
    {
     "name": "stdout",
     "output_type": "stream",
     "text": [
      "T 1 True\n",
      "o 3 False\n",
      "u 5 False\n",
      "l 7 True\n"
     ]
    }
   ],
   "source": [
    "for letter, n, ok in zip(city, [1, 3, 5, 7], (True, False, False, True)):\n",
    "    print(letter, n, ok)"
   ]
  },
  {
   "cell_type": "markdown",
   "id": "c453d45d-d4c4-41a6-83bb-9b2220fcf4d6",
   "metadata": {},
   "source": [
    "### generator"
   ]
  },
  {
   "cell_type": "code",
   "execution_count": 87,
   "id": "ae51fa40-a9eb-46e3-b7bc-4991d0858abd",
   "metadata": {},
   "outputs": [
    {
     "data": {
      "text/plain": [
       "<generator object <genexpr> at 0x00000190255E36B0>"
      ]
     },
     "execution_count": 87,
     "metadata": {},
     "output_type": "execute_result"
    }
   ],
   "source": [
    "# for expression => generator\n",
    "g = (x**2 + 1 for x in range(10))\n",
    "g"
   ]
  },
  {
   "cell_type": "code",
   "execution_count": 88,
   "id": "7e43d8ae-dd65-4831-9bc7-7e7ab8ec8417",
   "metadata": {},
   "outputs": [
    {
     "data": {
      "text/plain": [
       "[1, 2, 5, 10, 17, 26, 37, 50, 65, 82]"
      ]
     },
     "execution_count": 88,
     "metadata": {},
     "output_type": "execute_result"
    }
   ],
   "source": [
    "# list comprehension\n",
    "values = [ x**2 + 1 for x in range(10) ]\n",
    "values"
   ]
  },
  {
   "cell_type": "code",
   "execution_count": 89,
   "id": "848e0691-557b-4580-a29d-d71338e0497a",
   "metadata": {},
   "outputs": [
    {
     "data": {
      "text/plain": [
       "[1, 2, 5, 10, 17, 26, 37, 50, 65, 82]"
      ]
     },
     "execution_count": 89,
     "metadata": {},
     "output_type": "execute_result"
    }
   ],
   "source": [
    "values2 = list(g)\n",
    "values2"
   ]
  },
  {
   "cell_type": "code",
   "execution_count": 90,
   "id": "6d7fd8aa-35b8-4a0b-890e-b54025fb028e",
   "metadata": {},
   "outputs": [
    {
     "data": {
      "text/plain": [
       "[]"
      ]
     },
     "execution_count": 90,
     "metadata": {},
     "output_type": "execute_result"
    }
   ],
   "source": [
    "list(g)"
   ]
  },
  {
   "cell_type": "code",
   "execution_count": 91,
   "id": "b0003af3-b820-41b2-8a2f-b1984ad1fdfb",
   "metadata": {},
   "outputs": [
    {
     "data": {
      "text/plain": [
       "295"
      ]
     },
     "execution_count": 91,
     "metadata": {},
     "output_type": "execute_result"
    }
   ],
   "source": [
    "# don't need extra parenthesis\n",
    "sum(x**2 + 1 for x in range(10))"
   ]
  },
  {
   "cell_type": "code",
   "execution_count": 92,
   "id": "26d275f6-a9ef-4ae7-bd3e-9c67e51630fb",
   "metadata": {},
   "outputs": [],
   "source": [
    "# if 2+ args, need parenthesis\n",
    "# SyntaxError: Generator expression must be parenthesized\n",
    "# sum(x**2 + 1 for x in range(10), start=5)"
   ]
  },
  {
   "cell_type": "code",
   "execution_count": 93,
   "id": "16a7b57c-b11c-4b97-a7b6-66641c8dff72",
   "metadata": {},
   "outputs": [
    {
     "data": {
      "text/plain": [
       "300"
      ]
     },
     "execution_count": 93,
     "metadata": {},
     "output_type": "execute_result"
    }
   ],
   "source": [
    "sum((x**2 + 1 for x in range(10)), start=5)"
   ]
  },
  {
   "cell_type": "code",
   "execution_count": 94,
   "id": "0eaebddf-8490-4eb1-88b4-f4d3fd362e2e",
   "metadata": {},
   "outputs": [
    {
     "data": {
      "text/plain": [
       "(333333283333345000000, 333333283333345000000)"
      ]
     },
     "execution_count": 94,
     "metadata": {},
     "output_type": "execute_result"
    }
   ],
   "source": [
    "# good practice\n",
    "s1 = sum(x**2 + 1 for x in range(10_000_000)) # use 2 ints max\n",
    "\n",
    "# bad practice (memory peak)\n",
    "s2 = sum([ x**2 + 1 for x in range(10_000_000) ]) # use 10_000_000 ints + accumulator\n",
    "\n",
    "# same results\n",
    "s1, s2"
   ]
  },
  {
   "cell_type": "code",
   "execution_count": 95,
   "id": "0643a5cf-c3c4-4eb6-a1f0-57178c0442be",
   "metadata": {},
   "outputs": [
    {
     "data": {
      "text/plain": [
       "<generator object <genexpr> at 0x00000190255E3850>"
      ]
     },
     "execution_count": 95,
     "metadata": {},
     "output_type": "execute_result"
    }
   ],
   "source": [
    "g = (x**2 + 1 for x in range(10))\n",
    "g"
   ]
  },
  {
   "cell_type": "code",
   "execution_count": 96,
   "id": "fa0848e5-57f6-4b24-bcb3-da2c74eb5162",
   "metadata": {},
   "outputs": [
    {
     "data": {
      "text/plain": [
       "1"
      ]
     },
     "execution_count": 96,
     "metadata": {},
     "output_type": "execute_result"
    }
   ],
   "source": [
    "# exexcution n times this cell\n",
    "# iterate on generator\n",
    "next(g)"
   ]
  },
  {
   "cell_type": "code",
   "execution_count": 97,
   "id": "c51644ab-c341-45f9-b80e-2bed9e9a2fa9",
   "metadata": {},
   "outputs": [
    {
     "data": {
      "text/plain": [
       "True"
      ]
     },
     "execution_count": 97,
     "metadata": {},
     "output_type": "execute_result"
    }
   ],
   "source": [
    "# a generator is Iterable\n",
    "# the iteror of a generator is itself\n",
    "iter(g) is g"
   ]
  },
  {
   "cell_type": "code",
   "execution_count": 98,
   "id": "48863104-2e09-4dac-afdf-c2b690dd20a6",
   "metadata": {},
   "outputs": [],
   "source": [
    "it = iter(l)\n",
    "assert it is not l\n",
    "assert iter(it) is it\n",
    "assert iter(iter(it)) is it"
   ]
  },
  {
   "cell_type": "markdown",
   "id": "9394016b-cfd4-4526-a195-9bab1cc4a202",
   "metadata": {},
   "source": [
    "## Inheritance"
   ]
  },
  {
   "cell_type": "code",
   "execution_count": 99,
   "id": "28bccc33-7f99-4a77-b791-fa35c6f168d5",
   "metadata": {},
   "outputs": [],
   "source": [
    "city = City('Pau', 77_000, 64)\n",
    "coastalCity = CoastalCity(\"Bayonne\", 49_000, 64, \"Atlantic Ocean\")"
   ]
  },
  {
   "cell_type": "code",
   "execution_count": 100,
   "id": "ceaf45ca-485b-4b15-8280-c95c6187a6e9",
   "metadata": {},
   "outputs": [
    {
     "name": "stdout",
     "output_type": "stream",
     "text": [
      "Bayonne\n",
      "49000\n",
      "64\n",
      "Atlantic Ocean\n"
     ]
    }
   ],
   "source": [
    "# a coastal city has all attributes from City class\n",
    "print(coastalCity.name)\n",
    "print(coastalCity.population)\n",
    "print(coastalCity.department)\n",
    "# plus new attribute\n",
    "print(coastalCity.marine)"
   ]
  },
  {
   "cell_type": "code",
   "execution_count": 101,
   "id": "55ddf436-b225-4847-bb9a-7591baf67fcc",
   "metadata": {},
   "outputs": [
    {
     "data": {
      "text/plain": [
       "-28000"
      ]
     },
     "execution_count": 101,
     "metadata": {},
     "output_type": "execute_result"
    }
   ],
   "source": [
    "# a coastal city has all methods from City class\n",
    "coastalCity.populationDifference(city)"
   ]
  },
  {
   "cell_type": "code",
   "execution_count": 102,
   "id": "17f5d276-e6d5-4cdb-a4f9-1ee53a5c8cd4",
   "metadata": {},
   "outputs": [
    {
     "data": {
      "text/plain": [
       "28000"
      ]
     },
     "execution_count": 102,
     "metadata": {},
     "output_type": "execute_result"
    }
   ],
   "source": [
    "# LSP on argument method\n",
    "city.populationDifference(coastalCity)"
   ]
  },
  {
   "cell_type": "code",
   "execution_count": 103,
   "id": "9eeceee8-1348-4f3c-b0b0-511d82cede9d",
   "metadata": {},
   "outputs": [
    {
     "name": "stdout",
     "output_type": "stream",
     "text": [
      "Bayonne (pop=49000, dept=64) near Atlantic Ocean\n",
      "CoastalCity[Bayonne, pop=49000, dept=64, marine=Atlantic Ocean]\n"
     ]
    }
   ],
   "source": [
    "# same operators and builtins implementation\n",
    "print(coastalCity)\n",
    "print(repr(coastalCity))\n",
    "coastalCity += 100000"
   ]
  },
  {
   "cell_type": "code",
   "execution_count": 104,
   "id": "4b001f4f-9d94-41fb-933f-fa7b0a738757",
   "metadata": {},
   "outputs": [
    {
     "name": "stdout",
     "output_type": "stream",
     "text": [
      "<class 'city.City'>\n",
      "<class 'city.CoastalCity'>\n"
     ]
    }
   ],
   "source": [
    "# real types: object create from this class\n",
    "print(type(city))\n",
    "print(type(coastalCity))"
   ]
  },
  {
   "cell_type": "code",
   "execution_count": 108,
   "id": "3afbaff4-c021-4d39-ad41-146e044621a7",
   "metadata": {},
   "outputs": [
    {
     "name": "stdout",
     "output_type": "stream",
     "text": [
      "CoastalCity:\n",
      "\t- is as CoastalCity: True\n",
      "\t- is as City: True\n",
      "\t- is as object: True\n",
      "City:\n",
      "\t- is as City: True\n",
      "\t- is as CoastalCity: False\n"
     ]
    }
   ],
   "source": [
    "# isinstance (LSP)\n",
    "print(\"CoastalCity:\")\n",
    "print(\"\\t- is as CoastalCity:\", isinstance(coastalCity, CoastalCity))\n",
    "print(\"\\t- is as City:\", isinstance(coastalCity, City))\n",
    "print(\"\\t- is as object:\", isinstance(coastalCity, object))\n",
    "print(\"City:\")\n",
    "print(\"\\t- is as City:\", isinstance(city, City))\n",
    "print(\"\\t- is as CoastalCity:\", isinstance(city, CoastalCity))"
   ]
  },
  {
   "cell_type": "code",
   "execution_count": 106,
   "id": "8670196b-b815-4253-b436-4b1069f4fad7",
   "metadata": {},
   "outputs": [
    {
     "data": {
      "text/plain": [
       "False"
      ]
     },
     "execution_count": 106,
     "metadata": {},
     "output_type": "execute_result"
    }
   ],
   "source": [
    "city < coastalCity"
   ]
  },
  {
   "cell_type": "code",
   "execution_count": 109,
   "id": "4cca165e-230c-4ab8-be44-79130690a635",
   "metadata": {},
   "outputs": [],
   "source": [
    "#NB: cf also MaskedArray sub-class of ndarray masking values (NaN, out of range)"
   ]
  },
  {
   "cell_type": "markdown",
   "id": "102fe5cd-d600-49f8-983b-db07ebd970c7",
   "metadata": {},
   "source": [
    "## Properties"
   ]
  },
  {
   "cell_type": "markdown",
   "id": "1bebfe27-d9c5-4eca-9bb9-60b6db91e108",
   "metadata": {},
   "source": [
    "### City case: no properties"
   ]
  },
  {
   "cell_type": "code",
   "execution_count": 111,
   "id": "6ba2a522-a8cd-4240-bb6f-0941ffb90dce",
   "metadata": {},
   "outputs": [
    {
     "data": {
      "text/plain": [
       "City[Pau, pop=-10000, dept=64]"
      ]
     },
     "execution_count": 111,
     "metadata": {},
     "output_type": "execute_result"
    }
   ],
   "source": [
    "# no control at assignment\n",
    "city.population = -10000\n",
    "city"
   ]
  },
  {
   "cell_type": "code",
   "execution_count": 112,
   "id": "dd606a97-530a-4dc6-8b24-493235541ea7",
   "metadata": {},
   "outputs": [],
   "source": [
    "# remove attribute !\n",
    "del city.population"
   ]
  },
  {
   "cell_type": "code",
   "execution_count": 114,
   "id": "9c56bdf1-61e0-4850-b60b-90ee9a56d6d3",
   "metadata": {},
   "outputs": [],
   "source": [
    "# AttributeError: 'City' object has no attribute 'population'\n",
    "# city"
   ]
  },
  {
   "cell_type": "code",
   "execution_count": 116,
   "id": "6221b043-df76-467b-9459-99ff1b7b402d",
   "metadata": {},
   "outputs": [
    {
     "data": {
      "text/plain": [
       "City[Pau, pop=10, dept=64]"
      ]
     },
     "execution_count": 116,
     "metadata": {},
     "output_type": "execute_result"
    }
   ],
   "source": [
    "# add attributes\n",
    "city.population = 10\n",
    "city.area = 125000\n",
    "city"
   ]
  },
  {
   "cell_type": "markdown",
   "id": "8c7262d0-de1e-4131-9615-53cbb69e536c",
   "metadata": {},
   "source": [
    "### ndarray case: all properties\n",
    "attributes are in fact properties\n",
    "\n",
    "a property = hidden attribute + 3 optional methods (getter, setter, deletter)"
   ]
  },
  {
   "cell_type": "code",
   "execution_count": 119,
   "id": "2cba4d6d-57b7-43c1-b3ae-8d120ac9200a",
   "metadata": {},
   "outputs": [
    {
     "name": "stdout",
     "output_type": "stream",
     "text": [
      "(10, 10)\n",
      "(20, 5)\n"
     ]
    },
    {
     "data": {
      "text/plain": [
       "array([[13.71005091, 13.98101781, 12.02773718, 10.61560857, 16.12594275],\n",
       "       [12.29596413, 15.78196758,  8.88526584, 13.4394442 , 10.81295451],\n",
       "       [12.46805601, 10.14310934, 10.33551512, 10.41014766, 15.38994353],\n",
       "       [12.03719318, 14.5251071 , 20.25415044, 11.03415793, 11.8467193 ],\n",
       "       [ 5.05959074, 13.05678039, 10.62224044, 12.39845392, 11.71222625],\n",
       "       [17.09618669, 12.84651716, 19.96351755,  9.54620764,  7.73261092],\n",
       "       [ 8.00520307, 14.88232193, 13.07547014, 14.68827591, 13.01161308],\n",
       "       [11.81763339,  5.50507766, 14.90748629, 16.9454591 ,  7.09809132],\n",
       "       [11.90044644, 13.58838171, 10.72212968, 18.37181104, 12.94046609],\n",
       "       [ 9.53717799, 11.89433753, 10.31396526, 12.22500299, 14.33824616],\n",
       "       [12.42098983, 11.20641858, 13.47756241, 15.88407606, 12.5978636 ],\n",
       "       [13.30257298, 13.03355695, 12.1810657 , 18.2597884 ,  4.19938004],\n",
       "       [ 8.82093525, 13.44831545, 18.90276829,  9.40728682, 10.32436508],\n",
       "       [14.3851677 , 13.19241961, 17.72056231, 11.39049879, 16.99822387],\n",
       "       [16.13133413, 13.42302584, 12.30086618, 13.36988826,  4.55002709],\n",
       "       [16.67384315, 12.54175186,  8.73258702, 15.56290058,  7.81257587],\n",
       "       [10.79778461,  4.71894861, 13.10077718,  2.10616962, 11.60790238],\n",
       "       [11.26072915, 18.5819814 , 19.97225947, 14.10813362, 16.51576389],\n",
       "       [10.03848656,  9.40741175,  9.61499665, 15.32085586,  8.90078856],\n",
       "       [12.83520481, 10.8888534 , 15.24626577,  8.006412  ,  8.12257811]])"
      ]
     },
     "execution_count": 119,
     "metadata": {},
     "output_type": "execute_result"
    }
   ],
   "source": [
    "print(a3.shape)\n",
    "a3.shape = (20, 5) # ok compatible\n",
    "print(a3.shape)\n",
    "a3"
   ]
  },
  {
   "cell_type": "code",
   "execution_count": 128,
   "id": "5a55eda9-c982-4b01-a13a-214473bec39f",
   "metadata": {},
   "outputs": [
    {
     "data": {
      "text/plain": [
       "array([13.71005091, 13.98101781, 12.02773718, 10.61560857, 16.12594275,\n",
       "       12.29596413, 15.78196758,  8.88526584, 13.4394442 , 10.81295451,\n",
       "       12.46805601, 10.14310934, 10.33551512, 10.41014766, 15.38994353,\n",
       "       12.03719318, 14.5251071 , 20.25415044, 11.03415793, 11.8467193 ,\n",
       "        5.05959074, 13.05678039, 10.62224044, 12.39845392, 11.71222625,\n",
       "       17.09618669, 12.84651716, 19.96351755,  9.54620764,  7.73261092,\n",
       "        8.00520307, 14.88232193, 13.07547014, 14.68827591, 13.01161308,\n",
       "       11.81763339,  5.50507766, 14.90748629, 16.9454591 ,  7.09809132,\n",
       "       11.90044644, 13.58838171, 10.72212968, 18.37181104, 12.94046609,\n",
       "        9.53717799, 11.89433753, 10.31396526, 12.22500299, 14.33824616,\n",
       "       12.42098983, 11.20641858, 13.47756241, 15.88407606, 12.5978636 ,\n",
       "       13.30257298, 13.03355695, 12.1810657 , 18.2597884 ,  4.19938004,\n",
       "        8.82093525, 13.44831545, 18.90276829,  9.40728682, 10.32436508,\n",
       "       14.3851677 , 13.19241961, 17.72056231, 11.39049879, 16.99822387,\n",
       "       16.13133413, 13.42302584, 12.30086618, 13.36988826,  4.55002709,\n",
       "       16.67384315, 12.54175186,  8.73258702, 15.56290058,  7.81257587,\n",
       "       10.79778461,  4.71894861, 13.10077718,  2.10616962, 11.60790238,\n",
       "       11.26072915, 18.5819814 , 19.97225947, 14.10813362, 16.51576389,\n",
       "       10.03848656,  9.40741175,  9.61499665, 15.32085586,  8.90078856,\n",
       "       12.83520481, 10.8888534 , 15.24626577,  8.006412  ,  8.12257811])"
      ]
     },
     "execution_count": 128,
     "metadata": {},
     "output_type": "execute_result"
    }
   ],
   "source": [
    "a3.shape = (100,)\n",
    "a3"
   ]
  },
  {
   "cell_type": "code",
   "execution_count": 121,
   "id": "33c7466c-5e1d-4acd-bb77-56fa87a035ed",
   "metadata": {},
   "outputs": [],
   "source": [
    "# attribute shape is protected against wrong modification\n",
    "# ValueError: cannot reshape array of size 100 into shape (100,100)\n",
    "# a3.shape = (100, 100)"
   ]
  },
  {
   "cell_type": "code",
   "execution_count": 125,
   "id": "db922b49-13ff-49f0-81b8-4f587b461760",
   "metadata": {},
   "outputs": [],
   "source": [
    "# AttributeError: Cannot delete array data\n",
    "# del a3.data"
   ]
  },
  {
   "cell_type": "code",
   "execution_count": 127,
   "id": "0a3264a1-48c4-4fdf-805f-a74091ae98a7",
   "metadata": {},
   "outputs": [],
   "source": [
    "# AttributeError: 'numpy.ndarray' object has no attribute 'day'\n",
    "# a3.day = 'Jeudi'"
   ]
  },
  {
   "cell_type": "code",
   "execution_count": 131,
   "id": "07426481-8217-4eca-9cd0-92c1e66486cf",
   "metadata": {},
   "outputs": [
    {
     "data": {
      "text/plain": [
       "array([40.        , 40.        , 40.        , 40.        , 40.        ,\n",
       "       40.        , 40.        , 40.        , 40.        , 40.        ,\n",
       "       40.        , 40.        , 40.        , 40.        , 40.        ,\n",
       "       40.        , 40.        , 40.        , 40.        , 40.        ,\n",
       "       40.        , 40.        , 40.        , 40.        , 40.        ,\n",
       "       40.        , 40.        , 40.        , 40.        , 40.        ,\n",
       "       40.        , 40.        , 40.        , 40.        , 40.        ,\n",
       "       40.        , 40.        , 40.        , 40.        , 40.        ,\n",
       "       40.        , 40.        , 40.        , 40.        , 40.        ,\n",
       "       40.        , 40.        , 40.        , 40.        , 40.        ,\n",
       "       40.        , 40.        , 40.        , 40.        , 40.        ,\n",
       "       40.        , 40.        , 40.        , 40.        , 40.        ,\n",
       "       40.        , 40.        , 40.        , 40.        , 40.        ,\n",
       "       40.        , 40.        , 40.        , 40.        , 40.        ,\n",
       "       40.        , 40.        , 40.        , 40.        , 40.        ,\n",
       "       40.        , 40.        , 40.        , 40.        , 40.        ,\n",
       "       40.        , 40.        , 40.        , 40.        , 40.        ,\n",
       "       40.        , 40.        , 40.        , 40.        , 40.        ,\n",
       "       40.        , 40.        , 40.        , 40.        , 40.        ,\n",
       "       40.        , 40.        , 40.        , 40.        , 40.        ,\n",
       "       13.71005091, 13.98101781, 12.02773718, 10.61560857, 16.12594275,\n",
       "       12.29596413, 15.78196758,  8.88526584, 13.4394442 , 10.81295451,\n",
       "       12.46805601, 10.14310934, 10.33551512, 10.41014766, 15.38994353,\n",
       "       12.03719318, 14.5251071 , 20.25415044, 11.03415793, 11.8467193 ,\n",
       "        5.05959074, 13.05678039, 10.62224044, 12.39845392, 11.71222625,\n",
       "       17.09618669, 12.84651716, 19.96351755,  9.54620764,  7.73261092,\n",
       "        8.00520307, 14.88232193, 13.07547014, 14.68827591, 13.01161308,\n",
       "       11.81763339,  5.50507766, 14.90748629, 16.9454591 ,  7.09809132,\n",
       "       11.90044644, 13.58838171, 10.72212968, 18.37181104, 12.94046609,\n",
       "        9.53717799, 11.89433753, 10.31396526, 12.22500299, 14.33824616,\n",
       "       12.42098983, 11.20641858, 13.47756241, 15.88407606, 12.5978636 ,\n",
       "       13.30257298, 13.03355695, 12.1810657 , 18.2597884 ,  4.19938004,\n",
       "        8.82093525, 13.44831545, 18.90276829,  9.40728682, 10.32436508,\n",
       "       14.3851677 , 13.19241961, 17.72056231, 11.39049879, 16.99822387,\n",
       "       16.13133413, 13.42302584, 12.30086618, 13.36988826,  4.55002709,\n",
       "       16.67384315, 12.54175186,  8.73258702, 15.56290058,  7.81257587,\n",
       "       10.79778461,  4.71894861, 13.10077718,  2.10616962, 11.60790238,\n",
       "       11.26072915, 18.5819814 , 19.97225947, 14.10813362, 16.51576389,\n",
       "       10.03848656,  9.40741175,  9.61499665, 15.32085586,  8.90078856,\n",
       "       12.83520481, 10.8888534 , 15.24626577,  8.006412  ,  8.12257811])"
      ]
     },
     "execution_count": 131,
     "metadata": {},
     "output_type": "execute_result"
    }
   ],
   "source": [
    "a10 = np.full(200, 40.0)\n",
    "a10[100:] = a3\n",
    "a10"
   ]
  }
 ],
 "metadata": {
  "kernelspec": {
   "display_name": "k312",
   "language": "python",
   "name": "k312"
  },
  "language_info": {
   "codemirror_mode": {
    "name": "ipython",
    "version": 3
   },
   "file_extension": ".py",
   "mimetype": "text/x-python",
   "name": "python",
   "nbconvert_exporter": "python",
   "pygments_lexer": "ipython3",
   "version": "3.12.0"
  }
 },
 "nbformat": 4,
 "nbformat_minor": 5
}
