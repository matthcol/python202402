{
 "cells": [
  {
   "cell_type": "markdown",
   "id": "5bcf8f4c-b0b1-481b-bba2-87dfff32d9ed",
   "metadata": {},
   "source": [
    "# Object Oriented Programming in Python"
   ]
  },
  {
   "cell_type": "code",
   "execution_count": 48,
   "id": "0e2be214-e029-4102-b294-b9a5b1722ec2",
   "metadata": {},
   "outputs": [],
   "source": [
    "import numpy as np\n",
    "import pandas as pd\n",
    "from datetime import date, datetime, time\n",
    "import pytz"
   ]
  },
  {
   "cell_type": "markdown",
   "id": "d8d51e62-7d63-4d80-a31c-a3ec6331bf5f",
   "metadata": {},
   "source": [
    "## Constructor"
   ]
  },
  {
   "cell_type": "code",
   "execution_count": 5,
   "id": "f38a06e3-3d2a-431e-9bcd-751d4eeffcaa",
   "metadata": {},
   "outputs": [
    {
     "data": {
      "text/plain": [
       "range(0, 100)"
      ]
     },
     "execution_count": 5,
     "metadata": {},
     "output_type": "execute_result"
    }
   ],
   "source": [
    "# build an instance of class range\n",
    "r = range(100)\n",
    "r"
   ]
  },
  {
   "cell_type": "code",
   "execution_count": 6,
   "id": "489ec397-5a4c-4196-a51c-a50d184d3a29",
   "metadata": {},
   "outputs": [
    {
     "data": {
      "text/plain": [
       "range"
      ]
     },
     "execution_count": 6,
     "metadata": {},
     "output_type": "execute_result"
    }
   ],
   "source": [
    "type(r)"
   ]
  },
  {
   "cell_type": "code",
   "execution_count": 7,
   "id": "7715aaa3-120c-4e0b-8466-da04a2c50dd8",
   "metadata": {
    "collapsed": true,
    "jupyter": {
     "outputs_hidden": true
    }
   },
   "outputs": [
    {
     "data": {
      "text/plain": [
       "[0,\n",
       " 1,\n",
       " 2,\n",
       " 3,\n",
       " 4,\n",
       " 5,\n",
       " 6,\n",
       " 7,\n",
       " 8,\n",
       " 9,\n",
       " 10,\n",
       " 11,\n",
       " 12,\n",
       " 13,\n",
       " 14,\n",
       " 15,\n",
       " 16,\n",
       " 17,\n",
       " 18,\n",
       " 19,\n",
       " 20,\n",
       " 21,\n",
       " 22,\n",
       " 23,\n",
       " 24,\n",
       " 25,\n",
       " 26,\n",
       " 27,\n",
       " 28,\n",
       " 29,\n",
       " 30,\n",
       " 31,\n",
       " 32,\n",
       " 33,\n",
       " 34,\n",
       " 35,\n",
       " 36,\n",
       " 37,\n",
       " 38,\n",
       " 39,\n",
       " 40,\n",
       " 41,\n",
       " 42,\n",
       " 43,\n",
       " 44,\n",
       " 45,\n",
       " 46,\n",
       " 47,\n",
       " 48,\n",
       " 49,\n",
       " 50,\n",
       " 51,\n",
       " 52,\n",
       " 53,\n",
       " 54,\n",
       " 55,\n",
       " 56,\n",
       " 57,\n",
       " 58,\n",
       " 59,\n",
       " 60,\n",
       " 61,\n",
       " 62,\n",
       " 63,\n",
       " 64,\n",
       " 65,\n",
       " 66,\n",
       " 67,\n",
       " 68,\n",
       " 69,\n",
       " 70,\n",
       " 71,\n",
       " 72,\n",
       " 73,\n",
       " 74,\n",
       " 75,\n",
       " 76,\n",
       " 77,\n",
       " 78,\n",
       " 79,\n",
       " 80,\n",
       " 81,\n",
       " 82,\n",
       " 83,\n",
       " 84,\n",
       " 85,\n",
       " 86,\n",
       " 87,\n",
       " 88,\n",
       " 89,\n",
       " 90,\n",
       " 91,\n",
       " 92,\n",
       " 93,\n",
       " 94,\n",
       " 95,\n",
       " 96,\n",
       " 97,\n",
       " 98,\n",
       " 99]"
      ]
     },
     "execution_count": 7,
     "metadata": {},
     "output_type": "execute_result"
    }
   ],
   "source": [
    "# constructor class list adapt iterable object into a list\n",
    "l = list(r)\n",
    "l"
   ]
  },
  {
   "cell_type": "code",
   "execution_count": 12,
   "id": "78e192f2-9043-4aa8-bbd9-3832daa8037d",
   "metadata": {},
   "outputs": [
    {
     "data": {
      "text/plain": [
       "[]"
      ]
     },
     "execution_count": 12,
     "metadata": {},
     "output_type": "execute_result"
    }
   ],
   "source": [
    "list()"
   ]
  },
  {
   "cell_type": "code",
   "execution_count": 14,
   "id": "982f58ee-ca8a-435e-b1ba-e30859f16f3b",
   "metadata": {},
   "outputs": [
    {
     "data": {
      "text/plain": [
       "125"
      ]
     },
     "execution_count": 14,
     "metadata": {},
     "output_type": "execute_result"
    }
   ],
   "source": [
    "inputCount = '125'\n",
    "count = int(inputCount)\n",
    "count"
   ]
  },
  {
   "cell_type": "code",
   "execution_count": 16,
   "id": "215f6ba8-bcae-4c96-8aff-ccd1e3692dda",
   "metadata": {},
   "outputs": [],
   "source": [
    "# ValueError: invalid literal for int() with base 10: 'not an integer'\n",
    "# int('not an integer')"
   ]
  },
  {
   "cell_type": "code",
   "execution_count": 17,
   "id": "5c10ed29-6b77-4a7b-a3c6-59bb1bcd19e6",
   "metadata": {},
   "outputs": [
    {
     "name": "stdout",
     "output_type": "stream",
     "text": [
      "12.5\n",
      "1.345e-23\n",
      "nan\n",
      "inf\n"
     ]
    }
   ],
   "source": [
    "for inputFloat in '12.5', '1.345E-23', 'NaN', 'inf':\n",
    "    f = float(inputFloat)\n",
    "    print(f)"
   ]
  },
  {
   "cell_type": "code",
   "execution_count": 25,
   "id": "6cabc479-9366-4cf5-8bcf-34da063a54de",
   "metadata": {},
   "outputs": [
    {
     "data": {
      "text/html": [
       "<div>\n",
       "<style scoped>\n",
       "    .dataframe tbody tr th:only-of-type {\n",
       "        vertical-align: middle;\n",
       "    }\n",
       "\n",
       "    .dataframe tbody tr th {\n",
       "        vertical-align: top;\n",
       "    }\n",
       "\n",
       "    .dataframe thead th {\n",
       "        text-align: right;\n",
       "    }\n",
       "</style>\n",
       "<table border=\"1\" class=\"dataframe\">\n",
       "  <thead>\n",
       "    <tr style=\"text-align: right;\">\n",
       "      <th></th>\n",
       "      <th>name</th>\n",
       "      <th>population</th>\n",
       "      <th>department</th>\n",
       "    </tr>\n",
       "  </thead>\n",
       "  <tbody>\n",
       "    <tr>\n",
       "      <th>0</th>\n",
       "      <td>Pau</td>\n",
       "      <td>77000</td>\n",
       "      <td>64</td>\n",
       "    </tr>\n",
       "    <tr>\n",
       "      <th>1</th>\n",
       "      <td>Toulouse</td>\n",
       "      <td>470000</td>\n",
       "      <td>31</td>\n",
       "    </tr>\n",
       "    <tr>\n",
       "      <th>2</th>\n",
       "      <td>Montpellier</td>\n",
       "      <td>290000</td>\n",
       "      <td>34</td>\n",
       "    </tr>\n",
       "  </tbody>\n",
       "</table>\n",
       "</div>"
      ],
      "text/plain": [
       "          name  population  department\n",
       "0          Pau       77000          64\n",
       "1     Toulouse      470000          31\n",
       "2  Montpellier      290000          34"
      ]
     },
     "execution_count": 25,
     "metadata": {},
     "output_type": "execute_result"
    }
   ],
   "source": [
    "df = pd.DataFrame(\n",
    "    (\n",
    "        (\"Pau\", 77000, 64),\n",
    "        (\"Toulouse\", 470000, 31),\n",
    "        (\"Montpellier\", 290000, 34),\n",
    "    ),\n",
    "    columns=['name', 'population', 'department']\n",
    ")\n",
    "df"
   ]
  },
  {
   "cell_type": "code",
   "execution_count": 26,
   "id": "fb56e3bb-ae9c-4aab-a033-dfee9b76e163",
   "metadata": {},
   "outputs": [
    {
     "data": {
      "text/plain": [
       "pandas.core.frame.DataFrame"
      ]
     },
     "execution_count": 26,
     "metadata": {},
     "output_type": "execute_result"
    }
   ],
   "source": [
    " type(df)"
   ]
  },
  {
   "cell_type": "code",
   "execution_count": 29,
   "id": "9d1e671f-0b9c-4b75-90a4-c681b11caee6",
   "metadata": {},
   "outputs": [
    {
     "data": {
      "text/plain": [
       "array([[6.23042070e-307, 4.67296746e-307, 1.69121096e-306,\n",
       "        1.78019082e-306, 7.56596412e-307],\n",
       "       [1.33511018e-306, 1.33511969e-306, 6.23037996e-307,\n",
       "        1.69121639e-306, 1.95821439e-306],\n",
       "       [6.23037657e-307, 6.23053954e-307, 9.34609790e-307,\n",
       "        8.45593934e-307, 9.34600963e-307],\n",
       "       [7.56601165e-307, 1.69118787e-306, 1.11261298e-306,\n",
       "        8.90104239e-307, 1.60219035e-306],\n",
       "       [6.89805151e-307, 1.78020169e-306, 1.42410974e-306,\n",
       "        6.01334412e-154, 6.01347002e-154]])"
      ]
     },
     "execution_count": 29,
     "metadata": {},
     "output_type": "execute_result"
    }
   ],
   "source": [
    "# constructor ndarray: exists but not to be used directly\n",
    "# => use functions instead\n",
    "a = np.ndarray((5,5))\n",
    "a"
   ]
  },
  {
   "cell_type": "code",
   "execution_count": 33,
   "id": "90cc12dd-367d-4cd6-b1a8-440327e4dfd8",
   "metadata": {},
   "outputs": [],
   "source": [
    "a1 = np.empty((10,10))\n",
    "a2 = np.zeros((10,10))\n",
    "a3 = np.random.normal(12.0, 3.5, (10,10))"
   ]
  },
  {
   "cell_type": "code",
   "execution_count": 34,
   "id": "34794b4b-009c-47a5-acd6-e3432005fbab",
   "metadata": {},
   "outputs": [
    {
     "data": {
      "text/plain": [
       "array([[0., 0., 0., 0., 0., 0., 0., 0., 0., 0.],\n",
       "       [0., 0., 0., 0., 0., 0., 0., 0., 0., 0.],\n",
       "       [0., 0., 0., 0., 0., 0., 0., 0., 0., 0.],\n",
       "       [0., 0., 0., 0., 0., 0., 0., 0., 0., 0.],\n",
       "       [0., 0., 0., 0., 0., 0., 0., 0., 0., 0.],\n",
       "       [0., 0., 0., 0., 0., 0., 0., 0., 0., 0.],\n",
       "       [0., 0., 0., 0., 0., 0., 0., 0., 0., 0.],\n",
       "       [0., 0., 0., 0., 0., 0., 0., 0., 0., 0.],\n",
       "       [0., 0., 0., 0., 0., 0., 0., 0., 0., 0.],\n",
       "       [0., 0., 0., 0., 0., 0., 0., 0., 0., 0.]])"
      ]
     },
     "execution_count": 34,
     "metadata": {},
     "output_type": "execute_result"
    }
   ],
   "source": [
    "a1"
   ]
  },
  {
   "cell_type": "code",
   "execution_count": 36,
   "id": "66ad146f-62f8-44d5-aedb-45cc676a8ed8",
   "metadata": {},
   "outputs": [
    {
     "data": {
      "text/plain": [
       "array([[0., 0., 0., 0., 0., 0., 0., 0., 0., 0.],\n",
       "       [0., 0., 0., 0., 0., 0., 0., 0., 0., 0.],\n",
       "       [0., 0., 0., 0., 0., 0., 0., 0., 0., 0.],\n",
       "       [0., 0., 0., 0., 0., 0., 0., 0., 0., 0.],\n",
       "       [0., 0., 0., 0., 0., 0., 0., 0., 0., 0.],\n",
       "       [0., 0., 0., 0., 0., 0., 0., 0., 0., 0.],\n",
       "       [0., 0., 0., 0., 0., 0., 0., 0., 0., 0.],\n",
       "       [0., 0., 0., 0., 0., 0., 0., 0., 0., 0.],\n",
       "       [0., 0., 0., 0., 0., 0., 0., 0., 0., 0.],\n",
       "       [0., 0., 0., 0., 0., 0., 0., 0., 0., 0.]])"
      ]
     },
     "execution_count": 36,
     "metadata": {},
     "output_type": "execute_result"
    }
   ],
   "source": [
    "a2"
   ]
  },
  {
   "cell_type": "code",
   "execution_count": 37,
   "id": "c0c7a61d-6628-4f66-9681-d6b745246cb0",
   "metadata": {},
   "outputs": [
    {
     "data": {
      "text/plain": [
       "array([[11.128004  , 10.21202933,  9.67570352, 14.65988288,  6.27374022,\n",
       "         9.26765562, 16.47781478,  9.23177001, 10.14411625, 14.09668446],\n",
       "       [12.46968453, 17.89157709, 12.5379358 , 11.27948113, 20.04003381,\n",
       "         8.88985398, 17.5286866 , 14.9480588 , 14.58602078, 15.57057483],\n",
       "       [12.8437956 ,  5.56474015, 10.32600484,  7.94357876,  9.60536318,\n",
       "        18.21013371, 10.14408122,  9.11505602,  9.54498683,  9.65705022],\n",
       "       [12.25432347,  8.74423435,  8.70476942,  9.07495625, 11.12926727,\n",
       "        10.79291499, 11.08257522, 11.9300491 ,  8.78174536, 12.59700581],\n",
       "       [ 9.15141924, 13.97574813, 14.95846796, 16.92529729,  9.94260242,\n",
       "        12.95079625,  5.98527974, 12.69893356,  9.13338729, 16.24480137],\n",
       "       [ 6.44994459, 13.85486491, 10.00923723,  5.92411322, 14.81578549,\n",
       "        15.17821848,  8.40119044,  8.42635523, 16.47941025, 16.63475177],\n",
       "       [ 7.25829487, 10.42649854, 13.98349796, 15.89225467, 10.27170333,\n",
       "        12.79033781, 18.71840825, 11.23773768, 12.91682029,  7.4245317 ],\n",
       "       [ 7.1743356 ,  3.77815495, 13.36847402,  1.74779886, 14.34304074,\n",
       "        18.20328394, 14.74536067,  7.73425082, 11.01996544,  8.12498845],\n",
       "       [ 8.51044161, 20.51600891,  8.04292773, 18.1344972 , 10.72718579,\n",
       "        10.94035109,  9.86530544,  7.19831787,  7.24585729, 16.57719927],\n",
       "       [10.24698497, 12.62386566,  9.27094059, 17.67363924,  3.92254264,\n",
       "        17.84256084, 15.61088581, 12.93239099, 12.77307072, 10.07352959]])"
      ]
     },
     "execution_count": 37,
     "metadata": {},
     "output_type": "execute_result"
    }
   ],
   "source": [
    "a3"
   ]
  },
  {
   "cell_type": "code",
   "execution_count": 38,
   "id": "c7ae27c8-2827-4dc6-8ebc-d5fb2f97f009",
   "metadata": {},
   "outputs": [
    {
     "data": {
      "text/plain": [
       "(numpy.ndarray, numpy.ndarray, numpy.ndarray)"
      ]
     },
     "execution_count": 38,
     "metadata": {},
     "output_type": "execute_result"
    }
   ],
   "source": [
    "type(a1), type(a2), type(a3)"
   ]
  },
  {
   "cell_type": "code",
   "execution_count": 47,
   "id": "6f659113-b511-47c8-9ea7-0954e83eb5e2",
   "metadata": {},
   "outputs": [
    {
     "data": {
      "text/plain": [
       "(datetime.date(2024, 2, 29),\n",
       " datetime.datetime(2024, 2, 29, 14, 30),\n",
       " datetime.datetime(2024, 2, 29, 14, 30, 20, 125001, tzinfo=<DstTzInfo 'America/La_Paz' LMT-1 day, 19:27:00 STD>))"
      ]
     },
     "execution_count": 47,
     "metadata": {},
     "output_type": "execute_result"
    }
   ],
   "source": [
    "tz = pytz.timezone('America/La_Paz')\n",
    "d = date(2024, 2, 29)\n",
    "dt = datetime(2024, 2, 29, 14, 30)\n",
    "dt2 = datetime(2024, 2, 29, 14, 30, 20, 125001, tz)\n",
    "d, dt, dt2"
   ]
  },
  {
   "cell_type": "code",
   "execution_count": 54,
   "id": "7c5a82dc-11ce-4361-b1c6-0c66a6288fdf",
   "metadata": {},
   "outputs": [
    {
     "data": {
      "text/plain": [
       "(datetime.date(2024, 2, 6),\n",
       " datetime.datetime(2024, 2, 6, 10, 5, 7, 928176),\n",
       " datetime.time(10, 5, 7, 928176),\n",
       " datetime.datetime(2024, 2, 6, 5, 5, 7, 928176, tzinfo=<DstTzInfo 'America/La_Paz' -04-1 day, 20:00:00 STD>))"
      ]
     },
     "execution_count": 54,
     "metadata": {},
     "output_type": "execute_result"
    }
   ],
   "source": [
    "# build temporal object without constructor\n",
    "d2 = date.today()\n",
    "dt3 = datetime.now()\n",
    "dt4 = datetime.now(tz)\n",
    "d2, dt3, dt3.time(), dt4"
   ]
  },
  {
   "cell_type": "markdown",
   "id": "e91c3dc5-8c3e-49b6-9488-cd97a32ee7f6",
   "metadata": {},
   "source": [
    "Summary:\n",
    "- class = object type (model)\n",
    "- object = instance of a class"
   ]
  },
  {
   "cell_type": "markdown",
   "id": "150fbb94-d46b-4c7c-9c59-97284b4a2dcf",
   "metadata": {},
   "source": [
    "## Attributes\n",
    "- attribute = data part of an object"
   ]
  },
  {
   "cell_type": "code",
   "execution_count": 56,
   "id": "b3a5e065-21d2-47f2-9353-3de6d32375ac",
   "metadata": {},
   "outputs": [
    {
     "data": {
      "text/plain": [
       "(2024, 2, 29)"
      ]
     },
     "execution_count": 56,
     "metadata": {},
     "output_type": "execute_result"
    }
   ],
   "source": [
    "d.year, d.month, d.day"
   ]
  },
  {
   "cell_type": "code",
   "execution_count": 57,
   "id": "1d7eb2d8-b8c5-41c2-8e07-ace2d49a54b0",
   "metadata": {},
   "outputs": [
    {
     "data": {
      "text/plain": [
       "(2024, 2, 29, 14, 30, 0, 0, None)"
      ]
     },
     "execution_count": 57,
     "metadata": {},
     "output_type": "execute_result"
    }
   ],
   "source": [
    "dt.year, dt.month, dt.day, dt.hour, dt.minute, dt.second, dt.microsecond, dt.tzinfo"
   ]
  },
  {
   "cell_type": "code",
   "execution_count": 59,
   "id": "38a06d81-beed-4b64-b680-e419547f69f7",
   "metadata": {},
   "outputs": [
    {
     "data": {
      "text/plain": [
       "(10, 10)"
      ]
     },
     "execution_count": 59,
     "metadata": {},
     "output_type": "execute_result"
    }
   ],
   "source": [
    "a3.shape"
   ]
  },
  {
   "cell_type": "code",
   "execution_count": 60,
   "id": "6eb43330-1c24-473d-b20a-2ba513df59ca",
   "metadata": {},
   "outputs": [
    {
     "data": {
      "text/plain": [
       "dtype('float64')"
      ]
     },
     "execution_count": 60,
     "metadata": {},
     "output_type": "execute_result"
    }
   ],
   "source": [
    "a3.dtype"
   ]
  },
  {
   "cell_type": "code",
   "execution_count": 61,
   "id": "e513c0d9-9d9c-47fa-820e-d7ca37f063f2",
   "metadata": {},
   "outputs": [
    {
     "data": {
      "text/plain": [
       "  C_CONTIGUOUS : True\n",
       "  F_CONTIGUOUS : False\n",
       "  OWNDATA : True\n",
       "  WRITEABLE : True\n",
       "  ALIGNED : True\n",
       "  WRITEBACKIFCOPY : False"
      ]
     },
     "execution_count": 61,
     "metadata": {},
     "output_type": "execute_result"
    }
   ],
   "source": [
    "a3.flags"
   ]
  },
  {
   "cell_type": "code",
   "execution_count": 65,
   "id": "8432ce94-79ed-4d40-a6de-6def2262ce05",
   "metadata": {},
   "outputs": [
    {
     "data": {
      "text/plain": [
       "0            Pau\n",
       "1       Toulouse\n",
       "2    Montpellier\n",
       "Name: name, dtype: object"
      ]
     },
     "execution_count": 65,
     "metadata": {},
     "output_type": "execute_result"
    }
   ],
   "source": [
    "# DataFrame: dynamic attribute for each column (when possible)\n",
    "df.name"
   ]
  },
  {
   "cell_type": "markdown",
   "id": "4aef8a9b-b5cf-480d-84d8-78d6ee1cbcd0",
   "metadata": {},
   "source": [
    "## Methods and operators"
   ]
  },
  {
   "cell_type": "markdown",
   "id": "dee3e80a-ea51-43a3-bc6c-5acfb2cf2a5c",
   "metadata": {},
   "source": [
    "### visible methods\n",
    "start with a letter"
   ]
  },
  {
   "cell_type": "code",
   "execution_count": 66,
   "id": "42920add-cc68-4c17-818e-a5ec49aac25f",
   "metadata": {},
   "outputs": [],
   "source": [
    "# append method of class list\n",
    "l.append(12)"
   ]
  },
  {
   "cell_type": "code",
   "execution_count": 68,
   "id": "7ee4aa54-5753-4e15-91f3-93290e2ed1d6",
   "metadata": {},
   "outputs": [
    {
     "data": {
      "text/plain": [
       "<function list.append(object, /)>"
      ]
     },
     "execution_count": 68,
     "metadata": {},
     "output_type": "execute_result"
    }
   ],
   "source": [
    "l.append"
   ]
  },
  {
   "cell_type": "code",
   "execution_count": 67,
   "id": "d82cff0b-4de3-4c62-87a5-a709b3dd987c",
   "metadata": {},
   "outputs": [
    {
     "data": {
      "text/plain": [
       "datetime.time(14, 30)"
      ]
     },
     "execution_count": 67,
     "metadata": {},
     "output_type": "execute_result"
    }
   ],
   "source": [
    "dt.time()"
   ]
  },
  {
   "cell_type": "code",
   "execution_count": 69,
   "id": "b6c591fb-64b7-4fbb-a610-91bce9909b46",
   "metadata": {},
   "outputs": [
    {
     "data": {
      "text/plain": [
       "<function datetime.time>"
      ]
     },
     "execution_count": 69,
     "metadata": {},
     "output_type": "execute_result"
    }
   ],
   "source": [
    "dt.time"
   ]
  },
  {
   "cell_type": "code",
   "execution_count": 70,
   "id": "1e5fa309-cfb2-431a-9673-e9c3394b8131",
   "metadata": {},
   "outputs": [
    {
     "data": {
      "text/plain": [
       "'29/02/2024'"
      ]
     },
     "execution_count": 70,
     "metadata": {},
     "output_type": "execute_result"
    }
   ],
   "source": [
    "d.strftime(\"%d/%m/%Y\")"
   ]
  },
  {
   "cell_type": "markdown",
   "id": "d1597cf5-cab8-49bf-be93-49af1f400bce",
   "metadata": {},
   "source": [
    "### Masked methods\n",
    "name: ```__mymethod__```\n",
    "usage: \n",
    "- operator (```__add__```)\n",
    "- builtin function: len (```__len__```)\n",
    "- with block: ```__enter__, __exit__```"
   ]
  },
  {
   "cell_type": "code",
   "execution_count": 74,
   "id": "afaae736-2e13-4b5f-aac8-cefe1eabdc1e",
   "metadata": {},
   "outputs": [
    {
     "data": {
      "text/plain": [
       "101"
      ]
     },
     "execution_count": 74,
     "metadata": {},
     "output_type": "execute_result"
    }
   ],
   "source": [
    "len(l)"
   ]
  },
  {
   "cell_type": "code",
   "execution_count": 76,
   "id": "a6c7df6b-a7af-43a4-9e1f-04ae0ed3184a",
   "metadata": {},
   "outputs": [
    {
     "data": {
      "text/plain": [
       "<method-wrapper '__len__' of list object at 0x00000229D18FBA40>"
      ]
     },
     "execution_count": 76,
     "metadata": {},
     "output_type": "execute_result"
    }
   ],
   "source": [
    "l.__len__"
   ]
  },
  {
   "cell_type": "code",
   "execution_count": 77,
   "id": "28796c12-d4e6-483d-84a9-c2589b99163f",
   "metadata": {},
   "outputs": [
    {
     "data": {
      "text/plain": [
       "101"
      ]
     },
     "execution_count": 77,
     "metadata": {},
     "output_type": "execute_result"
    }
   ],
   "source": [
    "l.__len__()"
   ]
  },
  {
   "cell_type": "code",
   "execution_count": 79,
   "id": "83a6a542-c9fe-4e8e-b9c7-a980831ce1ef",
   "metadata": {},
   "outputs": [
    {
     "data": {
      "text/plain": [
       "3"
      ]
     },
     "execution_count": 79,
     "metadata": {},
     "output_type": "execute_result"
    }
   ],
   "source": [
    "# DataFrame: len = number of rows\n",
    "len(df)"
   ]
  },
  {
   "cell_type": "code",
   "execution_count": 81,
   "id": "cceed647-5b75-42a2-b6a8-430689cf7d9e",
   "metadata": {},
   "outputs": [
    {
     "data": {
      "text/plain": [
       "10"
      ]
     },
     "execution_count": 81,
     "metadata": {},
     "output_type": "execute_result"
    }
   ],
   "source": [
    "# ndarray: size of first dimension\n",
    "len(a3)"
   ]
  },
  {
   "cell_type": "code",
   "execution_count": 83,
   "id": "b7cce446-788e-43e9-9afa-0bf5dccf3107",
   "metadata": {},
   "outputs": [],
   "source": [
    "# TypeError: object of type 'int' has no len()\n",
    "# len(123)"
   ]
  },
  {
   "cell_type": "code",
   "execution_count": 84,
   "id": "b2b61b2e-e200-49ba-853a-9f78807b241b",
   "metadata": {},
   "outputs": [
    {
     "data": {
      "text/plain": [
       "[1, 2, 3, 7, 8, 9]"
      ]
     },
     "execution_count": 84,
     "metadata": {},
     "output_type": "execute_result"
    }
   ],
   "source": [
    "[1, 2, 3] + [7, 8, 9]"
   ]
  },
  {
   "cell_type": "code",
   "execution_count": 85,
   "id": "65571dca-e79a-4eb8-89e7-2063652aac27",
   "metadata": {},
   "outputs": [
    {
     "data": {
      "text/plain": [
       "<slot wrapper '__add__' of 'list' objects>"
      ]
     },
     "execution_count": 85,
     "metadata": {},
     "output_type": "execute_result"
    }
   ],
   "source": [
    "list.__add__"
   ]
  },
  {
   "cell_type": "code",
   "execution_count": 86,
   "id": "297b0270-3a41-498d-8b91-8687c515e9b1",
   "metadata": {},
   "outputs": [
    {
     "data": {
      "text/plain": [
       "array([[0., 0., 0., 0., 0., 0., 0., 0., 0., 0.],\n",
       "       [0., 0., 0., 0., 0., 0., 0., 0., 0., 0.],\n",
       "       [0., 0., 0., 0., 0., 0., 0., 0., 0., 0.],\n",
       "       [0., 0., 0., 0., 0., 0., 0., 0., 0., 0.],\n",
       "       [0., 0., 0., 0., 0., 0., 0., 0., 0., 0.],\n",
       "       [0., 0., 0., 0., 0., 0., 0., 0., 0., 0.],\n",
       "       [0., 0., 0., 0., 0., 0., 0., 0., 0., 0.],\n",
       "       [0., 0., 0., 0., 0., 0., 0., 0., 0., 0.],\n",
       "       [0., 0., 0., 0., 0., 0., 0., 0., 0., 0.],\n",
       "       [0., 0., 0., 0., 0., 0., 0., 0., 0., 0.]])"
      ]
     },
     "execution_count": 86,
     "metadata": {},
     "output_type": "execute_result"
    }
   ],
   "source": [
    "a1 + a2"
   ]
  },
  {
   "cell_type": "code",
   "execution_count": 88,
   "id": "a0b7d52e-e871-4f36-82dd-3ad36cc61401",
   "metadata": {},
   "outputs": [
    {
     "data": {
      "text/plain": [
       "<slot wrapper '__add__' of 'numpy.ndarray' objects>"
      ]
     },
     "execution_count": 88,
     "metadata": {},
     "output_type": "execute_result"
    }
   ],
   "source": [
    "np.ndarray.__add__"
   ]
  },
  {
   "cell_type": "code",
   "execution_count": 89,
   "id": "937f2f11-b87c-412d-a336-24eb3af91573",
   "metadata": {},
   "outputs": [
    {
     "data": {
      "text/plain": [
       "array([[4., 4., 4., 4., 4., 4., 4., 4., 4., 4.],\n",
       "       [4., 4., 4., 4., 4., 4., 4., 4., 4., 4.],\n",
       "       [4., 4., 4., 4., 4., 4., 4., 4., 4., 4.],\n",
       "       [4., 4., 4., 4., 4., 4., 4., 4., 4., 4.],\n",
       "       [4., 4., 4., 4., 4., 4., 4., 4., 4., 4.],\n",
       "       [4., 4., 4., 4., 4., 4., 4., 4., 4., 4.],\n",
       "       [4., 4., 4., 4., 4., 4., 4., 4., 4., 4.],\n",
       "       [4., 4., 4., 4., 4., 4., 4., 4., 4., 4.],\n",
       "       [4., 4., 4., 4., 4., 4., 4., 4., 4., 4.],\n",
       "       [4., 4., 4., 4., 4., 4., 4., 4., 4., 4.]])"
      ]
     },
     "execution_count": 89,
     "metadata": {},
     "output_type": "execute_result"
    }
   ],
   "source": [
    "a4 = a1 + 4\n",
    "a4"
   ]
  },
  {
   "cell_type": "code",
   "execution_count": 94,
   "id": "2179a669-dc83-4fae-94af-ffa9dac905cd",
   "metadata": {},
   "outputs": [
    {
     "data": {
      "text/plain": [
       "array([[8., 8., 8., 8., 8., 8., 8., 8., 8., 8.],\n",
       "       [8., 8., 8., 8., 8., 8., 8., 8., 8., 8.],\n",
       "       [8., 8., 8., 8., 8., 8., 8., 8., 8., 8.],\n",
       "       [8., 8., 8., 8., 8., 8., 8., 8., 8., 8.],\n",
       "       [8., 8., 8., 8., 8., 8., 8., 8., 8., 8.],\n",
       "       [8., 8., 8., 8., 8., 8., 8., 8., 8., 8.],\n",
       "       [8., 8., 8., 8., 8., 8., 8., 8., 8., 8.],\n",
       "       [8., 8., 8., 8., 8., 8., 8., 8., 8., 8.],\n",
       "       [8., 8., 8., 8., 8., 8., 8., 8., 8., 8.],\n",
       "       [8., 8., 8., 8., 8., 8., 8., 8., 8., 8.]])"
      ]
     },
     "execution_count": 94,
     "metadata": {},
     "output_type": "execute_result"
    }
   ],
   "source": [
    "# method called: __iadd__\n",
    "a4 += 2\n",
    "a4"
   ]
  },
  {
   "cell_type": "code",
   "execution_count": 91,
   "id": "5a52b7f2-5534-4cfa-a23a-55d05bb27b64",
   "metadata": {
    "collapsed": true,
    "jupyter": {
     "outputs_hidden": true
    }
   },
   "outputs": [
    {
     "data": {
      "text/plain": [
       "['T',\n",
       " '__abs__',\n",
       " '__add__',\n",
       " '__and__',\n",
       " '__array__',\n",
       " '__array_finalize__',\n",
       " '__array_function__',\n",
       " '__array_interface__',\n",
       " '__array_prepare__',\n",
       " '__array_priority__',\n",
       " '__array_struct__',\n",
       " '__array_ufunc__',\n",
       " '__array_wrap__',\n",
       " '__bool__',\n",
       " '__buffer__',\n",
       " '__class__',\n",
       " '__class_getitem__',\n",
       " '__complex__',\n",
       " '__contains__',\n",
       " '__copy__',\n",
       " '__deepcopy__',\n",
       " '__delattr__',\n",
       " '__delitem__',\n",
       " '__dir__',\n",
       " '__divmod__',\n",
       " '__dlpack__',\n",
       " '__dlpack_device__',\n",
       " '__doc__',\n",
       " '__eq__',\n",
       " '__float__',\n",
       " '__floordiv__',\n",
       " '__format__',\n",
       " '__ge__',\n",
       " '__getattribute__',\n",
       " '__getitem__',\n",
       " '__getstate__',\n",
       " '__gt__',\n",
       " '__hash__',\n",
       " '__iadd__',\n",
       " '__iand__',\n",
       " '__ifloordiv__',\n",
       " '__ilshift__',\n",
       " '__imatmul__',\n",
       " '__imod__',\n",
       " '__imul__',\n",
       " '__index__',\n",
       " '__init__',\n",
       " '__init_subclass__',\n",
       " '__int__',\n",
       " '__invert__',\n",
       " '__ior__',\n",
       " '__ipow__',\n",
       " '__irshift__',\n",
       " '__isub__',\n",
       " '__iter__',\n",
       " '__itruediv__',\n",
       " '__ixor__',\n",
       " '__le__',\n",
       " '__len__',\n",
       " '__lshift__',\n",
       " '__lt__',\n",
       " '__matmul__',\n",
       " '__mod__',\n",
       " '__mul__',\n",
       " '__ne__',\n",
       " '__neg__',\n",
       " '__new__',\n",
       " '__or__',\n",
       " '__pos__',\n",
       " '__pow__',\n",
       " '__radd__',\n",
       " '__rand__',\n",
       " '__rdivmod__',\n",
       " '__reduce__',\n",
       " '__reduce_ex__',\n",
       " '__repr__',\n",
       " '__rfloordiv__',\n",
       " '__rlshift__',\n",
       " '__rmatmul__',\n",
       " '__rmod__',\n",
       " '__rmul__',\n",
       " '__ror__',\n",
       " '__rpow__',\n",
       " '__rrshift__',\n",
       " '__rshift__',\n",
       " '__rsub__',\n",
       " '__rtruediv__',\n",
       " '__rxor__',\n",
       " '__setattr__',\n",
       " '__setitem__',\n",
       " '__setstate__',\n",
       " '__sizeof__',\n",
       " '__str__',\n",
       " '__sub__',\n",
       " '__subclasshook__',\n",
       " '__truediv__',\n",
       " '__xor__',\n",
       " 'all',\n",
       " 'any',\n",
       " 'argmax',\n",
       " 'argmin',\n",
       " 'argpartition',\n",
       " 'argsort',\n",
       " 'astype',\n",
       " 'base',\n",
       " 'byteswap',\n",
       " 'choose',\n",
       " 'clip',\n",
       " 'compress',\n",
       " 'conj',\n",
       " 'conjugate',\n",
       " 'copy',\n",
       " 'ctypes',\n",
       " 'cumprod',\n",
       " 'cumsum',\n",
       " 'data',\n",
       " 'diagonal',\n",
       " 'dot',\n",
       " 'dtype',\n",
       " 'dump',\n",
       " 'dumps',\n",
       " 'fill',\n",
       " 'flags',\n",
       " 'flat',\n",
       " 'flatten',\n",
       " 'getfield',\n",
       " 'imag',\n",
       " 'item',\n",
       " 'itemset',\n",
       " 'itemsize',\n",
       " 'max',\n",
       " 'mean',\n",
       " 'min',\n",
       " 'nbytes',\n",
       " 'ndim',\n",
       " 'newbyteorder',\n",
       " 'nonzero',\n",
       " 'partition',\n",
       " 'prod',\n",
       " 'ptp',\n",
       " 'put',\n",
       " 'ravel',\n",
       " 'real',\n",
       " 'repeat',\n",
       " 'reshape',\n",
       " 'resize',\n",
       " 'round',\n",
       " 'searchsorted',\n",
       " 'setfield',\n",
       " 'setflags',\n",
       " 'shape',\n",
       " 'size',\n",
       " 'sort',\n",
       " 'squeeze',\n",
       " 'std',\n",
       " 'strides',\n",
       " 'sum',\n",
       " 'swapaxes',\n",
       " 'take',\n",
       " 'tobytes',\n",
       " 'tofile',\n",
       " 'tolist',\n",
       " 'tostring',\n",
       " 'trace',\n",
       " 'transpose',\n",
       " 'var',\n",
       " 'view']"
      ]
     },
     "execution_count": 91,
     "metadata": {},
     "output_type": "execute_result"
    }
   ],
   "source": [
    "dir(a4)"
   ]
  },
  {
   "cell_type": "code",
   "execution_count": 92,
   "id": "7f709fae-2944-41fb-948b-7b4955cfc8fa",
   "metadata": {
    "collapsed": true,
    "jupyter": {
     "outputs_hidden": true
    }
   },
   "outputs": [
    {
     "data": {
      "text/plain": [
       "['T',\n",
       " '__abs__',\n",
       " '__add__',\n",
       " '__and__',\n",
       " '__array__',\n",
       " '__array_finalize__',\n",
       " '__array_function__',\n",
       " '__array_interface__',\n",
       " '__array_prepare__',\n",
       " '__array_priority__',\n",
       " '__array_struct__',\n",
       " '__array_ufunc__',\n",
       " '__array_wrap__',\n",
       " '__bool__',\n",
       " '__buffer__',\n",
       " '__class__',\n",
       " '__class_getitem__',\n",
       " '__complex__',\n",
       " '__contains__',\n",
       " '__copy__',\n",
       " '__deepcopy__',\n",
       " '__delattr__',\n",
       " '__delitem__',\n",
       " '__dir__',\n",
       " '__divmod__',\n",
       " '__dlpack__',\n",
       " '__dlpack_device__',\n",
       " '__doc__',\n",
       " '__eq__',\n",
       " '__float__',\n",
       " '__floordiv__',\n",
       " '__format__',\n",
       " '__ge__',\n",
       " '__getattribute__',\n",
       " '__getitem__',\n",
       " '__getstate__',\n",
       " '__gt__',\n",
       " '__hash__',\n",
       " '__iadd__',\n",
       " '__iand__',\n",
       " '__ifloordiv__',\n",
       " '__ilshift__',\n",
       " '__imatmul__',\n",
       " '__imod__',\n",
       " '__imul__',\n",
       " '__index__',\n",
       " '__init__',\n",
       " '__init_subclass__',\n",
       " '__int__',\n",
       " '__invert__',\n",
       " '__ior__',\n",
       " '__ipow__',\n",
       " '__irshift__',\n",
       " '__isub__',\n",
       " '__iter__',\n",
       " '__itruediv__',\n",
       " '__ixor__',\n",
       " '__le__',\n",
       " '__len__',\n",
       " '__lshift__',\n",
       " '__lt__',\n",
       " '__matmul__',\n",
       " '__mod__',\n",
       " '__mul__',\n",
       " '__ne__',\n",
       " '__neg__',\n",
       " '__new__',\n",
       " '__or__',\n",
       " '__pos__',\n",
       " '__pow__',\n",
       " '__radd__',\n",
       " '__rand__',\n",
       " '__rdivmod__',\n",
       " '__reduce__',\n",
       " '__reduce_ex__',\n",
       " '__repr__',\n",
       " '__rfloordiv__',\n",
       " '__rlshift__',\n",
       " '__rmatmul__',\n",
       " '__rmod__',\n",
       " '__rmul__',\n",
       " '__ror__',\n",
       " '__rpow__',\n",
       " '__rrshift__',\n",
       " '__rshift__',\n",
       " '__rsub__',\n",
       " '__rtruediv__',\n",
       " '__rxor__',\n",
       " '__setattr__',\n",
       " '__setitem__',\n",
       " '__setstate__',\n",
       " '__sizeof__',\n",
       " '__str__',\n",
       " '__sub__',\n",
       " '__subclasshook__',\n",
       " '__truediv__',\n",
       " '__xor__',\n",
       " 'all',\n",
       " 'any',\n",
       " 'argmax',\n",
       " 'argmin',\n",
       " 'argpartition',\n",
       " 'argsort',\n",
       " 'astype',\n",
       " 'base',\n",
       " 'byteswap',\n",
       " 'choose',\n",
       " 'clip',\n",
       " 'compress',\n",
       " 'conj',\n",
       " 'conjugate',\n",
       " 'copy',\n",
       " 'ctypes',\n",
       " 'cumprod',\n",
       " 'cumsum',\n",
       " 'data',\n",
       " 'diagonal',\n",
       " 'dot',\n",
       " 'dtype',\n",
       " 'dump',\n",
       " 'dumps',\n",
       " 'fill',\n",
       " 'flags',\n",
       " 'flat',\n",
       " 'flatten',\n",
       " 'getfield',\n",
       " 'imag',\n",
       " 'item',\n",
       " 'itemset',\n",
       " 'itemsize',\n",
       " 'max',\n",
       " 'mean',\n",
       " 'min',\n",
       " 'nbytes',\n",
       " 'ndim',\n",
       " 'newbyteorder',\n",
       " 'nonzero',\n",
       " 'partition',\n",
       " 'prod',\n",
       " 'ptp',\n",
       " 'put',\n",
       " 'ravel',\n",
       " 'real',\n",
       " 'repeat',\n",
       " 'reshape',\n",
       " 'resize',\n",
       " 'round',\n",
       " 'searchsorted',\n",
       " 'setfield',\n",
       " 'setflags',\n",
       " 'shape',\n",
       " 'size',\n",
       " 'sort',\n",
       " 'squeeze',\n",
       " 'std',\n",
       " 'strides',\n",
       " 'sum',\n",
       " 'swapaxes',\n",
       " 'take',\n",
       " 'tobytes',\n",
       " 'tofile',\n",
       " 'tolist',\n",
       " 'tostring',\n",
       " 'trace',\n",
       " 'transpose',\n",
       " 'var',\n",
       " 'view']"
      ]
     },
     "execution_count": 92,
     "metadata": {},
     "output_type": "execute_result"
    }
   ],
   "source": [
    "dir(np.ndarray)"
   ]
  },
  {
   "cell_type": "code",
   "execution_count": 93,
   "id": "fbc9c441-ae47-4b9a-9545-f7dec45e814d",
   "metadata": {},
   "outputs": [
    {
     "data": {
      "text/plain": [
       "['__add__', '__iadd__', '__radd__']"
      ]
     },
     "execution_count": 93,
     "metadata": {},
     "output_type": "execute_result"
    }
   ],
   "source": [
    "[ m for m in dir(a4) if 'add' in m ]"
   ]
  },
  {
   "cell_type": "code",
   "execution_count": 97,
   "id": "fc068ef4-9e32-4e29-94bb-c6522cc732a8",
   "metadata": {},
   "outputs": [
    {
     "data": {
      "text/plain": [
       "['__add__']"
      ]
     },
     "execution_count": 97,
     "metadata": {},
     "output_type": "execute_result"
    }
   ],
   "source": [
    "city = \"Pau\"\n",
    "[ m for m in dir(city) if 'add' in m ]"
   ]
  },
  {
   "cell_type": "code",
   "execution_count": 99,
   "id": "c8dd8897-3766-41b9-b843-0e2cc8355f3b",
   "metadata": {},
   "outputs": [
    {
     "data": {
      "text/plain": [
       "'Pau, city of king Henri IV, city of king Henri IV'"
      ]
     },
     "execution_count": 99,
     "metadata": {},
     "output_type": "execute_result"
    }
   ],
   "source": [
    "# when __iadd__ is not available, __add__ is called (new object)\n",
    "# city = city.__add__(\", city of king Henri IV\")\n",
    "city += \", city of king Henri IV\"\n",
    "city"
   ]
  },
  {
   "cell_type": "code",
   "execution_count": 100,
   "id": "13fad134-f21c-4591-b61a-deb2dab8fa4d",
   "metadata": {
    "collapsed": true,
    "jupyter": {
     "outputs_hidden": true
    }
   },
   "outputs": [
    {
     "data": {
      "text/plain": [
       "['__abs__',\n",
       " '__add__',\n",
       " '__and__',\n",
       " '__array__',\n",
       " '__array_finalize__',\n",
       " '__array_function__',\n",
       " '__array_interface__',\n",
       " '__array_prepare__',\n",
       " '__array_priority__',\n",
       " '__array_struct__',\n",
       " '__array_ufunc__',\n",
       " '__array_wrap__',\n",
       " '__bool__',\n",
       " '__buffer__',\n",
       " '__class__',\n",
       " '__class_getitem__',\n",
       " '__complex__',\n",
       " '__contains__',\n",
       " '__copy__',\n",
       " '__deepcopy__',\n",
       " '__delattr__',\n",
       " '__delitem__',\n",
       " '__dir__',\n",
       " '__divmod__',\n",
       " '__dlpack__',\n",
       " '__dlpack_device__',\n",
       " '__doc__',\n",
       " '__eq__',\n",
       " '__float__',\n",
       " '__floordiv__',\n",
       " '__format__',\n",
       " '__ge__',\n",
       " '__getattribute__',\n",
       " '__getitem__',\n",
       " '__getstate__',\n",
       " '__gt__',\n",
       " '__hash__',\n",
       " '__iadd__',\n",
       " '__iand__',\n",
       " '__ifloordiv__',\n",
       " '__ilshift__',\n",
       " '__imatmul__',\n",
       " '__imod__',\n",
       " '__imul__',\n",
       " '__index__',\n",
       " '__init__',\n",
       " '__init_subclass__',\n",
       " '__int__',\n",
       " '__invert__',\n",
       " '__ior__',\n",
       " '__ipow__',\n",
       " '__irshift__',\n",
       " '__isub__',\n",
       " '__iter__',\n",
       " '__itruediv__',\n",
       " '__ixor__',\n",
       " '__le__',\n",
       " '__len__',\n",
       " '__lshift__',\n",
       " '__lt__',\n",
       " '__matmul__',\n",
       " '__mod__',\n",
       " '__mul__',\n",
       " '__ne__',\n",
       " '__neg__',\n",
       " '__new__',\n",
       " '__or__',\n",
       " '__pos__',\n",
       " '__pow__',\n",
       " '__radd__',\n",
       " '__rand__',\n",
       " '__rdivmod__',\n",
       " '__reduce__',\n",
       " '__reduce_ex__',\n",
       " '__repr__',\n",
       " '__rfloordiv__',\n",
       " '__rlshift__',\n",
       " '__rmatmul__',\n",
       " '__rmod__',\n",
       " '__rmul__',\n",
       " '__ror__',\n",
       " '__rpow__',\n",
       " '__rrshift__',\n",
       " '__rshift__',\n",
       " '__rsub__',\n",
       " '__rtruediv__',\n",
       " '__rxor__',\n",
       " '__setattr__',\n",
       " '__setitem__',\n",
       " '__setstate__',\n",
       " '__sizeof__',\n",
       " '__str__',\n",
       " '__sub__',\n",
       " '__subclasshook__',\n",
       " '__truediv__',\n",
       " '__xor__']"
      ]
     },
     "execution_count": 100,
     "metadata": {},
     "output_type": "execute_result"
    }
   ],
   "source": [
    "[ m for m in dir(a4) if m.startswith('__') ]"
   ]
  },
  {
   "cell_type": "code",
   "execution_count": null,
   "id": "1c7e9592-97ca-44ce-9a4d-e0a665f9aa13",
   "metadata": {},
   "outputs": [],
   "source": [
    "# '__abs__' => builtin function abs\n",
    "#  '__add__' => operator + on left operand\n",
    "#  '__and__' => operator &\n",
    "#  '__array__',\n",
    "#  '__array_finalize__',\n",
    "#  '__array_function__',\n",
    "#  '__array_interface__',\n",
    "#  '__array_prepare__',\n",
    "#  '__array_priority__',\n",
    "#  '__array_struct__',\n",
    "#  '__array_ufunc__',\n",
    "#  '__array_wrap__',\n",
    "#  '__bool__',\n",
    "#  '__buffer__',\n",
    "#  '__class__',\n",
    "#  '__class_getitem__',\n",
    "#  '__complex__',\n",
    "#  '__contains__',\n",
    "#  '__copy__',\n",
    "#  '__deepcopy__',\n",
    "#  '__delattr__',\n",
    "#  '__delitem__',\n",
    "#  '__dir__',\n",
    "#  '__divmod__' => builtin function divmod()\n",
    "#  '__dlpack__',\n",
    "#  '__dlpack_device__',\n",
    "#  '__doc__',\n",
    "#  '__eq__' => operator ==\n",
    "#  '__float__',\n",
    "#  '__floordiv__' => operator // on left operand\n",
    "#  '__format__',\n",
    "#  '__ge__' => operator >= (greater or equal)\n",
    "#  '__getattribute__',\n",
    "#  '__getitem__',\n",
    "#  '__getstate__',\n",
    "#  '__gt__' => operator >= (greater)\n",
    "#  '__hash__',\n",
    "#  '__iadd__' => operator +=\n",
    "#  '__iand__',\n",
    "#  '__ifloordiv__',\n",
    "#  '__ilshift__',\n",
    "#  '__imatmul__',\n",
    "#  '__imod__',\n",
    "#  '__imul__',\n",
    "#  '__index__',\n",
    "#  '__init__',\n",
    "#  '__init_subclass__',\n",
    "#  '__int__',\n",
    "#  '__invert__',\n",
    "#  '__ior__',\n",
    "#  '__ipow__',\n",
    "#  '__irshift__',\n",
    "#  '__isub__',\n",
    "#  '__iter__',\n",
    "#  '__itruediv__',\n",
    "#  '__ixor__',\n",
    "#  '__le__' => operator <= (less or equal)\n",
    "#  '__len__' => builtin function len()\n",
    "#  '__lshift__',\n",
    "#  '__lt__' => operator < (less than)\n",
    "#  '__matmul__',\n",
    "#  '__mod__' => operator % on left operand\n",
    "#  '__mul__' => operator * on left operand\n",
    "#  '__ne__' => operator != (not equals)\n",
    "#  '__neg__',\n",
    "#  '__new__',\n",
    "#  '__or__',\n",
    "#  '__pos__',\n",
    "#  '__pow__' => operator ?? on left operand\n",
    "#  '__radd__' => operator + on right operand\n",
    "#  '__rand__',\n",
    "#  '__rdivmod__' => builtin function divmod on right operand\n",
    "#  '__reduce__',\n",
    "#  '__reduce_ex__',\n",
    "#  '__repr__',\n",
    "#  '__rfloordiv__' => operator // on right operand\n",
    "#  '__rlshift__',\n",
    "#  '__rmatmul__',\n",
    "#  '__rmod__',\n",
    "#  '__rmul__' => operator * on right operand\n",
    "#  '__ror__',\n",
    "#  '__rpow__',\n",
    "#  '__rrshift__',\n",
    "#  '__rshift__',\n",
    "#  '__rsub__' => operator - on right operand\n",
    "#  '__rtruediv__' => operator / on right operand\n",
    "#  '__rxor__',\n",
    "#  '__setattr__',\n",
    "#  '__setitem__',\n",
    "#  '__setstate__',\n",
    "#  '__sizeof__',\n",
    "#  '__str__',\n",
    "#  '__sub__' => operator - on left operand\n",
    "#  '__subclasshook__',\n",
    "#  '__truediv__' => operator / on left operand\n",
    "#  '__xor__']"
   ]
  },
  {
   "cell_type": "code",
   "execution_count": 103,
   "id": "2895ca73-939d-4107-bae4-8a51734d797b",
   "metadata": {
    "collapsed": true,
    "jupyter": {
     "outputs_hidden": true
    }
   },
   "outputs": [
    {
     "name": "stdout",
     "output_type": "stream",
     "text": [
      "8.4\n",
      "\n",
      "8.4\n",
      "\n",
      "[[12. 12. 12. 12. 12. 12. 12. 12. 12. 12.]\n",
      " [12. 12. 12. 12. 12. 12. 12. 12. 12. 12.]\n",
      " [12. 12. 12. 12. 12. 12. 12. 12. 12. 12.]\n",
      " [12. 12. 12. 12. 12. 12. 12. 12. 12. 12.]\n",
      " [12. 12. 12. 12. 12. 12. 12. 12. 12. 12.]\n",
      " [12. 12. 12. 12. 12. 12. 12. 12. 12. 12.]\n",
      " [12. 12. 12. 12. 12. 12. 12. 12. 12. 12.]\n",
      " [12. 12. 12. 12. 12. 12. 12. 12. 12. 12.]\n",
      " [12. 12. 12. 12. 12. 12. 12. 12. 12. 12.]\n",
      " [12. 12. 12. 12. 12. 12. 12. 12. 12. 12.]]\n",
      "\n",
      "[[12. 12. 12. 12. 12. 12. 12. 12. 12. 12.]\n",
      " [12. 12. 12. 12. 12. 12. 12. 12. 12. 12.]\n",
      " [12. 12. 12. 12. 12. 12. 12. 12. 12. 12.]\n",
      " [12. 12. 12. 12. 12. 12. 12. 12. 12. 12.]\n",
      " [12. 12. 12. 12. 12. 12. 12. 12. 12. 12.]\n",
      " [12. 12. 12. 12. 12. 12. 12. 12. 12. 12.]\n",
      " [12. 12. 12. 12. 12. 12. 12. 12. 12. 12.]\n",
      " [12. 12. 12. 12. 12. 12. 12. 12. 12. 12.]\n",
      " [12. 12. 12. 12. 12. 12. 12. 12. 12. 12.]\n",
      " [12. 12. 12. 12. 12. 12. 12. 12. 12. 12.]]\n"
     ]
    }
   ],
   "source": [
    "print(4.4 + 4) # method float.__add__ : OK\n",
    "print()\n",
    "print(4 + 4.4) # method int.__add__ : NotImplemented => float.__radd__\n",
    "print()\n",
    "print(a4 + 4) # method ndarray.__add__: OK\n",
    "print()\n",
    "print(4 + a4) # # method int.__add__ : NotImplemented => ndarray.__radd__"
   ]
  },
  {
   "cell_type": "code",
   "execution_count": 105,
   "id": "29d1ef46-c29e-41db-8bd2-37849d6574aa",
   "metadata": {},
   "outputs": [
    {
     "data": {
      "text/plain": [
       "NotImplemented"
      ]
     },
     "execution_count": 105,
     "metadata": {},
     "output_type": "execute_result"
    }
   ],
   "source": [
    "x = 4\n",
    "x.__add__(4.4)"
   ]
  },
  {
   "cell_type": "code",
   "execution_count": 106,
   "id": "b26b0cde-6996-4728-a4c2-3bffe91ca101",
   "metadata": {},
   "outputs": [
    {
     "data": {
      "text/plain": [
       "NotImplemented"
      ]
     },
     "execution_count": 106,
     "metadata": {},
     "output_type": "execute_result"
    }
   ],
   "source": [
    "x.__add__(a4)"
   ]
  },
  {
   "cell_type": "code",
   "execution_count": 111,
   "id": "dc4862a6-2c34-4d4b-82b8-34ae057fa403",
   "metadata": {},
   "outputs": [
    {
     "data": {
      "text/plain": [
       "(array([[4., 4., 4., 4., 4., 4., 4., 4., 4., 4.],\n",
       "        [4., 4., 4., 4., 4., 4., 4., 4., 4., 4.],\n",
       "        [4., 4., 4., 4., 4., 4., 4., 4., 4., 4.],\n",
       "        [4., 4., 4., 4., 4., 4., 4., 4., 4., 4.],\n",
       "        [4., 4., 4., 4., 4., 4., 4., 4., 4., 4.],\n",
       "        [4., 4., 4., 4., 4., 4., 4., 4., 4., 4.],\n",
       "        [4., 4., 4., 4., 4., 4., 4., 4., 4., 4.],\n",
       "        [4., 4., 4., 4., 4., 4., 4., 4., 4., 4.],\n",
       "        [4., 4., 4., 4., 4., 4., 4., 4., 4., 4.],\n",
       "        [4., 4., 4., 4., 4., 4., 4., 4., 4., 4.]]),\n",
       " array([[1., 1., 1., 1., 1., 1., 1., 1., 1., 1.],\n",
       "        [1., 1., 1., 1., 1., 1., 1., 1., 1., 1.],\n",
       "        [1., 1., 1., 1., 1., 1., 1., 1., 1., 1.],\n",
       "        [1., 1., 1., 1., 1., 1., 1., 1., 1., 1.],\n",
       "        [1., 1., 1., 1., 1., 1., 1., 1., 1., 1.],\n",
       "        [1., 1., 1., 1., 1., 1., 1., 1., 1., 1.],\n",
       "        [1., 1., 1., 1., 1., 1., 1., 1., 1., 1.],\n",
       "        [1., 1., 1., 1., 1., 1., 1., 1., 1., 1.],\n",
       "        [1., 1., 1., 1., 1., 1., 1., 1., 1., 1.],\n",
       "        [1., 1., 1., 1., 1., 1., 1., 1., 1., 1.]]))"
      ]
     },
     "execution_count": 111,
     "metadata": {},
     "output_type": "execute_result"
    }
   ],
   "source": [
    "divmod(a4+1, 2)"
   ]
  },
  {
   "cell_type": "code",
   "execution_count": 112,
   "id": "75f13db8-46dd-4a16-aee0-64494dce03c5",
   "metadata": {},
   "outputs": [
    {
     "data": {
      "text/plain": [
       "array([[ True,  True,  True,  True,  True,  True,  True,  True,  True,\n",
       "         True],\n",
       "       [ True,  True,  True,  True,  True,  True,  True,  True,  True,\n",
       "         True],\n",
       "       [ True,  True,  True,  True,  True,  True,  True,  True,  True,\n",
       "         True],\n",
       "       [ True,  True,  True,  True,  True,  True,  True,  True,  True,\n",
       "         True],\n",
       "       [ True,  True,  True,  True,  True,  True,  True,  True,  True,\n",
       "         True],\n",
       "       [ True,  True,  True,  True,  True,  True,  True,  True,  True,\n",
       "         True],\n",
       "       [ True,  True,  True,  True,  True,  True,  True,  True,  True,\n",
       "         True],\n",
       "       [ True,  True,  True,  True,  True,  True,  True,  True,  True,\n",
       "         True],\n",
       "       [ True,  True,  True,  True,  True,  True,  True,  True,  True,\n",
       "         True],\n",
       "       [ True,  True,  True,  True,  True,  True,  True,  True,  True,\n",
       "         True]])"
      ]
     },
     "execution_count": 112,
     "metadata": {},
     "output_type": "execute_result"
    }
   ],
   "source": [
    "a4 > 2"
   ]
  },
  {
   "cell_type": "code",
   "execution_count": 113,
   "id": "93a41129-768c-413a-9e6c-61f9e9292ec2",
   "metadata": {},
   "outputs": [
    {
     "data": {
      "text/plain": [
       "array([[2., 8., 8., 8., 8., 8., 8., 8., 8., 8.],\n",
       "       [8., 8., 8., 8., 8., 8., 8., 8., 8., 8.],\n",
       "       [8., 8., 8., 8., 8., 8., 8., 8., 8., 8.],\n",
       "       [8., 8., 8., 8., 8., 8., 8., 8., 8., 8.],\n",
       "       [8., 8., 8., 8., 8., 8., 8., 8., 8., 8.],\n",
       "       [8., 8., 8., 8., 8., 8., 8., 8., 8., 8.],\n",
       "       [8., 8., 8., 8., 8., 8., 8., 8., 8., 8.],\n",
       "       [8., 8., 8., 8., 8., 8., 8., 8., 8., 8.],\n",
       "       [8., 8., 8., 8., 8., 8., 8., 8., 8., 8.],\n",
       "       [8., 8., 8., 8., 8., 8., 8., 8., 8., 8.]])"
      ]
     },
     "execution_count": 113,
     "metadata": {},
     "output_type": "execute_result"
    }
   ],
   "source": [
    "a4[0,0] = 2.0\n",
    "a4"
   ]
  },
  {
   "cell_type": "code",
   "execution_count": 114,
   "id": "ed2a5e2d-e9e1-4d89-936f-6f1d32575c98",
   "metadata": {},
   "outputs": [
    {
     "data": {
      "text/plain": [
       "array([[ True, False, False, False, False, False, False, False, False,\n",
       "        False],\n",
       "       [False, False, False, False, False, False, False, False, False,\n",
       "        False],\n",
       "       [False, False, False, False, False, False, False, False, False,\n",
       "        False],\n",
       "       [False, False, False, False, False, False, False, False, False,\n",
       "        False],\n",
       "       [False, False, False, False, False, False, False, False, False,\n",
       "        False],\n",
       "       [False, False, False, False, False, False, False, False, False,\n",
       "        False],\n",
       "       [False, False, False, False, False, False, False, False, False,\n",
       "        False],\n",
       "       [False, False, False, False, False, False, False, False, False,\n",
       "        False],\n",
       "       [False, False, False, False, False, False, False, False, False,\n",
       "        False],\n",
       "       [False, False, False, False, False, False, False, False, False,\n",
       "        False]])"
      ]
     },
     "execution_count": 114,
     "metadata": {},
     "output_type": "execute_result"
    }
   ],
   "source": [
    "a4 == 2.0"
   ]
  },
  {
   "cell_type": "code",
   "execution_count": 115,
   "id": "a830fafa-a5e9-453f-b7a3-e1dc94d99bf9",
   "metadata": {},
   "outputs": [
    {
     "data": {
      "text/plain": [
       "array([[ 4., 64., 64., 64., 64., 64., 64., 64., 64., 64.],\n",
       "       [64., 64., 64., 64., 64., 64., 64., 64., 64., 64.],\n",
       "       [64., 64., 64., 64., 64., 64., 64., 64., 64., 64.],\n",
       "       [64., 64., 64., 64., 64., 64., 64., 64., 64., 64.],\n",
       "       [64., 64., 64., 64., 64., 64., 64., 64., 64., 64.],\n",
       "       [64., 64., 64., 64., 64., 64., 64., 64., 64., 64.],\n",
       "       [64., 64., 64., 64., 64., 64., 64., 64., 64., 64.],\n",
       "       [64., 64., 64., 64., 64., 64., 64., 64., 64., 64.],\n",
       "       [64., 64., 64., 64., 64., 64., 64., 64., 64., 64.],\n",
       "       [64., 64., 64., 64., 64., 64., 64., 64., 64., 64.]])"
      ]
     },
     "execution_count": 115,
     "metadata": {},
     "output_type": "execute_result"
    }
   ],
   "source": [
    "a5 = a4**2\n",
    "a5"
   ]
  },
  {
   "cell_type": "code",
   "execution_count": 118,
   "id": "db33a87c-2eaf-45b6-90f7-67ac9f8825f0",
   "metadata": {},
   "outputs": [],
   "source": [
    "# ndarray 'and' raises exception\n",
    "# ValueError: The truth value of an array with more than one element is ambiguous. Use a.any() or a.all()\n",
    "# (a5 > 2) and (a4 < 100)"
   ]
  },
  {
   "cell_type": "code",
   "execution_count": 119,
   "id": "0e0cf2ef-1307-4420-ba1a-e9ebb044aace",
   "metadata": {},
   "outputs": [
    {
     "data": {
      "text/plain": [
       "array([[ True,  True,  True,  True,  True,  True,  True,  True,  True,\n",
       "         True],\n",
       "       [ True,  True,  True,  True,  True,  True,  True,  True,  True,\n",
       "         True],\n",
       "       [ True,  True,  True,  True,  True,  True,  True,  True,  True,\n",
       "         True],\n",
       "       [ True,  True,  True,  True,  True,  True,  True,  True,  True,\n",
       "         True],\n",
       "       [ True,  True,  True,  True,  True,  True,  True,  True,  True,\n",
       "         True],\n",
       "       [ True,  True,  True,  True,  True,  True,  True,  True,  True,\n",
       "         True],\n",
       "       [ True,  True,  True,  True,  True,  True,  True,  True,  True,\n",
       "         True],\n",
       "       [ True,  True,  True,  True,  True,  True,  True,  True,  True,\n",
       "         True],\n",
       "       [ True,  True,  True,  True,  True,  True,  True,  True,  True,\n",
       "         True],\n",
       "       [ True,  True,  True,  True,  True,  True,  True,  True,  True,\n",
       "         True]])"
      ]
     },
     "execution_count": 119,
     "metadata": {},
     "output_type": "execute_result"
    }
   ],
   "source": [
    "# and bitwise (numpy => elementwise)\n",
    "(a5 > 2) & (a4 < 100)"
   ]
  },
  {
   "cell_type": "code",
   "execution_count": 120,
   "id": "7ab1259c-8f1c-4e2f-b111-aed0b4e603e1",
   "metadata": {},
   "outputs": [
    {
     "name": "stdout",
     "output_type": "stream",
     "text": [
      "[[2. 8. 8. 8. 8. 8. 8. 8. 8. 8.]\n",
      " [8. 8. 8. 8. 8. 8. 8. 8. 8. 8.]\n",
      " [8. 8. 8. 8. 8. 8. 8. 8. 8. 8.]\n",
      " [8. 8. 8. 8. 8. 8. 8. 8. 8. 8.]\n",
      " [8. 8. 8. 8. 8. 8. 8. 8. 8. 8.]\n",
      " [8. 8. 8. 8. 8. 8. 8. 8. 8. 8.]\n",
      " [8. 8. 8. 8. 8. 8. 8. 8. 8. 8.]\n",
      " [8. 8. 8. 8. 8. 8. 8. 8. 8. 8.]\n",
      " [8. 8. 8. 8. 8. 8. 8. 8. 8. 8.]\n",
      " [8. 8. 8. 8. 8. 8. 8. 8. 8. 8.]]\n"
     ]
    }
   ],
   "source": [
    "# use str conversion => __str__\n",
    "print(a4)"
   ]
  },
  {
   "cell_type": "code",
   "execution_count": 121,
   "id": "669032be-71fe-415f-8eb9-d230163074ba",
   "metadata": {},
   "outputs": [
    {
     "data": {
      "text/plain": [
       "array([[2., 8., 8., 8., 8., 8., 8., 8., 8., 8.],\n",
       "       [8., 8., 8., 8., 8., 8., 8., 8., 8., 8.],\n",
       "       [8., 8., 8., 8., 8., 8., 8., 8., 8., 8.],\n",
       "       [8., 8., 8., 8., 8., 8., 8., 8., 8., 8.],\n",
       "       [8., 8., 8., 8., 8., 8., 8., 8., 8., 8.],\n",
       "       [8., 8., 8., 8., 8., 8., 8., 8., 8., 8.],\n",
       "       [8., 8., 8., 8., 8., 8., 8., 8., 8., 8.],\n",
       "       [8., 8., 8., 8., 8., 8., 8., 8., 8., 8.],\n",
       "       [8., 8., 8., 8., 8., 8., 8., 8., 8., 8.],\n",
       "       [8., 8., 8., 8., 8., 8., 8., 8., 8., 8.]])"
      ]
     },
     "execution_count": 121,
     "metadata": {},
     "output_type": "execute_result"
    }
   ],
   "source": [
    "# use repr conversion => __repr__\n",
    "a4"
   ]
  },
  {
   "cell_type": "code",
   "execution_count": 123,
   "id": "59aaf572-9b7e-4e94-839c-6d6bc942999b",
   "metadata": {},
   "outputs": [
    {
     "name": "stdout",
     "output_type": "stream",
     "text": [
      "2024-02-29\n"
     ]
    },
    {
     "data": {
      "text/plain": [
       "datetime.date(2024, 2, 29)"
      ]
     },
     "execution_count": 123,
     "metadata": {},
     "output_type": "execute_result"
    }
   ],
   "source": [
    "# date.__str__ => ISO format\n",
    "print(d)\n",
    "# date.__repr__ => type + attribute \n",
    "d"
   ]
  }
 ],
 "metadata": {
  "kernelspec": {
   "display_name": "k312",
   "language": "python",
   "name": "k312"
  },
  "language_info": {
   "codemirror_mode": {
    "name": "ipython",
    "version": 3
   },
   "file_extension": ".py",
   "mimetype": "text/x-python",
   "name": "python",
   "nbconvert_exporter": "python",
   "pygments_lexer": "ipython3",
   "version": "3.12.0"
  }
 },
 "nbformat": 4,
 "nbformat_minor": 5
}
