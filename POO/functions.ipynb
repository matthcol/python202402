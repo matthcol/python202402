{
 "cells": [
  {
   "cell_type": "markdown",
   "id": "e037699a-09f8-400e-9d59-3590980258a4",
   "metadata": {},
   "source": [
    "# Functions"
   ]
  },
  {
   "cell_type": "code",
   "execution_count": 54,
   "id": "371d207c-d654-4702-9097-cc3076dc9e83",
   "metadata": {},
   "outputs": [],
   "source": [
    "import pandas as pd\n",
    "import matplotlib.pyplot as plt\n",
    "import numpy as np\n",
    "import sys"
   ]
  },
  {
   "cell_type": "code",
   "execution_count": 1,
   "id": "26e2a4d0-f390-4b23-b722-39e944614e6b",
   "metadata": {},
   "outputs": [],
   "source": [
    "# function with 3 mandatory arguments\n",
    "def f(a,b,c):\n",
    "    return a + b + c"
   ]
  },
  {
   "cell_type": "code",
   "execution_count": 13,
   "id": "9f237c8e-b8e5-41ab-82f6-93b8b1baf8e8",
   "metadata": {},
   "outputs": [],
   "source": [
    "# TypeError: f() missing 1 required positional argument: 'c'\n",
    "# f(1,2)\n",
    "\n",
    "# TypeError: f() takes 3 positional arguments but 4 were given\n",
    "# f(1,2,3,4)\n",
    "\n",
    "# SyntaxError: positional argument follows keyword argument\n",
    "# f(c=3, b=2, 1)\n",
    "\n",
    "# TypeError: f() got multiple values for argument 'b'\n",
    "# f(1, 2, c=3, b=4)"
   ]
  },
  {
   "cell_type": "code",
   "execution_count": 6,
   "id": "af26f253-2a4b-4920-9cfe-198ae620c1f8",
   "metadata": {},
   "outputs": [
    {
     "data": {
      "text/plain": [
       "6"
      ]
     },
     "execution_count": 6,
     "metadata": {},
     "output_type": "execute_result"
    }
   ],
   "source": [
    "# call f with args given by position\n",
    "f(1,2,3)"
   ]
  },
  {
   "cell_type": "code",
   "execution_count": 8,
   "id": "4b0b34a0-539b-44e0-9e9b-ce8c99862d2f",
   "metadata": {},
   "outputs": [
    {
     "data": {
      "text/plain": [
       "(6, 6)"
      ]
     },
     "execution_count": 8,
     "metadata": {},
     "output_type": "execute_result"
    }
   ],
   "source": [
    "#call f with args by keyword\n",
    "r1 = f(a=1, b=2, c=3)\n",
    "r2 = f(b=2, c=3, a=1)\n",
    "r1, r2"
   ]
  },
  {
   "cell_type": "code",
   "execution_count": 9,
   "id": "9000dae0-082e-484e-90a7-c0c379cde752",
   "metadata": {},
   "outputs": [
    {
     "data": {
      "text/plain": [
       "6"
      ]
     },
     "execution_count": 9,
     "metadata": {},
     "output_type": "execute_result"
    }
   ],
   "source": [
    "# call with mixed mode: position + keyword\n",
    "f(1, c=3, b=2)"
   ]
  },
  {
   "cell_type": "code",
   "execution_count": 18,
   "id": "d85a3948-f615-47c4-86f3-c32b570daeea",
   "metadata": {},
   "outputs": [
    {
     "data": {
      "text/plain": [
       "(8, 8)"
      ]
     },
     "execution_count": 18,
     "metadata": {},
     "output_type": "execute_result"
    }
   ],
   "source": [
    "# optional arg\n",
    "r3 = sum([1,2,3], 2)\n",
    "r4 = sum([1,2,3], start=2) # better\n",
    "r3, r4"
   ]
  },
  {
   "cell_type": "code",
   "execution_count": 23,
   "id": "75e8e12b-20a6-4262-8e6d-0034449a026d",
   "metadata": {},
   "outputs": [
    {
     "data": {
      "text/html": [
       "<div>\n",
       "<style scoped>\n",
       "    .dataframe tbody tr th:only-of-type {\n",
       "        vertical-align: middle;\n",
       "    }\n",
       "\n",
       "    .dataframe tbody tr th {\n",
       "        vertical-align: top;\n",
       "    }\n",
       "\n",
       "    .dataframe thead th {\n",
       "        text-align: right;\n",
       "    }\n",
       "</style>\n",
       "<table border=\"1\" class=\"dataframe\">\n",
       "  <thead>\n",
       "    <tr style=\"text-align: right;\">\n",
       "      <th></th>\n",
       "      <th>insee_code</th>\n",
       "      <th>city_code</th>\n",
       "      <th>zip_code</th>\n",
       "      <th>label</th>\n",
       "      <th>latitude</th>\n",
       "      <th>longitude</th>\n",
       "      <th>department_name</th>\n",
       "      <th>department_number</th>\n",
       "      <th>region_name</th>\n",
       "      <th>region_geojson_name</th>\n",
       "    </tr>\n",
       "  </thead>\n",
       "  <tbody>\n",
       "    <tr>\n",
       "      <th>0</th>\n",
       "      <td>25620</td>\n",
       "      <td>ville du pont</td>\n",
       "      <td>25650</td>\n",
       "      <td>ville du pont</td>\n",
       "      <td>46.999873</td>\n",
       "      <td>6.498147</td>\n",
       "      <td>doubs</td>\n",
       "      <td>25</td>\n",
       "      <td>bourgogne-franche-comté</td>\n",
       "      <td>Bourgogne-Franche-Comté</td>\n",
       "    </tr>\n",
       "    <tr>\n",
       "      <th>1</th>\n",
       "      <td>25624</td>\n",
       "      <td>villers grelot</td>\n",
       "      <td>25640</td>\n",
       "      <td>villers grelot</td>\n",
       "      <td>47.361512</td>\n",
       "      <td>6.235167</td>\n",
       "      <td>doubs</td>\n",
       "      <td>25</td>\n",
       "      <td>bourgogne-franche-comté</td>\n",
       "      <td>Bourgogne-Franche-Comté</td>\n",
       "    </tr>\n",
       "    <tr>\n",
       "      <th>2</th>\n",
       "      <td>25615</td>\n",
       "      <td>villars les blamont</td>\n",
       "      <td>25310</td>\n",
       "      <td>villars les blamont</td>\n",
       "      <td>47.368384</td>\n",
       "      <td>6.871415</td>\n",
       "      <td>doubs</td>\n",
       "      <td>25</td>\n",
       "      <td>bourgogne-franche-comté</td>\n",
       "      <td>Bourgogne-Franche-Comté</td>\n",
       "    </tr>\n",
       "  </tbody>\n",
       "</table>\n",
       "</div>"
      ],
      "text/plain": [
       "  insee_code            city_code  zip_code                label   latitude  \\\n",
       "0      25620        ville du pont     25650        ville du pont  46.999873   \n",
       "1      25624       villers grelot     25640       villers grelot  47.361512   \n",
       "2      25615  villars les blamont     25310  villars les blamont  47.368384   \n",
       "\n",
       "   longitude department_name department_number              region_name  \\\n",
       "0   6.498147           doubs                25  bourgogne-franche-comté   \n",
       "1   6.235167           doubs                25  bourgogne-franche-comté   \n",
       "2   6.871415           doubs                25  bourgogne-franche-comté   \n",
       "\n",
       "       region_geojson_name  \n",
       "0  Bourgogne-Franche-Comté  \n",
       "1  Bourgogne-Franche-Comté  \n",
       "2  Bourgogne-Franche-Comté  "
      ]
     },
     "execution_count": 23,
     "metadata": {},
     "output_type": "execute_result"
    }
   ],
   "source": [
    "# call all optional args by keyword\n",
    "# mandatory in pandas since recently\n",
    "df = pd.read_csv('cities.csv', sep=',', encoding='utf-8')\n",
    "df.head(3)"
   ]
  },
  {
   "cell_type": "code",
   "execution_count": 24,
   "id": "6e525ea0-d6e8-42c2-9575-bccb04a407ae",
   "metadata": {},
   "outputs": [],
   "source": [
    "# wrong definition\n",
    "def f(stop, start=0, city='Pau', l=[]):\n",
    "    for i in range(start, stop):\n",
    "        l.append(city)\n",
    "    return l"
   ]
  },
  {
   "cell_type": "code",
   "execution_count": 25,
   "id": "77fb47c7-5182-4a5a-8d3f-eb512494b82b",
   "metadata": {},
   "outputs": [
    {
     "data": {
      "text/plain": [
       "['Pau', 'Pau', 'Pau', 'Pau', 'Pau', 'Pau', 'Pau', 'Pau', 'Pau', 'Pau']"
      ]
     },
     "execution_count": 25,
     "metadata": {},
     "output_type": "execute_result"
    }
   ],
   "source": [
    "f(10)"
   ]
  },
  {
   "cell_type": "code",
   "execution_count": 26,
   "id": "234012e3-5437-4363-b5e9-8b8398391b8b",
   "metadata": {},
   "outputs": [
    {
     "data": {
      "text/plain": [
       "['Bayonne', 'Toulouse', 'Lyon']"
      ]
     },
     "execution_count": 26,
     "metadata": {},
     "output_type": "execute_result"
    }
   ],
   "source": [
    "l = ['Bayonne', 'Toulouse']\n",
    "f(3, start=2, city='Lyon', l=l)"
   ]
  },
  {
   "cell_type": "code",
   "execution_count": 27,
   "id": "4ba39047-409c-4c5c-85b7-ba50bd204255",
   "metadata": {},
   "outputs": [
    {
     "data": {
      "text/plain": [
       "['Pau', 'Pau', 'Pau', 'Pau', 'Pau', 'Pau', 'Pau', 'Pau', 'Pau', 'Pau', 'Lyon']"
      ]
     },
     "execution_count": 27,
     "metadata": {},
     "output_type": "execute_result"
    }
   ],
   "source": [
    "f(3, start=2, city='Lyon')"
   ]
  },
  {
   "cell_type": "code",
   "execution_count": 28,
   "id": "bcfcf35a-273e-4011-85b3-1ede2646b3d2",
   "metadata": {},
   "outputs": [
    {
     "data": {
      "text/plain": [
       "['Pau',\n",
       " 'Pau',\n",
       " 'Pau',\n",
       " 'Pau',\n",
       " 'Pau',\n",
       " 'Pau',\n",
       " 'Pau',\n",
       " 'Pau',\n",
       " 'Pau',\n",
       " 'Pau',\n",
       " 'Lyon',\n",
       " 'Toulouse',\n",
       " 'Toulouse',\n",
       " 'Toulouse']"
      ]
     },
     "execution_count": 28,
     "metadata": {},
     "output_type": "execute_result"
    }
   ],
   "source": [
    "f(3, city='Toulouse')"
   ]
  },
  {
   "cell_type": "code",
   "execution_count": 30,
   "id": "5662554a-4508-4202-9cdb-d671f0672d03",
   "metadata": {},
   "outputs": [],
   "source": [
    "def f(stop, start=0, city='Pau', l=None):\n",
    "    if l is None:\n",
    "        l = []\n",
    "    for i in range(start, stop):\n",
    "        l.append(city)\n",
    "    return l"
   ]
  },
  {
   "cell_type": "code",
   "execution_count": 31,
   "id": "d8ef146d-9a46-483c-bc68-3bc9aebad87d",
   "metadata": {},
   "outputs": [
    {
     "name": "stdout",
     "output_type": "stream",
     "text": [
      "['Pau', 'Pau', 'Pau', 'Pau', 'Pau', 'Pau', 'Pau', 'Pau', 'Pau', 'Pau']\n",
      "['Lyon']\n"
     ]
    }
   ],
   "source": [
    "r1 = f(10)\n",
    "r2 = f(3, start=2, city='Lyon')\n",
    "print(r1)\n",
    "print(r2)"
   ]
  },
  {
   "cell_type": "code",
   "execution_count": 33,
   "id": "f0b641a0-4387-438d-be93-7a757b3e4312",
   "metadata": {},
   "outputs": [],
   "source": [
    "def isMagic(square, ruleDiag=True, ruleAllNumbers=True, ms=None):\n",
    "    n = len(square)\n",
    "    if ruleAllNumbers:\n",
    "        ms = magicSum(n)\n",
    "    elif ms is None:\n",
    "        raise ValueError(\"Missing magic sum, cannot compute it with rule all numbers deactivated\")\n",
    "    res = checkAllRowsMagic(square, n, ms) \\\n",
    "        and checkAllColumnsMagic(square, n, ms)\n",
    "    if ruleDiag:\n",
    "        res = res and checkAllDiagonalsMagic(square, n, ms)\n",
    "    res = res and checkAllNumbersInRange(square, n, repeat=not RuleAllNumber)"
   ]
  },
  {
   "cell_type": "code",
   "execution_count": 35,
   "id": "2baa03ad-a39f-493d-b556-238c10b4c5b3",
   "metadata": {},
   "outputs": [],
   "source": [
    "# ValueError: Missing magic sum, cannot compute it with rule all numbers deactivated\n",
    "# isMagic([], ruleAllNumbers=False)"
   ]
  },
  {
   "cell_type": "code",
   "execution_count": 44,
   "id": "8b47334e-4de0-4f4c-92ce-aa02c5008bbc",
   "metadata": {},
   "outputs": [
    {
     "data": {
      "text/plain": [
       "[<matplotlib.lines.Line2D at 0x21dcece3470>,\n",
       " <matplotlib.lines.Line2D at 0x21dcece3560>]"
      ]
     },
     "execution_count": 44,
     "metadata": {},
     "output_type": "execute_result"
    },
    {
     "data": {
      "image/png": "[encoded data removed]",
      "text/plain": [
       "<Figure size 640x480 with 1 Axes>"
      ]
     },
     "metadata": {},
     "output_type": "display_data"
    }
   ],
   "source": [
    "x = np.linspace(0, 4*np.pi, num=1000)\n",
    "y1 = np.sin(x)\n",
    "y2 = np.cos(x)\n",
    "# call plt.plot with:\n",
    "# - x, y1, 'r', x, y2, 'g' => *args\n",
    "# - linewidth=2 => **kwargs\n",
    "plt.plot(x, y1, 'r', x, y2, 'g', linewidth=2)"
   ]
  },
  {
   "cell_type": "code",
   "execution_count": 65,
   "id": "0f084105-952e-4029-a825-c9b79d758446",
   "metadata": {},
   "outputs": [],
   "source": [
    "# a, *args: positional arguments (a mandatory, args 0 to n values: tuple)\n",
    "# b: optional keyword arg\n",
    "# kwargs: other keyword args (0 to n): dict\n",
    "def f(a, *args, b=0, **kwargs):\n",
    "    print(\"a=\",a)\n",
    "    print(\"args=\",args)\n",
    "    print(\"b=\",b)\n",
    "    print(\"kwargs=\",kwargs)\n",
    "    # example 1 of how to handle kwargs\n",
    "    color = kwargs['color'] if 'color' in kwargs else 'black'\n",
    "    # ignore kwargs not handled\n",
    "\n",
    "    # example 2 of how to handle kwargs\n",
    "    color = 'black'\n",
    "    topic = 'weather'\n",
    "    for name, value in kwargs.items():\n",
    "        match name:\n",
    "            case 'color': \n",
    "                color = value\n",
    "            case 'topic':\n",
    "                topic = value\n",
    "            case _:\n",
    "                # pass # ignore arg\n",
    "                print(f'Warning: arg {name} unknown', file=sys.stderr)\n",
    "                # raise ValueError(f'arg {name} unknown')\n",
    "    print()"
   ]
  },
  {
   "cell_type": "code",
   "execution_count": 66,
   "id": "db146f05-c188-4315-af50-b8a647b53428",
   "metadata": {},
   "outputs": [
    {
     "name": "stdout",
     "output_type": "stream",
     "text": [
      "a= 1\n",
      "args= ()\n",
      "b= 0\n",
      "kwargs= {}\n",
      "\n",
      "a= 1\n",
      "args= (2,)\n",
      "b= 0\n",
      "kwargs= {}\n",
      "\n",
      "a= 1\n",
      "args= (2, 3, 4, 5)\n",
      "b= 0\n",
      "kwargs= {}\n",
      "\n",
      "a= 1\n",
      "args= (2, 3)\n",
      "b= 3\n",
      "kwargs= {'color': 'red', 'day': 'mercredi', 'topic': 'python'}\n",
      "\n"
     ]
    },
    {
     "name": "stderr",
     "output_type": "stream",
     "text": [
      "Warning: arg day unknown\n"
     ]
    }
   ],
   "source": [
    "f(1)          # a=1, args=()\n",
    "f(1,2)        # a=1, args = (2,)\n",
    "f(1,2,3,4,5)  # a=1, args = (2,3,4,5)\n",
    "f(1,2,3, color='red', day='mercredi', b=3, topic='python')"
   ]
  },
  {
   "cell_type": "code",
   "execution_count": 67,
   "id": "5d4d1bd1-8a91-40cf-b2f8-c9cb94ebf6ee",
   "metadata": {},
   "outputs": [
    {
     "name": "stdout",
     "output_type": "stream",
     "text": [
      "a= 1\n",
      "args= (2, 3, 4)\n",
      "b= 4\n",
      "kwargs= {'topic': 'python', 'color': 'blue'}\n",
      "\n"
     ]
    }
   ],
   "source": [
    "l = [1, 2, 3, 4]\n",
    "d = {\n",
    "    'b': 4,\n",
    "    'topic': 'python',\n",
    "    'color': 'blue'\n",
    "}\n",
    "f(*l, **d)"
   ]
  },
  {
   "cell_type": "code",
   "execution_count": 68,
   "id": "5ea6a4c7-a803-4754-a786-0f2746261296",
   "metadata": {},
   "outputs": [],
   "source": [
    "def g(*args, **kwargs):\n",
    "    # local logic here\n",
    "    return f(*args, **kwargs)"
   ]
  },
  {
   "cell_type": "code",
   "execution_count": 69,
   "id": "7601f42c-459a-4881-91ed-b29078b272ff",
   "metadata": {},
   "outputs": [
    {
     "name": "stdout",
     "output_type": "stream",
     "text": [
      "a= 1\n",
      "args= (2, 3)\n",
      "b= 3\n",
      "kwargs= {'color': 'red', 'day': 'mercredi', 'topic': 'python'}\n",
      "\n"
     ]
    },
    {
     "name": "stderr",
     "output_type": "stream",
     "text": [
      "Warning: arg day unknown\n"
     ]
    }
   ],
   "source": [
    "g(1,2,3, color='red', day='mercredi', b=3, topic='python')"
   ]
  }
 ],
 "metadata": {
  "kernelspec": {
   "display_name": "k312",
   "language": "python",
   "name": "k312"
  },
  "language_info": {
   "codemirror_mode": {
    "name": "ipython",
    "version": 3
   },
   "file_extension": ".py",
   "mimetype": "text/x-python",
   "name": "python",
   "nbconvert_exporter": "python",
   "pygments_lexer": "ipython3",
   "version": "3.12.0"
  }
 },
 "nbformat": 4,
 "nbformat_minor": 5
}
