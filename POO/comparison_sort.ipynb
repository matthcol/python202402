{
 "cells": [
  {
   "cell_type": "markdown",
   "id": "8f4d0876-0b59-4ce0-84d1-d2a883a22957",
   "metadata": {},
   "source": [
    "# Comparison and sorting"
   ]
  },
  {
   "cell_type": "code",
   "execution_count": 25,
   "id": "09bda442-29ee-4b9a-a430-903029c2a1ff",
   "metadata": {},
   "outputs": [],
   "source": [
    "import math\n",
    "import locale\n",
    "from operator import attrgetter\n",
    "from functools import cmp_to_key\n",
    "from city import City\n",
    "import pandas as pd"
   ]
  },
  {
   "cell_type": "code",
   "execution_count": 2,
   "id": "c5b8c365-35ad-4828-88d5-7f141b432da9",
   "metadata": {},
   "outputs": [],
   "source": [
    "assert 12 < 15\n",
    "\n",
    "# floats\n",
    "assert 12.5 < 15.5\n",
    "assert float('-Inf') < 12.5 < float('Inf')\n",
    "# speciam case NaN\n",
    "assert not 12.5 < float('NaN')\n",
    "assert not 12.5 > float('NaN')\n",
    "assert not 12.5 <= float('NaN')\n",
    "assert not 12.5 >= float('NaN')\n",
    "assert not 12.5 == float('NaN')\n",
    "assert 12.5 != float('NaN')\n",
    "assert not float('NaN') == float('NaN')\n",
    "assert math.isnan(float('NaN'))\n",
    "\n",
    "# str: ordre lexycographique (table de caractères UNICODE)\n",
    "assert \"arbre\" < \"fleur\"\n",
    "assert \"Z\" < \"a\" # Casse\n",
    "assert \"étuve\" < \"été\" # faux pour la langue française\n",
    "assert \"Stockholms\" < \"Åre\" # ok en suèdois (coup de bol)\n",
    "assert \"mano\" < \"mañana\" # ok en espagnol (coup de bol)\n",
    "assert \"mañana\" > \"matador\" # faux"
   ]
  },
  {
   "cell_type": "code",
   "execution_count": 3,
   "id": "5f42e1ce-7476-42f5-bd17-f6eebabffd3d",
   "metadata": {},
   "outputs": [
    {
     "name": "stdout",
     "output_type": "stream",
     "text": [
      "(None, None)\n",
      "(None, None)\n",
      "(None, None)\n",
      "(None, None)\n"
     ]
    }
   ],
   "source": [
    "for cat in locale.LC_COLLATE, locale.LC_NUMERIC, locale.LC_MONETARY, locale.LC_TIME: \n",
    "    print(locale.getlocale(cat))"
   ]
  },
  {
   "cell_type": "code",
   "execution_count": 4,
   "id": "b56b5962-b050-4b85-a4a5-cb2b459801d1",
   "metadata": {},
   "outputs": [
    {
     "data": {
      "text/plain": [
       "'fr_FR.UTF8'"
      ]
     },
     "execution_count": 4,
     "metadata": {},
     "output_type": "execute_result"
    }
   ],
   "source": [
    "locale.setlocale(locale.LC_ALL, 'fr_FR.UTF8')"
   ]
  },
  {
   "cell_type": "code",
   "execution_count": 5,
   "id": "2e05d775-5658-44c6-b604-68af186830ee",
   "metadata": {},
   "outputs": [
    {
     "name": "stdout",
     "output_type": "stream",
     "text": [
      "('fr_FR', 'UTF-8')\n",
      "('fr_FR', 'UTF-8')\n",
      "('fr_FR', 'UTF-8')\n",
      "('fr_FR', 'UTF-8')\n"
     ]
    }
   ],
   "source": [
    "for cat in locale.LC_COLLATE, locale.LC_NUMERIC, locale.LC_MONETARY, locale.LC_TIME: \n",
    "    print(locale.getlocale(cat))"
   ]
  },
  {
   "cell_type": "code",
   "execution_count": 6,
   "id": "94c4d8f3-b286-465a-8a47-339c1b5aeb5c",
   "metadata": {},
   "outputs": [
    {
     "name": "stdout",
     "output_type": "stream",
     "text": [
      "1\n",
      "-1\n",
      "-1\n"
     ]
    }
   ],
   "source": [
    "# comparaison en fonction de la locale:\n",
    "# result:\n",
    "#  <0 => \n",
    "#  =0 =>\n",
    "#  >0 =>\n",
    "print(locale.strcoll(\"étuve\", \"été\"))\n",
    "print(locale.strcoll(\"arbre\", \"fleur\"))\n",
    "print(locale.strcoll(\"cœur\", \"corruption\"))"
   ]
  },
  {
   "cell_type": "code",
   "execution_count": 7,
   "id": "f4e89c7a-4a09-4116-91db-c99b582a0c71",
   "metadata": {},
   "outputs": [],
   "source": [
    "words_fr = [ \n",
    "    \"été\", \"étage\", \"étuve\", \n",
    "    \"arbre\", \"fleur\", \"cœur\", \"coaguler\", \"corruption\",\n",
    "    \"hameau\", \"hameçonner\", \"hamster\"\n",
    "]"
   ]
  },
  {
   "cell_type": "code",
   "execution_count": 8,
   "id": "56a99586-758e-4937-b179-982cb04b1ad1",
   "metadata": {},
   "outputs": [
    {
     "data": {
      "text/plain": [
       "['arbre',\n",
       " 'coaguler',\n",
       " 'corruption',\n",
       " 'cœur',\n",
       " 'fleur',\n",
       " 'hameau',\n",
       " 'hameçonner',\n",
       " 'hamster',\n",
       " 'étage',\n",
       " 'étuve',\n",
       " 'été']"
      ]
     },
     "execution_count": 8,
     "metadata": {},
     "output_type": "execute_result"
    }
   ],
   "source": [
    "sorted_words_fr = sorted(words_fr)\n",
    "sorted_words_fr"
   ]
  },
  {
   "cell_type": "code",
   "execution_count": 9,
   "id": "38fa97f1-7aa3-467a-8971-bb7ca6fb0f5b",
   "metadata": {},
   "outputs": [
    {
     "data": {
      "text/plain": [
       "['arbre',\n",
       " 'coaguler',\n",
       " 'corruption',\n",
       " 'cœur',\n",
       " 'fleur',\n",
       " 'hameau',\n",
       " 'hameçonner',\n",
       " 'hamster',\n",
       " 'étage',\n",
       " 'étuve',\n",
       " 'été']"
      ]
     },
     "execution_count": 9,
     "metadata": {},
     "output_type": "execute_result"
    }
   ],
   "source": [
    "words_fr.sort()\n",
    "words_fr"
   ]
  },
  {
   "cell_type": "code",
   "execution_count": 10,
   "id": "824b1b4e-f95c-4ae1-87da-d77ead8f85ff",
   "metadata": {},
   "outputs": [
    {
     "data": {
      "text/plain": [
       "\u001b[1;31mSignature:\u001b[0m \u001b[0msorted\u001b[0m\u001b[1;33m(\u001b[0m\u001b[0miterable\u001b[0m\u001b[1;33m,\u001b[0m \u001b[1;33m/\u001b[0m\u001b[1;33m,\u001b[0m \u001b[1;33m*\u001b[0m\u001b[1;33m,\u001b[0m \u001b[0mkey\u001b[0m\u001b[1;33m=\u001b[0m\u001b[1;32mNone\u001b[0m\u001b[1;33m,\u001b[0m \u001b[0mreverse\u001b[0m\u001b[1;33m=\u001b[0m\u001b[1;32mFalse\u001b[0m\u001b[1;33m)\u001b[0m\u001b[1;33m\u001b[0m\u001b[1;33m\u001b[0m\u001b[0m\n",
       "\u001b[1;31mDocstring:\u001b[0m\n",
       "Return a new list containing all items from the iterable in ascending order.\n",
       "\n",
       "A custom key function can be supplied to customize the sort order, and the\n",
       "reverse flag can be set to request the result in descending order.\n",
       "\u001b[1;31mType:\u001b[0m      builtin_function_or_method"
      ]
     },
     "metadata": {},
     "output_type": "display_data"
    }
   ],
   "source": [
    "sorted?"
   ]
  },
  {
   "cell_type": "code",
   "execution_count": 11,
   "id": "e68bfd5b-e96d-4877-8f1d-e9eaa2b7d240",
   "metadata": {},
   "outputs": [
    {
     "data": {
      "text/plain": [
       "['arbre', 'Fleur', 'Zébulon']"
      ]
     },
     "execution_count": 11,
     "metadata": {},
     "output_type": "execute_result"
    }
   ],
   "source": [
    "sorted((\"arbre\", \"Fleur\", \"Zébulon\"), key=str.upper)"
   ]
  },
  {
   "cell_type": "code",
   "execution_count": 12,
   "id": "c9edc5f0-03f3-4220-a93b-0b30aa39f4d7",
   "metadata": {},
   "outputs": [],
   "source": [
    "cities = [\n",
    "    City(\"Pau\", 77_000, 64),\n",
    "    City(\"Toulouse\", 470_000, 31),\n",
    "    City(\"Paris\", 2_161_000, 75),\n",
    "    City(\"Valence\", 62_000, 26),\n",
    "    City(\"Valence\", 220, 16),\n",
    "]"
   ]
  },
  {
   "cell_type": "code",
   "execution_count": 13,
   "id": "69016b8f-d2d5-45c5-9174-44e3ff26558b",
   "metadata": {},
   "outputs": [
    {
     "data": {
      "text/plain": [
       "[City[Paris, pop=2161000, dept=75],\n",
       " City[Pau, pop=77000, dept=64],\n",
       " City[Toulouse, pop=470000, dept=31],\n",
       " City[Valence, pop=220, dept=16],\n",
       " City[Valence, pop=62000, dept=26]]"
      ]
     },
     "execution_count": 13,
     "metadata": {},
     "output_type": "execute_result"
    }
   ],
   "source": [
    "sorted(cities)"
   ]
  },
  {
   "cell_type": "code",
   "execution_count": 14,
   "id": "f2eba0a8-d9d7-4b76-b5cc-b7954927741f",
   "metadata": {},
   "outputs": [
    {
     "data": {
      "text/plain": [
       "[City[Paris, pop=2161000, dept=75],\n",
       " City[Pau, pop=77000, dept=64],\n",
       " City[Toulouse, pop=470000, dept=31],\n",
       " City[Valence, pop=62000, dept=26],\n",
       " City[Valence, pop=220, dept=16]]"
      ]
     },
     "execution_count": 14,
     "metadata": {},
     "output_type": "execute_result"
    }
   ],
   "source": [
    "sorted(cities, key=lambda c: c.name)"
   ]
  },
  {
   "cell_type": "code",
   "execution_count": 15,
   "id": "d475800d-4d2e-4f60-9d02-c54955cf4af5",
   "metadata": {},
   "outputs": [
    {
     "data": {
      "text/plain": [
       "[City[Paris, pop=2161000, dept=75],\n",
       " City[Pau, pop=77000, dept=64],\n",
       " City[Toulouse, pop=470000, dept=31],\n",
       " City[Valence, pop=62000, dept=26],\n",
       " City[Valence, pop=220, dept=16]]"
      ]
     },
     "execution_count": 15,
     "metadata": {},
     "output_type": "execute_result"
    }
   ],
   "source": [
    "sorted(cities, key=attrgetter('name'))"
   ]
  },
  {
   "cell_type": "code",
   "execution_count": 16,
   "id": "7dbadffa-fa16-40fc-88bb-062c8c43d20f",
   "metadata": {},
   "outputs": [
    {
     "data": {
      "text/plain": [
       "[City[Valence, pop=220, dept=16],\n",
       " City[Valence, pop=62000, dept=26],\n",
       " City[Pau, pop=77000, dept=64],\n",
       " City[Toulouse, pop=470000, dept=31],\n",
       " City[Paris, pop=2161000, dept=75]]"
      ]
     },
     "execution_count": 16,
     "metadata": {},
     "output_type": "execute_result"
    }
   ],
   "source": [
    "sorted(cities, key=attrgetter('population'))"
   ]
  },
  {
   "cell_type": "code",
   "execution_count": 17,
   "id": "bf8864d2-c970-4b3b-a2bf-e71d86294922",
   "metadata": {},
   "outputs": [
    {
     "data": {
      "text/plain": [
       "[City[Paris, pop=2161000, dept=75],\n",
       " City[Pau, pop=77000, dept=64],\n",
       " City[Toulouse, pop=470000, dept=31],\n",
       " City[Valence, pop=220, dept=16],\n",
       " City[Valence, pop=62000, dept=26]]"
      ]
     },
     "execution_count": 17,
     "metadata": {},
     "output_type": "execute_result"
    }
   ],
   "source": [
    "sorted(cities, key=attrgetter('name', 'population'))"
   ]
  },
  {
   "cell_type": "code",
   "execution_count": 18,
   "id": "6b43b44c-5070-4506-8646-ac184ce10375",
   "metadata": {},
   "outputs": [
    {
     "data": {
      "text/plain": [
       "['arbre',\n",
       " 'coaguler',\n",
       " 'cœur',\n",
       " 'corruption',\n",
       " 'étage',\n",
       " 'été',\n",
       " 'étuve',\n",
       " 'fleur',\n",
       " 'hameau',\n",
       " 'hameçonner',\n",
       " 'hamster']"
      ]
     },
     "execution_count": 18,
     "metadata": {},
     "output_type": "execute_result"
    }
   ],
   "source": [
    "# adapt old comparison into new one\n",
    "sorted(words_fr, key=cmp_to_key(locale.strcoll))"
   ]
  },
  {
   "cell_type": "code",
   "execution_count": 19,
   "id": "34d0415d-4fef-4c2b-a5c6-7bb058ac2af4",
   "metadata": {},
   "outputs": [
    {
     "data": {
      "text/plain": [
       "['arbre',\n",
       " 'coaguler',\n",
       " 'cœur',\n",
       " 'corruption',\n",
       " 'étage',\n",
       " 'été',\n",
       " 'étuve',\n",
       " 'fleur',\n",
       " 'hameau',\n",
       " 'hameçonner',\n",
       " 'hamster']"
      ]
     },
     "execution_count": 19,
     "metadata": {},
     "output_type": "execute_result"
    }
   ],
   "source": [
    "sorted(words_fr, key=locale.strxfrm)"
   ]
  },
  {
   "cell_type": "code",
   "execution_count": 20,
   "id": "38f910e5-6664-43c2-9f5b-78992377082f",
   "metadata": {},
   "outputs": [],
   "source": [
    "# sort spanish words: mano, mañana, matador\n",
    "# sort swedish cities: Stockholm , Åre, Ängelholm, Askersund, Köping, Kungälv, Örnsköldsvik, Oxelösund , Ystad "
   ]
  },
  {
   "cell_type": "code",
   "execution_count": 21,
   "id": "28a6896f-a973-4aee-890b-fc68bad46925",
   "metadata": {},
   "outputs": [
    {
     "data": {
      "text/plain": [
       "['mano', 'mañana', 'matador']"
      ]
     },
     "execution_count": 21,
     "metadata": {},
     "output_type": "execute_result"
    }
   ],
   "source": [
    "words_es = [ \"mano\", \"mañana\", \"matador\" ] \n",
    "locale.setlocale(locale.LC_ALL, 'es_ES.UTF8')\n",
    "sorted(words_es, key=locale.strxfrm)"
   ]
  },
  {
   "cell_type": "code",
   "execution_count": 22,
   "id": "130f9bc7-976f-4177-98a9-1bcc75f48d2d",
   "metadata": {},
   "outputs": [
    {
     "data": {
      "text/plain": [
       "['Askersund',\n",
       " 'Kungälv',\n",
       " 'Köping',\n",
       " 'Oxelösund',\n",
       " 'Stockholms',\n",
       " 'Ystad',\n",
       " 'Åre',\n",
       " 'Ängelholm',\n",
       " 'Örnsköldsvik']"
      ]
     },
     "execution_count": 22,
     "metadata": {},
     "output_type": "execute_result"
    }
   ],
   "source": [
    "cities_swe = [\n",
    "    \"Stockholms\" , \"Åre\", \"Ängelholm\", \n",
    "    \"Askersund\", \"Köping\", \"Kungälv\", \n",
    "    \"Örnsköldsvik\", \"Oxelösund\" , \"Ystad\" \n",
    "]\n",
    "locale.setlocale(locale.LC_ALL, 'sv_SE.UTF8')\n",
    "sorted(cities_swe, key=cmp_to_key(locale.strcoll))"
   ]
  },
  {
   "cell_type": "code",
   "execution_count": 23,
   "id": "4a74c5e5-816f-4953-be6c-2bf18e87119b",
   "metadata": {},
   "outputs": [
    {
     "data": {
      "text/plain": [
       "['Askersund',\n",
       " 'Kungälv',\n",
       " 'Köping',\n",
       " 'Oxelösund',\n",
       " 'Stockholms',\n",
       " 'Ystad',\n",
       " 'Åre',\n",
       " 'Ängelholm',\n",
       " 'Örnsköldsvik']"
      ]
     },
     "execution_count": 23,
     "metadata": {},
     "output_type": "execute_result"
    }
   ],
   "source": [
    "sorted(cities_swe, key=locale.strxfrm)"
   ]
  },
  {
   "cell_type": "code",
   "execution_count": 28,
   "id": "f9354e48-967e-4ca4-859e-4fe217df2c8c",
   "metadata": {},
   "outputs": [
    {
     "data": {
      "text/html": [
       "<div>\n",
       "<style scoped>\n",
       "    .dataframe tbody tr th:only-of-type {\n",
       "        vertical-align: middle;\n",
       "    }\n",
       "\n",
       "    .dataframe tbody tr th {\n",
       "        vertical-align: top;\n",
       "    }\n",
       "\n",
       "    .dataframe thead th {\n",
       "        text-align: right;\n",
       "    }\n",
       "</style>\n",
       "<table border=\"1\" class=\"dataframe\">\n",
       "  <thead>\n",
       "    <tr style=\"text-align: right;\">\n",
       "      <th></th>\n",
       "      <th>insee_code</th>\n",
       "      <th>city_code</th>\n",
       "      <th>zip_code</th>\n",
       "      <th>label</th>\n",
       "      <th>latitude</th>\n",
       "      <th>longitude</th>\n",
       "      <th>department_name</th>\n",
       "      <th>department_number</th>\n",
       "      <th>region_name</th>\n",
       "      <th>region_geojson_name</th>\n",
       "    </tr>\n",
       "  </thead>\n",
       "  <tbody>\n",
       "    <tr>\n",
       "      <th>0</th>\n",
       "      <td>25620</td>\n",
       "      <td>ville du pont</td>\n",
       "      <td>25650</td>\n",
       "      <td>ville du pont</td>\n",
       "      <td>46.999873</td>\n",
       "      <td>6.498147</td>\n",
       "      <td>doubs</td>\n",
       "      <td>25</td>\n",
       "      <td>bourgogne-franche-comté</td>\n",
       "      <td>Bourgogne-Franche-Comté</td>\n",
       "    </tr>\n",
       "    <tr>\n",
       "      <th>1</th>\n",
       "      <td>25624</td>\n",
       "      <td>villers grelot</td>\n",
       "      <td>25640</td>\n",
       "      <td>villers grelot</td>\n",
       "      <td>47.361512</td>\n",
       "      <td>6.235167</td>\n",
       "      <td>doubs</td>\n",
       "      <td>25</td>\n",
       "      <td>bourgogne-franche-comté</td>\n",
       "      <td>Bourgogne-Franche-Comté</td>\n",
       "    </tr>\n",
       "    <tr>\n",
       "      <th>2</th>\n",
       "      <td>25615</td>\n",
       "      <td>villars les blamont</td>\n",
       "      <td>25310</td>\n",
       "      <td>villars les blamont</td>\n",
       "      <td>47.368384</td>\n",
       "      <td>6.871415</td>\n",
       "      <td>doubs</td>\n",
       "      <td>25</td>\n",
       "      <td>bourgogne-franche-comté</td>\n",
       "      <td>Bourgogne-Franche-Comté</td>\n",
       "    </tr>\n",
       "  </tbody>\n",
       "</table>\n",
       "</div>"
      ],
      "text/plain": [
       "  insee_code            city_code  zip_code                label   latitude  \\\n",
       "0      25620        ville du pont     25650        ville du pont  46.999873   \n",
       "1      25624       villers grelot     25640       villers grelot  47.361512   \n",
       "2      25615  villars les blamont     25310  villars les blamont  47.368384   \n",
       "\n",
       "   longitude department_name department_number              region_name  \\\n",
       "0   6.498147           doubs                25  bourgogne-franche-comté   \n",
       "1   6.235167           doubs                25  bourgogne-franche-comté   \n",
       "2   6.871415           doubs                25  bourgogne-franche-comté   \n",
       "\n",
       "       region_geojson_name  \n",
       "0  Bourgogne-Franche-Comté  \n",
       "1  Bourgogne-Franche-Comté  \n",
       "2  Bourgogne-Franche-Comté  "
      ]
     },
     "execution_count": 28,
     "metadata": {},
     "output_type": "execute_result"
    }
   ],
   "source": [
    "dfCities = pd.read_csv('cities.csv')\n",
    "dfCities.head(3)"
   ]
  },
  {
   "cell_type": "code",
   "execution_count": 31,
   "id": "fb01020e-2868-4fbb-b5a6-0218c69589e7",
   "metadata": {},
   "outputs": [
    {
     "data": {
      "text/html": [
       "<div>\n",
       "<style scoped>\n",
       "    .dataframe tbody tr th:only-of-type {\n",
       "        vertical-align: middle;\n",
       "    }\n",
       "\n",
       "    .dataframe tbody tr th {\n",
       "        vertical-align: top;\n",
       "    }\n",
       "\n",
       "    .dataframe thead th {\n",
       "        text-align: right;\n",
       "    }\n",
       "</style>\n",
       "<table border=\"1\" class=\"dataframe\">\n",
       "  <thead>\n",
       "    <tr style=\"text-align: right;\">\n",
       "      <th></th>\n",
       "      <th>insee_code</th>\n",
       "      <th>city_code</th>\n",
       "      <th>zip_code</th>\n",
       "      <th>label</th>\n",
       "      <th>latitude</th>\n",
       "      <th>longitude</th>\n",
       "      <th>department_name</th>\n",
       "      <th>department_number</th>\n",
       "      <th>region_name</th>\n",
       "      <th>region_geojson_name</th>\n",
       "    </tr>\n",
       "  </thead>\n",
       "  <tbody>\n",
       "    <tr>\n",
       "      <th>16344</th>\n",
       "      <td>64001</td>\n",
       "      <td>aast</td>\n",
       "      <td>64460</td>\n",
       "      <td>aast</td>\n",
       "      <td>43.291176</td>\n",
       "      <td>-0.081741</td>\n",
       "      <td>pyrénées-atlantiques</td>\n",
       "      <td>64</td>\n",
       "      <td>nouvelle-aquitaine</td>\n",
       "      <td>Nouvelle-Aquitaine</td>\n",
       "    </tr>\n",
       "    <tr>\n",
       "      <th>28725</th>\n",
       "      <td>55001</td>\n",
       "      <td>abainville</td>\n",
       "      <td>55130</td>\n",
       "      <td>abainville</td>\n",
       "      <td>48.532751</td>\n",
       "      <td>5.514721</td>\n",
       "      <td>meuse</td>\n",
       "      <td>55</td>\n",
       "      <td>grand est</td>\n",
       "      <td>Grand Est</td>\n",
       "    </tr>\n",
       "    <tr>\n",
       "      <th>32634</th>\n",
       "      <td>59001</td>\n",
       "      <td>abancourt</td>\n",
       "      <td>59268</td>\n",
       "      <td>abancourt</td>\n",
       "      <td>50.237016</td>\n",
       "      <td>3.208146</td>\n",
       "      <td>nord</td>\n",
       "      <td>59</td>\n",
       "      <td>hauts-de-france</td>\n",
       "      <td>Hauts-de-France</td>\n",
       "    </tr>\n",
       "    <tr>\n",
       "      <th>32869</th>\n",
       "      <td>60001</td>\n",
       "      <td>abancourt</td>\n",
       "      <td>60220</td>\n",
       "      <td>abancourt</td>\n",
       "      <td>49.692898</td>\n",
       "      <td>1.769243</td>\n",
       "      <td>oise</td>\n",
       "      <td>60</td>\n",
       "      <td>hauts-de-france</td>\n",
       "      <td>Hauts-de-France</td>\n",
       "    </tr>\n",
       "    <tr>\n",
       "      <th>29234</th>\n",
       "      <td>54001</td>\n",
       "      <td>abaucourt</td>\n",
       "      <td>54610</td>\n",
       "      <td>abaucourt sur seille</td>\n",
       "      <td>48.892375</td>\n",
       "      <td>6.265494</td>\n",
       "      <td>meurthe-et-moselle</td>\n",
       "      <td>54</td>\n",
       "      <td>grand est</td>\n",
       "      <td>Grand Est</td>\n",
       "    </tr>\n",
       "    <tr>\n",
       "      <th>...</th>\n",
       "      <td>...</td>\n",
       "      <td>...</td>\n",
       "      <td>...</td>\n",
       "      <td>...</td>\n",
       "      <td>...</td>\n",
       "      <td>...</td>\n",
       "      <td>...</td>\n",
       "      <td>...</td>\n",
       "      <td>...</td>\n",
       "      <td>...</td>\n",
       "    </tr>\n",
       "    <tr>\n",
       "      <th>26357</th>\n",
       "      <td>2B364</td>\n",
       "      <td>zuani</td>\n",
       "      <td>20272</td>\n",
       "      <td>zuani</td>\n",
       "      <td>42.265395</td>\n",
       "      <td>9.340840</td>\n",
       "      <td>haute-corse</td>\n",
       "      <td>2B</td>\n",
       "      <td>corse</td>\n",
       "      <td>Corse</td>\n",
       "    </tr>\n",
       "    <tr>\n",
       "      <th>33710</th>\n",
       "      <td>62905</td>\n",
       "      <td>zudausques</td>\n",
       "      <td>62500</td>\n",
       "      <td>zudausques</td>\n",
       "      <td>50.752659</td>\n",
       "      <td>2.159982</td>\n",
       "      <td>pas-de-calais</td>\n",
       "      <td>62</td>\n",
       "      <td>hauts-de-france</td>\n",
       "      <td>Hauts-de-France</td>\n",
       "    </tr>\n",
       "    <tr>\n",
       "      <th>34755</th>\n",
       "      <td>62906</td>\n",
       "      <td>zutkerque</td>\n",
       "      <td>62370</td>\n",
       "      <td>zutkerque</td>\n",
       "      <td>50.853256</td>\n",
       "      <td>2.059691</td>\n",
       "      <td>pas-de-calais</td>\n",
       "      <td>62</td>\n",
       "      <td>hauts-de-france</td>\n",
       "      <td>Hauts-de-France</td>\n",
       "    </tr>\n",
       "    <tr>\n",
       "      <th>34143</th>\n",
       "      <td>59668</td>\n",
       "      <td>zuydcoote</td>\n",
       "      <td>59123</td>\n",
       "      <td>zuydcoote</td>\n",
       "      <td>51.063734</td>\n",
       "      <td>2.486571</td>\n",
       "      <td>nord</td>\n",
       "      <td>59</td>\n",
       "      <td>hauts-de-france</td>\n",
       "      <td>Hauts-de-France</td>\n",
       "    </tr>\n",
       "    <tr>\n",
       "      <th>32250</th>\n",
       "      <td>59669</td>\n",
       "      <td>zuytpeene</td>\n",
       "      <td>59670</td>\n",
       "      <td>zuytpeene</td>\n",
       "      <td>50.791606</td>\n",
       "      <td>2.423573</td>\n",
       "      <td>nord</td>\n",
       "      <td>59</td>\n",
       "      <td>hauts-de-france</td>\n",
       "      <td>Hauts-de-France</td>\n",
       "    </tr>\n",
       "  </tbody>\n",
       "</table>\n",
       "<p>39145 rows × 10 columns</p>\n",
       "</div>"
      ],
      "text/plain": [
       "      insee_code   city_code  zip_code                 label   latitude  \\\n",
       "16344      64001        aast     64460                  aast  43.291176   \n",
       "28725      55001  abainville     55130            abainville  48.532751   \n",
       "32634      59001   abancourt     59268             abancourt  50.237016   \n",
       "32869      60001   abancourt     60220             abancourt  49.692898   \n",
       "29234      54001   abaucourt     54610  abaucourt sur seille  48.892375   \n",
       "...          ...         ...       ...                   ...        ...   \n",
       "26357      2B364       zuani     20272                 zuani  42.265395   \n",
       "33710      62905  zudausques     62500            zudausques  50.752659   \n",
       "34755      62906   zutkerque     62370             zutkerque  50.853256   \n",
       "34143      59668   zuydcoote     59123             zuydcoote  51.063734   \n",
       "32250      59669   zuytpeene     59670             zuytpeene  50.791606   \n",
       "\n",
       "       longitude       department_name department_number         region_name  \\\n",
       "16344  -0.081741  pyrénées-atlantiques                64  nouvelle-aquitaine   \n",
       "28725   5.514721                 meuse                55           grand est   \n",
       "32634   3.208146                  nord                59     hauts-de-france   \n",
       "32869   1.769243                  oise                60     hauts-de-france   \n",
       "29234   6.265494    meurthe-et-moselle                54           grand est   \n",
       "...          ...                   ...               ...                 ...   \n",
       "26357   9.340840           haute-corse                2B               corse   \n",
       "33710   2.159982         pas-de-calais                62     hauts-de-france   \n",
       "34755   2.059691         pas-de-calais                62     hauts-de-france   \n",
       "34143   2.486571                  nord                59     hauts-de-france   \n",
       "32250   2.423573                  nord                59     hauts-de-france   \n",
       "\n",
       "      region_geojson_name  \n",
       "16344  Nouvelle-Aquitaine  \n",
       "28725           Grand Est  \n",
       "32634     Hauts-de-France  \n",
       "32869     Hauts-de-France  \n",
       "29234           Grand Est  \n",
       "...                   ...  \n",
       "26357               Corse  \n",
       "33710     Hauts-de-France  \n",
       "34755     Hauts-de-France  \n",
       "34143     Hauts-de-France  \n",
       "32250     Hauts-de-France  \n",
       "\n",
       "[39145 rows x 10 columns]"
      ]
     },
     "execution_count": 31,
     "metadata": {},
     "output_type": "execute_result"
    }
   ],
   "source": [
    "dfCities.sort_values('city_code', inplace=True)\n",
    "dfCities"
   ]
  },
  {
   "cell_type": "code",
   "execution_count": 35,
   "id": "35349436-f620-4f09-809f-807e01469948",
   "metadata": {},
   "outputs": [
    {
     "data": {
      "text/html": [
       "<div>\n",
       "<style scoped>\n",
       "    .dataframe tbody tr th:only-of-type {\n",
       "        vertical-align: middle;\n",
       "    }\n",
       "\n",
       "    .dataframe tbody tr th {\n",
       "        vertical-align: top;\n",
       "    }\n",
       "\n",
       "    .dataframe thead th {\n",
       "        text-align: right;\n",
       "    }\n",
       "</style>\n",
       "<table border=\"1\" class=\"dataframe\">\n",
       "  <thead>\n",
       "    <tr style=\"text-align: right;\">\n",
       "      <th></th>\n",
       "      <th>insee_code</th>\n",
       "      <th>city_code</th>\n",
       "      <th>zip_code</th>\n",
       "      <th>label</th>\n",
       "      <th>latitude</th>\n",
       "      <th>longitude</th>\n",
       "      <th>department_name</th>\n",
       "      <th>department_number</th>\n",
       "      <th>region_name</th>\n",
       "      <th>region_geojson_name</th>\n",
       "    </tr>\n",
       "  </thead>\n",
       "  <tbody>\n",
       "    <tr>\n",
       "      <th>5167</th>\n",
       "      <td>42001</td>\n",
       "      <td>aboen</td>\n",
       "      <td>42380</td>\n",
       "      <td>aboen</td>\n",
       "      <td>45.412675</td>\n",
       "      <td>4.126791</td>\n",
       "      <td>loire</td>\n",
       "      <td>42</td>\n",
       "      <td>auvergne-rhône-alpes</td>\n",
       "      <td>Auvergne-Rhône-Alpes</td>\n",
       "    </tr>\n",
       "    <tr>\n",
       "      <th>7530</th>\n",
       "      <td>74001</td>\n",
       "      <td>abondance</td>\n",
       "      <td>74360</td>\n",
       "      <td>abondance</td>\n",
       "      <td>46.266280</td>\n",
       "      <td>6.731861</td>\n",
       "      <td>haute-savoie</td>\n",
       "      <td>74</td>\n",
       "      <td>auvergne-rhône-alpes</td>\n",
       "      <td>Auvergne-Rhône-Alpes</td>\n",
       "    </tr>\n",
       "    <tr>\n",
       "      <th>21370</th>\n",
       "      <td>03001</td>\n",
       "      <td>abrest</td>\n",
       "      <td>3200</td>\n",
       "      <td>abrest</td>\n",
       "      <td>46.096051</td>\n",
       "      <td>3.449986</td>\n",
       "      <td>allier</td>\n",
       "      <td>03</td>\n",
       "      <td>auvergne-rhône-alpes</td>\n",
       "      <td>Auvergne-Rhône-Alpes</td>\n",
       "    </tr>\n",
       "    <tr>\n",
       "      <th>1180</th>\n",
       "      <td>07001</td>\n",
       "      <td>accons</td>\n",
       "      <td>7160</td>\n",
       "      <td>accons</td>\n",
       "      <td>44.888444</td>\n",
       "      <td>4.392011</td>\n",
       "      <td>ardèche</td>\n",
       "      <td>07</td>\n",
       "      <td>auvergne-rhône-alpes</td>\n",
       "      <td>Auvergne-Rhône-Alpes</td>\n",
       "    </tr>\n",
       "    <tr>\n",
       "      <th>6869</th>\n",
       "      <td>69001</td>\n",
       "      <td>affoux</td>\n",
       "      <td>69170</td>\n",
       "      <td>affoux</td>\n",
       "      <td>45.843773</td>\n",
       "      <td>4.413312</td>\n",
       "      <td>rhône</td>\n",
       "      <td>69</td>\n",
       "      <td>auvergne-rhône-alpes</td>\n",
       "      <td>Auvergne-Rhône-Alpes</td>\n",
       "    </tr>\n",
       "    <tr>\n",
       "      <th>...</th>\n",
       "      <td>...</td>\n",
       "      <td>...</td>\n",
       "      <td>...</td>\n",
       "      <td>...</td>\n",
       "      <td>...</td>\n",
       "      <td>...</td>\n",
       "      <td>...</td>\n",
       "      <td>...</td>\n",
       "      <td>...</td>\n",
       "      <td>...</td>\n",
       "    </tr>\n",
       "    <tr>\n",
       "      <th>37982</th>\n",
       "      <td>77533</td>\n",
       "      <td>vulaines sur seine</td>\n",
       "      <td>77870</td>\n",
       "      <td>vulaines sur seine</td>\n",
       "      <td>48.431621</td>\n",
       "      <td>2.769685</td>\n",
       "      <td>seine-et-marne</td>\n",
       "      <td>77</td>\n",
       "      <td>île-de-france</td>\n",
       "      <td>Île-de-France</td>\n",
       "    </tr>\n",
       "    <tr>\n",
       "      <th>37700</th>\n",
       "      <td>91689</td>\n",
       "      <td>wissous</td>\n",
       "      <td>91320</td>\n",
       "      <td>wissous</td>\n",
       "      <td>48.729691</td>\n",
       "      <td>2.329529</td>\n",
       "      <td>essonne</td>\n",
       "      <td>91</td>\n",
       "      <td>île-de-france</td>\n",
       "      <td>Île-de-France</td>\n",
       "    </tr>\n",
       "    <tr>\n",
       "      <th>38602</th>\n",
       "      <td>95690</td>\n",
       "      <td>wy dit joli village</td>\n",
       "      <td>95420</td>\n",
       "      <td>wy dit joli village</td>\n",
       "      <td>49.095847</td>\n",
       "      <td>1.824388</td>\n",
       "      <td>val-d'oise</td>\n",
       "      <td>95</td>\n",
       "      <td>île-de-france</td>\n",
       "      <td>Île-de-France</td>\n",
       "    </tr>\n",
       "    <tr>\n",
       "      <th>38156</th>\n",
       "      <td>77534</td>\n",
       "      <td>yebles</td>\n",
       "      <td>77390</td>\n",
       "      <td>yebles</td>\n",
       "      <td>48.637232</td>\n",
       "      <td>2.769102</td>\n",
       "      <td>seine-et-marne</td>\n",
       "      <td>77</td>\n",
       "      <td>île-de-france</td>\n",
       "      <td>Île-de-France</td>\n",
       "    </tr>\n",
       "    <tr>\n",
       "      <th>37701</th>\n",
       "      <td>91691</td>\n",
       "      <td>yerres</td>\n",
       "      <td>91330</td>\n",
       "      <td>yerres</td>\n",
       "      <td>48.716194</td>\n",
       "      <td>2.493069</td>\n",
       "      <td>essonne</td>\n",
       "      <td>91</td>\n",
       "      <td>île-de-france</td>\n",
       "      <td>Île-de-France</td>\n",
       "    </tr>\n",
       "  </tbody>\n",
       "</table>\n",
       "<p>39145 rows × 10 columns</p>\n",
       "</div>"
      ],
      "text/plain": [
       "      insee_code            city_code  zip_code                label  \\\n",
       "5167       42001                aboen     42380                aboen   \n",
       "7530       74001            abondance     74360            abondance   \n",
       "21370      03001               abrest      3200               abrest   \n",
       "1180       07001               accons      7160               accons   \n",
       "6869       69001               affoux     69170               affoux   \n",
       "...          ...                  ...       ...                  ...   \n",
       "37982      77533   vulaines sur seine     77870   vulaines sur seine   \n",
       "37700      91689              wissous     91320              wissous   \n",
       "38602      95690  wy dit joli village     95420  wy dit joli village   \n",
       "38156      77534               yebles     77390               yebles   \n",
       "37701      91691               yerres     91330               yerres   \n",
       "\n",
       "        latitude  longitude department_name department_number  \\\n",
       "5167   45.412675   4.126791           loire                42   \n",
       "7530   46.266280   6.731861    haute-savoie                74   \n",
       "21370  46.096051   3.449986          allier                03   \n",
       "1180   44.888444   4.392011         ardèche                07   \n",
       "6869   45.843773   4.413312           rhône                69   \n",
       "...          ...        ...             ...               ...   \n",
       "37982  48.431621   2.769685  seine-et-marne                77   \n",
       "37700  48.729691   2.329529         essonne                91   \n",
       "38602  49.095847   1.824388      val-d'oise                95   \n",
       "38156  48.637232   2.769102  seine-et-marne                77   \n",
       "37701  48.716194   2.493069         essonne                91   \n",
       "\n",
       "                region_name   region_geojson_name  \n",
       "5167   auvergne-rhône-alpes  Auvergne-Rhône-Alpes  \n",
       "7530   auvergne-rhône-alpes  Auvergne-Rhône-Alpes  \n",
       "21370  auvergne-rhône-alpes  Auvergne-Rhône-Alpes  \n",
       "1180   auvergne-rhône-alpes  Auvergne-Rhône-Alpes  \n",
       "6869   auvergne-rhône-alpes  Auvergne-Rhône-Alpes  \n",
       "...                     ...                   ...  \n",
       "37982         île-de-france         Île-de-France  \n",
       "37700         île-de-france         Île-de-France  \n",
       "38602         île-de-france         Île-de-France  \n",
       "38156         île-de-france         Île-de-France  \n",
       "37701         île-de-france         Île-de-France  \n",
       "\n",
       "[39145 rows x 10 columns]"
      ]
     },
     "execution_count": 35,
     "metadata": {},
     "output_type": "execute_result"
    }
   ],
   "source": [
    "dfCities.sort_values(['region_name', 'label'], inplace=True)\n",
    "dfCities"
   ]
  }
 ],
 "metadata": {
  "kernelspec": {
   "display_name": "k312",
   "language": "python",
   "name": "k312"
  },
  "language_info": {
   "codemirror_mode": {
    "name": "ipython",
    "version": 3
   },
   "file_extension": ".py",
   "mimetype": "text/x-python",
   "name": "python",
   "nbconvert_exporter": "python",
   "pygments_lexer": "ipython3",
   "version": "3.12.0"
  }
 },
 "nbformat": 4,
 "nbformat_minor": 5
}
