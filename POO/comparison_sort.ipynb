{
 "cells": [
  {
   "cell_type": "markdown",
   "id": "8f4d0876-0b59-4ce0-84d1-d2a883a22957",
   "metadata": {},
   "source": [
    "# Comparison and sorting"
   ]
  },
  {
   "cell_type": "code",
   "execution_count": 72,
   "id": "09bda442-29ee-4b9a-a430-903029c2a1ff",
   "metadata": {},
   "outputs": [],
   "source": [
    "import math\n",
    "import locale\n",
    "from operator import attrgetter\n",
    "from functools import cmp_to_key\n",
    "from city import City"
   ]
  },
  {
   "cell_type": "code",
   "execution_count": 22,
   "id": "c5b8c365-35ad-4828-88d5-7f141b432da9",
   "metadata": {},
   "outputs": [],
   "source": [
    "assert 12 < 15\n",
    "\n",
    "# floats\n",
    "assert 12.5 < 15.5\n",
    "assert float('-Inf') < 12.5 < float('Inf')\n",
    "# speciam case NaN\n",
    "assert not 12.5 < float('NaN')\n",
    "assert not 12.5 > float('NaN')\n",
    "assert not 12.5 <= float('NaN')\n",
    "assert not 12.5 >= float('NaN')\n",
    "assert not 12.5 == float('NaN')\n",
    "assert 12.5 != float('NaN')\n",
    "assert not float('NaN') == float('NaN')\n",
    "assert math.isnan(float('NaN'))\n",
    "\n",
    "# str: ordre lexycographique (table de caractères UNICODE)\n",
    "assert \"arbre\" < \"fleur\"\n",
    "assert \"Z\" < \"a\" # Casse\n",
    "assert \"étuve\" < \"été\" # faux pour la langue française\n",
    "assert \"Stockholms\" < \"Åre\" # ok en suèdois (coup de bol)\n",
    "assert \"mano\" < \"mañana\" # ok en espagnol (coup de bol)\n",
    "assert \"mañana\" > \"matador\" # faux"
   ]
  },
  {
   "cell_type": "code",
   "execution_count": 40,
   "id": "5f42e1ce-7476-42f5-bd17-f6eebabffd3d",
   "metadata": {},
   "outputs": [
    {
     "name": "stdout",
     "output_type": "stream",
     "text": [
      "(None, None)\n",
      "(None, None)\n",
      "(None, None)\n",
      "(None, None)\n"
     ]
    }
   ],
   "source": [
    "for cat in locale.LC_COLLATE, locale.LC_NUMERIC, locale.LC_MONETARY, locale.LC_TIME: \n",
    "    print(locale.getlocale(cat))"
   ]
  },
  {
   "cell_type": "code",
   "execution_count": 47,
   "id": "b56b5962-b050-4b85-a4a5-cb2b459801d1",
   "metadata": {},
   "outputs": [
    {
     "data": {
      "text/plain": [
       "'fr_FR.UTF8'"
      ]
     },
     "execution_count": 47,
     "metadata": {},
     "output_type": "execute_result"
    }
   ],
   "source": [
    "locale.setlocale(locale.LC_ALL, 'fr_FR.UTF8')"
   ]
  },
  {
   "cell_type": "code",
   "execution_count": 48,
   "id": "2e05d775-5658-44c6-b604-68af186830ee",
   "metadata": {},
   "outputs": [
    {
     "name": "stdout",
     "output_type": "stream",
     "text": [
      "('fr_FR', 'UTF-8')\n",
      "('fr_FR', 'UTF-8')\n",
      "('fr_FR', 'UTF-8')\n",
      "('fr_FR', 'UTF-8')\n"
     ]
    }
   ],
   "source": [
    "for cat in locale.LC_COLLATE, locale.LC_NUMERIC, locale.LC_MONETARY, locale.LC_TIME: \n",
    "    print(locale.getlocale(cat))"
   ]
  },
  {
   "cell_type": "code",
   "execution_count": 49,
   "id": "94c4d8f3-b286-465a-8a47-339c1b5aeb5c",
   "metadata": {},
   "outputs": [
    {
     "name": "stdout",
     "output_type": "stream",
     "text": [
      "1\n",
      "-1\n",
      "-1\n"
     ]
    }
   ],
   "source": [
    "# comparaison en fonction de la locale:\n",
    "# result:\n",
    "#  <0 => \n",
    "#  =0 =>\n",
    "#  >0 =>\n",
    "print(locale.strcoll(\"étuve\", \"été\"))\n",
    "print(locale.strcoll(\"arbre\", \"fleur\"))\n",
    "print(locale.strcoll(\"cœur\", \"corruption\"))"
   ]
  },
  {
   "cell_type": "code",
   "execution_count": 25,
   "id": "f4e89c7a-4a09-4116-91db-c99b582a0c71",
   "metadata": {},
   "outputs": [],
   "source": [
    "words_fr = [ \n",
    "    \"été\", \"étage\", \"étuve\", \n",
    "    \"arbre\", \"fleur\", \"cœur\", \"coaguler\", \"corruption\",\n",
    "    \"hameau\", \"hameçonner\", \"hamster\"\n",
    "]"
   ]
  },
  {
   "cell_type": "code",
   "execution_count": 27,
   "id": "56a99586-758e-4937-b179-982cb04b1ad1",
   "metadata": {},
   "outputs": [
    {
     "data": {
      "text/plain": [
       "['arbre',\n",
       " 'coaguler',\n",
       " 'corruption',\n",
       " 'cœur',\n",
       " 'fleur',\n",
       " 'hameau',\n",
       " 'hameçonner',\n",
       " 'hamster',\n",
       " 'étage',\n",
       " 'étuve',\n",
       " 'été']"
      ]
     },
     "execution_count": 27,
     "metadata": {},
     "output_type": "execute_result"
    }
   ],
   "source": [
    "sorted_words_fr = sorted(words_fr)\n",
    "sorted_words_fr"
   ]
  },
  {
   "cell_type": "code",
   "execution_count": 29,
   "id": "38fa97f1-7aa3-467a-8971-bb7ca6fb0f5b",
   "metadata": {},
   "outputs": [
    {
     "data": {
      "text/plain": [
       "['arbre',\n",
       " 'coaguler',\n",
       " 'corruption',\n",
       " 'cœur',\n",
       " 'fleur',\n",
       " 'hameau',\n",
       " 'hameçonner',\n",
       " 'hamster',\n",
       " 'étage',\n",
       " 'étuve',\n",
       " 'été']"
      ]
     },
     "execution_count": 29,
     "metadata": {},
     "output_type": "execute_result"
    }
   ],
   "source": [
    "words_fr.sort()\n",
    "words_fr"
   ]
  },
  {
   "cell_type": "code",
   "execution_count": 50,
   "id": "824b1b4e-f95c-4ae1-87da-d77ead8f85ff",
   "metadata": {},
   "outputs": [
    {
     "data": {
      "text/plain": [
       "\u001b[1;31mSignature:\u001b[0m \u001b[0msorted\u001b[0m\u001b[1;33m(\u001b[0m\u001b[0miterable\u001b[0m\u001b[1;33m,\u001b[0m \u001b[1;33m/\u001b[0m\u001b[1;33m,\u001b[0m \u001b[1;33m*\u001b[0m\u001b[1;33m,\u001b[0m \u001b[0mkey\u001b[0m\u001b[1;33m=\u001b[0m\u001b[1;32mNone\u001b[0m\u001b[1;33m,\u001b[0m \u001b[0mreverse\u001b[0m\u001b[1;33m=\u001b[0m\u001b[1;32mFalse\u001b[0m\u001b[1;33m)\u001b[0m\u001b[1;33m\u001b[0m\u001b[1;33m\u001b[0m\u001b[0m\n",
       "\u001b[1;31mDocstring:\u001b[0m\n",
       "Return a new list containing all items from the iterable in ascending order.\n",
       "\n",
       "A custom key function can be supplied to customize the sort order, and the\n",
       "reverse flag can be set to request the result in descending order.\n",
       "\u001b[1;31mType:\u001b[0m      builtin_function_or_method"
      ]
     },
     "metadata": {},
     "output_type": "display_data"
    }
   ],
   "source": [
    "sorted?"
   ]
  },
  {
   "cell_type": "code",
   "execution_count": 55,
   "id": "e68bfd5b-e96d-4877-8f1d-e9eaa2b7d240",
   "metadata": {},
   "outputs": [
    {
     "data": {
      "text/plain": [
       "['arbre', 'Fleur', 'Zébulon']"
      ]
     },
     "execution_count": 55,
     "metadata": {},
     "output_type": "execute_result"
    }
   ],
   "source": [
    "sorted((\"arbre\", \"Fleur\", \"Zébulon\"), key=str.upper)"
   ]
  },
  {
   "cell_type": "code",
   "execution_count": 64,
   "id": "c9edc5f0-03f3-4220-a93b-0b30aa39f4d7",
   "metadata": {},
   "outputs": [],
   "source": [
    "cities = [\n",
    "    City(\"Pau\", 77_000, 64),\n",
    "    City(\"Toulouse\", 470_000, 31),\n",
    "    City(\"Paris\", 2_161_000, 75),\n",
    "    City(\"Valence\", 62_000, 26),\n",
    "    City(\"Valence\", 220, 16),\n",
    "]"
   ]
  },
  {
   "cell_type": "code",
   "execution_count": 65,
   "id": "f2eba0a8-d9d7-4b76-b5cc-b7954927741f",
   "metadata": {},
   "outputs": [
    {
     "data": {
      "text/plain": [
       "[City[Paris, pop=2161000, dept=75],\n",
       " City[Pau, pop=77000, dept=64],\n",
       " City[Toulouse, pop=470000, dept=31],\n",
       " City[Valence, pop=62000, dept=26],\n",
       " City[Valence, pop=220, dept=16]]"
      ]
     },
     "execution_count": 65,
     "metadata": {},
     "output_type": "execute_result"
    }
   ],
   "source": [
    "sorted(cities, key=lambda c: c.name)"
   ]
  },
  {
   "cell_type": "code",
   "execution_count": 66,
   "id": "d475800d-4d2e-4f60-9d02-c54955cf4af5",
   "metadata": {},
   "outputs": [
    {
     "data": {
      "text/plain": [
       "[City[Paris, pop=2161000, dept=75],\n",
       " City[Pau, pop=77000, dept=64],\n",
       " City[Toulouse, pop=470000, dept=31],\n",
       " City[Valence, pop=62000, dept=26],\n",
       " City[Valence, pop=220, dept=16]]"
      ]
     },
     "execution_count": 66,
     "metadata": {},
     "output_type": "execute_result"
    }
   ],
   "source": [
    "sorted(cities, key=attrgetter('name'))"
   ]
  },
  {
   "cell_type": "code",
   "execution_count": 67,
   "id": "7dbadffa-fa16-40fc-88bb-062c8c43d20f",
   "metadata": {},
   "outputs": [
    {
     "data": {
      "text/plain": [
       "[City[Valence, pop=220, dept=16],\n",
       " City[Valence, pop=62000, dept=26],\n",
       " City[Pau, pop=77000, dept=64],\n",
       " City[Toulouse, pop=470000, dept=31],\n",
       " City[Paris, pop=2161000, dept=75]]"
      ]
     },
     "execution_count": 67,
     "metadata": {},
     "output_type": "execute_result"
    }
   ],
   "source": [
    "sorted(cities, key=attrgetter('population'))"
   ]
  },
  {
   "cell_type": "code",
   "execution_count": 69,
   "id": "bf8864d2-c970-4b3b-a2bf-e71d86294922",
   "metadata": {},
   "outputs": [
    {
     "data": {
      "text/plain": [
       "[City[Paris, pop=2161000, dept=75],\n",
       " City[Pau, pop=77000, dept=64],\n",
       " City[Toulouse, pop=470000, dept=31],\n",
       " City[Valence, pop=220, dept=16],\n",
       " City[Valence, pop=62000, dept=26]]"
      ]
     },
     "execution_count": 69,
     "metadata": {},
     "output_type": "execute_result"
    }
   ],
   "source": [
    "sorted(cities, key=attrgetter('name', 'population'))"
   ]
  },
  {
   "cell_type": "code",
   "execution_count": 74,
   "id": "6b43b44c-5070-4506-8646-ac184ce10375",
   "metadata": {},
   "outputs": [
    {
     "data": {
      "text/plain": [
       "['arbre',\n",
       " 'coaguler',\n",
       " 'cœur',\n",
       " 'corruption',\n",
       " 'étage',\n",
       " 'été',\n",
       " 'étuve',\n",
       " 'fleur',\n",
       " 'hameau',\n",
       " 'hameçonner',\n",
       " 'hamster']"
      ]
     },
     "execution_count": 74,
     "metadata": {},
     "output_type": "execute_result"
    }
   ],
   "source": [
    "sorted(words_fr, key=cmp_to_key(locale.strcoll))"
   ]
  },
  {
   "cell_type": "code",
   "execution_count": null,
   "id": "38f910e5-6664-43c2-9f5b-78992377082f",
   "metadata": {},
   "outputs": [],
   "source": [
    "# sort spanish words: mano, mañana, matador\n",
    "# sort swedish words: \"Stockholms\" , \"Åre\", ..."
   ]
  }
 ],
 "metadata": {
  "kernelspec": {
   "display_name": "k312",
   "language": "python",
   "name": "k312"
  },
  "language_info": {
   "codemirror_mode": {
    "name": "ipython",
    "version": 3
   },
   "file_extension": ".py",
   "mimetype": "text/x-python",
   "name": "python",
   "nbconvert_exporter": "python",
   "pygments_lexer": "ipython3",
   "version": "3.12.0"
  }
 },
 "nbformat": 4,
 "nbformat_minor": 5
}
