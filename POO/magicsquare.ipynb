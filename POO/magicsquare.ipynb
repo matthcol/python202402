{
 "cells": [
  {
   "cell_type": "markdown",
   "id": "56e5ea5a-87e0-4748-b432-77b8fa7e93f4",
   "metadata": {},
   "source": [
    "# Magic Square\n",
    "https://fr.wikipedia.org/wiki/Carr%C3%A9_magique_(math%C3%A9matiques)"
   ]
  },
  {
   "cell_type": "code",
   "execution_count": 1,
   "id": "c8542a23-96e2-43f5-b9ba-76e95e689d4e",
   "metadata": {},
   "outputs": [],
   "source": [
    "from squares import *"
   ]
  },
  {
   "cell_type": "code",
   "execution_count": 2,
   "id": "9f072e49-c17d-4e11-be1d-24a28623febc",
   "metadata": {},
   "outputs": [
    {
     "data": {
      "text/plain": [
       "[[2, 7, 6], [9, 5, 1], [4, 3, 8]]"
      ]
     },
     "execution_count": 2,
     "metadata": {},
     "output_type": "execute_result"
    }
   ],
   "source": [
    "square = [\n",
    "    [2, 7, 6],\n",
    "    [9, 5, 1],\n",
    "    [4, 3, 8]\n",
    "]\n",
    "square"
   ]
  },
  {
   "cell_type": "code",
   "execution_count": 3,
   "id": "8d26b6fc-d45b-4948-b202-0ca17795ee1d",
   "metadata": {},
   "outputs": [],
   "source": [
    "# use another square\n",
    "# square = square_ko_3_diag_one\n",
    "square = square_ok_12_willem_barink"
   ]
  },
  {
   "cell_type": "code",
   "execution_count": 29,
   "id": "15bb5a88-6790-4965-8573-7887752c4a98",
   "metadata": {},
   "outputs": [
    {
     "data": {
      "text/plain": [
       "870"
      ]
     },
     "execution_count": 29,
     "metadata": {},
     "output_type": "execute_result"
    }
   ],
   "source": [
    "n = len(square)\n",
    "magicSum = n * (n**2 + 1) // 2\n",
    "magicSum"
   ]
  },
  {
   "cell_type": "code",
   "execution_count": 30,
   "id": "16aec708-6cb6-4dca-8b1c-3273e4eef45d",
   "metadata": {},
   "outputs": [
    {
     "data": {
      "text/plain": [
       "[True, True, True, True, True, True, True, True, True, True, True, True]"
      ]
     },
     "execution_count": 30,
     "metadata": {},
     "output_type": "execute_result"
    }
   ],
   "source": [
    "# check all rows are magic\n",
    "rowsOk = [ sum(row) == magicSum for row in square ]\n",
    "rowsOk"
   ]
  },
  {
   "cell_type": "code",
   "execution_count": 31,
   "id": "0e44214d-fee7-4975-811f-c5ab19d98ad6",
   "metadata": {},
   "outputs": [
    {
     "data": {
      "text/plain": [
       "True"
      ]
     },
     "execution_count": 31,
     "metadata": {},
     "output_type": "execute_result"
    }
   ],
   "source": [
    "allRowsOk = all(rowsOk)\n",
    "allRowsOk"
   ]
  },
  {
   "cell_type": "code",
   "execution_count": 32,
   "id": "ab3837ea-e0a4-4afa-a436-c320e30bcb0d",
   "metadata": {},
   "outputs": [
    {
     "name": "stdout",
     "output_type": "stream",
     "text": [
      "[138, 8, 17, 127, 114, 32, 41, 103, 90, 56, 65, 79]\n",
      "138\n"
     ]
    }
   ],
   "source": [
    "# one row\n",
    "print(square[0])\n",
    "# one element in a 2D python array (list of list, tuple of tuple, ...)\n",
    "print(square[0][0])"
   ]
  },
  {
   "cell_type": "code",
   "execution_count": 33,
   "id": "421f9a46-a259-4a2d-a334-914b63f5a0f2",
   "metadata": {},
   "outputs": [
    {
     "name": "stdout",
     "output_type": "stream",
     "text": [
      "[138, 19, 128, 5, 136, 21, 130, 3, 134, 23, 132, 1]\n",
      "870\n",
      "True\n"
     ]
    }
   ],
   "source": [
    "# check all columns are magic\n",
    "# step0: sum(col 0)\n",
    "column = [row[0] for row in square]\n",
    "print(column)\n",
    "s = sum(column)\n",
    "print(s)\n",
    "ok = s == magicSum\n",
    "print(ok)"
   ]
  },
  {
   "cell_type": "code",
   "execution_count": 34,
   "id": "88f0ef40-d845-44bd-b415-045ea53e37f1",
   "metadata": {},
   "outputs": [
    {
     "data": {
      "text/plain": [
       "True"
      ]
     },
     "execution_count": 34,
     "metadata": {},
     "output_type": "execute_result"
    }
   ],
   "source": [
    "# summary code (column 0)\n",
    "ok = sum(row[0] for row in square) == magicSum\n",
    "ok"
   ]
  },
  {
   "cell_type": "code",
   "execution_count": 35,
   "id": "e3722f2a-fdfd-4ca9-a3c0-0f66562c758a",
   "metadata": {},
   "outputs": [
    {
     "name": "stdout",
     "output_type": "stream",
     "text": [
      "[True, True, True, True, True, True, True, True, True, True, True, True]\n",
      "True\n"
     ]
    }
   ],
   "source": [
    "all_col=[]\n",
    "for i in range(0,n):\n",
    "    col_OK = sum(row[i] for row in square)== magicSum \n",
    "    all_col.append(col_OK)\n",
    "all_col_ok = all(all_col)\n",
    "print(all_col)\n",
    "print(all_col_ok)"
   ]
  },
  {
   "cell_type": "code",
   "execution_count": 36,
   "id": "4c5ee1a1-b19c-45b4-9e66-47dd7cd4b81d",
   "metadata": {},
   "outputs": [
    {
     "data": {
      "text/plain": [
       "[True, True, True, True, True, True, True, True, True, True, True, True]"
      ]
     },
     "execution_count": 36,
     "metadata": {},
     "output_type": "execute_result"
    }
   ],
   "source": [
    "all_col = [(sum(row[i] for row in square)== magicSum) for i in range(n)]\n",
    "all_col"
   ]
  },
  {
   "cell_type": "code",
   "execution_count": 37,
   "id": "768a02fa-f817-4dd6-9088-097f6985db96",
   "metadata": {},
   "outputs": [
    {
     "data": {
      "text/plain": [
       "True"
      ]
     },
     "execution_count": 37,
     "metadata": {},
     "output_type": "execute_result"
    }
   ],
   "source": [
    "all((sum(row[i] for row in square)== magicSum) for i in range(n))"
   ]
  },
  {
   "cell_type": "code",
   "execution_count": 38,
   "id": "9c7605b8-706d-4f07-b0ac-c7fd828acec8",
   "metadata": {},
   "outputs": [
    {
     "name": "stdout",
     "output_type": "stream",
     "text": [
      "[138, 125, 7, 20, 112, 99, 33, 46, 86, 73, 59, 72]\n",
      "[79, 92, 66, 53, 105, 118, 40, 27, 131, 144, 14, 1]\n",
      "[True, True]\n",
      "True\n"
     ]
    }
   ],
   "source": [
    "# check 2 'diagonals' are magic\n",
    "# main diagonal\n",
    "diag1 =  [ square[i][i] for i in range(n) ]\n",
    "diag2 =  [ square[i][-1-i] for i in range(n) ]\n",
    "diag_ok = [ sum(diag1) == magicSum, sum(diag2) == magicSum ]\n",
    "diag_all_ok = all(diag_ok)\n",
    "print(diag1)\n",
    "print(diag2)\n",
    "print(diag_ok)\n",
    "print(diag_all_ok)"
   ]
  },
  {
   "cell_type": "code",
   "execution_count": 39,
   "id": "506b1d2e-54ac-47c3-8fba-1d13ec9723ed",
   "metadata": {},
   "outputs": [],
   "source": [
    "# check every numbers in 1 .. n² is used only once (or all used)"
   ]
  },
  {
   "cell_type": "code",
   "execution_count": 40,
   "id": "ef509f04-7530-433c-96af-c5cbc08e990e",
   "metadata": {},
   "outputs": [
    {
     "data": {
      "text/plain": [
       "True"
      ]
     },
     "execution_count": 40,
     "metadata": {},
     "output_type": "execute_result"
    }
   ],
   "source": [
    "isMagic = allRowsOk and all_col_ok and diag_all_ok\n",
    "isMagic"
   ]
  }
 ],
 "metadata": {
  "kernelspec": {
   "display_name": "k312",
   "language": "python",
   "name": "k312"
  },
  "language_info": {
   "codemirror_mode": {
    "name": "ipython",
    "version": 3
   },
   "file_extension": ".py",
   "mimetype": "text/x-python",
   "name": "python",
   "nbconvert_exporter": "python",
   "pygments_lexer": "ipython3",
   "version": "3.12.0"
  }
 },
 "nbformat": 4,
 "nbformat_minor": 5
}
