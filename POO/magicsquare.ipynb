{
 "cells": [
  {
   "cell_type": "markdown",
   "id": "56e5ea5a-87e0-4748-b432-77b8fa7e93f4",
   "metadata": {},
   "source": [
    "# Magic Square\n",
    "https://fr.wikipedia.org/wiki/Carr%C3%A9_magique_(math%C3%A9matiques)"
   ]
  },
  {
   "cell_type": "code",
   "execution_count": 1,
   "id": "9f072e49-c17d-4e11-be1d-24a28623febc",
   "metadata": {},
   "outputs": [
    {
     "data": {
      "text/plain": [
       "[[2, 7, 6], [9, 5, 1], [4, 3, 8]]"
      ]
     },
     "execution_count": 1,
     "metadata": {},
     "output_type": "execute_result"
    }
   ],
   "source": [
    "square = [\n",
    "    [2, 7, 6],\n",
    "    [9, 5, 1],\n",
    "    [4, 3, 8]\n",
    "]\n",
    "square"
   ]
  },
  {
   "cell_type": "code",
   "execution_count": 2,
   "id": "15bb5a88-6790-4965-8573-7887752c4a98",
   "metadata": {},
   "outputs": [
    {
     "data": {
      "text/plain": [
       "15"
      ]
     },
     "execution_count": 2,
     "metadata": {},
     "output_type": "execute_result"
    }
   ],
   "source": [
    "n = 3\n",
    "magicSum = n * (n**2 + 1) // 2\n",
    "magicSum"
   ]
  },
  {
   "cell_type": "code",
   "execution_count": 3,
   "id": "16aec708-6cb6-4dca-8b1c-3273e4eef45d",
   "metadata": {},
   "outputs": [],
   "source": [
    "# check all rows are magic"
   ]
  },
  {
   "cell_type": "code",
   "execution_count": 4,
   "id": "421f9a46-a259-4a2d-a334-914b63f5a0f2",
   "metadata": {},
   "outputs": [],
   "source": [
    "# check all columns are magic"
   ]
  },
  {
   "cell_type": "code",
   "execution_count": 5,
   "id": "9c7605b8-706d-4f07-b0ac-c7fd828acec8",
   "metadata": {},
   "outputs": [],
   "source": [
    "# check 2 'diagonals' are magic"
   ]
  },
  {
   "cell_type": "code",
   "execution_count": null,
   "id": "506b1d2e-54ac-47c3-8fba-1d13ec9723ed",
   "metadata": {},
   "outputs": [],
   "source": [
    "# check every numbers in 1 .. n² is used only once (or all used)"
   ]
  }
 ],
 "metadata": {
  "kernelspec": {
   "display_name": "k312",
   "language": "python",
   "name": "k312"
  },
  "language_info": {
   "codemirror_mode": {
    "name": "ipython",
    "version": 3
   },
   "file_extension": ".py",
   "mimetype": "text/x-python",
   "name": "python",
   "nbconvert_exporter": "python",
   "pygments_lexer": "ipython3",
   "version": "3.12.0"
  }
 },
 "nbformat": 4,
 "nbformat_minor": 5
}
