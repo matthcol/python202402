{
 "cells": [
  {
   "cell_type": "markdown",
   "id": "ec3c4667-c8f4-4629-937b-fdccc0c78f7a",
   "metadata": {},
   "source": [
    "# Temporal Data\n",
    "- module datetime: classes datetime, date, time, timedelta, tzinfo/timezone\n",
    "- module calendar\n",
    "- external modules: pytz (tz in str format Europe/Paris), dateutil\n",
    "- numpy/pandas: datetime64"
   ]
  },
  {
   "cell_type": "code",
   "execution_count": 1,
   "id": "06de63c2-cafc-4fd4-af2e-b48d92d67fbc",
   "metadata": {},
   "outputs": [],
   "source": [
    "from datetime import datetime, date, time, timedelta\n",
    "from dateutil import relativedelta\n",
    "import pytz"
   ]
  },
  {
   "cell_type": "code",
   "execution_count": 2,
   "id": "5dd49ffa-2967-4f11-9813-e21b9e3fed8f",
   "metadata": {},
   "outputs": [],
   "source": [
    "# datetime now here, los angeles, new york, sidney, tokyo\n",
    "# then decompose in date, time"
   ]
  },
  {
   "cell_type": "code",
   "execution_count": null,
   "id": "fb19a1f8-baa9-408b-bd2f-ad1c960f68dd",
   "metadata": {},
   "outputs": [],
   "source": []
  }
 ],
 "metadata": {
  "kernelspec": {
   "display_name": "Python 3 (ipykernel)",
   "language": "python",
   "name": "python3"
  },
  "language_info": {
   "codemirror_mode": {
    "name": "ipython",
    "version": 3
   },
   "file_extension": ".py",
   "mimetype": "text/x-python",
   "name": "python",
   "nbconvert_exporter": "python",
   "pygments_lexer": "ipython3",
   "version": "3.12.0"
  }
 },
 "nbformat": 4,
 "nbformat_minor": 5
}
