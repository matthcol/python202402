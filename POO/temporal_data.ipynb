{
 "cells": [
  {
   "cell_type": "markdown",
   "id": "ec3c4667-c8f4-4629-937b-fdccc0c78f7a",
   "metadata": {},
   "source": [
    "# Temporal Data\n",
    "- module datetime: classes datetime, date, time, timedelta, tzinfo/timezone\n",
    "- module calendar\n",
    "- external modules: pytz (tz in str format Europe/Paris), dateutil\n",
    "- numpy/pandas: datetime64\n",
    "\n",
    "![Timezone map](https://upload.wikimedia.org/wikipedia/commons/8/88/World_Time_Zones_Map.png)\n",
    "Source: Wikipedia"
   ]
  },
  {
   "cell_type": "code",
   "execution_count": 56,
   "id": "06de63c2-cafc-4fd4-af2e-b48d92d67fbc",
   "metadata": {},
   "outputs": [],
   "source": [
    "from datetime import datetime, date, time, timedelta, MINYEAR, MAXYEAR\n",
    "from dateutil.relativedelta import relativedelta\n",
    "import pytz\n",
    "import locale"
   ]
  },
  {
   "cell_type": "code",
   "execution_count": 11,
   "id": "5dd49ffa-2967-4f11-9813-e21b9e3fed8f",
   "metadata": {},
   "outputs": [],
   "source": [
    "# datetime now here, los angeles, new york, sidney, tokyo\n",
    "# then decompose in date, time\n",
    "tz_la = pytz.timezone('America/Los_Angeles')\n",
    "timezones = {\n",
    "    'Los Angeles': tz_la,\n",
    "    'New York': pytz.timezone('America/New_York'),\n",
    "    'London': pytz.timezone('Europe/London'),\n",
    "    'Paris': pytz.timezone('Europe/Paris'),\n",
    "    'Madrid': pytz.timezone('Europe/Madrid'),\n",
    "    'Berlin': pytz.timezone('Europe/Berlin'),\n",
    "    'Tokyo': pytz.timezone('Asia/Tokyo'),\n",
    "    'Sydney': pytz.timezone('Australia/Sydney'),\n",
    "    \"Hawaii\": pytz.timezone('Pacific/Honolulu'),\n",
    "}"
   ]
  },
  {
   "cell_type": "code",
   "execution_count": 5,
   "id": "fb19a1f8-baa9-408b-bd2f-ad1c960f68dd",
   "metadata": {},
   "outputs": [
    {
     "data": {
      "text/plain": [
       "datetime.date(2024, 2, 8)"
      ]
     },
     "execution_count": 5,
     "metadata": {},
     "output_type": "execute_result"
    }
   ],
   "source": [
    "date.today()"
   ]
  },
  {
   "cell_type": "code",
   "execution_count": 6,
   "id": "8b643070-bee4-443f-8ae6-170dd6c2ee94",
   "metadata": {},
   "outputs": [
    {
     "data": {
      "text/plain": [
       "datetime.datetime(2024, 2, 8, 11, 23, 24, 439787)"
      ]
     },
     "execution_count": 6,
     "metadata": {},
     "output_type": "execute_result"
    }
   ],
   "source": [
    "datetime.now()"
   ]
  },
  {
   "cell_type": "code",
   "execution_count": 8,
   "id": "f1786116-a3ee-45ba-bc0b-e8e2524d76c5",
   "metadata": {},
   "outputs": [
    {
     "data": {
      "text/plain": [
       "datetime.datetime(2024, 2, 8, 2, 24, 33, 95950, tzinfo=<DstTzInfo 'America/Los_Angeles' PST-1 day, 16:00:00 STD>)"
      ]
     },
     "execution_count": 8,
     "metadata": {},
     "output_type": "execute_result"
    }
   ],
   "source": [
    "datetime.now(tz_la)"
   ]
  },
  {
   "cell_type": "code",
   "execution_count": 12,
   "id": "00fdcadb-3044-4cde-95ef-cc38727476a3",
   "metadata": {},
   "outputs": [
    {
     "name": "stdout",
     "output_type": "stream",
     "text": [
      "Los Angeles / 2024-02-08 02:35:10.413844-08:00 / 2024-02-08 / 02:35:10.413844\n",
      "New York / 2024-02-08 05:35:10.413844-05:00 / 2024-02-08 / 05:35:10.413844\n",
      "London / 2024-02-08 10:35:10.413844+00:00 / 2024-02-08 / 10:35:10.413844\n",
      "Paris / 2024-02-08 11:35:10.413844+01:00 / 2024-02-08 / 11:35:10.413844\n",
      "Madrid / 2024-02-08 11:35:10.413844+01:00 / 2024-02-08 / 11:35:10.413844\n",
      "Berlin / 2024-02-08 11:35:10.413844+01:00 / 2024-02-08 / 11:35:10.413844\n",
      "Tokyo / 2024-02-08 19:35:10.413844+09:00 / 2024-02-08 / 19:35:10.413844\n",
      "Sydney / 2024-02-08 21:35:10.413844+11:00 / 2024-02-08 / 21:35:10.413844\n",
      "Hawaii / 2024-02-08 00:35:10.413844-10:00 / 2024-02-08 / 00:35:10.413844\n"
     ]
    }
   ],
   "source": [
    "for city, tz in timezones.items():\n",
    "    dt = datetime.now(tz)\n",
    "    d = dt.date()\n",
    "    t = dt.time()\n",
    "    print(city, dt, d, t, sep=\" / \")"
   ]
  },
  {
   "cell_type": "code",
   "execution_count": 16,
   "id": "08cd734f-17b4-4841-8d1c-c3af2ed6f36b",
   "metadata": {
    "collapsed": true,
    "jupyter": {
     "outputs_hidden": true
    }
   },
   "outputs": [
    {
     "name": "stdout",
     "output_type": "stream",
     "text": [
      "2000-02-29\n",
      "2004-02-29\n",
      "2008-02-29\n",
      "2012-02-29\n",
      "2016-02-29\n",
      "2020-02-29\n",
      "2024-02-29\n",
      "2028-02-29\n",
      "2032-02-29\n",
      "2036-02-29\n",
      "2040-02-29\n",
      "2044-02-29\n",
      "2048-02-29\n",
      "2052-02-29\n",
      "2056-02-29\n",
      "2060-02-29\n",
      "2064-02-29\n",
      "2068-02-29\n",
      "2072-02-29\n",
      "2076-02-29\n",
      "2080-02-29\n",
      "2084-02-29\n",
      "2088-02-29\n",
      "2092-02-29\n",
      "2096-02-29\n",
      "2104-02-29\n",
      "2108-02-29\n",
      "2112-02-29\n",
      "2116-02-29\n",
      "2120-02-29\n",
      "2124-02-29\n",
      "2128-02-29\n",
      "2132-02-29\n",
      "2136-02-29\n",
      "2140-02-29\n",
      "2144-02-29\n",
      "2148-02-29\n",
      "2152-02-29\n",
      "2156-02-29\n",
      "2160-02-29\n",
      "2164-02-29\n",
      "2168-02-29\n",
      "2172-02-29\n",
      "2176-02-29\n",
      "2180-02-29\n",
      "2184-02-29\n",
      "2188-02-29\n",
      "2192-02-29\n",
      "2196-02-29\n",
      "2204-02-29\n",
      "2208-02-29\n",
      "2212-02-29\n",
      "2216-02-29\n",
      "2220-02-29\n",
      "2224-02-29\n",
      "2228-02-29\n",
      "2232-02-29\n",
      "2236-02-29\n",
      "2240-02-29\n",
      "2244-02-29\n",
      "2248-02-29\n",
      "2252-02-29\n",
      "2256-02-29\n",
      "2260-02-29\n",
      "2264-02-29\n",
      "2268-02-29\n",
      "2272-02-29\n",
      "2276-02-29\n",
      "2280-02-29\n",
      "2284-02-29\n",
      "2288-02-29\n",
      "2292-02-29\n",
      "2296-02-29\n",
      "2304-02-29\n",
      "2308-02-29\n",
      "2312-02-29\n",
      "2316-02-29\n",
      "2320-02-29\n",
      "2324-02-29\n",
      "2328-02-29\n",
      "2332-02-29\n",
      "2336-02-29\n",
      "2340-02-29\n",
      "2344-02-29\n",
      "2348-02-29\n",
      "2352-02-29\n",
      "2356-02-29\n",
      "2360-02-29\n",
      "2364-02-29\n",
      "2368-02-29\n",
      "2372-02-29\n",
      "2376-02-29\n",
      "2380-02-29\n",
      "2384-02-29\n",
      "2388-02-29\n",
      "2392-02-29\n",
      "2396-02-29\n",
      "2400-02-29\n"
     ]
    }
   ],
   "source": [
    "# try to build all 29th of february from 2000 to 2200\n",
    "# and display correct ones\n",
    "for year in range(2000, 2401):\n",
    "    try:\n",
    "        d = date(year, 2, 29)\n",
    "        print(d)\n",
    "    except ValueError:\n",
    "        pass # not a leap year"
   ]
  },
  {
   "cell_type": "code",
   "execution_count": 20,
   "id": "598dd50d-b773-47db-8673-055089f93974",
   "metadata": {},
   "outputs": [
    {
     "data": {
      "text/plain": [
       "(1, 9999)"
      ]
     },
     "execution_count": 20,
     "metadata": {},
     "output_type": "execute_result"
    }
   ],
   "source": [
    "MINYEAR, MAXYEAR"
   ]
  },
  {
   "cell_type": "code",
   "execution_count": 23,
   "id": "b9343248-0d59-4cd5-862d-a0eb70806531",
   "metadata": {},
   "outputs": [
    {
     "data": {
      "text/plain": [
       "datetime.date(2024, 2, 29)"
      ]
     },
     "execution_count": 23,
     "metadata": {},
     "output_type": "execute_result"
    }
   ],
   "source": [
    "nextFebuary29th = date(2024,2,29)\n",
    "nextFebuary29th"
   ]
  },
  {
   "cell_type": "code",
   "execution_count": 25,
   "id": "65a1ad08-c6a4-493a-859f-34db7a408443",
   "metadata": {},
   "outputs": [
    {
     "data": {
      "text/plain": [
       "datetime.timedelta(days=21)"
      ]
     },
     "execution_count": 25,
     "metadata": {},
     "output_type": "execute_result"
    }
   ],
   "source": [
    "delta = nextFebuary29th - date.today()\n",
    "delta"
   ]
  },
  {
   "cell_type": "code",
   "execution_count": 26,
   "id": "a375a8c3-d180-4286-b413-d3703de821be",
   "metadata": {},
   "outputs": [
    {
     "data": {
      "text/plain": [
       "datetime.date(2024, 3, 4)"
      ]
     },
     "execution_count": 26,
     "metadata": {},
     "output_type": "execute_result"
    }
   ],
   "source": [
    "nextFebuary29th + timedelta(days=4)"
   ]
  },
  {
   "cell_type": "code",
   "execution_count": 27,
   "id": "55fcb440-592a-4ccc-88b1-ec5231f5751c",
   "metadata": {},
   "outputs": [
    {
     "data": {
      "text/plain": [
       "datetime.datetime(2024, 2, 8, 11, 53, 30, 852282)"
      ]
     },
     "execution_count": 27,
     "metadata": {},
     "output_type": "execute_result"
    }
   ],
   "source": [
    "dt = datetime.now()\n",
    "dt"
   ]
  },
  {
   "cell_type": "code",
   "execution_count": 28,
   "id": "0e5a6dd6-9d08-4a78-a047-27847826dccb",
   "metadata": {},
   "outputs": [
    {
     "data": {
      "text/plain": [
       "datetime.datetime(2024, 2, 8, 12, 0, 30, 852282)"
      ]
     },
     "execution_count": 28,
     "metadata": {},
     "output_type": "execute_result"
    }
   ],
   "source": [
    "dt + timedelta(minutes=7)"
   ]
  },
  {
   "cell_type": "code",
   "execution_count": 29,
   "id": "f3b3f32e-50d7-42cd-9d88-feff1601b352",
   "metadata": {},
   "outputs": [
    {
     "data": {
      "text/plain": [
       "datetime.datetime(2024, 2, 8, 13, 0, 30, 852282)"
      ]
     },
     "execution_count": 29,
     "metadata": {},
     "output_type": "execute_result"
    }
   ],
   "source": [
    "dt + timedelta(hours=1, minutes=7)"
   ]
  },
  {
   "cell_type": "code",
   "execution_count": 32,
   "id": "e0057973-3d88-4f33-bc9c-d1b8cddc0122",
   "metadata": {},
   "outputs": [
    {
     "data": {
      "text/plain": [
       "datetime.datetime(2024, 2, 12, 16, 0, 30, 852282)"
      ]
     },
     "execution_count": 32,
     "metadata": {},
     "output_type": "execute_result"
    }
   ],
   "source": [
    "dt2 = dt + timedelta(days=4, hours=4, minutes=7)\n",
    "dt2"
   ]
  },
  {
   "cell_type": "code",
   "execution_count": 33,
   "id": "3a96664b-db3f-4e5d-9a90-b8f39e48fddf",
   "metadata": {},
   "outputs": [
    {
     "data": {
      "text/plain": [
       "datetime.timedelta(days=4, seconds=14820)"
      ]
     },
     "execution_count": 33,
     "metadata": {},
     "output_type": "execute_result"
    }
   ],
   "source": [
    "dt2 - dt"
   ]
  },
  {
   "cell_type": "code",
   "execution_count": 34,
   "id": "a9b7af7a-f94a-457b-9fd1-adb7610776a7",
   "metadata": {},
   "outputs": [
    {
     "data": {
      "text/plain": [
       "datetime.date(2025, 2, 28)"
      ]
     },
     "execution_count": 34,
     "metadata": {},
     "output_type": "execute_result"
    }
   ],
   "source": [
    "next29th + timedelta(days=365)"
   ]
  },
  {
   "cell_type": "code",
   "execution_count": 37,
   "id": "2688a10a-1aea-4a74-a369-17ad8ea26417",
   "metadata": {},
   "outputs": [
    {
     "data": {
      "text/plain": [
       "datetime.date(2025, 2, 28)"
      ]
     },
     "execution_count": 37,
     "metadata": {},
     "output_type": "execute_result"
    }
   ],
   "source": [
    "next29th + relativedelta(years=1)"
   ]
  },
  {
   "cell_type": "code",
   "execution_count": 38,
   "id": "0450b9f8-6c34-46ec-a351-62c7e7f69a77",
   "metadata": {},
   "outputs": [
    {
     "data": {
      "text/plain": [
       "datetime.date(2028, 2, 29)"
      ]
     },
     "execution_count": 38,
     "metadata": {},
     "output_type": "execute_result"
    }
   ],
   "source": [
    "next29th + relativedelta(years=4)"
   ]
  },
  {
   "cell_type": "code",
   "execution_count": 39,
   "id": "19a1121c-7549-4bf6-870a-9cad399e70ba",
   "metadata": {},
   "outputs": [
    {
     "name": "stdout",
     "output_type": "stream",
     "text": [
      "2024-02-29\n",
      "2024-03-31\n",
      "2024-04-30\n",
      "2024-05-31\n",
      "2024-06-30\n",
      "2024-07-31\n",
      "2024-08-31\n",
      "2024-09-30\n",
      "2024-10-31\n",
      "2024-11-30\n",
      "2024-12-31\n"
     ]
    }
   ],
   "source": [
    "for i in range(1, 12):\n",
    "    endMonth = date(2024,1,31) + relativedelta(months=i)\n",
    "    print(endMonth)"
   ]
  },
  {
   "cell_type": "markdown",
   "id": "9edfa5d5-9cfb-40fd-bfdf-0be9eb595edf",
   "metadata": {},
   "source": [
    "## datetime formats\n",
    "- parsing: str -> datetime|date|time\n",
    "- format: datetime|date|time -> formatted str"
   ]
  },
  {
   "cell_type": "markdown",
   "id": "3d813238-5764-4a10-9fc4-305174a99826",
   "metadata": {},
   "source": [
    "### ISO Format (8601)\n",
    "https://en.wikipedia.org/wiki/ISO_8601"
   ]
  },
  {
   "cell_type": "code",
   "execution_count": 42,
   "id": "ec62aafc-0a71-411d-8d76-db9a404b5758",
   "metadata": {},
   "outputs": [],
   "source": [
    "dt_str_iso = \"2024-02-29T13:00:00.250001+01\"\n",
    "d_str_iso = \"2024-02-29\""
   ]
  },
  {
   "cell_type": "code",
   "execution_count": 41,
   "id": "5939253c-049f-42aa-a37d-1894bdcb46bd",
   "metadata": {},
   "outputs": [
    {
     "data": {
      "text/plain": [
       "datetime.datetime(2024, 2, 29, 13, 0, 0, 250001, tzinfo=datetime.timezone(datetime.timedelta(seconds=3600)))"
      ]
     },
     "execution_count": 41,
     "metadata": {},
     "output_type": "execute_result"
    }
   ],
   "source": [
    "dt = datetime.fromisoformat(dt_str_iso)\n",
    "dt"
   ]
  },
  {
   "cell_type": "code",
   "execution_count": 43,
   "id": "606b8b69-f941-4a84-a3f5-884cd12e5976",
   "metadata": {},
   "outputs": [
    {
     "data": {
      "text/plain": [
       "datetime.date(2024, 2, 29)"
      ]
     },
     "execution_count": 43,
     "metadata": {},
     "output_type": "execute_result"
    }
   ],
   "source": [
    "d = date.fromisoformat(d_str_iso)\n",
    "d"
   ]
  },
  {
   "cell_type": "code",
   "execution_count": 44,
   "id": "096d69cb-81c3-4642-8025-6901aa63bb0a",
   "metadata": {},
   "outputs": [
    {
     "name": "stdout",
     "output_type": "stream",
     "text": [
      "2024-02-29 13:00:00.250001+01:00\n",
      "2024-02-29\n",
      "13:00:00.250001\n"
     ]
    }
   ],
   "source": [
    "# str() use ISO Format\n",
    "print(dt)\n",
    "print(d)\n",
    "print(dt.time())"
   ]
  },
  {
   "cell_type": "markdown",
   "id": "2c957301-c22e-48c9-a4e5-2e55d07318ad",
   "metadata": {},
   "source": [
    "### other formats\n",
    "methods: strptime (parse) and strftime (format)\n",
    "\n",
    "https://docs.python.org/3/library/datetime.html#strftime-and-strptime-behavior"
   ]
  },
  {
   "cell_type": "code",
   "execution_count": 46,
   "id": "8a023c10-062c-452b-9de1-1079871c02fe",
   "metadata": {},
   "outputs": [],
   "source": [
    "date_str_fr = \"29/02/2024\"\n",
    "datetime_str_custom = \"29 février 2024 à 4H20\"\n",
    "#TODO parse these data and display them with same format (add day of the week: jeudi)"
   ]
  },
  {
   "cell_type": "code",
   "execution_count": 49,
   "id": "f84c401f-e6e6-47c8-b173-30bad9e2d8f0",
   "metadata": {},
   "outputs": [
    {
     "data": {
      "text/plain": [
       "datetime.date(2024, 2, 29)"
      ]
     },
     "execution_count": 49,
     "metadata": {},
     "output_type": "execute_result"
    }
   ],
   "source": [
    "format_date_fr = \"%d/%m/%Y\"\n",
    "d = datetime.strptime(date_str_fr, format_date_fr).date()\n",
    "d"
   ]
  },
  {
   "cell_type": "code",
   "execution_count": 55,
   "id": "7849cb93-3424-49fd-8440-d5d32e90c818",
   "metadata": {},
   "outputs": [
    {
     "name": "stdout",
     "output_type": "stream",
     "text": [
      "29/02/2024\n",
      "29/02/2024\n",
      "29/02/2024\n"
     ]
    }
   ],
   "source": [
    "print(d.strftime(format_date_fr))\n",
    "print(f\"{d:%d/%m/%Y}\")\n",
    "print(f\"{d:{format_date_fr}}\")"
   ]
  },
  {
   "cell_type": "code",
   "execution_count": 57,
   "id": "4d5d8c5d-2d8c-4424-8ef7-a1ebd545d037",
   "metadata": {},
   "outputs": [
    {
     "name": "stdout",
     "output_type": "stream",
     "text": [
      "29 février 2024\n"
     ]
    }
   ],
   "source": [
    "locale.setlocale(locale.LC_ALL, 'fr_FR.UTF-8')\n",
    "format_date_fr = \"%d %B %Y\"\n",
    "print(f'{d:{format_date_fr}}')"
   ]
  },
  {
   "cell_type": "code",
   "execution_count": 59,
   "id": "c02a0fe5-5fdd-4b30-817e-21564f25f6ab",
   "metadata": {},
   "outputs": [
    {
     "name": "stdout",
     "output_type": "stream",
     "text": [
      "jeudi 29 février 2024 à 04H20\n"
     ]
    },
    {
     "data": {
      "text/plain": [
       "datetime.datetime(2024, 2, 29, 4, 20)"
      ]
     },
     "execution_count": 59,
     "metadata": {},
     "output_type": "execute_result"
    }
   ],
   "source": [
    "format_date_custom_in = \"%d %B %Y à %HH%M\"\n",
    "format_date_custom_out = \"%A %d %B %Y à %HH%M\"\n",
    "dt = datetime.strptime(datetime_str_custom, format_date_custom_in)\n",
    "print(f\"{dt:{format_date_custom_out}}\")\n",
    "dt"
   ]
  }
 ],
 "metadata": {
  "kernelspec": {
   "display_name": "Python 3 (ipykernel)",
   "language": "python",
   "name": "python3"
  },
  "language_info": {
   "codemirror_mode": {
    "name": "ipython",
    "version": 3
   },
   "file_extension": ".py",
   "mimetype": "text/x-python",
   "name": "python",
   "nbconvert_exporter": "python",
   "pygments_lexer": "ipython3",
   "version": "3.12.0"
  }
 },
 "nbformat": 4,
 "nbformat_minor": 5
}
