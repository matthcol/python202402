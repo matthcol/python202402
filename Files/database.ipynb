{
 "cells": [
  {
   "cell_type": "markdown",
   "id": "9f76b248-f732-409e-9136-0b1ab5f5f7de",
   "metadata": {},
   "source": [
    "# Relational Databases\n",
    "- PostgreSQL\n",
    "- SQL server\n",
    "- Oracle Database\n",
    "- Oracle MySQL\n",
    "- MariaDB\n",
    "- SQlite\n",
    "- ...\n",
    "\n",
    "Standard SQL\n",
    "\n",
    "1+ connector by vendor|provider following the same model PEP 248 (DB API V1) ou PEP 249 (DB API v2)\n",
    "- postgresql: psycopg2|3\n",
    "- sql server: pyodbc ou pymssql\n",
    "- oracle db: cx_oracle\n",
    "\n",
    "ORM SQLAlchemy (Object Relational Mapper)"
   ]
  },
  {
   "cell_type": "code",
   "execution_count": 1,
   "id": "44066b60-4f17-4484-82fb-cecab8cdd6ca",
   "metadata": {},
   "outputs": [],
   "source": [
    "import psycopg2 as pg\n",
    "import pandas as pd\n",
    "from sqlalchemy import create_engine"
   ]
  },
  {
   "cell_type": "markdown",
   "id": "4fd0263b-6763-4701-b656-3e45a85bcb2c",
   "metadata": {},
   "source": [
    "## DB API (low level)"
   ]
  },
  {
   "cell_type": "code",
   "execution_count": 3,
   "id": "724e68f4-dfd9-4a5d-9732-9bdff053858f",
   "metadata": {},
   "outputs": [],
   "source": [
    "host = 'localhost'\n",
    "port = 5432\n",
    "dbname = 'dbcity'\n",
    "user = 'citymngr'  # postgres\n",
    "password = 'password'"
   ]
  },
  {
   "cell_type": "code",
   "execution_count": 5,
   "id": "200c4f8b-7ff4-4ceb-afdc-8005a0489fba",
   "metadata": {},
   "outputs": [],
   "source": [
    "url = f\"host={host} port={port} dbname={dbname} user={user} password={password}\""
   ]
  },
  {
   "cell_type": "code",
   "execution_count": 37,
   "id": "3baaff09-15d7-4a0f-b72d-1e4f8eacdb81",
   "metadata": {},
   "outputs": [
    {
     "data": {
      "text/plain": [
       "<connection object at 0x0000011CD0BC6AC0; dsn: 'user=citymngr password=xxx dbname=dbcity host=localhost port=5432', closed: 0>"
      ]
     },
     "execution_count": 37,
     "metadata": {},
     "output_type": "execute_result"
    }
   ],
   "source": [
    "conn = pg.connect(url)\n",
    "conn"
   ]
  },
  {
   "cell_type": "code",
   "execution_count": 38,
   "id": "890284c4-5fcb-4e2d-af9a-60eff7fc3a87",
   "metadata": {},
   "outputs": [],
   "source": [
    "conn.close()"
   ]
  },
  {
   "cell_type": "code",
   "execution_count": 40,
   "id": "2beac9b0-82fb-42fd-84fb-f7fc120e712b",
   "metadata": {},
   "outputs": [
    {
     "name": "stdout",
     "output_type": "stream",
     "text": [
      "0\n",
      "0\n"
     ]
    }
   ],
   "source": [
    "# use with a context manager\n",
    "with pg.connect(url) as conn1:\n",
    "    print(conn1.closed)\n",
    "print(conn1.closed)    "
   ]
  },
  {
   "cell_type": "code",
   "execution_count": 59,
   "id": "f9919fa7-dca9-4c99-bcc7-72609f62d2c3",
   "metadata": {},
   "outputs": [
    {
     "name": "stdout",
     "output_type": "stream",
     "text": [
      "[(2, None, None, '31000', 'Toulouse', None, None, None, '31', None, None), (3, None, None, '64000', 'Pau', None, None, None, '64', None, None)]\n"
     ]
    }
   ],
   "source": [
    "conn = pg.connect(url)\n",
    "cursor = conn.cursor()\n",
    "cursor.execute('SELECT * FROM city')\n",
    "data = list(cursor)\n",
    "print(data)\n",
    "cursor.close()\n",
    "conn.close()"
   ]
  },
  {
   "cell_type": "code",
   "execution_count": null,
   "id": "d05da4ec-8236-43ae-b112-70030eb91fec",
   "metadata": {},
   "outputs": [],
   "source": [
    "conn = pg.connect(url)\n",
    "conn.autocommit = True\n",
    "cursor = conn.cursor()\n",
    "cursor.execute(\"INSERT INTO city (label, zip_code, department_number) VALUES ('Toulouse','31000', '31')\")\n",
    "cursor.close()\n",
    "conn.close()"
   ]
  },
  {
   "cell_type": "code",
   "execution_count": 56,
   "id": "8c570012-d9a7-47ab-a8fa-684d51ad9295",
   "metadata": {},
   "outputs": [],
   "source": [
    "name = 'Pau'\n",
    "zipcode = '64000'\n",
    "dept = '64'"
   ]
  },
  {
   "cell_type": "code",
   "execution_count": 58,
   "id": "ed8b6179-71b4-44d5-bfa6-ac61552125df",
   "metadata": {},
   "outputs": [],
   "source": [
    "with pg.connect(url) as conn:\n",
    "    conn.autocommit = True\n",
    "    with conn.cursor() as cursor:\n",
    "        cursor.execute(\"INSERT INTO city (label, zip_code, department_number) VALUES (%s, %s, %s)\", (name, zipcode, dept))"
   ]
  },
  {
   "cell_type": "code",
   "execution_count": 60,
   "id": "8de15d54-6990-414d-a458-e5c7b5f8bd9b",
   "metadata": {},
   "outputs": [
    {
     "data": {
      "text/plain": [
       "[(2, None, None, '31000', 'Toulouse', None, None, None, '31', None, None),\n",
       " (3, None, None, '64000', 'Pau', None, None, None, '64', None, None)]"
      ]
     },
     "execution_count": 60,
     "metadata": {},
     "output_type": "execute_result"
    }
   ],
   "source": [
    "with pg.connect(url) as conn:\n",
    "    with conn.cursor() as cursor:\n",
    "        cursor.execute('SELECT * FROM city')\n",
    "        data = list(cursor)\n",
    "data"
   ]
  },
  {
   "cell_type": "markdown",
   "id": "e865ba2a-2ca4-4629-b5be-23341c790311",
   "metadata": {},
   "source": [
    "## Pandas et SQLAlchemy"
   ]
  },
  {
   "cell_type": "code",
   "execution_count": 4,
   "id": "dbef2416-1f64-4e53-865c-54aea7a453f7",
   "metadata": {},
   "outputs": [],
   "source": [
    "engine = create_engine(f\"postgresql://{user}:{password}@{host}:{port}/{dbname}\")"
   ]
  },
  {
   "cell_type": "code",
   "execution_count": 64,
   "id": "00a054f0-0eb5-47e5-8fda-980961e803e3",
   "metadata": {},
   "outputs": [],
   "source": [
    "with engine.connect():\n",
    "    pass"
   ]
  },
  {
   "cell_type": "code",
   "execution_count": 38,
   "id": "177be04f-2147-4345-bf5f-e6e3b5cc75f0",
   "metadata": {},
   "outputs": [],
   "source": [
    "mssql_user='sa'\n",
    "mssql_password='Passw@rd'\n",
    "mssql_port = 1433\n",
    "#engine2 = create_engine(f\"mssql+pymssql://{mssql_user}:{mssql_password}@{host}:{mssql_port}/{dbname}\")\n",
    "engine2 = create_engine(f\"mssql+pyodbc://{mssql_user}:{mssql_password}@{host}:{mssql_port}/{dbname}?driver=ODBC+Driver+2022+for+SQL+Server\")\n",
    "#\"mssql+pyodbc://{user}:{password}@{host}/{dbname}?driver=ODBC+Driver+17+for+SQL+Server"
   ]
  },
  {
   "cell_type": "code",
   "execution_count": 40,
   "id": "f7474428-c687-4628-8722-28ed91776c0d",
   "metadata": {},
   "outputs": [],
   "source": [
    "# NB: need to configure odbc\n",
    "# with engine2.connect():\n",
    "#     pass"
   ]
  },
  {
   "cell_type": "code",
   "execution_count": 6,
   "id": "75595b33-2e53-43b5-8313-70b747340c9c",
   "metadata": {},
   "outputs": [
    {
     "data": {
      "text/html": [
       "<div>\n",
       "<style scoped>\n",
       "    .dataframe tbody tr th:only-of-type {\n",
       "        vertical-align: middle;\n",
       "    }\n",
       "\n",
       "    .dataframe tbody tr th {\n",
       "        vertical-align: top;\n",
       "    }\n",
       "\n",
       "    .dataframe thead th {\n",
       "        text-align: right;\n",
       "    }\n",
       "</style>\n",
       "<table border=\"1\" class=\"dataframe\">\n",
       "  <thead>\n",
       "    <tr style=\"text-align: right;\">\n",
       "      <th></th>\n",
       "      <th>id</th>\n",
       "      <th>insee_code</th>\n",
       "      <th>city_code</th>\n",
       "      <th>zip_code</th>\n",
       "      <th>label</th>\n",
       "      <th>latitude</th>\n",
       "      <th>longitude</th>\n",
       "      <th>department_name</th>\n",
       "      <th>department_number</th>\n",
       "      <th>region_name</th>\n",
       "      <th>region_geojson_name</th>\n",
       "    </tr>\n",
       "  </thead>\n",
       "  <tbody>\n",
       "    <tr>\n",
       "      <th>0</th>\n",
       "      <td>2</td>\n",
       "      <td>None</td>\n",
       "      <td>None</td>\n",
       "      <td>31000</td>\n",
       "      <td>Toulouse</td>\n",
       "      <td>NaN</td>\n",
       "      <td>NaN</td>\n",
       "      <td>None</td>\n",
       "      <td>31</td>\n",
       "      <td>None</td>\n",
       "      <td>None</td>\n",
       "    </tr>\n",
       "    <tr>\n",
       "      <th>1</th>\n",
       "      <td>3</td>\n",
       "      <td>None</td>\n",
       "      <td>None</td>\n",
       "      <td>64000</td>\n",
       "      <td>Pau</td>\n",
       "      <td>NaN</td>\n",
       "      <td>NaN</td>\n",
       "      <td>None</td>\n",
       "      <td>64</td>\n",
       "      <td>None</td>\n",
       "      <td>None</td>\n",
       "    </tr>\n",
       "  </tbody>\n",
       "</table>\n",
       "</div>"
      ],
      "text/plain": [
       "   id insee_code city_code zip_code     label  latitude  longitude  \\\n",
       "0   2       None      None    31000  Toulouse       NaN        NaN   \n",
       "1   3       None      None    64000       Pau       NaN        NaN   \n",
       "\n",
       "  department_name department_number region_name region_geojson_name  \n",
       "0            None                31        None                None  \n",
       "1            None                64        None                None  "
      ]
     },
     "execution_count": 6,
     "metadata": {},
     "output_type": "execute_result"
    }
   ],
   "source": [
    "dfCities = pd.read_sql_table('city', con=engine)\n",
    "dfCities"
   ]
  },
  {
   "cell_type": "code",
   "execution_count": 8,
   "id": "45096aa1-0625-4674-9506-13a21c3188f3",
   "metadata": {},
   "outputs": [
    {
     "data": {
      "text/html": [
       "<div>\n",
       "<style scoped>\n",
       "    .dataframe tbody tr th:only-of-type {\n",
       "        vertical-align: middle;\n",
       "    }\n",
       "\n",
       "    .dataframe tbody tr th {\n",
       "        vertical-align: top;\n",
       "    }\n",
       "\n",
       "    .dataframe thead th {\n",
       "        text-align: right;\n",
       "    }\n",
       "</style>\n",
       "<table border=\"1\" class=\"dataframe\">\n",
       "  <thead>\n",
       "    <tr style=\"text-align: right;\">\n",
       "      <th></th>\n",
       "      <th>insee_code</th>\n",
       "      <th>city_code</th>\n",
       "      <th>zip_code</th>\n",
       "      <th>label</th>\n",
       "      <th>latitude</th>\n",
       "      <th>longitude</th>\n",
       "      <th>department_name</th>\n",
       "      <th>department_number</th>\n",
       "      <th>region_name</th>\n",
       "      <th>region_geojson_name</th>\n",
       "    </tr>\n",
       "  </thead>\n",
       "  <tbody>\n",
       "    <tr>\n",
       "      <th>0</th>\n",
       "      <td>25620</td>\n",
       "      <td>ville du pont</td>\n",
       "      <td>25650</td>\n",
       "      <td>ville du pont</td>\n",
       "      <td>46.999873</td>\n",
       "      <td>6.498147</td>\n",
       "      <td>doubs</td>\n",
       "      <td>25</td>\n",
       "      <td>bourgogne-franche-comté</td>\n",
       "      <td>Bourgogne-Franche-Comté</td>\n",
       "    </tr>\n",
       "    <tr>\n",
       "      <th>1</th>\n",
       "      <td>25624</td>\n",
       "      <td>villers grelot</td>\n",
       "      <td>25640</td>\n",
       "      <td>villers grelot</td>\n",
       "      <td>47.361512</td>\n",
       "      <td>6.235167</td>\n",
       "      <td>doubs</td>\n",
       "      <td>25</td>\n",
       "      <td>bourgogne-franche-comté</td>\n",
       "      <td>Bourgogne-Franche-Comté</td>\n",
       "    </tr>\n",
       "    <tr>\n",
       "      <th>2</th>\n",
       "      <td>25615</td>\n",
       "      <td>villars les blamont</td>\n",
       "      <td>25310</td>\n",
       "      <td>villars les blamont</td>\n",
       "      <td>47.368384</td>\n",
       "      <td>6.871415</td>\n",
       "      <td>doubs</td>\n",
       "      <td>25</td>\n",
       "      <td>bourgogne-franche-comté</td>\n",
       "      <td>Bourgogne-Franche-Comté</td>\n",
       "    </tr>\n",
       "    <tr>\n",
       "      <th>3</th>\n",
       "      <td>25619</td>\n",
       "      <td>les villedieu</td>\n",
       "      <td>25240</td>\n",
       "      <td>les villedieu</td>\n",
       "      <td>46.713906</td>\n",
       "      <td>6.265831</td>\n",
       "      <td>doubs</td>\n",
       "      <td>25</td>\n",
       "      <td>bourgogne-franche-comté</td>\n",
       "      <td>Bourgogne-Franche-Comté</td>\n",
       "    </tr>\n",
       "    <tr>\n",
       "      <th>4</th>\n",
       "      <td>25622</td>\n",
       "      <td>villers buzon</td>\n",
       "      <td>25170</td>\n",
       "      <td>villers buzon</td>\n",
       "      <td>47.228558</td>\n",
       "      <td>5.852187</td>\n",
       "      <td>doubs</td>\n",
       "      <td>25</td>\n",
       "      <td>bourgogne-franche-comté</td>\n",
       "      <td>Bourgogne-Franche-Comté</td>\n",
       "    </tr>\n",
       "  </tbody>\n",
       "</table>\n",
       "</div>"
      ],
      "text/plain": [
       "  insee_code            city_code zip_code                label   latitude  \\\n",
       "0      25620        ville du pont    25650        ville du pont  46.999873   \n",
       "1      25624       villers grelot    25640       villers grelot  47.361512   \n",
       "2      25615  villars les blamont    25310  villars les blamont  47.368384   \n",
       "3      25619        les villedieu    25240        les villedieu  46.713906   \n",
       "4      25622        villers buzon    25170        villers buzon  47.228558   \n",
       "\n",
       "   longitude department_name department_number              region_name  \\\n",
       "0   6.498147           doubs                25  bourgogne-franche-comté   \n",
       "1   6.235167           doubs                25  bourgogne-franche-comté   \n",
       "2   6.871415           doubs                25  bourgogne-franche-comté   \n",
       "3   6.265831           doubs                25  bourgogne-franche-comté   \n",
       "4   5.852187           doubs                25  bourgogne-franche-comté   \n",
       "\n",
       "       region_geojson_name  \n",
       "0  Bourgogne-Franche-Comté  \n",
       "1  Bourgogne-Franche-Comté  \n",
       "2  Bourgogne-Franche-Comté  \n",
       "3  Bourgogne-Franche-Comté  \n",
       "4  Bourgogne-Franche-Comté  "
      ]
     },
     "execution_count": 8,
     "metadata": {},
     "output_type": "execute_result"
    }
   ],
   "source": [
    "dfCities = pd.read_csv('data/cities/cities.csv', encoding='UTF-8', dtype={'zip_code':str})\n",
    "dfCities.head()"
   ]
  },
  {
   "cell_type": "code",
   "execution_count": 11,
   "id": "1dd1d876-9726-4bf3-9f7c-8236caaa5571",
   "metadata": {},
   "outputs": [
    {
     "data": {
      "text/plain": [
       "145"
      ]
     },
     "execution_count": 11,
     "metadata": {},
     "output_type": "execute_result"
    }
   ],
   "source": [
    "# ValueError: Table 'city' already exists.\n",
    "dfCities.to_sql('city2', con=engine)"
   ]
  },
  {
   "cell_type": "code",
   "execution_count": 13,
   "id": "31aa84c4-18aa-4e6f-a660-61110f6c0727",
   "metadata": {},
   "outputs": [
    {
     "data": {
      "text/plain": [
       "145"
      ]
     },
     "execution_count": 13,
     "metadata": {},
     "output_type": "execute_result"
    }
   ],
   "source": [
    "dfCities.to_sql('city', con=engine, if_exists='append', index=False)"
   ]
  },
  {
   "cell_type": "code",
   "execution_count": 14,
   "id": "821645fa-48ce-4291-9eea-528f36c08411",
   "metadata": {},
   "outputs": [
    {
     "data": {
      "text/plain": [
       "39145"
      ]
     },
     "execution_count": 14,
     "metadata": {},
     "output_type": "execute_result"
    }
   ],
   "source": [
    "len(dfCities)"
   ]
  },
  {
   "cell_type": "code",
   "execution_count": 23,
   "id": "3eb2e1d5-5b56-4e24-b271-f02b367464af",
   "metadata": {},
   "outputs": [
    {
     "data": {
      "text/html": [
       "<div>\n",
       "<style scoped>\n",
       "    .dataframe tbody tr th:only-of-type {\n",
       "        vertical-align: middle;\n",
       "    }\n",
       "\n",
       "    .dataframe tbody tr th {\n",
       "        vertical-align: top;\n",
       "    }\n",
       "\n",
       "    .dataframe thead th {\n",
       "        text-align: right;\n",
       "    }\n",
       "</style>\n",
       "<table border=\"1\" class=\"dataframe\">\n",
       "  <thead>\n",
       "    <tr style=\"text-align: right;\">\n",
       "      <th></th>\n",
       "      <th>id</th>\n",
       "      <th>insee_code</th>\n",
       "      <th>city_code</th>\n",
       "      <th>zip_code</th>\n",
       "      <th>label</th>\n",
       "      <th>latitude</th>\n",
       "      <th>longitude</th>\n",
       "      <th>department_name</th>\n",
       "      <th>department_number</th>\n",
       "      <th>region_name</th>\n",
       "      <th>region_geojson_name</th>\n",
       "    </tr>\n",
       "  </thead>\n",
       "  <tbody>\n",
       "    <tr>\n",
       "      <th>0</th>\n",
       "      <td>3</td>\n",
       "      <td>None</td>\n",
       "      <td>None</td>\n",
       "      <td>64000</td>\n",
       "      <td>Pau</td>\n",
       "      <td>NaN</td>\n",
       "      <td>NaN</td>\n",
       "      <td>None</td>\n",
       "      <td>64</td>\n",
       "      <td>None</td>\n",
       "      <td>None</td>\n",
       "    </tr>\n",
       "    <tr>\n",
       "      <th>1</th>\n",
       "      <td>16348</td>\n",
       "      <td>64001</td>\n",
       "      <td>aast</td>\n",
       "      <td>64460</td>\n",
       "      <td>aast</td>\n",
       "      <td>43.291176</td>\n",
       "      <td>-0.081741</td>\n",
       "      <td>pyrénées-atlantiques</td>\n",
       "      <td>64</td>\n",
       "      <td>nouvelle-aquitaine</td>\n",
       "      <td>Nouvelle-Aquitaine</td>\n",
       "    </tr>\n",
       "    <tr>\n",
       "      <th>2</th>\n",
       "      <td>16351</td>\n",
       "      <td>64003</td>\n",
       "      <td>abidos</td>\n",
       "      <td>64150</td>\n",
       "      <td>abidos</td>\n",
       "      <td>43.395117</td>\n",
       "      <td>-0.627969</td>\n",
       "      <td>pyrénées-atlantiques</td>\n",
       "      <td>64</td>\n",
       "      <td>nouvelle-aquitaine</td>\n",
       "      <td>Nouvelle-Aquitaine</td>\n",
       "    </tr>\n",
       "    <tr>\n",
       "      <th>3</th>\n",
       "      <td>16354</td>\n",
       "      <td>64006</td>\n",
       "      <td>accous</td>\n",
       "      <td>64490</td>\n",
       "      <td>accous</td>\n",
       "      <td>42.923529</td>\n",
       "      <td>-0.613590</td>\n",
       "      <td>pyrénées-atlantiques</td>\n",
       "      <td>64</td>\n",
       "      <td>nouvelle-aquitaine</td>\n",
       "      <td>Nouvelle-Aquitaine</td>\n",
       "    </tr>\n",
       "    <tr>\n",
       "      <th>4</th>\n",
       "      <td>16357</td>\n",
       "      <td>64007</td>\n",
       "      <td>agnos</td>\n",
       "      <td>64400</td>\n",
       "      <td>agnos</td>\n",
       "      <td>43.153436</td>\n",
       "      <td>-0.630451</td>\n",
       "      <td>pyrénées-atlantiques</td>\n",
       "      <td>64</td>\n",
       "      <td>nouvelle-aquitaine</td>\n",
       "      <td>Nouvelle-Aquitaine</td>\n",
       "    </tr>\n",
       "    <tr>\n",
       "      <th>...</th>\n",
       "      <td>...</td>\n",
       "      <td>...</td>\n",
       "      <td>...</td>\n",
       "      <td>...</td>\n",
       "      <td>...</td>\n",
       "      <td>...</td>\n",
       "      <td>...</td>\n",
       "      <td>...</td>\n",
       "      <td>...</td>\n",
       "      <td>...</td>\n",
       "      <td>...</td>\n",
       "    </tr>\n",
       "    <tr>\n",
       "      <th>561</th>\n",
       "      <td>18783</td>\n",
       "      <td>64529</td>\n",
       "      <td>sus</td>\n",
       "      <td>64190</td>\n",
       "      <td>sus</td>\n",
       "      <td>43.291746</td>\n",
       "      <td>-0.780735</td>\n",
       "      <td>pyrénées-atlantiques</td>\n",
       "      <td>64</td>\n",
       "      <td>nouvelle-aquitaine</td>\n",
       "      <td>Nouvelle-Aquitaine</td>\n",
       "    </tr>\n",
       "    <tr>\n",
       "      <th>562</th>\n",
       "      <td>18786</td>\n",
       "      <td>64540</td>\n",
       "      <td>urcuit</td>\n",
       "      <td>64990</td>\n",
       "      <td>urcuit</td>\n",
       "      <td>43.485045</td>\n",
       "      <td>-1.350222</td>\n",
       "      <td>pyrénées-atlantiques</td>\n",
       "      <td>64</td>\n",
       "      <td>nouvelle-aquitaine</td>\n",
       "      <td>Nouvelle-Aquitaine</td>\n",
       "    </tr>\n",
       "    <tr>\n",
       "      <th>563</th>\n",
       "      <td>18789</td>\n",
       "      <td>64558</td>\n",
       "      <td>villefranque</td>\n",
       "      <td>64990</td>\n",
       "      <td>villefranque</td>\n",
       "      <td>43.441684</td>\n",
       "      <td>-1.447768</td>\n",
       "      <td>pyrénées-atlantiques</td>\n",
       "      <td>64</td>\n",
       "      <td>nouvelle-aquitaine</td>\n",
       "      <td>Nouvelle-Aquitaine</td>\n",
       "    </tr>\n",
       "    <tr>\n",
       "      <th>564</th>\n",
       "      <td>18792</td>\n",
       "      <td>64559</td>\n",
       "      <td>viodos abense de bas</td>\n",
       "      <td>64130</td>\n",
       "      <td>viodos abense de bas</td>\n",
       "      <td>43.247703</td>\n",
       "      <td>-0.896421</td>\n",
       "      <td>pyrénées-atlantiques</td>\n",
       "      <td>64</td>\n",
       "      <td>nouvelle-aquitaine</td>\n",
       "      <td>Nouvelle-Aquitaine</td>\n",
       "    </tr>\n",
       "    <tr>\n",
       "      <th>565</th>\n",
       "      <td>18795</td>\n",
       "      <td>64560</td>\n",
       "      <td>viven</td>\n",
       "      <td>64450</td>\n",
       "      <td>viven</td>\n",
       "      <td>43.461768</td>\n",
       "      <td>-0.376044</td>\n",
       "      <td>pyrénées-atlantiques</td>\n",
       "      <td>64</td>\n",
       "      <td>nouvelle-aquitaine</td>\n",
       "      <td>Nouvelle-Aquitaine</td>\n",
       "    </tr>\n",
       "  </tbody>\n",
       "</table>\n",
       "<p>566 rows × 11 columns</p>\n",
       "</div>"
      ],
      "text/plain": [
       "        id insee_code             city_code zip_code                 label  \\\n",
       "0        3       None                  None    64000                   Pau   \n",
       "1    16348      64001                  aast    64460                  aast   \n",
       "2    16351      64003                abidos    64150                abidos   \n",
       "3    16354      64006                accous    64490                accous   \n",
       "4    16357      64007                 agnos    64400                 agnos   \n",
       "..     ...        ...                   ...      ...                   ...   \n",
       "561  18783      64529                   sus    64190                   sus   \n",
       "562  18786      64540                urcuit    64990                urcuit   \n",
       "563  18789      64558          villefranque    64990          villefranque   \n",
       "564  18792      64559  viodos abense de bas    64130  viodos abense de bas   \n",
       "565  18795      64560                 viven    64450                 viven   \n",
       "\n",
       "      latitude  longitude       department_name department_number  \\\n",
       "0          NaN        NaN                  None                64   \n",
       "1    43.291176  -0.081741  pyrénées-atlantiques                64   \n",
       "2    43.395117  -0.627969  pyrénées-atlantiques                64   \n",
       "3    42.923529  -0.613590  pyrénées-atlantiques                64   \n",
       "4    43.153436  -0.630451  pyrénées-atlantiques                64   \n",
       "..         ...        ...                   ...               ...   \n",
       "561  43.291746  -0.780735  pyrénées-atlantiques                64   \n",
       "562  43.485045  -1.350222  pyrénées-atlantiques                64   \n",
       "563  43.441684  -1.447768  pyrénées-atlantiques                64   \n",
       "564  43.247703  -0.896421  pyrénées-atlantiques                64   \n",
       "565  43.461768  -0.376044  pyrénées-atlantiques                64   \n",
       "\n",
       "            region_name region_geojson_name  \n",
       "0                  None                None  \n",
       "1    nouvelle-aquitaine  Nouvelle-Aquitaine  \n",
       "2    nouvelle-aquitaine  Nouvelle-Aquitaine  \n",
       "3    nouvelle-aquitaine  Nouvelle-Aquitaine  \n",
       "4    nouvelle-aquitaine  Nouvelle-Aquitaine  \n",
       "..                  ...                 ...  \n",
       "561  nouvelle-aquitaine  Nouvelle-Aquitaine  \n",
       "562  nouvelle-aquitaine  Nouvelle-Aquitaine  \n",
       "563  nouvelle-aquitaine  Nouvelle-Aquitaine  \n",
       "564  nouvelle-aquitaine  Nouvelle-Aquitaine  \n",
       "565  nouvelle-aquitaine  Nouvelle-Aquitaine  \n",
       "\n",
       "[566 rows x 11 columns]"
      ]
     },
     "execution_count": 23,
     "metadata": {},
     "output_type": "execute_result"
    }
   ],
   "source": [
    "dept = '64'\n",
    "\n",
    "# avec pandas ramener les villes du département dpt\n",
    "sql = \"SELECT * FROM city WHERE department_number = %s\"\n",
    "dfCitiesMyDept = pd.read_sql_query(sql, con=engine, params=(dept,))\n",
    "dfCitiesMyDept"
   ]
  },
  {
   "cell_type": "code",
   "execution_count": 36,
   "id": "3bcedee8-fec6-4395-921a-47c494d952ac",
   "metadata": {},
   "outputs": [
    {
     "name": "stdout",
     "output_type": "stream",
     "text": [
      "no arg by name with this engine: <class 'sqlalchemy.exc.ProgrammingError'>\n",
      "detail: (psycopg2.errors.SyntaxError) syntax error at or near \":\"\n",
      "LINE 1: SELECT * FROM city WHERE department_number = :dept\n",
      "                                                     ^\n",
      "\n",
      "[SQL: SELECT * FROM city WHERE department_number = :dept]\n",
      "[parameters: {'dept': '64'}]\n",
      "(Background on this error at: https://sqlalche.me/e/20/f405)\n"
     ]
    }
   ],
   "source": [
    "# Not accepted by psycopg2 (by default)\n",
    "dept = '64'\n",
    "\n",
    "# avec pandas ramener les villes du département dpt\n",
    "sql = \"SELECT * FROM city WHERE department_number = :dept\"\n",
    "try: \n",
    "    dfCitiesMyDept = pd.read_sql_query(sql, con=engine, params={'dept': dept})\n",
    "    print(dfCitiesMyDept)\n",
    "except Exception as ex:\n",
    "    print('no arg by name with this engine:', type(ex))\n",
    "    print('detail:', ex)"
   ]
  }
 ],
 "metadata": {
  "kernelspec": {
   "display_name": "k312",
   "language": "python",
   "name": "k312"
  },
  "language_info": {
   "codemirror_mode": {
    "name": "ipython",
    "version": 3
   },
   "file_extension": ".py",
   "mimetype": "text/x-python",
   "name": "python",
   "nbconvert_exporter": "python",
   "pygments_lexer": "ipython3",
   "version": "3.12.0"
  }
 },
 "nbformat": 4,
 "nbformat_minor": 5
}
