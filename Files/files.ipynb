{
 "cells": [
  {
   "cell_type": "markdown",
   "id": "2896c54f-f544-49fe-9367-f9495d99ff62",
   "metadata": {},
   "source": [
    "# File and File System\n",
    "builtin function: open\n",
    "modules:\n",
    "- FS: pathlib, os.path\n",
    "- file management (copy, remove, move, ...): shutil\n",
    "- file content according to its format: csv, xml.etree, json, ..., pandas"
   ]
  },
  {
   "cell_type": "code",
   "execution_count": 84,
   "id": "a21101f8-0220-4f8f-9372-412a30cfbd12",
   "metadata": {},
   "outputs": [],
   "source": [
    "from pathlib import Path\n",
    "from datetime import datetime\n",
    "import shutil\n",
    "import re"
   ]
  },
  {
   "cell_type": "markdown",
   "id": "93b4b55b-4dd7-4ac5-bac5-56c7ce914b5b",
   "metadata": {},
   "source": [
    "## FileSystem and File management"
   ]
  },
  {
   "cell_type": "code",
   "execution_count": 2,
   "id": "f74d654d-2aeb-4d0c-8c7c-880c3dc69fd0",
   "metadata": {},
   "outputs": [
    {
     "data": {
      "text/plain": [
       "WindowsPath('.')"
      ]
     },
     "execution_count": 2,
     "metadata": {},
     "output_type": "execute_result"
    }
   ],
   "source": [
    "currentDir = Path(\".\")\n",
    "currentDir"
   ]
  },
  {
   "cell_type": "code",
   "execution_count": 3,
   "id": "621de5db-403b-4090-b35a-48469d3a30ef",
   "metadata": {},
   "outputs": [
    {
     "data": {
      "text/plain": [
       "WindowsPath('data/cities')"
      ]
     },
     "execution_count": 3,
     "metadata": {},
     "output_type": "execute_result"
    }
   ],
   "source": [
    "dataDir = Path(\"data/cities/\")\n",
    "dataDir"
   ]
  },
  {
   "cell_type": "code",
   "execution_count": 4,
   "id": "7b53ebab-5a31-481e-a81f-34b1fae010c2",
   "metadata": {},
   "outputs": [
    {
     "data": {
      "text/plain": [
       "WindowsPath('data/cities')"
      ]
     },
     "execution_count": 4,
     "metadata": {},
     "output_type": "execute_result"
    }
   ],
   "source": [
    "dataDir = Path(\"data\\\\cities\")\n",
    "dataDir"
   ]
  },
  {
   "cell_type": "code",
   "execution_count": 5,
   "id": "e3926c73-a004-4fed-8db7-db6598e02017",
   "metadata": {},
   "outputs": [
    {
     "data": {
      "text/plain": [
       "WindowsPath('data/cities')"
      ]
     },
     "execution_count": 5,
     "metadata": {},
     "output_type": "execute_result"
    }
   ],
   "source": [
    "# concatenate paths: method joinpath  or operator /\n",
    "dataDir = currentDir / \"data\" / \"cities\"\n",
    "dataDir"
   ]
  },
  {
   "cell_type": "code",
   "execution_count": 6,
   "id": "b0c16724-9fed-496b-81bd-8932e3ad224d",
   "metadata": {},
   "outputs": [
    {
     "data": {
      "text/plain": [
       "WindowsPath('data')"
      ]
     },
     "execution_count": 6,
     "metadata": {},
     "output_type": "execute_result"
    }
   ],
   "source": [
    "dataDir.parent"
   ]
  },
  {
   "cell_type": "code",
   "execution_count": 7,
   "id": "a576479a-28f7-401d-bbc6-7cb1ae269821",
   "metadata": {},
   "outputs": [
    {
     "data": {
      "text/plain": [
       "WindowsPath('.')"
      ]
     },
     "execution_count": 7,
     "metadata": {},
     "output_type": "execute_result"
    }
   ],
   "source": [
    "# relative path . or root directory are their own parent\n",
    "currentDir.parent"
   ]
  },
  {
   "cell_type": "code",
   "execution_count": 8,
   "id": "d52ccde5-1be4-44ed-b935-a6ea8b1dca98",
   "metadata": {},
   "outputs": [
    {
     "data": {
      "text/plain": [
       "WindowsPath('C:/Users/Matthias/Documents/Formations/Python/Stage202402/Files')"
      ]
     },
     "execution_count": 8,
     "metadata": {},
     "output_type": "execute_result"
    }
   ],
   "source": [
    "absoluteCurrentDir = currentDir.absolute()\n",
    "absoluteCurrentDir"
   ]
  },
  {
   "cell_type": "code",
   "execution_count": 9,
   "id": "6ad7b128-f288-43ff-aa4b-fbe6b125e4d8",
   "metadata": {},
   "outputs": [
    {
     "name": "stdout",
     "output_type": "stream",
     "text": [
      "WindowsPath('C:/Users/Matthias/Documents/Formations/Python/Stage202402')\n",
      "C:\\Users\\Matthias\\Documents\\Formations\\Python\\Stage202402\n",
      "\n",
      "WindowsPath('C:/Users/Matthias/Documents/Formations/Python')\n",
      "C:\\Users\\Matthias\\Documents\\Formations\\Python\n",
      "\n",
      "WindowsPath('C:/Users/Matthias/Documents/Formations')\n",
      "C:\\Users\\Matthias\\Documents\\Formations\n",
      "\n",
      "WindowsPath('C:/Users/Matthias/Documents')\n",
      "C:\\Users\\Matthias\\Documents\n",
      "\n",
      "WindowsPath('C:/Users/Matthias')\n",
      "C:\\Users\\Matthias\n",
      "\n",
      "WindowsPath('C:/Users')\n",
      "C:\\Users\n",
      "\n",
      "WindowsPath('C:/')\n",
      "C:\\\n",
      "\n"
     ]
    }
   ],
   "source": [
    "for p in absoluteCurrentDir.parents:\n",
    "    print(repr(p))\n",
    "    print(p)\n",
    "    print()"
   ]
  },
  {
   "cell_type": "code",
   "execution_count": 10,
   "id": "bf9f2a70-a0c8-45b7-97a1-ac6248e88968",
   "metadata": {},
   "outputs": [
    {
     "data": {
      "text/plain": [
       "(True, True)"
      ]
     },
     "execution_count": 10,
     "metadata": {},
     "output_type": "execute_result"
    }
   ],
   "source": [
    "currentDir.exists(), currentDir.is_dir()"
   ]
  },
  {
   "cell_type": "code",
   "execution_count": 11,
   "id": "a82628b1-d67e-4c08-a856-680bf4f6cff6",
   "metadata": {},
   "outputs": [
    {
     "name": "stdout",
     "output_type": "stream",
     "text": [
      ".ipynb_checkpoints\n",
      "\t-name: .ipynb_checkpoints\n",
      "\t-is directory: True\n",
      "\t-is directory: False\n",
      "data\n",
      "\t-name: data\n",
      "\t-is directory: True\n",
      "\t-is directory: False\n",
      "files.ipynb\n",
      "\t-name: files.ipynb\n",
      "\t-is directory: False\n",
      "\t-is directory: True\n"
     ]
    }
   ],
   "source": [
    "for f in currentDir.iterdir():\n",
    "    print(f)\n",
    "    print(\"\\t-name:\", f.name)\n",
    "    print(\"\\t-is directory:\", f.is_dir())\n",
    "    print(\"\\t-is directory:\", f.is_file())"
   ]
  },
  {
   "cell_type": "code",
   "execution_count": 12,
   "id": "8f138f94-1d68-4f1f-b61a-beb64071257e",
   "metadata": {},
   "outputs": [
    {
     "data": {
      "text/plain": [
       "os.stat_result(st_mode=33206, st_ino=4785074607527690, st_dev=8842262613728869279, st_nlink=1, st_uid=0, st_gid=0, st_size=43915, st_atime=1707465927, st_mtime=1707408565, st_ctime=1707397177)"
      ]
     },
     "execution_count": 12,
     "metadata": {},
     "output_type": "execute_result"
    }
   ],
   "source": [
    "st = f.stat()\n",
    "st"
   ]
  },
  {
   "cell_type": "code",
   "execution_count": 13,
   "id": "c7c20671-b9b6-4949-b04f-9985b9eb6de2",
   "metadata": {},
   "outputs": [
    {
     "data": {
      "text/plain": [
       "43915"
      ]
     },
     "execution_count": 13,
     "metadata": {},
     "output_type": "execute_result"
    }
   ],
   "source": [
    "# size in bytes\n",
    "st.st_size"
   ]
  },
  {
   "cell_type": "code",
   "execution_count": 14,
   "id": "41ede264-28ee-4da0-86d1-efe47069700e",
   "metadata": {},
   "outputs": [
    {
     "name": "stdout",
     "output_type": "stream",
     "text": [
      "created: 2024-02-08 13:59:37.301141\n",
      "modified: 2024-02-08 17:09:25.453221\n"
     ]
    }
   ],
   "source": [
    "dt_created = datetime.fromtimestamp(st.st_ctime)\n",
    "dt_modified = datetime.fromtimestamp(st.st_mtime)\n",
    "print(\"created:\", dt_created)\n",
    "print(\"modified:\", dt_modified)"
   ]
  },
  {
   "cell_type": "code",
   "execution_count": 15,
   "id": "a3c9a6be-05e1-4931-8307-b5a073565930",
   "metadata": {},
   "outputs": [
    {
     "data": {
      "text/plain": [
       "WindowsPath('C:/Users/Matthias/Documents/Formations/Python/Stage202402')"
      ]
     },
     "execution_count": 15,
     "metadata": {},
     "output_type": "execute_result"
    }
   ],
   "source": [
    "trainingDir = absoluteCurrentDir.parent\n",
    "trainingDir"
   ]
  },
  {
   "cell_type": "code",
   "execution_count": 16,
   "id": "4f70c8c2-8139-4b61-be8e-ea592fbdb26e",
   "metadata": {},
   "outputs": [
    {
     "name": "stdout",
     "output_type": "stream",
     "text": [
      "C:\\Users\\Matthias\\Documents\\Formations\\Python\\Stage202402\\Basics\\app.py\n",
      "C:\\Users\\Matthias\\Documents\\Formations\\Python\\Stage202402\\Basics\\basics.py\n",
      "C:\\Users\\Matthias\\Documents\\Formations\\Python\\Stage202402\\Basics\\euclide.py\n",
      "C:\\Users\\Matthias\\Documents\\Formations\\Python\\Stage202402\\Basics\\palindrome.py\n",
      "C:\\Users\\Matthias\\Documents\\Formations\\Python\\Stage202402\\Basics\\test_euclide.py\n",
      "C:\\Users\\Matthias\\Documents\\Formations\\Python\\Stage202402\\Basics\\test_palindrome.py\n",
      "C:\\Users\\Matthias\\Documents\\Formations\\Python\\Stage202402\\MagicSquare\\app.py\n",
      "C:\\Users\\Matthias\\Documents\\Formations\\Python\\Stage202402\\MagicSquare\\magicsquare.py\n",
      "C:\\Users\\Matthias\\Documents\\Formations\\Python\\Stage202402\\MagicSquare\\squares.py\n",
      "C:\\Users\\Matthias\\Documents\\Formations\\Python\\Stage202402\\MagicSquare\\test_magicsquare.py\n",
      "C:\\Users\\Matthias\\Documents\\Formations\\Python\\Stage202402\\MagicSquare\\test_magicsquare_integration.py\n",
      "C:\\Users\\Matthias\\Documents\\Formations\\Python\\Stage202402\\POO\\app.py\n",
      "C:\\Users\\Matthias\\Documents\\Formations\\Python\\Stage202402\\POO\\appgeo.py\n",
      "C:\\Users\\Matthias\\Documents\\Formations\\Python\\Stage202402\\POO\\city.py\n",
      "C:\\Users\\Matthias\\Documents\\Formations\\Python\\Stage202402\\POO\\point.py\n",
      "C:\\Users\\Matthias\\Documents\\Formations\\Python\\Stage202402\\POO\\test_city_equals.py\n",
      "C:\\Users\\Matthias\\Documents\\Formations\\Python\\Stage202402\\POO\\test_city_order.py\n"
     ]
    }
   ],
   "source": [
    "for f in trainingDir.glob(\"**/*.py\"):\n",
    "    if \".ipynb_checkpoints\" in (p.name for p in f.parents):\n",
    "        continue\n",
    "    print(f)"
   ]
  },
  {
   "cell_type": "code",
   "execution_count": 17,
   "id": "616a1945-ad69-4b89-a1f3-eec03d2abf9b",
   "metadata": {},
   "outputs": [
    {
     "name": "stdout",
     "output_type": "stream",
     "text": [
      "C:\\Users\\Matthias\\Documents\\Formations\\Python\\Stage202402\\Basics\\basics.ipynb\n",
      "C:\\Users\\Matthias\\Documents\\Formations\\Python\\Stage202402\\Files\\files.ipynb\n",
      "C:\\Users\\Matthias\\Documents\\Formations\\Python\\Stage202402\\MagicSquare\\magicsquare.ipynb\n",
      "C:\\Users\\Matthias\\Documents\\Formations\\Python\\Stage202402\\POO\\comparison_sort.ipynb\n",
      "C:\\Users\\Matthias\\Documents\\Formations\\Python\\Stage202402\\POO\\functions.ipynb\n",
      "C:\\Users\\Matthias\\Documents\\Formations\\Python\\Stage202402\\POO\\oop.ipynb\n",
      "C:\\Users\\Matthias\\Documents\\Formations\\Python\\Stage202402\\POO\\temporal_data.ipynb\n"
     ]
    }
   ],
   "source": [
    "for f in trainingDir.glob(\"**/*.ipynb\"):\n",
    "    if \".ipynb_checkpoints\" in (p.name for p in f.parents):\n",
    "        continue\n",
    "    print(f)"
   ]
  },
  {
   "cell_type": "code",
   "execution_count": 18,
   "id": "c1d9f564-42a4-4ce9-9e98-3b23c344004d",
   "metadata": {
    "scrolled": true
   },
   "outputs": [],
   "source": [
    "# copy file data/cities/cities.csv => data/backup/cities.csv\n",
    "# Hint: method of class Path or module shutil"
   ]
  },
  {
   "cell_type": "code",
   "execution_count": 19,
   "id": "09952d95-8a28-4298-8488-0b9c7cffdef8",
   "metadata": {},
   "outputs": [
    {
     "name": "stdout",
     "output_type": "stream",
     "text": [
      "old_path C:\\Users\\Matthias\\Documents\\Formations\\Python\\Stage202402\\Files\\data\\cities\\cities.csv\n",
      "new_path C:\\Users\\Matthias\\Documents\\Formations\\Python\\Stage202402\\Files\\data\\backup\n"
     ]
    },
    {
     "data": {
      "text/plain": [
       "'C:\\\\Users\\\\Matthias\\\\Documents\\\\Formations\\\\Python\\\\Stage202402\\\\Files\\\\data\\\\backup\\\\cities.csv'"
      ]
     },
     "execution_count": 19,
     "metadata": {},
     "output_type": "execute_result"
    }
   ],
   "source": [
    "# NB: joinpath or operator / give the same results:\n",
    "old_path = absoluteCurrentDir.joinpath(\"data\", \"cities\", \"cities.csv\")  \n",
    "print('old_path', old_path) \n",
    "new_path = absoluteCurrentDir.joinpath(\"data\", \"backup\")\n",
    "# if not new_path.exists():\n",
    "#     new_path.mkdir()\n",
    "new_path.mkdir(parents=True, exist_ok=True) # eq shell: mkdir -p\n",
    "print('new_path', new_path) \n",
    "# copy file from old_path -> new_path directory\n",
    "# NB: cf also copy, copyfile, copystat, copytree\n",
    "shutil.copy2(old_path, new_path)"
   ]
  },
  {
   "cell_type": "code",
   "execution_count": 20,
   "id": "11e7d04d-6356-4ec7-8dcd-6e09f6612c60",
   "metadata": {},
   "outputs": [
    {
     "name": "stdout",
     "output_type": "stream",
     "text": [
      "C:\\Users\\Matthias\\Documents\\Formations\\Python\\Stage202402\\Files\\data\\backup\\cities.csv \n",
      " -> C:\\Users\\Matthias\\Documents\\Formations\\Python\\Stage202402\\Files\\data\\backup\\cities_fr.csv\n"
     ]
    }
   ],
   "source": [
    "# rename data/backup/cities.csv in data/backup/cities_fr.csv\n",
    "cityPath = new_path / \"cities.csv\"\n",
    "newCityPath = new_path / \"cities_fr.csv\"\n",
    "assert cityPath.exists() and not newCityPath.exists()\n",
    "print(cityPath, newCityPath, sep=\" \\n -> \")\n",
    "\n",
    "# then Path.rename or shutil.move (NB:see also movetree)\n",
    "# cityPath.rename(newCityPath)\n",
    "shutil.move(cityPath, newCityPath)\n",
    "assert not cityPath.exists() and newCityPath.exists()"
   ]
  },
  {
   "cell_type": "code",
   "execution_count": 21,
   "id": "7f769572-4999-4cb2-bb09-ee25d475b5f6",
   "metadata": {},
   "outputs": [],
   "source": [
    "# delete data/backup/cities_fr.csv\n",
    "newCityPath.unlink()"
   ]
  },
  {
   "cell_type": "markdown",
   "id": "1822ba0e-bfc4-4086-9609-10dea21213ae",
   "metadata": {},
   "source": [
    "## Read/Write files"
   ]
  },
  {
   "cell_type": "code",
   "execution_count": 22,
   "id": "1cc0d83d-3c92-476c-9a43-ff4fa5cd7500",
   "metadata": {},
   "outputs": [
    {
     "data": {
      "text/plain": [
       "<_io.TextIOWrapper name='C:\\\\Users\\\\Matthias\\\\Documents\\\\Formations\\\\Python\\\\Stage202402\\\\Files\\\\data\\\\cities\\\\cities.csv' mode='r' encoding='cp1252'>"
      ]
     },
     "execution_count": 22,
     "metadata": {},
     "output_type": "execute_result"
    }
   ],
   "source": [
    "# open a file given by a Path object\n",
    "f = open(old_path)\n",
    "f"
   ]
  },
  {
   "cell_type": "code",
   "execution_count": 23,
   "id": "1ce1414a-c100-4615-bd35-ce7f3a80e00f",
   "metadata": {},
   "outputs": [
    {
     "name": "stdout",
     "output_type": "stream",
     "text": [
      "insee_code,city_code,zip_code,label,latitude,longitude,department_name,department_number,region_name,region_geojson_name\n",
      "\n",
      "25620,ville du pont,25650,ville du pont,46.999873398,6.498147193,doubs,25,bourgogne-franche-comtÃ©,Bourgogne-Franche-ComtÃ©\n",
      "\n",
      "25624,villers grelot,25640,villers grelot,47.361512085,6.235167025,doubs,25,bourgogne-franche-comtÃ©,Bourgogne-Franche-ComtÃ©\n",
      "\n",
      "25615,villars les blamont,25310,villars les blamont,47.368383721,6.871414913,doubs,25,bourgogne-franche-comtÃ©,Bourgogne-Franche-ComtÃ©\n",
      "\n",
      "25619,les villedieu,25240,les villedieu,46.713906258,6.26583065,doubs,25,bourgogne-franche-comtÃ©,Bourgogne-Franche-ComtÃ©\n",
      "\n",
      "25622,villers buzon,25170,villers buzon,47.228558434,5.852186748,doubs,25,bourgogne-franche-comtÃ©,Bourgogne-Franche-ComtÃ©\n",
      "\n",
      "25625,villers la combe,25510,villers la combe,47.240809828,6.473842387,doubs,25,bourgogne-franche-comtÃ©,Bourgogne-Franche-ComtÃ©\n",
      "\n",
      "25627,villers sous chalamont,25270,villers sous chalamont,46.901588322,6.045328224,doubs,25,bourgogne-franche-comtÃ©,Bourgogne-Franche-ComtÃ©\n",
      "\n",
      "25632,voujeaucourt,25420,voujeaucourt,47.473552905,6.782505604,doubs,25,bourgogne-franche-comtÃ©,Bourgogne-Franche-ComtÃ©\n",
      "\n",
      "02102,bouconville vauclair,02860,bouconville vauclair,49.460193485,3.756684634,aisne,02,hauts-de-france,Hauts-de-France\n",
      "\n"
     ]
    }
   ],
   "source": [
    "# f (text mode) is iterable on its line\n",
    "for _, line in zip(range(10), f):\n",
    "    print(line)"
   ]
  },
  {
   "cell_type": "code",
   "execution_count": 24,
   "id": "9036ae6f-1f05-4116-9f88-89015424f867",
   "metadata": {},
   "outputs": [],
   "source": [
    "f.close()"
   ]
  },
  {
   "cell_type": "code",
   "execution_count": 25,
   "id": "c4b823b8-0555-4f11-8142-06c43e47f6e7",
   "metadata": {},
   "outputs": [
    {
     "data": {
      "text/plain": [
       "<_io.TextIOWrapper name='C:\\\\Users\\\\Matthias\\\\Documents\\\\Formations\\\\Python\\\\Stage202402\\\\Files\\\\data\\\\cities\\\\cities.csv' mode='r' encoding='UTF-8'>"
      ]
     },
     "execution_count": 25,
     "metadata": {},
     "output_type": "execute_result"
    }
   ],
   "source": [
    "f = open(old_path, encoding='UTF-8')\n",
    "f"
   ]
  },
  {
   "cell_type": "code",
   "execution_count": 26,
   "id": "1161d942-7ee2-41e9-ba28-2104a05c38ac",
   "metadata": {
    "scrolled": true
   },
   "outputs": [
    {
     "name": "stdout",
     "output_type": "stream",
     "text": [
      "insee_code,city_code,zip_code,label,latitude,longitude,department_name,department_number,region_name,region_geojson_name\n",
      "\n",
      "25620,ville du pont,25650,ville du pont,46.999873398,6.498147193,doubs,25,bourgogne-franche-comté,Bourgogne-Franche-Comté\n",
      "\n",
      "25624,villers grelot,25640,villers grelot,47.361512085,6.235167025,doubs,25,bourgogne-franche-comté,Bourgogne-Franche-Comté\n",
      "\n",
      "25615,villars les blamont,25310,villars les blamont,47.368383721,6.871414913,doubs,25,bourgogne-franche-comté,Bourgogne-Franche-Comté\n",
      "\n",
      "25619,les villedieu,25240,les villedieu,46.713906258,6.26583065,doubs,25,bourgogne-franche-comté,Bourgogne-Franche-Comté\n",
      "\n",
      "25622,villers buzon,25170,villers buzon,47.228558434,5.852186748,doubs,25,bourgogne-franche-comté,Bourgogne-Franche-Comté\n",
      "\n",
      "25625,villers la combe,25510,villers la combe,47.240809828,6.473842387,doubs,25,bourgogne-franche-comté,Bourgogne-Franche-Comté\n",
      "\n",
      "25627,villers sous chalamont,25270,villers sous chalamont,46.901588322,6.045328224,doubs,25,bourgogne-franche-comté,Bourgogne-Franche-Comté\n",
      "\n",
      "25632,voujeaucourt,25420,voujeaucourt,47.473552905,6.782505604,doubs,25,bourgogne-franche-comté,Bourgogne-Franche-Comté\n",
      "\n",
      "02102,bouconville vauclair,02860,bouconville vauclair,49.460193485,3.756684634,aisne,02,hauts-de-france,Hauts-de-France\n",
      "\n"
     ]
    }
   ],
   "source": [
    "for _, line in zip(range(10), f):\n",
    "    print(line)"
   ]
  },
  {
   "cell_type": "code",
   "execution_count": 27,
   "id": "deddb232-d7df-4c7d-a3f4-c49b7e4809a0",
   "metadata": {},
   "outputs": [],
   "source": [
    "f.close()"
   ]
  },
  {
   "cell_type": "code",
   "execution_count": 28,
   "id": "784d092b-14d8-4222-a1ea-7760b2447ba2",
   "metadata": {},
   "outputs": [
    {
     "data": {
      "text/plain": [
       "b'\\xc3\\xa9'"
      ]
     },
     "execution_count": 28,
     "metadata": {},
     "output_type": "execute_result"
    }
   ],
   "source": [
    "'é'.encode('UTF-8')"
   ]
  },
  {
   "cell_type": "code",
   "execution_count": 29,
   "id": "884aed1c-69d2-420c-aca3-6e7041cf0599",
   "metadata": {},
   "outputs": [
    {
     "data": {
      "text/plain": [
       "b'\\xe9'"
      ]
     },
     "execution_count": 29,
     "metadata": {},
     "output_type": "execute_result"
    }
   ],
   "source": [
    "'é'.encode('CP1252')"
   ]
  },
  {
   "cell_type": "code",
   "execution_count": 30,
   "id": "18b26308-7c79-4171-901a-1c59608b301a",
   "metadata": {},
   "outputs": [
    {
     "name": "stdout",
     "output_type": "stream",
     "text": [
      "é: ISO-8859-1 = b'\\xe9' / ISO-8859-15 = b'\\xe9' / CP1252 = b'\\xe9' / UTF-8 = b'\\xc3\\xa9' / \n",
      "€: ISO-8859-1 = <unknown> / ISO-8859-15 = b'\\xa4' / CP1252 = b'\\x80' / UTF-8 = b'\\xe2\\x82\\xac' / \n",
      "Ÿ: ISO-8859-1 = <unknown> / ISO-8859-15 = b'\\xbe' / CP1252 = b'\\x9f' / UTF-8 = b'\\xc5\\xb8' / \n"
     ]
    }
   ],
   "source": [
    "for letter in 'é', '€', 'Ÿ':\n",
    "    print(letter, end=': ')\n",
    "    for encoding in 'ISO-8859-1', 'ISO-8859-15', 'CP1252', 'UTF-8':\n",
    "        try:\n",
    "            code = letter.encode(encoding)\n",
    "        except UnicodeEncodeError:\n",
    "            code = '<unknown>'\n",
    "        print(encoding,'=',code, end=' / ')\n",
    "    print()\n",
    "    "
   ]
  },
  {
   "cell_type": "code",
   "execution_count": 31,
   "id": "5ab3c92c-1a75-4e5b-be5f-fabfe2494a52",
   "metadata": {},
   "outputs": [
    {
     "name": "stdout",
     "output_type": "stream",
     "text": [
      "Closed ? False\n",
      "Closed ? True\n"
     ]
    }
   ],
   "source": [
    "with open(old_path, encoding='UTF-8') as f:\n",
    "    # f.__enter__()\n",
    "    print(\"Closed ?\", f.closed)\n",
    "    # f.__exit__() => f.close() (with or without exception)\n",
    "print(\"Closed ?\", f.closed)"
   ]
  },
  {
   "cell_type": "markdown",
   "id": "610c0762-fb0f-4801-822e-92b6fc6e0e4a",
   "metadata": {},
   "source": [
    "### read/write with specialized module by format"
   ]
  },
  {
   "cell_type": "code",
   "execution_count": 63,
   "id": "4f1916d5-d394-4fab-bab9-3e35eec588b0",
   "metadata": {},
   "outputs": [],
   "source": [
    "import pandas as pd\n",
    "import csv # better pandas\n",
    "import json # simple jsonify/parser\n",
    "\n",
    "# import xml.etree as et \n",
    "# or external: lxml.etree as et \n",
    "import lxml.etree as et \n",
    "# or beautifulSoup\n",
    "# https://realpython.com/python-xml-parser/\n",
    "from bs4 import BeautifulSoup"
   ]
  },
  {
   "cell_type": "code",
   "execution_count": 33,
   "id": "d76e96ea-f20f-4a4d-8db8-0ea87f6a5ef1",
   "metadata": {},
   "outputs": [
    {
     "name": "stdout",
     "output_type": "stream",
     "text": [
      "<class 'pandas.core.frame.DataFrame'>\n",
      "RangeIndex: 39145 entries, 0 to 39144\n",
      "Data columns (total 10 columns):\n",
      " #   Column               Non-Null Count  Dtype  \n",
      "---  ------               --------------  -----  \n",
      " 0   insee_code           39145 non-null  object \n",
      " 1   city_code            39145 non-null  object \n",
      " 2   zip_code             39145 non-null  object \n",
      " 3   label                39145 non-null  object \n",
      " 4   latitude             38934 non-null  float64\n",
      " 5   longitude            38934 non-null  float64\n",
      " 6   department_name      39145 non-null  object \n",
      " 7   department_number    39145 non-null  object \n",
      " 8   region_name          39145 non-null  object \n",
      " 9   region_geojson_name  39145 non-null  object \n",
      "dtypes: float64(2), object(8)\n",
      "memory usage: 3.0+ MB\n"
     ]
    }
   ],
   "source": [
    "dfCities = pd.read_csv(old_path, encoding='UTF-8', dtype={'zip_code':str})\n",
    "dfCities.info()"
   ]
  },
  {
   "cell_type": "code",
   "execution_count": 34,
   "id": "43409237-3b69-4f4a-b331-184eab225cc6",
   "metadata": {},
   "outputs": [
    {
     "data": {
      "text/html": [
       "<div>\n",
       "<style scoped>\n",
       "    .dataframe tbody tr th:only-of-type {\n",
       "        vertical-align: middle;\n",
       "    }\n",
       "\n",
       "    .dataframe tbody tr th {\n",
       "        vertical-align: top;\n",
       "    }\n",
       "\n",
       "    .dataframe thead th {\n",
       "        text-align: right;\n",
       "    }\n",
       "</style>\n",
       "<table border=\"1\" class=\"dataframe\">\n",
       "  <thead>\n",
       "    <tr style=\"text-align: right;\">\n",
       "      <th></th>\n",
       "      <th>insee_code</th>\n",
       "      <th>city_code</th>\n",
       "      <th>zip_code</th>\n",
       "      <th>label</th>\n",
       "      <th>latitude</th>\n",
       "      <th>longitude</th>\n",
       "      <th>department_name</th>\n",
       "      <th>department_number</th>\n",
       "      <th>region_name</th>\n",
       "      <th>region_geojson_name</th>\n",
       "    </tr>\n",
       "  </thead>\n",
       "  <tbody>\n",
       "    <tr>\n",
       "      <th>4605</th>\n",
       "      <td>01008</td>\n",
       "      <td>ambutrix</td>\n",
       "      <td>01500</td>\n",
       "      <td>ambutrix</td>\n",
       "      <td>45.936683</td>\n",
       "      <td>5.332447</td>\n",
       "      <td>ain</td>\n",
       "      <td>01</td>\n",
       "      <td>auvergne-rhône-alpes</td>\n",
       "      <td>Auvergne-Rhône-Alpes</td>\n",
       "    </tr>\n",
       "    <tr>\n",
       "      <th>4611</th>\n",
       "      <td>01019</td>\n",
       "      <td>armix</td>\n",
       "      <td>01510</td>\n",
       "      <td>armix</td>\n",
       "      <td>45.854492</td>\n",
       "      <td>5.583031</td>\n",
       "      <td>ain</td>\n",
       "      <td>01</td>\n",
       "      <td>auvergne-rhône-alpes</td>\n",
       "      <td>Auvergne-Rhône-Alpes</td>\n",
       "    </tr>\n",
       "    <tr>\n",
       "      <th>4613</th>\n",
       "      <td>01041</td>\n",
       "      <td>bettant</td>\n",
       "      <td>01500</td>\n",
       "      <td>bettant</td>\n",
       "      <td>45.937721</td>\n",
       "      <td>5.365980</td>\n",
       "      <td>ain</td>\n",
       "      <td>01</td>\n",
       "      <td>auvergne-rhône-alpes</td>\n",
       "      <td>Auvergne-Rhône-Alpes</td>\n",
       "    </tr>\n",
       "    <tr>\n",
       "      <th>4614</th>\n",
       "      <td>01066</td>\n",
       "      <td>la burbanche</td>\n",
       "      <td>01510</td>\n",
       "      <td>la burbanche</td>\n",
       "      <td>45.859943</td>\n",
       "      <td>5.545818</td>\n",
       "      <td>ain</td>\n",
       "      <td>01</td>\n",
       "      <td>auvergne-rhône-alpes</td>\n",
       "      <td>Auvergne-Rhône-Alpes</td>\n",
       "    </tr>\n",
       "    <tr>\n",
       "      <th>4615</th>\n",
       "      <td>01109</td>\n",
       "      <td>collonges</td>\n",
       "      <td>01550</td>\n",
       "      <td>collonges</td>\n",
       "      <td>46.142544</td>\n",
       "      <td>5.899702</td>\n",
       "      <td>ain</td>\n",
       "      <td>01</td>\n",
       "      <td>auvergne-rhône-alpes</td>\n",
       "      <td>Auvergne-Rhône-Alpes</td>\n",
       "    </tr>\n",
       "    <tr>\n",
       "      <th>...</th>\n",
       "      <td>...</td>\n",
       "      <td>...</td>\n",
       "      <td>...</td>\n",
       "      <td>...</td>\n",
       "      <td>...</td>\n",
       "      <td>...</td>\n",
       "      <td>...</td>\n",
       "      <td>...</td>\n",
       "      <td>...</td>\n",
       "      <td>...</td>\n",
       "    </tr>\n",
       "    <tr>\n",
       "      <th>28105</th>\n",
       "      <td>01053</td>\n",
       "      <td>bourg en bresse</td>\n",
       "      <td>01000</td>\n",
       "      <td>bourg en bresse</td>\n",
       "      <td>46.205014</td>\n",
       "      <td>5.245594</td>\n",
       "      <td>ain</td>\n",
       "      <td>01</td>\n",
       "      <td>auvergne-rhône-alpes</td>\n",
       "      <td>Auvergne-Rhône-Alpes</td>\n",
       "    </tr>\n",
       "    <tr>\n",
       "      <th>28152</th>\n",
       "      <td>01165</td>\n",
       "      <td>francheleins</td>\n",
       "      <td>01090</td>\n",
       "      <td>francheleins</td>\n",
       "      <td>46.073642</td>\n",
       "      <td>4.812560</td>\n",
       "      <td>ain</td>\n",
       "      <td>01</td>\n",
       "      <td>auvergne-rhône-alpes</td>\n",
       "      <td>Auvergne-Rhône-Alpes</td>\n",
       "    </tr>\n",
       "    <tr>\n",
       "      <th>28165</th>\n",
       "      <td>01183</td>\n",
       "      <td>guereins</td>\n",
       "      <td>01090</td>\n",
       "      <td>guereins</td>\n",
       "      <td>46.106683</td>\n",
       "      <td>4.782509</td>\n",
       "      <td>ain</td>\n",
       "      <td>01</td>\n",
       "      <td>auvergne-rhône-alpes</td>\n",
       "      <td>Auvergne-Rhône-Alpes</td>\n",
       "    </tr>\n",
       "    <tr>\n",
       "      <th>28200</th>\n",
       "      <td>01258</td>\n",
       "      <td>montceaux</td>\n",
       "      <td>01090</td>\n",
       "      <td>montceaux</td>\n",
       "      <td>46.096201</td>\n",
       "      <td>4.803716</td>\n",
       "      <td>ain</td>\n",
       "      <td>01</td>\n",
       "      <td>auvergne-rhône-alpes</td>\n",
       "      <td>Auvergne-Rhône-Alpes</td>\n",
       "    </tr>\n",
       "    <tr>\n",
       "      <th>30467</th>\n",
       "      <td>01165</td>\n",
       "      <td>francheleins</td>\n",
       "      <td>01090</td>\n",
       "      <td>francheleins</td>\n",
       "      <td>46.073642</td>\n",
       "      <td>4.812560</td>\n",
       "      <td>ain</td>\n",
       "      <td>01</td>\n",
       "      <td>auvergne-rhône-alpes</td>\n",
       "      <td>Auvergne-Rhône-Alpes</td>\n",
       "    </tr>\n",
       "  </tbody>\n",
       "</table>\n",
       "<p>457 rows × 10 columns</p>\n",
       "</div>"
      ],
      "text/plain": [
       "      insee_code        city_code zip_code            label   latitude  \\\n",
       "4605       01008         ambutrix    01500         ambutrix  45.936683   \n",
       "4611       01019            armix    01510            armix  45.854492   \n",
       "4613       01041          bettant    01500          bettant  45.937721   \n",
       "4614       01066     la burbanche    01510     la burbanche  45.859943   \n",
       "4615       01109        collonges    01550        collonges  46.142544   \n",
       "...          ...              ...      ...              ...        ...   \n",
       "28105      01053  bourg en bresse    01000  bourg en bresse  46.205014   \n",
       "28152      01165     francheleins    01090     francheleins  46.073642   \n",
       "28165      01183         guereins    01090         guereins  46.106683   \n",
       "28200      01258        montceaux    01090        montceaux  46.096201   \n",
       "30467      01165     francheleins    01090     francheleins  46.073642   \n",
       "\n",
       "       longitude department_name department_number           region_name  \\\n",
       "4605    5.332447             ain                01  auvergne-rhône-alpes   \n",
       "4611    5.583031             ain                01  auvergne-rhône-alpes   \n",
       "4613    5.365980             ain                01  auvergne-rhône-alpes   \n",
       "4614    5.545818             ain                01  auvergne-rhône-alpes   \n",
       "4615    5.899702             ain                01  auvergne-rhône-alpes   \n",
       "...          ...             ...               ...                   ...   \n",
       "28105   5.245594             ain                01  auvergne-rhône-alpes   \n",
       "28152   4.812560             ain                01  auvergne-rhône-alpes   \n",
       "28165   4.782509             ain                01  auvergne-rhône-alpes   \n",
       "28200   4.803716             ain                01  auvergne-rhône-alpes   \n",
       "30467   4.812560             ain                01  auvergne-rhône-alpes   \n",
       "\n",
       "        region_geojson_name  \n",
       "4605   Auvergne-Rhône-Alpes  \n",
       "4611   Auvergne-Rhône-Alpes  \n",
       "4613   Auvergne-Rhône-Alpes  \n",
       "4614   Auvergne-Rhône-Alpes  \n",
       "4615   Auvergne-Rhône-Alpes  \n",
       "...                     ...  \n",
       "28105  Auvergne-Rhône-Alpes  \n",
       "28152  Auvergne-Rhône-Alpes  \n",
       "28165  Auvergne-Rhône-Alpes  \n",
       "28200  Auvergne-Rhône-Alpes  \n",
       "30467  Auvergne-Rhône-Alpes  \n",
       "\n",
       "[457 rows x 10 columns]"
      ]
     },
     "execution_count": 34,
     "metadata": {},
     "output_type": "execute_result"
    }
   ],
   "source": [
    "dfCities[dfCities.department_number=='01']"
   ]
  },
  {
   "cell_type": "code",
   "execution_count": 35,
   "id": "94049a7b-cd56-4787-879a-4ba848b8cf69",
   "metadata": {},
   "outputs": [
    {
     "data": {
      "text/html": [
       "<div>\n",
       "<style scoped>\n",
       "    .dataframe tbody tr th:only-of-type {\n",
       "        vertical-align: middle;\n",
       "    }\n",
       "\n",
       "    .dataframe tbody tr th {\n",
       "        vertical-align: top;\n",
       "    }\n",
       "\n",
       "    .dataframe thead th {\n",
       "        text-align: right;\n",
       "    }\n",
       "</style>\n",
       "<table border=\"1\" class=\"dataframe\">\n",
       "  <thead>\n",
       "    <tr style=\"text-align: right;\">\n",
       "      <th></th>\n",
       "      <th>insee_code</th>\n",
       "      <th>city_code</th>\n",
       "      <th>zip_code</th>\n",
       "      <th>label</th>\n",
       "      <th>latitude</th>\n",
       "      <th>longitude</th>\n",
       "      <th>department_name</th>\n",
       "      <th>department_number</th>\n",
       "      <th>region_name</th>\n",
       "      <th>region_geojson_name</th>\n",
       "    </tr>\n",
       "  </thead>\n",
       "  <tbody>\n",
       "    <tr>\n",
       "      <th>26273</th>\n",
       "      <td>2A017</td>\n",
       "      <td>appietto</td>\n",
       "      <td>20167</td>\n",
       "      <td>appietto</td>\n",
       "      <td>42.003459</td>\n",
       "      <td>8.733865</td>\n",
       "      <td>corse-du-sud</td>\n",
       "      <td>2A</td>\n",
       "      <td>corse</td>\n",
       "      <td>Corse</td>\n",
       "    </tr>\n",
       "    <tr>\n",
       "      <th>26274</th>\n",
       "      <td>2A018</td>\n",
       "      <td>arbellara</td>\n",
       "      <td>20110</td>\n",
       "      <td>arbellara</td>\n",
       "      <td>41.671484</td>\n",
       "      <td>8.989411</td>\n",
       "      <td>corse-du-sud</td>\n",
       "      <td>2A</td>\n",
       "      <td>corse</td>\n",
       "      <td>Corse</td>\n",
       "    </tr>\n",
       "    <tr>\n",
       "      <th>26275</th>\n",
       "      <td>2A026</td>\n",
       "      <td>azilone ampaza</td>\n",
       "      <td>20190</td>\n",
       "      <td>azilone ampaza</td>\n",
       "      <td>41.870639</td>\n",
       "      <td>9.016697</td>\n",
       "      <td>corse-du-sud</td>\n",
       "      <td>2A</td>\n",
       "      <td>corse</td>\n",
       "      <td>Corse</td>\n",
       "    </tr>\n",
       "    <tr>\n",
       "      <th>26276</th>\n",
       "      <td>2A031</td>\n",
       "      <td>bastelica</td>\n",
       "      <td>20119</td>\n",
       "      <td>bastelica</td>\n",
       "      <td>41.988203</td>\n",
       "      <td>9.048771</td>\n",
       "      <td>corse-du-sud</td>\n",
       "      <td>2A</td>\n",
       "      <td>corse</td>\n",
       "      <td>Corse</td>\n",
       "    </tr>\n",
       "    <tr>\n",
       "      <th>26277</th>\n",
       "      <td>2A062</td>\n",
       "      <td>carbuccia</td>\n",
       "      <td>20133</td>\n",
       "      <td>carbuccia</td>\n",
       "      <td>42.030469</td>\n",
       "      <td>8.936785</td>\n",
       "      <td>corse-du-sud</td>\n",
       "      <td>2A</td>\n",
       "      <td>corse</td>\n",
       "      <td>Corse</td>\n",
       "    </tr>\n",
       "    <tr>\n",
       "      <th>...</th>\n",
       "      <td>...</td>\n",
       "      <td>...</td>\n",
       "      <td>...</td>\n",
       "      <td>...</td>\n",
       "      <td>...</td>\n",
       "      <td>...</td>\n",
       "      <td>...</td>\n",
       "      <td>...</td>\n",
       "      <td>...</td>\n",
       "      <td>...</td>\n",
       "    </tr>\n",
       "    <tr>\n",
       "      <th>26687</th>\n",
       "      <td>2B333</td>\n",
       "      <td>vallecalle</td>\n",
       "      <td>20232</td>\n",
       "      <td>vallecalle</td>\n",
       "      <td>42.599687</td>\n",
       "      <td>9.337179</td>\n",
       "      <td>haute-corse</td>\n",
       "      <td>2B</td>\n",
       "      <td>corse</td>\n",
       "      <td>Corse</td>\n",
       "    </tr>\n",
       "    <tr>\n",
       "      <th>26688</th>\n",
       "      <td>2B342</td>\n",
       "      <td>ventiseri</td>\n",
       "      <td>20240</td>\n",
       "      <td>ventiseri</td>\n",
       "      <td>41.941136</td>\n",
       "      <td>9.362670</td>\n",
       "      <td>haute-corse</td>\n",
       "      <td>2B</td>\n",
       "      <td>corse</td>\n",
       "      <td>Corse</td>\n",
       "    </tr>\n",
       "    <tr>\n",
       "      <th>26689</th>\n",
       "      <td>2B342</td>\n",
       "      <td>ventiseri</td>\n",
       "      <td>20240</td>\n",
       "      <td>ventiseri</td>\n",
       "      <td>41.941136</td>\n",
       "      <td>9.362670</td>\n",
       "      <td>haute-corse</td>\n",
       "      <td>2B</td>\n",
       "      <td>corse</td>\n",
       "      <td>Corse</td>\n",
       "    </tr>\n",
       "    <tr>\n",
       "      <th>26690</th>\n",
       "      <td>2B343</td>\n",
       "      <td>venzolasca</td>\n",
       "      <td>20215</td>\n",
       "      <td>venzolasca</td>\n",
       "      <td>42.501558</td>\n",
       "      <td>9.493174</td>\n",
       "      <td>haute-corse</td>\n",
       "      <td>2B</td>\n",
       "      <td>corse</td>\n",
       "      <td>Corse</td>\n",
       "    </tr>\n",
       "    <tr>\n",
       "      <th>26691</th>\n",
       "      <td>2B355</td>\n",
       "      <td>volpajola</td>\n",
       "      <td>20290</td>\n",
       "      <td>volpajola</td>\n",
       "      <td>42.519867</td>\n",
       "      <td>9.360363</td>\n",
       "      <td>haute-corse</td>\n",
       "      <td>2B</td>\n",
       "      <td>corse</td>\n",
       "      <td>Corse</td>\n",
       "    </tr>\n",
       "  </tbody>\n",
       "</table>\n",
       "<p>419 rows × 10 columns</p>\n",
       "</div>"
      ],
      "text/plain": [
       "      insee_code       city_code zip_code           label   latitude  \\\n",
       "26273      2A017        appietto    20167        appietto  42.003459   \n",
       "26274      2A018       arbellara    20110       arbellara  41.671484   \n",
       "26275      2A026  azilone ampaza    20190  azilone ampaza  41.870639   \n",
       "26276      2A031       bastelica    20119       bastelica  41.988203   \n",
       "26277      2A062       carbuccia    20133       carbuccia  42.030469   \n",
       "...          ...             ...      ...             ...        ...   \n",
       "26687      2B333      vallecalle    20232      vallecalle  42.599687   \n",
       "26688      2B342       ventiseri    20240       ventiseri  41.941136   \n",
       "26689      2B342       ventiseri    20240       ventiseri  41.941136   \n",
       "26690      2B343      venzolasca    20215      venzolasca  42.501558   \n",
       "26691      2B355       volpajola    20290       volpajola  42.519867   \n",
       "\n",
       "       longitude department_name department_number region_name  \\\n",
       "26273   8.733865    corse-du-sud                2A       corse   \n",
       "26274   8.989411    corse-du-sud                2A       corse   \n",
       "26275   9.016697    corse-du-sud                2A       corse   \n",
       "26276   9.048771    corse-du-sud                2A       corse   \n",
       "26277   8.936785    corse-du-sud                2A       corse   \n",
       "...          ...             ...               ...         ...   \n",
       "26687   9.337179     haute-corse                2B       corse   \n",
       "26688   9.362670     haute-corse                2B       corse   \n",
       "26689   9.362670     haute-corse                2B       corse   \n",
       "26690   9.493174     haute-corse                2B       corse   \n",
       "26691   9.360363     haute-corse                2B       corse   \n",
       "\n",
       "      region_geojson_name  \n",
       "26273               Corse  \n",
       "26274               Corse  \n",
       "26275               Corse  \n",
       "26276               Corse  \n",
       "26277               Corse  \n",
       "...                   ...  \n",
       "26687               Corse  \n",
       "26688               Corse  \n",
       "26689               Corse  \n",
       "26690               Corse  \n",
       "26691               Corse  \n",
       "\n",
       "[419 rows x 10 columns]"
      ]
     },
     "execution_count": 35,
     "metadata": {},
     "output_type": "execute_result"
    }
   ],
   "source": [
    "dfCities[dfCities.department_number.isin(['2A','2B'])]"
   ]
  },
  {
   "cell_type": "code",
   "execution_count": 36,
   "id": "d65dc984-a4d3-4a7e-b76a-6021f5e3718a",
   "metadata": {},
   "outputs": [
    {
     "data": {
      "text/plain": [
       "[['insee_code',\n",
       "  'city_code',\n",
       "  'zip_code',\n",
       "  'label',\n",
       "  'latitude',\n",
       "  'longitude',\n",
       "  'department_name',\n",
       "  'department_number',\n",
       "  'region_name',\n",
       "  'region_geojson_name'],\n",
       " ['25620',\n",
       "  'ville du pont',\n",
       "  '25650',\n",
       "  'ville du pont',\n",
       "  '46.999873398',\n",
       "  '6.498147193',\n",
       "  'doubs',\n",
       "  '25',\n",
       "  'bourgogne-franche-comté',\n",
       "  'Bourgogne-Franche-Comté'],\n",
       " ['25624',\n",
       "  'villers grelot',\n",
       "  '25640',\n",
       "  'villers grelot',\n",
       "  '47.361512085',\n",
       "  '6.235167025',\n",
       "  'doubs',\n",
       "  '25',\n",
       "  'bourgogne-franche-comté',\n",
       "  'Bourgogne-Franche-Comté'],\n",
       " ['25615',\n",
       "  'villars les blamont',\n",
       "  '25310',\n",
       "  'villars les blamont',\n",
       "  '47.368383721',\n",
       "  '6.871414913',\n",
       "  'doubs',\n",
       "  '25',\n",
       "  'bourgogne-franche-comté',\n",
       "  'Bourgogne-Franche-Comté'],\n",
       " ['25619',\n",
       "  'les villedieu',\n",
       "  '25240',\n",
       "  'les villedieu',\n",
       "  '46.713906258',\n",
       "  '6.26583065',\n",
       "  'doubs',\n",
       "  '25',\n",
       "  'bourgogne-franche-comté',\n",
       "  'Bourgogne-Franche-Comté']]"
      ]
     },
     "execution_count": 36,
     "metadata": {},
     "output_type": "execute_result"
    }
   ],
   "source": [
    "with open(old_path, encoding='UTF-8') as f:\n",
    "    data = list(csv.reader(f))\n",
    "data[:5]"
   ]
  },
  {
   "cell_type": "markdown",
   "id": "28804c5d-af1e-4b29-8b2f-8a8fd10e0e82",
   "metadata": {},
   "source": [
    "#### import/export json"
   ]
  },
  {
   "cell_type": "code",
   "execution_count": 40,
   "id": "0ab6624b-5f85-476a-b0cd-7216d0973fdd",
   "metadata": {},
   "outputs": [],
   "source": [
    "dfCities.to_json('data/cities/cities.json', orient='records')"
   ]
  },
  {
   "cell_type": "code",
   "execution_count": 41,
   "id": "e04f9f03-6dd0-45ce-8827-613208046f56",
   "metadata": {},
   "outputs": [],
   "source": [
    "dfCities.iloc[:10].to_json('data/cities/cities_extract.json', orient='records')"
   ]
  },
  {
   "cell_type": "code",
   "execution_count": 47,
   "id": "2885cff1-5c0c-479e-bd95-ae34ebdf260d",
   "metadata": {},
   "outputs": [
    {
     "data": {
      "text/plain": [
       "[{'insee_code': '25620',\n",
       "  'city_code': 'ville du pont',\n",
       "  'zip_code': '25650',\n",
       "  'label': 'ville du pont',\n",
       "  'latitude': 46.999873398,\n",
       "  'longitude': 6.498147193,\n",
       "  'department_name': 'doubs',\n",
       "  'department_number': '25',\n",
       "  'region_name': 'bourgogne-franche-comté',\n",
       "  'region_geojson_name': 'Bourgogne-Franche-Comté'},\n",
       " {'insee_code': '25624',\n",
       "  'city_code': 'villers grelot',\n",
       "  'zip_code': '25640',\n",
       "  'label': 'villers grelot',\n",
       "  'latitude': 47.361512085,\n",
       "  'longitude': 6.235167025,\n",
       "  'department_name': 'doubs',\n",
       "  'department_number': '25',\n",
       "  'region_name': 'bourgogne-franche-comté',\n",
       "  'region_geojson_name': 'Bourgogne-Franche-Comté'},\n",
       " {'insee_code': '25615',\n",
       "  'city_code': 'villars les blamont',\n",
       "  'zip_code': '25310',\n",
       "  'label': 'villars les blamont',\n",
       "  'latitude': 47.368383721,\n",
       "  'longitude': 6.871414913,\n",
       "  'department_name': 'doubs',\n",
       "  'department_number': '25',\n",
       "  'region_name': 'bourgogne-franche-comté',\n",
       "  'region_geojson_name': 'Bourgogne-Franche-Comté'},\n",
       " {'insee_code': '25619',\n",
       "  'city_code': 'les villedieu',\n",
       "  'zip_code': '25240',\n",
       "  'label': 'les villedieu',\n",
       "  'latitude': 46.713906258,\n",
       "  'longitude': 6.26583065,\n",
       "  'department_name': 'doubs',\n",
       "  'department_number': '25',\n",
       "  'region_name': 'bourgogne-franche-comté',\n",
       "  'region_geojson_name': 'Bourgogne-Franche-Comté'},\n",
       " {'insee_code': '25622',\n",
       "  'city_code': 'villers buzon',\n",
       "  'zip_code': '25170',\n",
       "  'label': 'villers buzon',\n",
       "  'latitude': 47.228558434,\n",
       "  'longitude': 5.852186748,\n",
       "  'department_name': 'doubs',\n",
       "  'department_number': '25',\n",
       "  'region_name': 'bourgogne-franche-comté',\n",
       "  'region_geojson_name': 'Bourgogne-Franche-Comté'},\n",
       " {'insee_code': '25625',\n",
       "  'city_code': 'villers la combe',\n",
       "  'zip_code': '25510',\n",
       "  'label': 'villers la combe',\n",
       "  'latitude': 47.240809828,\n",
       "  'longitude': 6.473842387,\n",
       "  'department_name': 'doubs',\n",
       "  'department_number': '25',\n",
       "  'region_name': 'bourgogne-franche-comté',\n",
       "  'region_geojson_name': 'Bourgogne-Franche-Comté'},\n",
       " {'insee_code': '25627',\n",
       "  'city_code': 'villers sous chalamont',\n",
       "  'zip_code': '25270',\n",
       "  'label': 'villers sous chalamont',\n",
       "  'latitude': 46.901588322,\n",
       "  'longitude': 6.045328224,\n",
       "  'department_name': 'doubs',\n",
       "  'department_number': '25',\n",
       "  'region_name': 'bourgogne-franche-comté',\n",
       "  'region_geojson_name': 'Bourgogne-Franche-Comté'},\n",
       " {'insee_code': '25632',\n",
       "  'city_code': 'voujeaucourt',\n",
       "  'zip_code': '25420',\n",
       "  'label': 'voujeaucourt',\n",
       "  'latitude': 47.473552905,\n",
       "  'longitude': 6.782505604,\n",
       "  'department_name': 'doubs',\n",
       "  'department_number': '25',\n",
       "  'region_name': 'bourgogne-franche-comté',\n",
       "  'region_geojson_name': 'Bourgogne-Franche-Comté'},\n",
       " {'insee_code': '02102',\n",
       "  'city_code': 'bouconville vauclair',\n",
       "  'zip_code': '02860',\n",
       "  'label': 'bouconville vauclair',\n",
       "  'latitude': 49.460193485,\n",
       "  'longitude': 3.756684634,\n",
       "  'department_name': 'aisne',\n",
       "  'department_number': '02',\n",
       "  'region_name': 'hauts-de-france',\n",
       "  'region_geojson_name': 'Hauts-de-France'},\n",
       " {'insee_code': '02105',\n",
       "  'city_code': 'bouresches',\n",
       "  'zip_code': '02400',\n",
       "  'label': 'bouresches',\n",
       "  'latitude': 49.067056293,\n",
       "  'longitude': 3.316703204,\n",
       "  'department_name': 'aisne',\n",
       "  'department_number': '02',\n",
       "  'region_name': 'hauts-de-france',\n",
       "  'region_geojson_name': 'Hauts-de-France'}]"
      ]
     },
     "execution_count": 47,
     "metadata": {},
     "output_type": "execute_result"
    }
   ],
   "source": [
    "with open('data/cities/cities_extract.json', encoding='UTF-8') as f:\n",
    "    data = json.load(f)\n",
    "data"
   ]
  },
  {
   "cell_type": "code",
   "execution_count": 50,
   "id": "e8df26a6-7d0f-47bf-a559-7576d24fd313",
   "metadata": {},
   "outputs": [
    {
     "data": {
      "text/plain": [
       "'[{\"insee_code\": \"25620\", \"city_code\": \"ville du pont\", \"zip_code\": \"25650\", \"label\": \"ville du pont\", \"latitude\": 46.999873398, \"longitude\": 6.498147193, \"department_name\": \"doubs\", \"department_number\": \"25\", \"region_name\": \"bourgogne-franche-comt\\\\u00e9\", \"region_geojson_name\": \"Bourgogne-Franche-Comt\\\\u00e9\"}, {\"insee_code\": \"25624\", \"city_code\": \"villers grelot\", \"zip_code\": \"25640\", \"label\": \"villers grelot\", \"latitude\": 47.361512085, \"longitude\": 6.235167025, \"department_name\": \"doubs\", \"department_number\": \"25\", \"region_name\": \"bourgogne-franche-comt\\\\u00e9\", \"region_geojson_name\": \"Bourgogne-Franche-Comt\\\\u00e9\"}, {\"insee_code\": \"25615\", \"city_code\": \"villars les blamont\", \"zip_code\": \"25310\", \"label\": \"villars les blamont\", \"latitude\": 47.368383721, \"longitude\": 6.871414913, \"department_name\": \"doubs\", \"department_number\": \"25\", \"region_name\": \"bourgogne-franche-comt\\\\u00e9\", \"region_geojson_name\": \"Bourgogne-Franche-Comt\\\\u00e9\"}, {\"insee_code\": \"25619\", \"city_code\": \"les villedieu\", \"zip_code\": \"25240\", \"label\": \"les villedieu\", \"latitude\": 46.713906258, \"longitude\": 6.26583065, \"department_name\": \"doubs\", \"department_number\": \"25\", \"region_name\": \"bourgogne-franche-comt\\\\u00e9\", \"region_geojson_name\": \"Bourgogne-Franche-Comt\\\\u00e9\"}, {\"insee_code\": \"25622\", \"city_code\": \"villers buzon\", \"zip_code\": \"25170\", \"label\": \"villers buzon\", \"latitude\": 47.228558434, \"longitude\": 5.852186748, \"department_name\": \"doubs\", \"department_number\": \"25\", \"region_name\": \"bourgogne-franche-comt\\\\u00e9\", \"region_geojson_name\": \"Bourgogne-Franche-Comt\\\\u00e9\"}, {\"insee_code\": \"25625\", \"city_code\": \"villers la combe\", \"zip_code\": \"25510\", \"label\": \"villers la combe\", \"latitude\": 47.240809828, \"longitude\": 6.473842387, \"department_name\": \"doubs\", \"department_number\": \"25\", \"region_name\": \"bourgogne-franche-comt\\\\u00e9\", \"region_geojson_name\": \"Bourgogne-Franche-Comt\\\\u00e9\"}, {\"insee_code\": \"25627\", \"city_code\": \"villers sous chalamont\", \"zip_code\": \"25270\", \"label\": \"villers sous chalamont\", \"latitude\": 46.901588322, \"longitude\": 6.045328224, \"department_name\": \"doubs\", \"department_number\": \"25\", \"region_name\": \"bourgogne-franche-comt\\\\u00e9\", \"region_geojson_name\": \"Bourgogne-Franche-Comt\\\\u00e9\"}, {\"insee_code\": \"25632\", \"city_code\": \"voujeaucourt\", \"zip_code\": \"25420\", \"label\": \"voujeaucourt\", \"latitude\": 47.473552905, \"longitude\": 6.782505604, \"department_name\": \"doubs\", \"department_number\": \"25\", \"region_name\": \"bourgogne-franche-comt\\\\u00e9\", \"region_geojson_name\": \"Bourgogne-Franche-Comt\\\\u00e9\"}, {\"insee_code\": \"02102\", \"city_code\": \"bouconville vauclair\", \"zip_code\": \"02860\", \"label\": \"bouconville vauclair\", \"latitude\": 49.460193485, \"longitude\": 3.756684634, \"department_name\": \"aisne\", \"department_number\": \"02\", \"region_name\": \"hauts-de-france\", \"region_geojson_name\": \"Hauts-de-France\"}, {\"insee_code\": \"02105\", \"city_code\": \"bouresches\", \"zip_code\": \"02400\", \"label\": \"bouresches\", \"latitude\": 49.067056293, \"longitude\": 3.316703204, \"department_name\": \"aisne\", \"department_number\": \"02\", \"region_name\": \"hauts-de-france\", \"region_geojson_name\": \"Hauts-de-France\"}]'"
      ]
     },
     "execution_count": 50,
     "metadata": {},
     "output_type": "execute_result"
    }
   ],
   "source": [
    "# JSON stringify\n",
    "json.dumps(data)"
   ]
  },
  {
   "cell_type": "markdown",
   "id": "5ee45c9e-f12a-4403-8d3d-5429e331f5bd",
   "metadata": {},
   "source": [
    "### XML"
   ]
  },
  {
   "cell_type": "code",
   "execution_count": 57,
   "id": "c3bd1e42-0722-462c-89bc-5b0d586c2792",
   "metadata": {},
   "outputs": [],
   "source": [
    "dfCities.iloc[:10].to_xml(\"data/cities/cities_extract.xml\", root_name=\"cities\", row_name=\"city\", index=False)"
   ]
  },
  {
   "cell_type": "code",
   "execution_count": 61,
   "id": "e682bf24-1335-40d5-bc21-94ab8045c186",
   "metadata": {},
   "outputs": [],
   "source": [
    "# NB: list columns obtained with dfCities.columns\n",
    "dfCities.iloc[:10].to_xml(\n",
    "    \"data/cities/cities_extract2.xml\", \n",
    "    root_name=\"cities\", \n",
    "    row_name=\"city\", \n",
    "    attr_cols=['insee_code', 'city_code', 'zip_code', 'label', 'latitude', 'longitude',\n",
    "       'department_name', 'department_number', 'region_name',\n",
    "       'region_geojson_name'],\n",
    "    index=False\n",
    ")"
   ]
  },
  {
   "cell_type": "code",
   "execution_count": 62,
   "id": "566b0892-11a1-4dfb-8b4a-604b05572f34",
   "metadata": {},
   "outputs": [],
   "source": [
    "dfCities.to_xml(\n",
    "    \"data/cities/cities.xml\", \n",
    "    root_name=\"cities\", \n",
    "    row_name=\"city\", \n",
    "    attr_cols=['insee_code', 'city_code', 'zip_code', 'label', 'latitude', 'longitude',\n",
    "       'department_name', 'department_number', 'region_name',\n",
    "       'region_geojson_name'],\n",
    "    index=False\n",
    ")"
   ]
  },
  {
   "cell_type": "code",
   "execution_count": 65,
   "id": "b8d2fcd3-27c8-4362-b3ef-9db7eb817311",
   "metadata": {},
   "outputs": [
    {
     "data": {
      "text/plain": [
       "<lxml.etree._ElementTree at 0x14f4c16dd40>"
      ]
     },
     "execution_count": 65,
     "metadata": {},
     "output_type": "execute_result"
    }
   ],
   "source": [
    "data2 = et.parse('data/cities/cities.xml')\n",
    "data2"
   ]
  },
  {
   "cell_type": "code",
   "execution_count": 67,
   "id": "1852c803-2f8c-451a-bd8f-a2881da6d859",
   "metadata": {},
   "outputs": [
    {
     "data": {
      "text/plain": [
       "[<Element city at 0x14f4723d240>, <Element city at 0x14f47efd1c0>]"
      ]
     },
     "execution_count": 67,
     "metadata": {},
     "output_type": "execute_result"
    }
   ],
   "source": [
    "extract = data2.xpath(\"//city[@label='valence']\")\n",
    "extract"
   ]
  },
  {
   "cell_type": "code",
   "execution_count": 70,
   "id": "0ba3abf3-19c7-4949-bb04-48545a4d3f49",
   "metadata": {},
   "outputs": [
    {
     "name": "stdout",
     "output_type": "stream",
     "text": [
      "<city insee_code=\"26362\" city_code=\"valence\" zip_code=\"26000\" label=\"valence\" latitude=\"44.922561335\" longitude=\"4.913645994\" department_name=\"dr&#xF4;me\" department_number=\"26\" region_name=\"auvergne-rh&#xF4;ne-alpes\" region_geojson_name=\"Auvergne-Rh&#xF4;ne-Alpes\"/>\n",
      "  \n",
      "None\n",
      "<city insee_code=\"16392\" city_code=\"valence\" zip_code=\"16460\" label=\"valence\" latitude=\"45.882271274\" longitude=\"0.317865949\" department_name=\"charente\" department_number=\"16\" region_name=\"nouvelle-aquitaine\" region_geojson_name=\"Nouvelle-Aquitaine\"/>\n",
      "  \n",
      "None\n"
     ]
    }
   ],
   "source": [
    "for city in extract:\n",
    "    print(et.dump(city))"
   ]
  },
  {
   "cell_type": "code",
   "execution_count": 76,
   "id": "244f51d0-6e2e-4800-904d-cd464cc39ba8",
   "metadata": {},
   "outputs": [],
   "source": [
    "# With BeautifulSoup\n",
    "with open('data/cities/cities.xml', encoding='UTF-8') as f:\n",
    "    soup = BeautifulSoup(f, \"lxml-xml\")"
   ]
  },
  {
   "cell_type": "code",
   "execution_count": 81,
   "id": "c3669b91-f06c-4986-bd44-fc448415d1bd",
   "metadata": {},
   "outputs": [
    {
     "data": {
      "text/plain": [
       "[<city city_code=\"valence\" department_name=\"drôme\" department_number=\"26\" insee_code=\"26362\" label=\"valence\" latitude=\"44.922561335\" longitude=\"4.913645994\" region_geojson_name=\"Auvergne-Rhône-Alpes\" region_name=\"auvergne-rhône-alpes\" zip_code=\"26000\"/>,\n",
       " <city city_code=\"valence\" department_name=\"charente\" department_number=\"16\" insee_code=\"16392\" label=\"valence\" latitude=\"45.882271274\" longitude=\"0.317865949\" region_geojson_name=\"Nouvelle-Aquitaine\" region_name=\"nouvelle-aquitaine\" zip_code=\"16460\"/>]"
      ]
     },
     "execution_count": 81,
     "metadata": {},
     "output_type": "execute_result"
    }
   ],
   "source": [
    "soup.select(\"city[label='valence']\")"
   ]
  },
  {
   "cell_type": "markdown",
   "id": "a2f53593-1b25-4a6f-b4a2-d03b054433e1",
   "metadata": {},
   "source": [
    "## Re, Regexp, Regular Expression\n",
    "- pandas: mycolumn.str.match|fullmatch|contains(pattern)\n",
    "- re: search, match, fullmatch, sub|subn\n",
    "\n",
    "NB:\n",
    "- match: pattern at the beginning of the word|line\n",
    "- fullmatch: pattern describing the whole word|line"
   ]
  },
  {
   "cell_type": "code",
   "execution_count": 89,
   "id": "9530af11-5934-4732-a0b7-92afc1e516aa",
   "metadata": {
    "collapsed": true,
    "jupyter": {
     "outputs_hidden": true
    }
   },
   "outputs": [
    {
     "data": {
      "text/html": [
       "<div>\n",
       "<style scoped>\n",
       "    .dataframe tbody tr th:only-of-type {\n",
       "        vertical-align: middle;\n",
       "    }\n",
       "\n",
       "    .dataframe tbody tr th {\n",
       "        vertical-align: top;\n",
       "    }\n",
       "\n",
       "    .dataframe thead th {\n",
       "        text-align: right;\n",
       "    }\n",
       "</style>\n",
       "<table border=\"1\" class=\"dataframe\">\n",
       "  <thead>\n",
       "    <tr style=\"text-align: right;\">\n",
       "      <th></th>\n",
       "      <th>insee_code</th>\n",
       "      <th>city_code</th>\n",
       "      <th>zip_code</th>\n",
       "      <th>label</th>\n",
       "      <th>latitude</th>\n",
       "      <th>longitude</th>\n",
       "      <th>department_name</th>\n",
       "      <th>department_number</th>\n",
       "      <th>region_name</th>\n",
       "      <th>region_geojson_name</th>\n",
       "    </tr>\n",
       "  </thead>\n",
       "  <tbody>\n",
       "    <tr>\n",
       "      <th>1</th>\n",
       "      <td>25624</td>\n",
       "      <td>villers grelot</td>\n",
       "      <td>25640</td>\n",
       "      <td>villers grelot</td>\n",
       "      <td>47.361512</td>\n",
       "      <td>6.235167</td>\n",
       "      <td>doubs</td>\n",
       "      <td>25</td>\n",
       "      <td>bourgogne-franche-comté</td>\n",
       "      <td>Bourgogne-Franche-Comté</td>\n",
       "    </tr>\n",
       "    <tr>\n",
       "      <th>3</th>\n",
       "      <td>25619</td>\n",
       "      <td>les villedieu</td>\n",
       "      <td>25240</td>\n",
       "      <td>les villedieu</td>\n",
       "      <td>46.713906</td>\n",
       "      <td>6.265831</td>\n",
       "      <td>doubs</td>\n",
       "      <td>25</td>\n",
       "      <td>bourgogne-franche-comté</td>\n",
       "      <td>Bourgogne-Franche-Comté</td>\n",
       "    </tr>\n",
       "    <tr>\n",
       "      <th>4</th>\n",
       "      <td>25622</td>\n",
       "      <td>villers buzon</td>\n",
       "      <td>25170</td>\n",
       "      <td>villers buzon</td>\n",
       "      <td>47.228558</td>\n",
       "      <td>5.852187</td>\n",
       "      <td>doubs</td>\n",
       "      <td>25</td>\n",
       "      <td>bourgogne-franche-comté</td>\n",
       "      <td>Bourgogne-Franche-Comté</td>\n",
       "    </tr>\n",
       "    <tr>\n",
       "      <th>8</th>\n",
       "      <td>02102</td>\n",
       "      <td>bouconville vauclair</td>\n",
       "      <td>02860</td>\n",
       "      <td>bouconville vauclair</td>\n",
       "      <td>49.460193</td>\n",
       "      <td>3.756685</td>\n",
       "      <td>aisne</td>\n",
       "      <td>02</td>\n",
       "      <td>hauts-de-france</td>\n",
       "      <td>Hauts-de-France</td>\n",
       "    </tr>\n",
       "    <tr>\n",
       "      <th>10</th>\n",
       "      <td>02124</td>\n",
       "      <td>brissy hamegicourt</td>\n",
       "      <td>02240</td>\n",
       "      <td>brissy hamegicourt</td>\n",
       "      <td>49.742858</td>\n",
       "      <td>3.399924</td>\n",
       "      <td>aisne</td>\n",
       "      <td>02</td>\n",
       "      <td>hauts-de-france</td>\n",
       "      <td>Hauts-de-France</td>\n",
       "    </tr>\n",
       "    <tr>\n",
       "      <th>...</th>\n",
       "      <td>...</td>\n",
       "      <td>...</td>\n",
       "      <td>...</td>\n",
       "      <td>...</td>\n",
       "      <td>...</td>\n",
       "      <td>...</td>\n",
       "      <td>...</td>\n",
       "      <td>...</td>\n",
       "      <td>...</td>\n",
       "      <td>...</td>\n",
       "    </tr>\n",
       "    <tr>\n",
       "      <th>39116</th>\n",
       "      <td>98805</td>\n",
       "      <td>dumbea</td>\n",
       "      <td>98836</td>\n",
       "      <td>dumbea ga</td>\n",
       "      <td>NaN</td>\n",
       "      <td>NaN</td>\n",
       "      <td>nouvelle-calédonie</td>\n",
       "      <td>988</td>\n",
       "      <td>nouvelle-calédonie</td>\n",
       "      <td>Nouvelle Calédonie</td>\n",
       "    </tr>\n",
       "    <tr>\n",
       "      <th>39119</th>\n",
       "      <td>98817</td>\n",
       "      <td>le mont dore</td>\n",
       "      <td>98810</td>\n",
       "      <td>mont dore</td>\n",
       "      <td>NaN</td>\n",
       "      <td>NaN</td>\n",
       "      <td>nouvelle-calédonie</td>\n",
       "      <td>988</td>\n",
       "      <td>nouvelle-calédonie</td>\n",
       "      <td>Nouvelle Calédonie</td>\n",
       "    </tr>\n",
       "    <tr>\n",
       "      <th>39134</th>\n",
       "      <td>98810</td>\n",
       "      <td>kaala gomen</td>\n",
       "      <td>98817</td>\n",
       "      <td>kaala gomen</td>\n",
       "      <td>NaN</td>\n",
       "      <td>NaN</td>\n",
       "      <td>nouvelle-calédonie</td>\n",
       "      <td>988</td>\n",
       "      <td>nouvelle-calédonie</td>\n",
       "      <td>Nouvelle Calédonie</td>\n",
       "    </tr>\n",
       "    <tr>\n",
       "      <th>39135</th>\n",
       "      <td>98813</td>\n",
       "      <td>la foa</td>\n",
       "      <td>98880</td>\n",
       "      <td>la foa</td>\n",
       "      <td>NaN</td>\n",
       "      <td>NaN</td>\n",
       "      <td>nouvelle-calédonie</td>\n",
       "      <td>988</td>\n",
       "      <td>nouvelle-calédonie</td>\n",
       "      <td>Nouvelle Calédonie</td>\n",
       "    </tr>\n",
       "    <tr>\n",
       "      <th>39138</th>\n",
       "      <td>98815</td>\n",
       "      <td>mare</td>\n",
       "      <td>98878</td>\n",
       "      <td>la roche</td>\n",
       "      <td>NaN</td>\n",
       "      <td>NaN</td>\n",
       "      <td>nouvelle-calédonie</td>\n",
       "      <td>988</td>\n",
       "      <td>nouvelle-calédonie</td>\n",
       "      <td>Nouvelle Calédonie</td>\n",
       "    </tr>\n",
       "  </tbody>\n",
       "</table>\n",
       "<p>5579 rows × 10 columns</p>\n",
       "</div>"
      ],
      "text/plain": [
       "      insee_code             city_code zip_code                 label  \\\n",
       "1          25624        villers grelot    25640        villers grelot   \n",
       "3          25619         les villedieu    25240         les villedieu   \n",
       "4          25622         villers buzon    25170         villers buzon   \n",
       "8          02102  bouconville vauclair    02860  bouconville vauclair   \n",
       "10         02124    brissy hamegicourt    02240    brissy hamegicourt   \n",
       "...          ...                   ...      ...                   ...   \n",
       "39116      98805                dumbea    98836             dumbea ga   \n",
       "39119      98817          le mont dore    98810             mont dore   \n",
       "39134      98810           kaala gomen    98817           kaala gomen   \n",
       "39135      98813                la foa    98880                la foa   \n",
       "39138      98815                  mare    98878              la roche   \n",
       "\n",
       "        latitude  longitude     department_name department_number  \\\n",
       "1      47.361512   6.235167               doubs                25   \n",
       "3      46.713906   6.265831               doubs                25   \n",
       "4      47.228558   5.852187               doubs                25   \n",
       "8      49.460193   3.756685               aisne                02   \n",
       "10     49.742858   3.399924               aisne                02   \n",
       "...          ...        ...                 ...               ...   \n",
       "39116        NaN        NaN  nouvelle-calédonie               988   \n",
       "39119        NaN        NaN  nouvelle-calédonie               988   \n",
       "39134        NaN        NaN  nouvelle-calédonie               988   \n",
       "39135        NaN        NaN  nouvelle-calédonie               988   \n",
       "39138        NaN        NaN  nouvelle-calédonie               988   \n",
       "\n",
       "                   region_name      region_geojson_name  \n",
       "1      bourgogne-franche-comté  Bourgogne-Franche-Comté  \n",
       "3      bourgogne-franche-comté  Bourgogne-Franche-Comté  \n",
       "4      bourgogne-franche-comté  Bourgogne-Franche-Comté  \n",
       "8              hauts-de-france          Hauts-de-France  \n",
       "10             hauts-de-france          Hauts-de-France  \n",
       "...                        ...                      ...  \n",
       "39116       nouvelle-calédonie       Nouvelle Calédonie  \n",
       "39119       nouvelle-calédonie       Nouvelle Calédonie  \n",
       "39134       nouvelle-calédonie       Nouvelle Calédonie  \n",
       "39135       nouvelle-calédonie       Nouvelle Calédonie  \n",
       "39138       nouvelle-calédonie       Nouvelle Calédonie  \n",
       "\n",
       "[5579 rows x 10 columns]"
      ]
     },
     "execution_count": 89,
     "metadata": {},
     "output_type": "execute_result"
    }
   ],
   "source": [
    "dfCities[dfCities.label.str.fullmatch(r\"\\w+ \\w+\")]"
   ]
  },
  {
   "cell_type": "code",
   "execution_count": 91,
   "id": "69e1588a-2126-4e20-9ba7-b50277d7fdeb",
   "metadata": {},
   "outputs": [
    {
     "data": {
      "text/html": [
       "<div>\n",
       "<style scoped>\n",
       "    .dataframe tbody tr th:only-of-type {\n",
       "        vertical-align: middle;\n",
       "    }\n",
       "\n",
       "    .dataframe tbody tr th {\n",
       "        vertical-align: top;\n",
       "    }\n",
       "\n",
       "    .dataframe thead th {\n",
       "        text-align: right;\n",
       "    }\n",
       "</style>\n",
       "<table border=\"1\" class=\"dataframe\">\n",
       "  <thead>\n",
       "    <tr style=\"text-align: right;\">\n",
       "      <th></th>\n",
       "      <th>insee_code</th>\n",
       "      <th>city_code</th>\n",
       "      <th>zip_code</th>\n",
       "      <th>label</th>\n",
       "      <th>latitude</th>\n",
       "      <th>longitude</th>\n",
       "      <th>department_name</th>\n",
       "      <th>department_number</th>\n",
       "      <th>region_name</th>\n",
       "      <th>region_geojson_name</th>\n",
       "    </tr>\n",
       "  </thead>\n",
       "  <tbody>\n",
       "    <tr>\n",
       "      <th>3610</th>\n",
       "      <td>71542</td>\n",
       "      <td>toulon sur arroux</td>\n",
       "      <td>71320</td>\n",
       "      <td>toulon sur arroux</td>\n",
       "      <td>46.682758</td>\n",
       "      <td>4.147734</td>\n",
       "      <td>saône-et-loire</td>\n",
       "      <td>71</td>\n",
       "      <td>bourgogne-franche-comté</td>\n",
       "      <td>Bourgogne-Franche-Comté</td>\n",
       "    </tr>\n",
       "    <tr>\n",
       "      <th>3958</th>\n",
       "      <td>39533</td>\n",
       "      <td>toulouse le chateau</td>\n",
       "      <td>39230</td>\n",
       "      <td>toulouse le chateau</td>\n",
       "      <td>46.821902</td>\n",
       "      <td>5.583200</td>\n",
       "      <td>jura</td>\n",
       "      <td>39</td>\n",
       "      <td>bourgogne-franche-comté</td>\n",
       "      <td>Bourgogne-Franche-Comté</td>\n",
       "    </tr>\n",
       "    <tr>\n",
       "      <th>20897</th>\n",
       "      <td>83137</td>\n",
       "      <td>toulon</td>\n",
       "      <td>83200</td>\n",
       "      <td>toulon</td>\n",
       "      <td>43.136537</td>\n",
       "      <td>5.932599</td>\n",
       "      <td>var</td>\n",
       "      <td>83</td>\n",
       "      <td>provence-alpes-côte d'azur</td>\n",
       "      <td>Provence-Alpes-Côte d'Azur</td>\n",
       "    </tr>\n",
       "    <tr>\n",
       "      <th>21105</th>\n",
       "      <td>83137</td>\n",
       "      <td>toulon</td>\n",
       "      <td>83100</td>\n",
       "      <td>toulon</td>\n",
       "      <td>43.136537</td>\n",
       "      <td>5.932599</td>\n",
       "      <td>var</td>\n",
       "      <td>83</td>\n",
       "      <td>provence-alpes-côte d'azur</td>\n",
       "      <td>Provence-Alpes-Côte d'Azur</td>\n",
       "    </tr>\n",
       "    <tr>\n",
       "      <th>21165</th>\n",
       "      <td>83137</td>\n",
       "      <td>toulon</td>\n",
       "      <td>83000</td>\n",
       "      <td>toulon</td>\n",
       "      <td>43.136537</td>\n",
       "      <td>5.932599</td>\n",
       "      <td>var</td>\n",
       "      <td>83</td>\n",
       "      <td>provence-alpes-côte d'azur</td>\n",
       "      <td>Provence-Alpes-Côte d'Azur</td>\n",
       "    </tr>\n",
       "    <tr>\n",
       "      <th>21447</th>\n",
       "      <td>31555</td>\n",
       "      <td>toulouse</td>\n",
       "      <td>31100</td>\n",
       "      <td>toulouse</td>\n",
       "      <td>43.596038</td>\n",
       "      <td>1.432095</td>\n",
       "      <td>haute-garonne</td>\n",
       "      <td>31</td>\n",
       "      <td>occitanie</td>\n",
       "      <td>Occitanie</td>\n",
       "    </tr>\n",
       "    <tr>\n",
       "      <th>21449</th>\n",
       "      <td>31555</td>\n",
       "      <td>toulouse</td>\n",
       "      <td>31300</td>\n",
       "      <td>toulouse</td>\n",
       "      <td>43.596038</td>\n",
       "      <td>1.432095</td>\n",
       "      <td>haute-garonne</td>\n",
       "      <td>31</td>\n",
       "      <td>occitanie</td>\n",
       "      <td>Occitanie</td>\n",
       "    </tr>\n",
       "    <tr>\n",
       "      <th>21907</th>\n",
       "      <td>31555</td>\n",
       "      <td>toulouse</td>\n",
       "      <td>31400</td>\n",
       "      <td>toulouse</td>\n",
       "      <td>43.596038</td>\n",
       "      <td>1.432095</td>\n",
       "      <td>haute-garonne</td>\n",
       "      <td>31</td>\n",
       "      <td>occitanie</td>\n",
       "      <td>Occitanie</td>\n",
       "    </tr>\n",
       "    <tr>\n",
       "      <th>21912</th>\n",
       "      <td>31575</td>\n",
       "      <td>vieille toulouse</td>\n",
       "      <td>31320</td>\n",
       "      <td>vieille toulouse</td>\n",
       "      <td>43.527981</td>\n",
       "      <td>1.438022</td>\n",
       "      <td>haute-garonne</td>\n",
       "      <td>31</td>\n",
       "      <td>occitanie</td>\n",
       "      <td>Occitanie</td>\n",
       "    </tr>\n",
       "    <tr>\n",
       "      <th>22025</th>\n",
       "      <td>03286</td>\n",
       "      <td>toulon sur allier</td>\n",
       "      <td>03400</td>\n",
       "      <td>toulon sur allier</td>\n",
       "      <td>46.510960</td>\n",
       "      <td>3.377284</td>\n",
       "      <td>allier</td>\n",
       "      <td>03</td>\n",
       "      <td>auvergne-rhône-alpes</td>\n",
       "      <td>Auvergne-Rhône-Alpes</td>\n",
       "    </tr>\n",
       "    <tr>\n",
       "      <th>24344</th>\n",
       "      <td>12281</td>\n",
       "      <td>toulonjac</td>\n",
       "      <td>12200</td>\n",
       "      <td>toulonjac</td>\n",
       "      <td>44.380995</td>\n",
       "      <td>1.999487</td>\n",
       "      <td>aveyron</td>\n",
       "      <td>12</td>\n",
       "      <td>occitanie</td>\n",
       "      <td>Occitanie</td>\n",
       "    </tr>\n",
       "    <tr>\n",
       "      <th>24423</th>\n",
       "      <td>31555</td>\n",
       "      <td>toulouse</td>\n",
       "      <td>31500</td>\n",
       "      <td>toulouse</td>\n",
       "      <td>43.596038</td>\n",
       "      <td>1.432095</td>\n",
       "      <td>haute-garonne</td>\n",
       "      <td>31</td>\n",
       "      <td>occitanie</td>\n",
       "      <td>Occitanie</td>\n",
       "    </tr>\n",
       "    <tr>\n",
       "      <th>25334</th>\n",
       "      <td>31555</td>\n",
       "      <td>toulouse</td>\n",
       "      <td>31000</td>\n",
       "      <td>toulouse</td>\n",
       "      <td>43.596038</td>\n",
       "      <td>1.432095</td>\n",
       "      <td>haute-garonne</td>\n",
       "      <td>31</td>\n",
       "      <td>occitanie</td>\n",
       "      <td>Occitanie</td>\n",
       "    </tr>\n",
       "    <tr>\n",
       "      <th>25336</th>\n",
       "      <td>31555</td>\n",
       "      <td>toulouse</td>\n",
       "      <td>31200</td>\n",
       "      <td>toulouse</td>\n",
       "      <td>43.596038</td>\n",
       "      <td>1.432095</td>\n",
       "      <td>haute-garonne</td>\n",
       "      <td>31</td>\n",
       "      <td>occitanie</td>\n",
       "      <td>Occitanie</td>\n",
       "    </tr>\n",
       "    <tr>\n",
       "      <th>28864</th>\n",
       "      <td>51611</td>\n",
       "      <td>vert toulon</td>\n",
       "      <td>51130</td>\n",
       "      <td>vert toulon</td>\n",
       "      <td>48.847980</td>\n",
       "      <td>3.906462</td>\n",
       "      <td>marne</td>\n",
       "      <td>51</td>\n",
       "      <td>grand est</td>\n",
       "      <td>Grand Est</td>\n",
       "    </tr>\n",
       "    <tr>\n",
       "      <th>30318</th>\n",
       "      <td>51611</td>\n",
       "      <td>vert toulon</td>\n",
       "      <td>51130</td>\n",
       "      <td>vert toulon</td>\n",
       "      <td>48.847980</td>\n",
       "      <td>3.906462</td>\n",
       "      <td>marne</td>\n",
       "      <td>51</td>\n",
       "      <td>grand est</td>\n",
       "      <td>Grand Est</td>\n",
       "    </tr>\n",
       "  </tbody>\n",
       "</table>\n",
       "</div>"
      ],
      "text/plain": [
       "      insee_code            city_code zip_code                label  \\\n",
       "3610       71542    toulon sur arroux    71320    toulon sur arroux   \n",
       "3958       39533  toulouse le chateau    39230  toulouse le chateau   \n",
       "20897      83137               toulon    83200               toulon   \n",
       "21105      83137               toulon    83100               toulon   \n",
       "21165      83137               toulon    83000               toulon   \n",
       "21447      31555             toulouse    31100             toulouse   \n",
       "21449      31555             toulouse    31300             toulouse   \n",
       "21907      31555             toulouse    31400             toulouse   \n",
       "21912      31575     vieille toulouse    31320     vieille toulouse   \n",
       "22025      03286    toulon sur allier    03400    toulon sur allier   \n",
       "24344      12281            toulonjac    12200            toulonjac   \n",
       "24423      31555             toulouse    31500             toulouse   \n",
       "25334      31555             toulouse    31000             toulouse   \n",
       "25336      31555             toulouse    31200             toulouse   \n",
       "28864      51611          vert toulon    51130          vert toulon   \n",
       "30318      51611          vert toulon    51130          vert toulon   \n",
       "\n",
       "        latitude  longitude department_name department_number  \\\n",
       "3610   46.682758   4.147734  saône-et-loire                71   \n",
       "3958   46.821902   5.583200            jura                39   \n",
       "20897  43.136537   5.932599             var                83   \n",
       "21105  43.136537   5.932599             var                83   \n",
       "21165  43.136537   5.932599             var                83   \n",
       "21447  43.596038   1.432095   haute-garonne                31   \n",
       "21449  43.596038   1.432095   haute-garonne                31   \n",
       "21907  43.596038   1.432095   haute-garonne                31   \n",
       "21912  43.527981   1.438022   haute-garonne                31   \n",
       "22025  46.510960   3.377284          allier                03   \n",
       "24344  44.380995   1.999487         aveyron                12   \n",
       "24423  43.596038   1.432095   haute-garonne                31   \n",
       "25334  43.596038   1.432095   haute-garonne                31   \n",
       "25336  43.596038   1.432095   haute-garonne                31   \n",
       "28864  48.847980   3.906462           marne                51   \n",
       "30318  48.847980   3.906462           marne                51   \n",
       "\n",
       "                      region_name         region_geojson_name  \n",
       "3610      bourgogne-franche-comté     Bourgogne-Franche-Comté  \n",
       "3958      bourgogne-franche-comté     Bourgogne-Franche-Comté  \n",
       "20897  provence-alpes-côte d'azur  Provence-Alpes-Côte d'Azur  \n",
       "21105  provence-alpes-côte d'azur  Provence-Alpes-Côte d'Azur  \n",
       "21165  provence-alpes-côte d'azur  Provence-Alpes-Côte d'Azur  \n",
       "21447                   occitanie                   Occitanie  \n",
       "21449                   occitanie                   Occitanie  \n",
       "21907                   occitanie                   Occitanie  \n",
       "21912                   occitanie                   Occitanie  \n",
       "22025        auvergne-rhône-alpes        Auvergne-Rhône-Alpes  \n",
       "24344                   occitanie                   Occitanie  \n",
       "24423                   occitanie                   Occitanie  \n",
       "25334                   occitanie                   Occitanie  \n",
       "25336                   occitanie                   Occitanie  \n",
       "28864                   grand est                   Grand Est  \n",
       "30318                   grand est                   Grand Est  "
      ]
     },
     "execution_count": 91,
     "metadata": {},
     "output_type": "execute_result"
    }
   ],
   "source": [
    "dfCities[dfCities.label.str.contains(r\"toulo.?[ns]\")]"
   ]
  },
  {
   "cell_type": "code",
   "execution_count": 92,
   "id": "052ac6c1-beb6-4d11-a3c3-789f78c45423",
   "metadata": {},
   "outputs": [
    {
     "data": {
      "text/html": [
       "<div>\n",
       "<style scoped>\n",
       "    .dataframe tbody tr th:only-of-type {\n",
       "        vertical-align: middle;\n",
       "    }\n",
       "\n",
       "    .dataframe tbody tr th {\n",
       "        vertical-align: top;\n",
       "    }\n",
       "\n",
       "    .dataframe thead th {\n",
       "        text-align: right;\n",
       "    }\n",
       "</style>\n",
       "<table border=\"1\" class=\"dataframe\">\n",
       "  <thead>\n",
       "    <tr style=\"text-align: right;\">\n",
       "      <th></th>\n",
       "      <th>insee_code</th>\n",
       "      <th>city_code</th>\n",
       "      <th>zip_code</th>\n",
       "      <th>label</th>\n",
       "      <th>latitude</th>\n",
       "      <th>longitude</th>\n",
       "      <th>department_name</th>\n",
       "      <th>department_number</th>\n",
       "      <th>region_name</th>\n",
       "      <th>region_geojson_name</th>\n",
       "    </tr>\n",
       "  </thead>\n",
       "  <tbody>\n",
       "    <tr>\n",
       "      <th>4</th>\n",
       "      <td>25622</td>\n",
       "      <td>villers buzon</td>\n",
       "      <td>25170</td>\n",
       "      <td>villers buzon</td>\n",
       "      <td>47.228558</td>\n",
       "      <td>5.852187</td>\n",
       "      <td>doubs</td>\n",
       "      <td>25</td>\n",
       "      <td>bourgogne-franche-comté</td>\n",
       "      <td>Bourgogne-Franche-Comté</td>\n",
       "    </tr>\n",
       "    <tr>\n",
       "      <th>39</th>\n",
       "      <td>02583</td>\n",
       "      <td>pancy courtecon</td>\n",
       "      <td>02860</td>\n",
       "      <td>pancy courtecon</td>\n",
       "      <td>49.460356</td>\n",
       "      <td>3.649818</td>\n",
       "      <td>aisne</td>\n",
       "      <td>02</td>\n",
       "      <td>hauts-de-france</td>\n",
       "      <td>Hauts-de-France</td>\n",
       "    </tr>\n",
       "    <tr>\n",
       "      <th>89</th>\n",
       "      <td>07274</td>\n",
       "      <td>st maurice en chalencon</td>\n",
       "      <td>07190</td>\n",
       "      <td>st maurice en chalencon</td>\n",
       "      <td>44.854713</td>\n",
       "      <td>4.582379</td>\n",
       "      <td>ardèche</td>\n",
       "      <td>07</td>\n",
       "      <td>auvergne-rhône-alpes</td>\n",
       "      <td>Auvergne-Rhône-Alpes</td>\n",
       "    </tr>\n",
       "    <tr>\n",
       "      <th>92</th>\n",
       "      <td>07306</td>\n",
       "      <td>sampzon</td>\n",
       "      <td>07120</td>\n",
       "      <td>sampzon</td>\n",
       "      <td>44.412648</td>\n",
       "      <td>4.331866</td>\n",
       "      <td>ardèche</td>\n",
       "      <td>07</td>\n",
       "      <td>auvergne-rhône-alpes</td>\n",
       "      <td>Auvergne-Rhône-Alpes</td>\n",
       "    </tr>\n",
       "    <tr>\n",
       "      <th>110</th>\n",
       "      <td>02559</td>\n",
       "      <td>nouvion et catillon</td>\n",
       "      <td>02270</td>\n",
       "      <td>nouvion et catillon</td>\n",
       "      <td>49.707298</td>\n",
       "      <td>3.493589</td>\n",
       "      <td>aisne</td>\n",
       "      <td>02</td>\n",
       "      <td>hauts-de-france</td>\n",
       "      <td>Hauts-de-France</td>\n",
       "    </tr>\n",
       "    <tr>\n",
       "      <th>...</th>\n",
       "      <td>...</td>\n",
       "      <td>...</td>\n",
       "      <td>...</td>\n",
       "      <td>...</td>\n",
       "      <td>...</td>\n",
       "      <td>...</td>\n",
       "      <td>...</td>\n",
       "      <td>...</td>\n",
       "      <td>...</td>\n",
       "      <td>...</td>\n",
       "    </tr>\n",
       "    <tr>\n",
       "      <th>38904</th>\n",
       "      <td>97422</td>\n",
       "      <td>le tampon</td>\n",
       "      <td>97430</td>\n",
       "      <td>le tampon</td>\n",
       "      <td>-21.223167</td>\n",
       "      <td>55.558553</td>\n",
       "      <td>la réunion</td>\n",
       "      <td>974</td>\n",
       "      <td>la réunion</td>\n",
       "      <td>La Réunion</td>\n",
       "    </tr>\n",
       "    <tr>\n",
       "      <th>38905</th>\n",
       "      <td>97501</td>\n",
       "      <td>miquelon langlade</td>\n",
       "      <td>97500</td>\n",
       "      <td>st pierre et miquelon</td>\n",
       "      <td>46.951612</td>\n",
       "      <td>-56.324420</td>\n",
       "      <td>saint-pierre-et-miquelon</td>\n",
       "      <td>975</td>\n",
       "      <td>saint-pierre-et-miquelon</td>\n",
       "      <td>Saint-Pierre-et-Miquelon</td>\n",
       "    </tr>\n",
       "    <tr>\n",
       "      <th>38906</th>\n",
       "      <td>97502</td>\n",
       "      <td>st pierre</td>\n",
       "      <td>97500</td>\n",
       "      <td>st pierre et miquelon</td>\n",
       "      <td>46.779881</td>\n",
       "      <td>-56.189609</td>\n",
       "      <td>saint-pierre-et-miquelon</td>\n",
       "      <td>975</td>\n",
       "      <td>saint-pierre-et-miquelon</td>\n",
       "      <td>Saint-Pierre-et-Miquelon</td>\n",
       "    </tr>\n",
       "    <tr>\n",
       "      <th>38907</th>\n",
       "      <td>97501</td>\n",
       "      <td>miquelon langlade</td>\n",
       "      <td>97500</td>\n",
       "      <td>st pierre et miquelon</td>\n",
       "      <td>46.951612</td>\n",
       "      <td>-56.324420</td>\n",
       "      <td>saint-pierre-et-miquelon</td>\n",
       "      <td>975</td>\n",
       "      <td>saint-pierre-et-miquelon</td>\n",
       "      <td>Saint-Pierre-et-Miquelon</td>\n",
       "    </tr>\n",
       "    <tr>\n",
       "      <th>39104</th>\n",
       "      <td>98901</td>\n",
       "      <td>ile de clipperton</td>\n",
       "      <td>98799</td>\n",
       "      <td>ile de clipperton</td>\n",
       "      <td>10.297389</td>\n",
       "      <td>-109.221264</td>\n",
       "      <td>polynésie-française</td>\n",
       "      <td>987</td>\n",
       "      <td>polynésie-française</td>\n",
       "      <td>Polynésie française</td>\n",
       "    </tr>\n",
       "  </tbody>\n",
       "</table>\n",
       "<p>1708 rows × 10 columns</p>\n",
       "</div>"
      ],
      "text/plain": [
       "      insee_code                city_code zip_code                    label  \\\n",
       "4          25622            villers buzon    25170            villers buzon   \n",
       "39         02583          pancy courtecon    02860          pancy courtecon   \n",
       "89         07274  st maurice en chalencon    07190  st maurice en chalencon   \n",
       "92         07306                  sampzon    07120                  sampzon   \n",
       "110        02559      nouvion et catillon    02270      nouvion et catillon   \n",
       "...          ...                      ...      ...                      ...   \n",
       "38904      97422                le tampon    97430                le tampon   \n",
       "38905      97501        miquelon langlade    97500    st pierre et miquelon   \n",
       "38906      97502                st pierre    97500    st pierre et miquelon   \n",
       "38907      97501        miquelon langlade    97500    st pierre et miquelon   \n",
       "39104      98901        ile de clipperton    98799        ile de clipperton   \n",
       "\n",
       "        latitude   longitude           department_name department_number  \\\n",
       "4      47.228558    5.852187                     doubs                25   \n",
       "39     49.460356    3.649818                     aisne                02   \n",
       "89     44.854713    4.582379                   ardèche                07   \n",
       "92     44.412648    4.331866                   ardèche                07   \n",
       "110    49.707298    3.493589                     aisne                02   \n",
       "...          ...         ...                       ...               ...   \n",
       "38904 -21.223167   55.558553                la réunion               974   \n",
       "38905  46.951612  -56.324420  saint-pierre-et-miquelon               975   \n",
       "38906  46.779881  -56.189609  saint-pierre-et-miquelon               975   \n",
       "38907  46.951612  -56.324420  saint-pierre-et-miquelon               975   \n",
       "39104  10.297389 -109.221264       polynésie-française               987   \n",
       "\n",
       "                    region_name       region_geojson_name  \n",
       "4       bourgogne-franche-comté   Bourgogne-Franche-Comté  \n",
       "39              hauts-de-france           Hauts-de-France  \n",
       "89         auvergne-rhône-alpes      Auvergne-Rhône-Alpes  \n",
       "92         auvergne-rhône-alpes      Auvergne-Rhône-Alpes  \n",
       "110             hauts-de-france           Hauts-de-France  \n",
       "...                         ...                       ...  \n",
       "38904                la réunion                La Réunion  \n",
       "38905  saint-pierre-et-miquelon  Saint-Pierre-et-Miquelon  \n",
       "38906  saint-pierre-et-miquelon  Saint-Pierre-et-Miquelon  \n",
       "38907  saint-pierre-et-miquelon  Saint-Pierre-et-Miquelon  \n",
       "39104       polynésie-française       Polynésie française  \n",
       "\n",
       "[1708 rows x 10 columns]"
      ]
     },
     "execution_count": 92,
     "metadata": {},
     "output_type": "execute_result"
    }
   ],
   "source": [
    "dfCities[dfCities.label.str.contains(r\"on$\")]"
   ]
  },
  {
   "cell_type": "code",
   "execution_count": 93,
   "id": "4e604b35-e4c9-484f-90f2-04f6ea7c0ce6",
   "metadata": {},
   "outputs": [
    {
     "data": {
      "text/plain": [
       "['ville du pont',\n",
       " 'villers grelot',\n",
       " 'villars les blamont',\n",
       " 'les villedieu',\n",
       " 'villers buzon',\n",
       " 'villers la combe',\n",
       " 'villers sous chalamont',\n",
       " 'voujeaucourt',\n",
       " 'bouconville vauclair',\n",
       " 'bouresches']"
      ]
     },
     "execution_count": 93,
     "metadata": {},
     "output_type": "execute_result"
    }
   ],
   "source": [
    "cities = list(dfCities.label)\n",
    "cities[:10]"
   ]
  },
  {
   "cell_type": "code",
   "execution_count": null,
   "id": "e75270b8-871a-42b5-a217-bb1eaa564a58",
   "metadata": {},
   "outputs": [],
   "source": [
    "# filter les villes qui:\n",
    "# - avec un accent "
   ]
  },
  {
   "cell_type": "code",
   "execution_count": 96,
   "id": "62897b0c-0ad9-4919-826b-88e651be6edb",
   "metadata": {},
   "outputs": [
    {
     "data": {
      "text/plain": [
       "[]"
      ]
     },
     "execution_count": 96,
     "metadata": {},
     "output_type": "execute_result"
    }
   ],
   "source": [
    "[ city for city in cities if re.search(r\"[àéèêëîôùÿ]\", city) ]"
   ]
  },
  {
   "cell_type": "code",
   "execution_count": 97,
   "id": "6690c414-313c-440e-a702-aa030fa5e811",
   "metadata": {},
   "outputs": [
    {
     "data": {
      "text/plain": [
       "['saints en puisaye',\n",
       " 'saintigny',\n",
       " 'saintigny',\n",
       " 'saintes',\n",
       " 'saintes maries de la mer',\n",
       " 'saints geosmes',\n",
       " 'saints geosmes',\n",
       " 'saintines',\n",
       " 'saintry sur seine']"
      ]
     },
     "execution_count": 97,
     "metadata": {},
     "output_type": "execute_result"
    }
   ],
   "source": [
    "[ city for city in cities if re.match(r\"Saint\", city, flags=re.I) ]"
   ]
  },
  {
   "cell_type": "code",
   "execution_count": 99,
   "id": "f1403cca-4a0d-45a6-a28a-ceef2d96d952",
   "metadata": {},
   "outputs": [
    {
     "data": {
      "text/plain": [
       "['st barthelemy le meil',\n",
       " 'st barthelemy',\n",
       " 'st baraing',\n",
       " 'st barthelemy de vals',\n",
       " 'st barthelemy le plain',\n",
       " 'st denis combarnazat',\n",
       " 'st bardoux',\n",
       " 'st barthelemy de beaurepaire',\n",
       " 'st barthelemy de sechilienne',\n",
       " 'st barthelemy lestra',\n",
       " 'st georges de baroille',\n",
       " 'st arcons de barges',\n",
       " 'st barthelemy',\n",
       " 'st barnabe',\n",
       " 'st barthelemy',\n",
       " 'st christophe des bardes',\n",
       " 'st cibard',\n",
       " 'st cybardeaux',\n",
       " 'st ybard',\n",
       " 'st barthelemy d agenais',\n",
       " 'st barthelemy de bussiere',\n",
       " 'st martial d albarede',\n",
       " 'st dizier masbaraud',\n",
       " 'st medard de barbezieux',\n",
       " 'st just ibarre',\n",
       " 'st bard',\n",
       " 'st dizier masbaraud',\n",
       " 'st barthelemy',\n",
       " 'st barthelemy de bellegarde',\n",
       " 'st cernin de labarde',\n",
       " 'st quentin de baron',\n",
       " 'st vincent de barbeyrargues',\n",
       " 'st jean de barrou',\n",
       " 'st etienne sous barbuise',\n",
       " 'st andre en barrois',\n",
       " 'st remy sous barbuise',\n",
       " 'st barthelemy grozon',\n",
       " 'st vincent de barres',\n",
       " 'st barthelemy d anjou',\n",
       " 'st ybars',\n",
       " 'st barthelemy',\n",
       " 'st barthelemy']"
      ]
     },
     "execution_count": 99,
     "metadata": {},
     "output_type": "execute_result"
    }
   ],
   "source": [
    "[ city for city in cities if re.match(r\"St .*bar\", city, flags=re.I) ]"
   ]
  }
 ],
 "metadata": {
  "kernelspec": {
   "display_name": "k312",
   "language": "python",
   "name": "k312"
  },
  "language_info": {
   "codemirror_mode": {
    "name": "ipython",
    "version": 3
   },
   "file_extension": ".py",
   "mimetype": "text/x-python",
   "name": "python",
   "nbconvert_exporter": "python",
   "pygments_lexer": "ipython3",
   "version": "3.12.0"
  }
 },
 "nbformat": 4,
 "nbformat_minor": 5
}
