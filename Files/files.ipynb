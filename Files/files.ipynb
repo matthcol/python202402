{
 "cells": [
  {
   "cell_type": "markdown",
   "id": "2896c54f-f544-49fe-9367-f9495d99ff62",
   "metadata": {},
   "source": [
    "# File and File System\n",
    "builtin function: open\n",
    "modules:\n",
    "- FS: pathlib, os.path\n",
    "- file management (copy, remove, move, ...): shutil\n",
    "- file content according to its format: csv, xml.etree, json, ..., pandas"
   ]
  },
  {
   "cell_type": "code",
   "execution_count": 45,
   "id": "a21101f8-0220-4f8f-9372-412a30cfbd12",
   "metadata": {},
   "outputs": [],
   "source": [
    "from pathlib import Path\n",
    "from datetime import datetime\n",
    "import shutil"
   ]
  },
  {
   "cell_type": "code",
   "execution_count": 2,
   "id": "f74d654d-2aeb-4d0c-8c7c-880c3dc69fd0",
   "metadata": {},
   "outputs": [
    {
     "data": {
      "text/plain": [
       "WindowsPath('.')"
      ]
     },
     "execution_count": 2,
     "metadata": {},
     "output_type": "execute_result"
    }
   ],
   "source": [
    "currentDir = Path(\".\")\n",
    "currentDir"
   ]
  },
  {
   "cell_type": "code",
   "execution_count": 3,
   "id": "621de5db-403b-4090-b35a-48469d3a30ef",
   "metadata": {},
   "outputs": [
    {
     "data": {
      "text/plain": [
       "WindowsPath('data/cities')"
      ]
     },
     "execution_count": 3,
     "metadata": {},
     "output_type": "execute_result"
    }
   ],
   "source": [
    "dataDir = Path(\"data/cities/\")\n",
    "dataDir"
   ]
  },
  {
   "cell_type": "code",
   "execution_count": 5,
   "id": "7b53ebab-5a31-481e-a81f-34b1fae010c2",
   "metadata": {},
   "outputs": [
    {
     "data": {
      "text/plain": [
       "WindowsPath('data/cities')"
      ]
     },
     "execution_count": 5,
     "metadata": {},
     "output_type": "execute_result"
    }
   ],
   "source": [
    "dataDir = Path(\"data\\\\cities\")\n",
    "dataDir"
   ]
  },
  {
   "cell_type": "code",
   "execution_count": 8,
   "id": "e3926c73-a004-4fed-8db7-db6598e02017",
   "metadata": {},
   "outputs": [
    {
     "data": {
      "text/plain": [
       "WindowsPath('data/cities')"
      ]
     },
     "execution_count": 8,
     "metadata": {},
     "output_type": "execute_result"
    }
   ],
   "source": [
    "# concatenate paths: method joinpath  or operator /\n",
    "dataDir = currentDir / \"data\" / \"cities\"\n",
    "dataDir"
   ]
  },
  {
   "cell_type": "code",
   "execution_count": 9,
   "id": "b0c16724-9fed-496b-81bd-8932e3ad224d",
   "metadata": {},
   "outputs": [
    {
     "data": {
      "text/plain": [
       "WindowsPath('data')"
      ]
     },
     "execution_count": 9,
     "metadata": {},
     "output_type": "execute_result"
    }
   ],
   "source": [
    "dataDir.parent"
   ]
  },
  {
   "cell_type": "code",
   "execution_count": 11,
   "id": "a576479a-28f7-401d-bbc6-7cb1ae269821",
   "metadata": {},
   "outputs": [
    {
     "data": {
      "text/plain": [
       "WindowsPath('.')"
      ]
     },
     "execution_count": 11,
     "metadata": {},
     "output_type": "execute_result"
    }
   ],
   "source": [
    "# relative path . or root directory are their own parent\n",
    "currentDir.parent"
   ]
  },
  {
   "cell_type": "code",
   "execution_count": 12,
   "id": "d52ccde5-1be4-44ed-b935-a6ea8b1dca98",
   "metadata": {},
   "outputs": [
    {
     "data": {
      "text/plain": [
       "WindowsPath('C:/Users/Matthias/Documents/Formations/Python/Stage202402/Files')"
      ]
     },
     "execution_count": 12,
     "metadata": {},
     "output_type": "execute_result"
    }
   ],
   "source": [
    "absoluteCurrentDir = currentDir.absolute()\n",
    "absoluteCurrentDir"
   ]
  },
  {
   "cell_type": "code",
   "execution_count": 15,
   "id": "6ad7b128-f288-43ff-aa4b-fbe6b125e4d8",
   "metadata": {},
   "outputs": [
    {
     "name": "stdout",
     "output_type": "stream",
     "text": [
      "WindowsPath('C:/Users/Matthias/Documents/Formations/Python/Stage202402')\n",
      "C:\\Users\\Matthias\\Documents\\Formations\\Python\\Stage202402\n",
      "\n",
      "WindowsPath('C:/Users/Matthias/Documents/Formations/Python')\n",
      "C:\\Users\\Matthias\\Documents\\Formations\\Python\n",
      "\n",
      "WindowsPath('C:/Users/Matthias/Documents/Formations')\n",
      "C:\\Users\\Matthias\\Documents\\Formations\n",
      "\n",
      "WindowsPath('C:/Users/Matthias/Documents')\n",
      "C:\\Users\\Matthias\\Documents\n",
      "\n",
      "WindowsPath('C:/Users/Matthias')\n",
      "C:\\Users\\Matthias\n",
      "\n",
      "WindowsPath('C:/Users')\n",
      "C:\\Users\n",
      "\n",
      "WindowsPath('C:/')\n",
      "C:\\\n",
      "\n"
     ]
    }
   ],
   "source": [
    "for p in absoluteCurrentDir.parents:\n",
    "    print(repr(p))\n",
    "    print(p)\n",
    "    print()"
   ]
  },
  {
   "cell_type": "code",
   "execution_count": 16,
   "id": "bf9f2a70-a0c8-45b7-97a1-ac6248e88968",
   "metadata": {},
   "outputs": [
    {
     "data": {
      "text/plain": [
       "(True, True)"
      ]
     },
     "execution_count": 16,
     "metadata": {},
     "output_type": "execute_result"
    }
   ],
   "source": [
    "currentDir.exists(), currentDir.is_dir()"
   ]
  },
  {
   "cell_type": "code",
   "execution_count": 18,
   "id": "a82628b1-d67e-4c08-a856-680bf4f6cff6",
   "metadata": {},
   "outputs": [
    {
     "name": "stdout",
     "output_type": "stream",
     "text": [
      ".ipynb_checkpoints\n",
      "\t-name .ipynb_checkpoints\n",
      "\t-is directory True\n",
      "\t-is directory False\n",
      "data\n",
      "\t-name data\n",
      "\t-is directory True\n",
      "\t-is directory False\n",
      "files.ipynb\n",
      "\t-name files.ipynb\n",
      "\t-is directory False\n",
      "\t-is directory True\n"
     ]
    }
   ],
   "source": [
    "for f in currentDir.iterdir():\n",
    "    print(f)\n",
    "    print(\"\\t-name:\", f.name)\n",
    "    print(\"\\t-is directory:\", f.is_dir())\n",
    "    print(\"\\t-is directory:\", f.is_file())"
   ]
  },
  {
   "cell_type": "code",
   "execution_count": 26,
   "id": "8f138f94-1d68-4f1f-b61a-beb64071257e",
   "metadata": {},
   "outputs": [
    {
     "data": {
      "text/plain": [
       "os.stat_result(st_mode=33206, st_ino=4785074607527690, st_dev=8842262613728869279, st_nlink=1, st_uid=0, st_gid=0, st_size=7713, st_atime=1707399821, st_mtime=1707399821, st_ctime=1707397177)"
      ]
     },
     "execution_count": 26,
     "metadata": {},
     "output_type": "execute_result"
    }
   ],
   "source": [
    "st = f.stat()\n",
    "st"
   ]
  },
  {
   "cell_type": "code",
   "execution_count": 30,
   "id": "c7c20671-b9b6-4949-b04f-9985b9eb6de2",
   "metadata": {},
   "outputs": [
    {
     "data": {
      "text/plain": [
       "7713"
      ]
     },
     "execution_count": 30,
     "metadata": {},
     "output_type": "execute_result"
    }
   ],
   "source": [
    "# size in bytes\n",
    "st.st_size"
   ]
  },
  {
   "cell_type": "code",
   "execution_count": 29,
   "id": "41ede264-28ee-4da0-86d1-efe47069700e",
   "metadata": {},
   "outputs": [
    {
     "name": "stdout",
     "output_type": "stream",
     "text": [
      "created: 2024-02-08 13:59:37.301141\n",
      "modified: 2024-02-08 14:43:41.719275\n"
     ]
    }
   ],
   "source": [
    "dt_created = datetime.fromtimestamp(st.st_ctime)\n",
    "dt_modified = datetime.fromtimestamp(st.st_mtime)\n",
    "print(\"created:\", dt_created)\n",
    "print(\"modified:\", dt_modified)"
   ]
  },
  {
   "cell_type": "code",
   "execution_count": 31,
   "id": "a3c9a6be-05e1-4931-8307-b5a073565930",
   "metadata": {},
   "outputs": [
    {
     "data": {
      "text/plain": [
       "WindowsPath('C:/Users/Matthias/Documents/Formations/Python/Stage202402')"
      ]
     },
     "execution_count": 31,
     "metadata": {},
     "output_type": "execute_result"
    }
   ],
   "source": [
    "trainingDir = absoluteCurrentDir.parent\n",
    "trainingDir"
   ]
  },
  {
   "cell_type": "code",
   "execution_count": 36,
   "id": "4f70c8c2-8139-4b61-be8e-ea592fbdb26e",
   "metadata": {},
   "outputs": [
    {
     "name": "stdout",
     "output_type": "stream",
     "text": [
      "C:\\Users\\Matthias\\Documents\\Formations\\Python\\Stage202402\\Basics\\app.py\n",
      "C:\\Users\\Matthias\\Documents\\Formations\\Python\\Stage202402\\Basics\\basics.py\n",
      "C:\\Users\\Matthias\\Documents\\Formations\\Python\\Stage202402\\Basics\\euclide.py\n",
      "C:\\Users\\Matthias\\Documents\\Formations\\Python\\Stage202402\\Basics\\palindrome.py\n",
      "C:\\Users\\Matthias\\Documents\\Formations\\Python\\Stage202402\\Basics\\test_euclide.py\n",
      "C:\\Users\\Matthias\\Documents\\Formations\\Python\\Stage202402\\Basics\\test_palindrome.py\n",
      "C:\\Users\\Matthias\\Documents\\Formations\\Python\\Stage202402\\MagicSquare\\app.py\n",
      "C:\\Users\\Matthias\\Documents\\Formations\\Python\\Stage202402\\MagicSquare\\magicsquare.py\n",
      "C:\\Users\\Matthias\\Documents\\Formations\\Python\\Stage202402\\MagicSquare\\squares.py\n",
      "C:\\Users\\Matthias\\Documents\\Formations\\Python\\Stage202402\\MagicSquare\\test_magicsquare.py\n",
      "C:\\Users\\Matthias\\Documents\\Formations\\Python\\Stage202402\\MagicSquare\\test_magicsquare_integration.py\n",
      "C:\\Users\\Matthias\\Documents\\Formations\\Python\\Stage202402\\POO\\app.py\n",
      "C:\\Users\\Matthias\\Documents\\Formations\\Python\\Stage202402\\POO\\appgeo.py\n",
      "C:\\Users\\Matthias\\Documents\\Formations\\Python\\Stage202402\\POO\\city.py\n",
      "C:\\Users\\Matthias\\Documents\\Formations\\Python\\Stage202402\\POO\\point.py\n",
      "C:\\Users\\Matthias\\Documents\\Formations\\Python\\Stage202402\\POO\\test_city_equals.py\n",
      "C:\\Users\\Matthias\\Documents\\Formations\\Python\\Stage202402\\POO\\test_city_order.py\n"
     ]
    }
   ],
   "source": [
    "for f in trainingDir.glob(\"**/*.py\"):\n",
    "    if \".ipynb_checkpoints\" in (p.name for p in f.parents):\n",
    "        continue\n",
    "    print(f)"
   ]
  },
  {
   "cell_type": "code",
   "execution_count": 38,
   "id": "616a1945-ad69-4b89-a1f3-eec03d2abf9b",
   "metadata": {},
   "outputs": [
    {
     "name": "stdout",
     "output_type": "stream",
     "text": [
      "C:\\Users\\Matthias\\Documents\\Formations\\Python\\Stage202402\\Basics\\basics.ipynb\n",
      "C:\\Users\\Matthias\\Documents\\Formations\\Python\\Stage202402\\Files\\files.ipynb\n",
      "C:\\Users\\Matthias\\Documents\\Formations\\Python\\Stage202402\\MagicSquare\\magicsquare.ipynb\n",
      "C:\\Users\\Matthias\\Documents\\Formations\\Python\\Stage202402\\POO\\comparison_sort.ipynb\n",
      "C:\\Users\\Matthias\\Documents\\Formations\\Python\\Stage202402\\POO\\functions.ipynb\n",
      "C:\\Users\\Matthias\\Documents\\Formations\\Python\\Stage202402\\POO\\oop.ipynb\n",
      "C:\\Users\\Matthias\\Documents\\Formations\\Python\\Stage202402\\POO\\temporal_data.ipynb\n"
     ]
    }
   ],
   "source": [
    "for f in trainingDir.glob(\"**/*.ipynb\"):\n",
    "    if \".ipynb_checkpoints\" in (p.name for p in f.parents):\n",
    "        continue\n",
    "    print(f)"
   ]
  },
  {
   "cell_type": "code",
   "execution_count": 40,
   "id": "c1d9f564-42a4-4ce9-9e98-3b23c344004d",
   "metadata": {
    "scrolled": true
   },
   "outputs": [],
   "source": [
    "# copy file data/cities/cities.csv => data/backup/cities.csv\n",
    "# Hint: method of class Path or module shutil"
   ]
  },
  {
   "cell_type": "code",
   "execution_count": 48,
   "id": "09952d95-8a28-4298-8488-0b9c7cffdef8",
   "metadata": {},
   "outputs": [
    {
     "name": "stdout",
     "output_type": "stream",
     "text": [
      "old_path C:\\Users\\Matthias\\Documents\\Formations\\Python\\Stage202402\\Files\\data\\cities\\cities.csv\n",
      "new_path C:\\Users\\Matthias\\Documents\\Formations\\Python\\Stage202402\\Files\\data\\backup\n"
     ]
    },
    {
     "data": {
      "text/plain": [
       "'C:\\\\Users\\\\Matthias\\\\Documents\\\\Formations\\\\Python\\\\Stage202402\\\\Files\\\\data\\\\backup\\\\cities.csv'"
      ]
     },
     "execution_count": 48,
     "metadata": {},
     "output_type": "execute_result"
    }
   ],
   "source": [
    "old_path = absoluteCurrentDir.joinpath(\"data\", \"cities\", \"cities.csv\")  # ,\"cities.csv\"\n",
    "print('old_path', old_path) \n",
    "new_path = absoluteCurrentDir.joinpath(\"data\", \"backup\")\n",
    "# if not new_path.exists():\n",
    "#     new_path.mkdir()\n",
    "new_path.mkdir(parents=True, exist_ok=True) # eq shell: mkdir -p\n",
    "print('new_path', new_path) \n",
    "# copy file from old_path -> new_path directory\n",
    "shutil.copy(old_path, new_path)"
   ]
  },
  {
   "cell_type": "code",
   "execution_count": 41,
   "id": "8b32ed90-b1e3-4f1e-9b14-6f0ac3b88246",
   "metadata": {},
   "outputs": [
    {
     "data": {
      "text/plain": [
       "\u001b[1;31mSignature:\u001b[0m \u001b[0mPath\u001b[0m\u001b[1;33m.\u001b[0m\u001b[0mmkdir\u001b[0m\u001b[1;33m(\u001b[0m\u001b[0mself\u001b[0m\u001b[1;33m,\u001b[0m \u001b[0mmode\u001b[0m\u001b[1;33m=\u001b[0m\u001b[1;36m511\u001b[0m\u001b[1;33m,\u001b[0m \u001b[0mparents\u001b[0m\u001b[1;33m=\u001b[0m\u001b[1;32mFalse\u001b[0m\u001b[1;33m,\u001b[0m \u001b[0mexist_ok\u001b[0m\u001b[1;33m=\u001b[0m\u001b[1;32mFalse\u001b[0m\u001b[1;33m)\u001b[0m\u001b[1;33m\u001b[0m\u001b[1;33m\u001b[0m\u001b[0m\n",
       "\u001b[1;31mDocstring:\u001b[0m Create a new directory at this given path.\n",
       "\u001b[1;31mFile:\u001b[0m      c:\\users\\matthias\\anaconda3\\envs\\env312\\lib\\pathlib.py\n",
       "\u001b[1;31mType:\u001b[0m      function"
      ]
     },
     "metadata": {},
     "output_type": "display_data"
    }
   ],
   "source": [
    "Path.mkdir?"
   ]
  },
  {
   "cell_type": "code",
   "execution_count": null,
   "id": "473e567e-7ff2-441a-8bde-12199936de0d",
   "metadata": {},
   "outputs": [],
   "source": []
  },
  {
   "cell_type": "code",
   "execution_count": null,
   "id": "11e7d04d-6356-4ec7-8dcd-6e09f6612c60",
   "metadata": {},
   "outputs": [],
   "source": [
    "# rename data/backup/cities.csv in data/backup/cities_fr.csv"
   ]
  },
  {
   "cell_type": "code",
   "execution_count": 39,
   "id": "7f769572-4999-4cb2-bb09-ee25d475b5f6",
   "metadata": {},
   "outputs": [],
   "source": [
    "# delete data/backup/cities_fr.csv"
   ]
  }
 ],
 "metadata": {
  "kernelspec": {
   "display_name": "k312",
   "language": "python",
   "name": "k312"
  },
  "language_info": {
   "codemirror_mode": {
    "name": "ipython",
    "version": 3
   },
   "file_extension": ".py",
   "mimetype": "text/x-python",
   "name": "python",
   "nbconvert_exporter": "python",
   "pygments_lexer": "ipython3",
   "version": "3.12.0"
  }
 },
 "nbformat": 4,
 "nbformat_minor": 5
}
