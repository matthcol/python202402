{
 "cells": [
  {
   "cell_type": "markdown",
   "id": "2896c54f-f544-49fe-9367-f9495d99ff62",
   "metadata": {},
   "source": [
    "# File and File System\n",
    "builtin function: open\n",
    "modules:\n",
    "- FS: pathlib, os.path\n",
    "- file management (copy, remove, move, ...): shutil\n",
    "- file content according to its format: csv, xml.etree, json, ..., pandas"
   ]
  },
  {
   "cell_type": "code",
   "execution_count": 1,
   "id": "a21101f8-0220-4f8f-9372-412a30cfbd12",
   "metadata": {},
   "outputs": [],
   "source": [
    "from pathlib import Path\n",
    "from datetime import datetime\n",
    "import shutil"
   ]
  },
  {
   "cell_type": "markdown",
   "id": "93b4b55b-4dd7-4ac5-bac5-56c7ce914b5b",
   "metadata": {},
   "source": [
    "## FileSystem and File management"
   ]
  },
  {
   "cell_type": "code",
   "execution_count": 2,
   "id": "f74d654d-2aeb-4d0c-8c7c-880c3dc69fd0",
   "metadata": {},
   "outputs": [
    {
     "data": {
      "text/plain": [
       "WindowsPath('.')"
      ]
     },
     "execution_count": 2,
     "metadata": {},
     "output_type": "execute_result"
    }
   ],
   "source": [
    "currentDir = Path(\".\")\n",
    "currentDir"
   ]
  },
  {
   "cell_type": "code",
   "execution_count": 3,
   "id": "621de5db-403b-4090-b35a-48469d3a30ef",
   "metadata": {},
   "outputs": [
    {
     "data": {
      "text/plain": [
       "WindowsPath('data/cities')"
      ]
     },
     "execution_count": 3,
     "metadata": {},
     "output_type": "execute_result"
    }
   ],
   "source": [
    "dataDir = Path(\"data/cities/\")\n",
    "dataDir"
   ]
  },
  {
   "cell_type": "code",
   "execution_count": 4,
   "id": "7b53ebab-5a31-481e-a81f-34b1fae010c2",
   "metadata": {},
   "outputs": [
    {
     "data": {
      "text/plain": [
       "WindowsPath('data/cities')"
      ]
     },
     "execution_count": 4,
     "metadata": {},
     "output_type": "execute_result"
    }
   ],
   "source": [
    "dataDir = Path(\"data\\\\cities\")\n",
    "dataDir"
   ]
  },
  {
   "cell_type": "code",
   "execution_count": 5,
   "id": "e3926c73-a004-4fed-8db7-db6598e02017",
   "metadata": {},
   "outputs": [
    {
     "data": {
      "text/plain": [
       "WindowsPath('data/cities')"
      ]
     },
     "execution_count": 5,
     "metadata": {},
     "output_type": "execute_result"
    }
   ],
   "source": [
    "# concatenate paths: method joinpath  or operator /\n",
    "dataDir = currentDir / \"data\" / \"cities\"\n",
    "dataDir"
   ]
  },
  {
   "cell_type": "code",
   "execution_count": 6,
   "id": "b0c16724-9fed-496b-81bd-8932e3ad224d",
   "metadata": {},
   "outputs": [
    {
     "data": {
      "text/plain": [
       "WindowsPath('data')"
      ]
     },
     "execution_count": 6,
     "metadata": {},
     "output_type": "execute_result"
    }
   ],
   "source": [
    "dataDir.parent"
   ]
  },
  {
   "cell_type": "code",
   "execution_count": 7,
   "id": "a576479a-28f7-401d-bbc6-7cb1ae269821",
   "metadata": {},
   "outputs": [
    {
     "data": {
      "text/plain": [
       "WindowsPath('.')"
      ]
     },
     "execution_count": 7,
     "metadata": {},
     "output_type": "execute_result"
    }
   ],
   "source": [
    "# relative path . or root directory are their own parent\n",
    "currentDir.parent"
   ]
  },
  {
   "cell_type": "code",
   "execution_count": 8,
   "id": "d52ccde5-1be4-44ed-b935-a6ea8b1dca98",
   "metadata": {},
   "outputs": [
    {
     "data": {
      "text/plain": [
       "WindowsPath('C:/Users/Matthias/Documents/Formations/Python/Stage202402/Files')"
      ]
     },
     "execution_count": 8,
     "metadata": {},
     "output_type": "execute_result"
    }
   ],
   "source": [
    "absoluteCurrentDir = currentDir.absolute()\n",
    "absoluteCurrentDir"
   ]
  },
  {
   "cell_type": "code",
   "execution_count": 9,
   "id": "6ad7b128-f288-43ff-aa4b-fbe6b125e4d8",
   "metadata": {},
   "outputs": [
    {
     "name": "stdout",
     "output_type": "stream",
     "text": [
      "WindowsPath('C:/Users/Matthias/Documents/Formations/Python/Stage202402')\n",
      "C:\\Users\\Matthias\\Documents\\Formations\\Python\\Stage202402\n",
      "\n",
      "WindowsPath('C:/Users/Matthias/Documents/Formations/Python')\n",
      "C:\\Users\\Matthias\\Documents\\Formations\\Python\n",
      "\n",
      "WindowsPath('C:/Users/Matthias/Documents/Formations')\n",
      "C:\\Users\\Matthias\\Documents\\Formations\n",
      "\n",
      "WindowsPath('C:/Users/Matthias/Documents')\n",
      "C:\\Users\\Matthias\\Documents\n",
      "\n",
      "WindowsPath('C:/Users/Matthias')\n",
      "C:\\Users\\Matthias\n",
      "\n",
      "WindowsPath('C:/Users')\n",
      "C:\\Users\n",
      "\n",
      "WindowsPath('C:/')\n",
      "C:\\\n",
      "\n"
     ]
    }
   ],
   "source": [
    "for p in absoluteCurrentDir.parents:\n",
    "    print(repr(p))\n",
    "    print(p)\n",
    "    print()"
   ]
  },
  {
   "cell_type": "code",
   "execution_count": 10,
   "id": "bf9f2a70-a0c8-45b7-97a1-ac6248e88968",
   "metadata": {},
   "outputs": [
    {
     "data": {
      "text/plain": [
       "(True, True)"
      ]
     },
     "execution_count": 10,
     "metadata": {},
     "output_type": "execute_result"
    }
   ],
   "source": [
    "currentDir.exists(), currentDir.is_dir()"
   ]
  },
  {
   "cell_type": "code",
   "execution_count": 11,
   "id": "a82628b1-d67e-4c08-a856-680bf4f6cff6",
   "metadata": {},
   "outputs": [
    {
     "name": "stdout",
     "output_type": "stream",
     "text": [
      ".ipynb_checkpoints\n",
      "\t-name: .ipynb_checkpoints\n",
      "\t-is directory: True\n",
      "\t-is directory: False\n",
      "data\n",
      "\t-name: data\n",
      "\t-is directory: True\n",
      "\t-is directory: False\n",
      "files.ipynb\n",
      "\t-name: files.ipynb\n",
      "\t-is directory: False\n",
      "\t-is directory: True\n"
     ]
    }
   ],
   "source": [
    "for f in currentDir.iterdir():\n",
    "    print(f)\n",
    "    print(\"\\t-name:\", f.name)\n",
    "    print(\"\\t-is directory:\", f.is_dir())\n",
    "    print(\"\\t-is directory:\", f.is_file())"
   ]
  },
  {
   "cell_type": "code",
   "execution_count": 12,
   "id": "8f138f94-1d68-4f1f-b61a-beb64071257e",
   "metadata": {},
   "outputs": [
    {
     "data": {
      "text/plain": [
       "os.stat_result(st_mode=33206, st_ino=4785074607527690, st_dev=8842262613728869279, st_nlink=1, st_uid=0, st_gid=0, st_size=43915, st_atime=1707465927, st_mtime=1707408565, st_ctime=1707397177)"
      ]
     },
     "execution_count": 12,
     "metadata": {},
     "output_type": "execute_result"
    }
   ],
   "source": [
    "st = f.stat()\n",
    "st"
   ]
  },
  {
   "cell_type": "code",
   "execution_count": 13,
   "id": "c7c20671-b9b6-4949-b04f-9985b9eb6de2",
   "metadata": {},
   "outputs": [
    {
     "data": {
      "text/plain": [
       "43915"
      ]
     },
     "execution_count": 13,
     "metadata": {},
     "output_type": "execute_result"
    }
   ],
   "source": [
    "# size in bytes\n",
    "st.st_size"
   ]
  },
  {
   "cell_type": "code",
   "execution_count": 14,
   "id": "41ede264-28ee-4da0-86d1-efe47069700e",
   "metadata": {},
   "outputs": [
    {
     "name": "stdout",
     "output_type": "stream",
     "text": [
      "created: 2024-02-08 13:59:37.301141\n",
      "modified: 2024-02-08 17:09:25.453221\n"
     ]
    }
   ],
   "source": [
    "dt_created = datetime.fromtimestamp(st.st_ctime)\n",
    "dt_modified = datetime.fromtimestamp(st.st_mtime)\n",
    "print(\"created:\", dt_created)\n",
    "print(\"modified:\", dt_modified)"
   ]
  },
  {
   "cell_type": "code",
   "execution_count": 15,
   "id": "a3c9a6be-05e1-4931-8307-b5a073565930",
   "metadata": {},
   "outputs": [
    {
     "data": {
      "text/plain": [
       "WindowsPath('C:/Users/Matthias/Documents/Formations/Python/Stage202402')"
      ]
     },
     "execution_count": 15,
     "metadata": {},
     "output_type": "execute_result"
    }
   ],
   "source": [
    "trainingDir = absoluteCurrentDir.parent\n",
    "trainingDir"
   ]
  },
  {
   "cell_type": "code",
   "execution_count": 16,
   "id": "4f70c8c2-8139-4b61-be8e-ea592fbdb26e",
   "metadata": {},
   "outputs": [
    {
     "name": "stdout",
     "output_type": "stream",
     "text": [
      "C:\\Users\\Matthias\\Documents\\Formations\\Python\\Stage202402\\Basics\\app.py\n",
      "C:\\Users\\Matthias\\Documents\\Formations\\Python\\Stage202402\\Basics\\basics.py\n",
      "C:\\Users\\Matthias\\Documents\\Formations\\Python\\Stage202402\\Basics\\euclide.py\n",
      "C:\\Users\\Matthias\\Documents\\Formations\\Python\\Stage202402\\Basics\\palindrome.py\n",
      "C:\\Users\\Matthias\\Documents\\Formations\\Python\\Stage202402\\Basics\\test_euclide.py\n",
      "C:\\Users\\Matthias\\Documents\\Formations\\Python\\Stage202402\\Basics\\test_palindrome.py\n",
      "C:\\Users\\Matthias\\Documents\\Formations\\Python\\Stage202402\\MagicSquare\\app.py\n",
      "C:\\Users\\Matthias\\Documents\\Formations\\Python\\Stage202402\\MagicSquare\\magicsquare.py\n",
      "C:\\Users\\Matthias\\Documents\\Formations\\Python\\Stage202402\\MagicSquare\\squares.py\n",
      "C:\\Users\\Matthias\\Documents\\Formations\\Python\\Stage202402\\MagicSquare\\test_magicsquare.py\n",
      "C:\\Users\\Matthias\\Documents\\Formations\\Python\\Stage202402\\MagicSquare\\test_magicsquare_integration.py\n",
      "C:\\Users\\Matthias\\Documents\\Formations\\Python\\Stage202402\\POO\\app.py\n",
      "C:\\Users\\Matthias\\Documents\\Formations\\Python\\Stage202402\\POO\\appgeo.py\n",
      "C:\\Users\\Matthias\\Documents\\Formations\\Python\\Stage202402\\POO\\city.py\n",
      "C:\\Users\\Matthias\\Documents\\Formations\\Python\\Stage202402\\POO\\point.py\n",
      "C:\\Users\\Matthias\\Documents\\Formations\\Python\\Stage202402\\POO\\test_city_equals.py\n",
      "C:\\Users\\Matthias\\Documents\\Formations\\Python\\Stage202402\\POO\\test_city_order.py\n"
     ]
    }
   ],
   "source": [
    "for f in trainingDir.glob(\"**/*.py\"):\n",
    "    if \".ipynb_checkpoints\" in (p.name for p in f.parents):\n",
    "        continue\n",
    "    print(f)"
   ]
  },
  {
   "cell_type": "code",
   "execution_count": 17,
   "id": "616a1945-ad69-4b89-a1f3-eec03d2abf9b",
   "metadata": {},
   "outputs": [
    {
     "name": "stdout",
     "output_type": "stream",
     "text": [
      "C:\\Users\\Matthias\\Documents\\Formations\\Python\\Stage202402\\Basics\\basics.ipynb\n",
      "C:\\Users\\Matthias\\Documents\\Formations\\Python\\Stage202402\\Files\\files.ipynb\n",
      "C:\\Users\\Matthias\\Documents\\Formations\\Python\\Stage202402\\MagicSquare\\magicsquare.ipynb\n",
      "C:\\Users\\Matthias\\Documents\\Formations\\Python\\Stage202402\\POO\\comparison_sort.ipynb\n",
      "C:\\Users\\Matthias\\Documents\\Formations\\Python\\Stage202402\\POO\\functions.ipynb\n",
      "C:\\Users\\Matthias\\Documents\\Formations\\Python\\Stage202402\\POO\\oop.ipynb\n",
      "C:\\Users\\Matthias\\Documents\\Formations\\Python\\Stage202402\\POO\\temporal_data.ipynb\n"
     ]
    }
   ],
   "source": [
    "for f in trainingDir.glob(\"**/*.ipynb\"):\n",
    "    if \".ipynb_checkpoints\" in (p.name for p in f.parents):\n",
    "        continue\n",
    "    print(f)"
   ]
  },
  {
   "cell_type": "code",
   "execution_count": 18,
   "id": "c1d9f564-42a4-4ce9-9e98-3b23c344004d",
   "metadata": {
    "scrolled": true
   },
   "outputs": [],
   "source": [
    "# copy file data/cities/cities.csv => data/backup/cities.csv\n",
    "# Hint: method of class Path or module shutil"
   ]
  },
  {
   "cell_type": "code",
   "execution_count": 19,
   "id": "09952d95-8a28-4298-8488-0b9c7cffdef8",
   "metadata": {},
   "outputs": [
    {
     "name": "stdout",
     "output_type": "stream",
     "text": [
      "old_path C:\\Users\\Matthias\\Documents\\Formations\\Python\\Stage202402\\Files\\data\\cities\\cities.csv\n",
      "new_path C:\\Users\\Matthias\\Documents\\Formations\\Python\\Stage202402\\Files\\data\\backup\n"
     ]
    },
    {
     "data": {
      "text/plain": [
       "'C:\\\\Users\\\\Matthias\\\\Documents\\\\Formations\\\\Python\\\\Stage202402\\\\Files\\\\data\\\\backup\\\\cities.csv'"
      ]
     },
     "execution_count": 19,
     "metadata": {},
     "output_type": "execute_result"
    }
   ],
   "source": [
    "# NB: joinpath or operator / give the same results:\n",
    "old_path = absoluteCurrentDir.joinpath(\"data\", \"cities\", \"cities.csv\")  \n",
    "print('old_path', old_path) \n",
    "new_path = absoluteCurrentDir.joinpath(\"data\", \"backup\")\n",
    "# if not new_path.exists():\n",
    "#     new_path.mkdir()\n",
    "new_path.mkdir(parents=True, exist_ok=True) # eq shell: mkdir -p\n",
    "print('new_path', new_path) \n",
    "# copy file from old_path -> new_path directory\n",
    "# NB: cf also copy, copyfile, copystat, copytree\n",
    "shutil.copy2(old_path, new_path)"
   ]
  },
  {
   "cell_type": "code",
   "execution_count": 20,
   "id": "11e7d04d-6356-4ec7-8dcd-6e09f6612c60",
   "metadata": {},
   "outputs": [
    {
     "name": "stdout",
     "output_type": "stream",
     "text": [
      "C:\\Users\\Matthias\\Documents\\Formations\\Python\\Stage202402\\Files\\data\\backup\\cities.csv \n",
      " -> C:\\Users\\Matthias\\Documents\\Formations\\Python\\Stage202402\\Files\\data\\backup\\cities_fr.csv\n"
     ]
    }
   ],
   "source": [
    "# rename data/backup/cities.csv in data/backup/cities_fr.csv\n",
    "cityPath = new_path / \"cities.csv\"\n",
    "newCityPath = new_path / \"cities_fr.csv\"\n",
    "assert cityPath.exists() and not newCityPath.exists()\n",
    "print(cityPath, newCityPath, sep=\" \\n -> \")\n",
    "\n",
    "# then Path.rename or shutil.move (NB:see also movetree)\n",
    "# cityPath.rename(newCityPath)\n",
    "shutil.move(cityPath, newCityPath)\n",
    "assert not cityPath.exists() and newCityPath.exists()"
   ]
  },
  {
   "cell_type": "code",
   "execution_count": 21,
   "id": "7f769572-4999-4cb2-bb09-ee25d475b5f6",
   "metadata": {},
   "outputs": [],
   "source": [
    "# delete data/backup/cities_fr.csv\n",
    "newCityPath.unlink()"
   ]
  },
  {
   "cell_type": "markdown",
   "id": "1822ba0e-bfc4-4086-9609-10dea21213ae",
   "metadata": {},
   "source": [
    "## Read/Write files"
   ]
  },
  {
   "cell_type": "code",
   "execution_count": 22,
   "id": "1cc0d83d-3c92-476c-9a43-ff4fa5cd7500",
   "metadata": {},
   "outputs": [
    {
     "data": {
      "text/plain": [
       "<_io.TextIOWrapper name='C:\\\\Users\\\\Matthias\\\\Documents\\\\Formations\\\\Python\\\\Stage202402\\\\Files\\\\data\\\\cities\\\\cities.csv' mode='r' encoding='cp1252'>"
      ]
     },
     "execution_count": 22,
     "metadata": {},
     "output_type": "execute_result"
    }
   ],
   "source": [
    "# open a file given by a Path object\n",
    "f = open(old_path)\n",
    "f"
   ]
  },
  {
   "cell_type": "code",
   "execution_count": 23,
   "id": "1ce1414a-c100-4615-bd35-ce7f3a80e00f",
   "metadata": {},
   "outputs": [
    {
     "name": "stdout",
     "output_type": "stream",
     "text": [
      "insee_code,city_code,zip_code,label,latitude,longitude,department_name,department_number,region_name,region_geojson_name\n",
      "\n",
      "25620,ville du pont,25650,ville du pont,46.999873398,6.498147193,doubs,25,bourgogne-franche-comtÃ©,Bourgogne-Franche-ComtÃ©\n",
      "\n",
      "25624,villers grelot,25640,villers grelot,47.361512085,6.235167025,doubs,25,bourgogne-franche-comtÃ©,Bourgogne-Franche-ComtÃ©\n",
      "\n",
      "25615,villars les blamont,25310,villars les blamont,47.368383721,6.871414913,doubs,25,bourgogne-franche-comtÃ©,Bourgogne-Franche-ComtÃ©\n",
      "\n",
      "25619,les villedieu,25240,les villedieu,46.713906258,6.26583065,doubs,25,bourgogne-franche-comtÃ©,Bourgogne-Franche-ComtÃ©\n",
      "\n",
      "25622,villers buzon,25170,villers buzon,47.228558434,5.852186748,doubs,25,bourgogne-franche-comtÃ©,Bourgogne-Franche-ComtÃ©\n",
      "\n",
      "25625,villers la combe,25510,villers la combe,47.240809828,6.473842387,doubs,25,bourgogne-franche-comtÃ©,Bourgogne-Franche-ComtÃ©\n",
      "\n",
      "25627,villers sous chalamont,25270,villers sous chalamont,46.901588322,6.045328224,doubs,25,bourgogne-franche-comtÃ©,Bourgogne-Franche-ComtÃ©\n",
      "\n",
      "25632,voujeaucourt,25420,voujeaucourt,47.473552905,6.782505604,doubs,25,bourgogne-franche-comtÃ©,Bourgogne-Franche-ComtÃ©\n",
      "\n",
      "02102,bouconville vauclair,02860,bouconville vauclair,49.460193485,3.756684634,aisne,02,hauts-de-france,Hauts-de-France\n",
      "\n"
     ]
    }
   ],
   "source": [
    "# f (text mode) is iterable on its line\n",
    "for _, line in zip(range(10), f):\n",
    "    print(line)"
   ]
  },
  {
   "cell_type": "code",
   "execution_count": 24,
   "id": "9036ae6f-1f05-4116-9f88-89015424f867",
   "metadata": {},
   "outputs": [],
   "source": [
    "f.close()"
   ]
  },
  {
   "cell_type": "code",
   "execution_count": 25,
   "id": "c4b823b8-0555-4f11-8142-06c43e47f6e7",
   "metadata": {},
   "outputs": [
    {
     "data": {
      "text/plain": [
       "<_io.TextIOWrapper name='C:\\\\Users\\\\Matthias\\\\Documents\\\\Formations\\\\Python\\\\Stage202402\\\\Files\\\\data\\\\cities\\\\cities.csv' mode='r' encoding='UTF-8'>"
      ]
     },
     "execution_count": 25,
     "metadata": {},
     "output_type": "execute_result"
    }
   ],
   "source": [
    "f = open(old_path, encoding='UTF-8')\n",
    "f"
   ]
  },
  {
   "cell_type": "code",
   "execution_count": 26,
   "id": "1161d942-7ee2-41e9-ba28-2104a05c38ac",
   "metadata": {
    "scrolled": true
   },
   "outputs": [
    {
     "name": "stdout",
     "output_type": "stream",
     "text": [
      "insee_code,city_code,zip_code,label,latitude,longitude,department_name,department_number,region_name,region_geojson_name\n",
      "\n",
      "25620,ville du pont,25650,ville du pont,46.999873398,6.498147193,doubs,25,bourgogne-franche-comté,Bourgogne-Franche-Comté\n",
      "\n",
      "25624,villers grelot,25640,villers grelot,47.361512085,6.235167025,doubs,25,bourgogne-franche-comté,Bourgogne-Franche-Comté\n",
      "\n",
      "25615,villars les blamont,25310,villars les blamont,47.368383721,6.871414913,doubs,25,bourgogne-franche-comté,Bourgogne-Franche-Comté\n",
      "\n",
      "25619,les villedieu,25240,les villedieu,46.713906258,6.26583065,doubs,25,bourgogne-franche-comté,Bourgogne-Franche-Comté\n",
      "\n",
      "25622,villers buzon,25170,villers buzon,47.228558434,5.852186748,doubs,25,bourgogne-franche-comté,Bourgogne-Franche-Comté\n",
      "\n",
      "25625,villers la combe,25510,villers la combe,47.240809828,6.473842387,doubs,25,bourgogne-franche-comté,Bourgogne-Franche-Comté\n",
      "\n",
      "25627,villers sous chalamont,25270,villers sous chalamont,46.901588322,6.045328224,doubs,25,bourgogne-franche-comté,Bourgogne-Franche-Comté\n",
      "\n",
      "25632,voujeaucourt,25420,voujeaucourt,47.473552905,6.782505604,doubs,25,bourgogne-franche-comté,Bourgogne-Franche-Comté\n",
      "\n",
      "02102,bouconville vauclair,02860,bouconville vauclair,49.460193485,3.756684634,aisne,02,hauts-de-france,Hauts-de-France\n",
      "\n"
     ]
    }
   ],
   "source": [
    "for _, line in zip(range(10), f):\n",
    "    print(line)"
   ]
  },
  {
   "cell_type": "code",
   "execution_count": 27,
   "id": "deddb232-d7df-4c7d-a3f4-c49b7e4809a0",
   "metadata": {},
   "outputs": [],
   "source": [
    "f.close()"
   ]
  },
  {
   "cell_type": "code",
   "execution_count": 28,
   "id": "784d092b-14d8-4222-a1ea-7760b2447ba2",
   "metadata": {},
   "outputs": [
    {
     "data": {
      "text/plain": [
       "b'\\xc3\\xa9'"
      ]
     },
     "execution_count": 28,
     "metadata": {},
     "output_type": "execute_result"
    }
   ],
   "source": [
    "'é'.encode('UTF-8')"
   ]
  },
  {
   "cell_type": "code",
   "execution_count": 29,
   "id": "884aed1c-69d2-420c-aca3-6e7041cf0599",
   "metadata": {},
   "outputs": [
    {
     "data": {
      "text/plain": [
       "b'\\xe9'"
      ]
     },
     "execution_count": 29,
     "metadata": {},
     "output_type": "execute_result"
    }
   ],
   "source": [
    "'é'.encode('CP1252')"
   ]
  },
  {
   "cell_type": "code",
   "execution_count": 30,
   "id": "18b26308-7c79-4171-901a-1c59608b301a",
   "metadata": {},
   "outputs": [
    {
     "name": "stdout",
     "output_type": "stream",
     "text": [
      "é: ISO-8859-1 = b'\\xe9' / ISO-8859-15 = b'\\xe9' / CP1252 = b'\\xe9' / UTF-8 = b'\\xc3\\xa9' / \n",
      "€: ISO-8859-1 = <unknown> / ISO-8859-15 = b'\\xa4' / CP1252 = b'\\x80' / UTF-8 = b'\\xe2\\x82\\xac' / \n",
      "Ÿ: ISO-8859-1 = <unknown> / ISO-8859-15 = b'\\xbe' / CP1252 = b'\\x9f' / UTF-8 = b'\\xc5\\xb8' / \n"
     ]
    }
   ],
   "source": [
    "for letter in 'é', '€', 'Ÿ':\n",
    "    print(letter, end=': ')\n",
    "    for encoding in 'ISO-8859-1', 'ISO-8859-15', 'CP1252', 'UTF-8':\n",
    "        try:\n",
    "            code = letter.encode(encoding)\n",
    "        except UnicodeEncodeError:\n",
    "            code = '<unknown>'\n",
    "        print(encoding,'=',code, end=' / ')\n",
    "    print()\n",
    "    "
   ]
  },
  {
   "cell_type": "code",
   "execution_count": 31,
   "id": "5ab3c92c-1a75-4e5b-be5f-fabfe2494a52",
   "metadata": {},
   "outputs": [
    {
     "name": "stdout",
     "output_type": "stream",
     "text": [
      "Closed ? False\n",
      "Closed ? True\n"
     ]
    }
   ],
   "source": [
    "with open(old_path, encoding='UTF-8') as f:\n",
    "    # f.__enter__()\n",
    "    print(\"Closed ?\", f.closed)\n",
    "    # f.__exit__() => f.close() (with or without exception)\n",
    "print(\"Closed ?\", f.closed)"
   ]
  },
  {
   "cell_type": "markdown",
   "id": "610c0762-fb0f-4801-822e-92b6fc6e0e4a",
   "metadata": {},
   "source": [
    "### read/write with specialized module by format"
   ]
  },
  {
   "cell_type": "code",
   "execution_count": 32,
   "id": "4f1916d5-d394-4fab-bab9-3e35eec588b0",
   "metadata": {},
   "outputs": [],
   "source": [
    "import pandas as pd\n",
    "import csv # better pandas\n",
    "import json # simple jsonify/parser\n",
    "\n",
    "import xml.etree as et \n",
    "# or external: lxml.etree as et \n",
    "# or beautifulSoup\n",
    "# https://realpython.com/python-xml-parser/"
   ]
  },
  {
   "cell_type": "code",
   "execution_count": 33,
   "id": "d76e96ea-f20f-4a4d-8db8-0ea87f6a5ef1",
   "metadata": {},
   "outputs": [
    {
     "name": "stdout",
     "output_type": "stream",
     "text": [
      "<class 'pandas.core.frame.DataFrame'>\n",
      "RangeIndex: 39145 entries, 0 to 39144\n",
      "Data columns (total 10 columns):\n",
      " #   Column               Non-Null Count  Dtype  \n",
      "---  ------               --------------  -----  \n",
      " 0   insee_code           39145 non-null  object \n",
      " 1   city_code            39145 non-null  object \n",
      " 2   zip_code             39145 non-null  object \n",
      " 3   label                39145 non-null  object \n",
      " 4   latitude             38934 non-null  float64\n",
      " 5   longitude            38934 non-null  float64\n",
      " 6   department_name      39145 non-null  object \n",
      " 7   department_number    39145 non-null  object \n",
      " 8   region_name          39145 non-null  object \n",
      " 9   region_geojson_name  39145 non-null  object \n",
      "dtypes: float64(2), object(8)\n",
      "memory usage: 3.0+ MB\n"
     ]
    }
   ],
   "source": [
    "dfCities = pd.read_csv(old_path, encoding='UTF-8', dtype={'zip_code':str})\n",
    "dfCities.info()"
   ]
  },
  {
   "cell_type": "code",
   "execution_count": 34,
   "id": "43409237-3b69-4f4a-b331-184eab225cc6",
   "metadata": {},
   "outputs": [
    {
     "data": {
      "text/html": [
       "<div>\n",
       "<style scoped>\n",
       "    .dataframe tbody tr th:only-of-type {\n",
       "        vertical-align: middle;\n",
       "    }\n",
       "\n",
       "    .dataframe tbody tr th {\n",
       "        vertical-align: top;\n",
       "    }\n",
       "\n",
       "    .dataframe thead th {\n",
       "        text-align: right;\n",
       "    }\n",
       "</style>\n",
       "<table border=\"1\" class=\"dataframe\">\n",
       "  <thead>\n",
       "    <tr style=\"text-align: right;\">\n",
       "      <th></th>\n",
       "      <th>insee_code</th>\n",
       "      <th>city_code</th>\n",
       "      <th>zip_code</th>\n",
       "      <th>label</th>\n",
       "      <th>latitude</th>\n",
       "      <th>longitude</th>\n",
       "      <th>department_name</th>\n",
       "      <th>department_number</th>\n",
       "      <th>region_name</th>\n",
       "      <th>region_geojson_name</th>\n",
       "    </tr>\n",
       "  </thead>\n",
       "  <tbody>\n",
       "    <tr>\n",
       "      <th>4605</th>\n",
       "      <td>01008</td>\n",
       "      <td>ambutrix</td>\n",
       "      <td>01500</td>\n",
       "      <td>ambutrix</td>\n",
       "      <td>45.936683</td>\n",
       "      <td>5.332447</td>\n",
       "      <td>ain</td>\n",
       "      <td>01</td>\n",
       "      <td>auvergne-rhône-alpes</td>\n",
       "      <td>Auvergne-Rhône-Alpes</td>\n",
       "    </tr>\n",
       "    <tr>\n",
       "      <th>4611</th>\n",
       "      <td>01019</td>\n",
       "      <td>armix</td>\n",
       "      <td>01510</td>\n",
       "      <td>armix</td>\n",
       "      <td>45.854492</td>\n",
       "      <td>5.583031</td>\n",
       "      <td>ain</td>\n",
       "      <td>01</td>\n",
       "      <td>auvergne-rhône-alpes</td>\n",
       "      <td>Auvergne-Rhône-Alpes</td>\n",
       "    </tr>\n",
       "    <tr>\n",
       "      <th>4613</th>\n",
       "      <td>01041</td>\n",
       "      <td>bettant</td>\n",
       "      <td>01500</td>\n",
       "      <td>bettant</td>\n",
       "      <td>45.937721</td>\n",
       "      <td>5.365980</td>\n",
       "      <td>ain</td>\n",
       "      <td>01</td>\n",
       "      <td>auvergne-rhône-alpes</td>\n",
       "      <td>Auvergne-Rhône-Alpes</td>\n",
       "    </tr>\n",
       "    <tr>\n",
       "      <th>4614</th>\n",
       "      <td>01066</td>\n",
       "      <td>la burbanche</td>\n",
       "      <td>01510</td>\n",
       "      <td>la burbanche</td>\n",
       "      <td>45.859943</td>\n",
       "      <td>5.545818</td>\n",
       "      <td>ain</td>\n",
       "      <td>01</td>\n",
       "      <td>auvergne-rhône-alpes</td>\n",
       "      <td>Auvergne-Rhône-Alpes</td>\n",
       "    </tr>\n",
       "    <tr>\n",
       "      <th>4615</th>\n",
       "      <td>01109</td>\n",
       "      <td>collonges</td>\n",
       "      <td>01550</td>\n",
       "      <td>collonges</td>\n",
       "      <td>46.142544</td>\n",
       "      <td>5.899702</td>\n",
       "      <td>ain</td>\n",
       "      <td>01</td>\n",
       "      <td>auvergne-rhône-alpes</td>\n",
       "      <td>Auvergne-Rhône-Alpes</td>\n",
       "    </tr>\n",
       "    <tr>\n",
       "      <th>...</th>\n",
       "      <td>...</td>\n",
       "      <td>...</td>\n",
       "      <td>...</td>\n",
       "      <td>...</td>\n",
       "      <td>...</td>\n",
       "      <td>...</td>\n",
       "      <td>...</td>\n",
       "      <td>...</td>\n",
       "      <td>...</td>\n",
       "      <td>...</td>\n",
       "    </tr>\n",
       "    <tr>\n",
       "      <th>28105</th>\n",
       "      <td>01053</td>\n",
       "      <td>bourg en bresse</td>\n",
       "      <td>01000</td>\n",
       "      <td>bourg en bresse</td>\n",
       "      <td>46.205014</td>\n",
       "      <td>5.245594</td>\n",
       "      <td>ain</td>\n",
       "      <td>01</td>\n",
       "      <td>auvergne-rhône-alpes</td>\n",
       "      <td>Auvergne-Rhône-Alpes</td>\n",
       "    </tr>\n",
       "    <tr>\n",
       "      <th>28152</th>\n",
       "      <td>01165</td>\n",
       "      <td>francheleins</td>\n",
       "      <td>01090</td>\n",
       "      <td>francheleins</td>\n",
       "      <td>46.073642</td>\n",
       "      <td>4.812560</td>\n",
       "      <td>ain</td>\n",
       "      <td>01</td>\n",
       "      <td>auvergne-rhône-alpes</td>\n",
       "      <td>Auvergne-Rhône-Alpes</td>\n",
       "    </tr>\n",
       "    <tr>\n",
       "      <th>28165</th>\n",
       "      <td>01183</td>\n",
       "      <td>guereins</td>\n",
       "      <td>01090</td>\n",
       "      <td>guereins</td>\n",
       "      <td>46.106683</td>\n",
       "      <td>4.782509</td>\n",
       "      <td>ain</td>\n",
       "      <td>01</td>\n",
       "      <td>auvergne-rhône-alpes</td>\n",
       "      <td>Auvergne-Rhône-Alpes</td>\n",
       "    </tr>\n",
       "    <tr>\n",
       "      <th>28200</th>\n",
       "      <td>01258</td>\n",
       "      <td>montceaux</td>\n",
       "      <td>01090</td>\n",
       "      <td>montceaux</td>\n",
       "      <td>46.096201</td>\n",
       "      <td>4.803716</td>\n",
       "      <td>ain</td>\n",
       "      <td>01</td>\n",
       "      <td>auvergne-rhône-alpes</td>\n",
       "      <td>Auvergne-Rhône-Alpes</td>\n",
       "    </tr>\n",
       "    <tr>\n",
       "      <th>30467</th>\n",
       "      <td>01165</td>\n",
       "      <td>francheleins</td>\n",
       "      <td>01090</td>\n",
       "      <td>francheleins</td>\n",
       "      <td>46.073642</td>\n",
       "      <td>4.812560</td>\n",
       "      <td>ain</td>\n",
       "      <td>01</td>\n",
       "      <td>auvergne-rhône-alpes</td>\n",
       "      <td>Auvergne-Rhône-Alpes</td>\n",
       "    </tr>\n",
       "  </tbody>\n",
       "</table>\n",
       "<p>457 rows × 10 columns</p>\n",
       "</div>"
      ],
      "text/plain": [
       "      insee_code        city_code zip_code            label   latitude  \\\n",
       "4605       01008         ambutrix    01500         ambutrix  45.936683   \n",
       "4611       01019            armix    01510            armix  45.854492   \n",
       "4613       01041          bettant    01500          bettant  45.937721   \n",
       "4614       01066     la burbanche    01510     la burbanche  45.859943   \n",
       "4615       01109        collonges    01550        collonges  46.142544   \n",
       "...          ...              ...      ...              ...        ...   \n",
       "28105      01053  bourg en bresse    01000  bourg en bresse  46.205014   \n",
       "28152      01165     francheleins    01090     francheleins  46.073642   \n",
       "28165      01183         guereins    01090         guereins  46.106683   \n",
       "28200      01258        montceaux    01090        montceaux  46.096201   \n",
       "30467      01165     francheleins    01090     francheleins  46.073642   \n",
       "\n",
       "       longitude department_name department_number           region_name  \\\n",
       "4605    5.332447             ain                01  auvergne-rhône-alpes   \n",
       "4611    5.583031             ain                01  auvergne-rhône-alpes   \n",
       "4613    5.365980             ain                01  auvergne-rhône-alpes   \n",
       "4614    5.545818             ain                01  auvergne-rhône-alpes   \n",
       "4615    5.899702             ain                01  auvergne-rhône-alpes   \n",
       "...          ...             ...               ...                   ...   \n",
       "28105   5.245594             ain                01  auvergne-rhône-alpes   \n",
       "28152   4.812560             ain                01  auvergne-rhône-alpes   \n",
       "28165   4.782509             ain                01  auvergne-rhône-alpes   \n",
       "28200   4.803716             ain                01  auvergne-rhône-alpes   \n",
       "30467   4.812560             ain                01  auvergne-rhône-alpes   \n",
       "\n",
       "        region_geojson_name  \n",
       "4605   Auvergne-Rhône-Alpes  \n",
       "4611   Auvergne-Rhône-Alpes  \n",
       "4613   Auvergne-Rhône-Alpes  \n",
       "4614   Auvergne-Rhône-Alpes  \n",
       "4615   Auvergne-Rhône-Alpes  \n",
       "...                     ...  \n",
       "28105  Auvergne-Rhône-Alpes  \n",
       "28152  Auvergne-Rhône-Alpes  \n",
       "28165  Auvergne-Rhône-Alpes  \n",
       "28200  Auvergne-Rhône-Alpes  \n",
       "30467  Auvergne-Rhône-Alpes  \n",
       "\n",
       "[457 rows x 10 columns]"
      ]
     },
     "execution_count": 34,
     "metadata": {},
     "output_type": "execute_result"
    }
   ],
   "source": [
    "dfCities[dfCities.department_number=='01']"
   ]
  },
  {
   "cell_type": "code",
   "execution_count": 35,
   "id": "94049a7b-cd56-4787-879a-4ba848b8cf69",
   "metadata": {},
   "outputs": [
    {
     "data": {
      "text/html": [
       "<div>\n",
       "<style scoped>\n",
       "    .dataframe tbody tr th:only-of-type {\n",
       "        vertical-align: middle;\n",
       "    }\n",
       "\n",
       "    .dataframe tbody tr th {\n",
       "        vertical-align: top;\n",
       "    }\n",
       "\n",
       "    .dataframe thead th {\n",
       "        text-align: right;\n",
       "    }\n",
       "</style>\n",
       "<table border=\"1\" class=\"dataframe\">\n",
       "  <thead>\n",
       "    <tr style=\"text-align: right;\">\n",
       "      <th></th>\n",
       "      <th>insee_code</th>\n",
       "      <th>city_code</th>\n",
       "      <th>zip_code</th>\n",
       "      <th>label</th>\n",
       "      <th>latitude</th>\n",
       "      <th>longitude</th>\n",
       "      <th>department_name</th>\n",
       "      <th>department_number</th>\n",
       "      <th>region_name</th>\n",
       "      <th>region_geojson_name</th>\n",
       "    </tr>\n",
       "  </thead>\n",
       "  <tbody>\n",
       "    <tr>\n",
       "      <th>26273</th>\n",
       "      <td>2A017</td>\n",
       "      <td>appietto</td>\n",
       "      <td>20167</td>\n",
       "      <td>appietto</td>\n",
       "      <td>42.003459</td>\n",
       "      <td>8.733865</td>\n",
       "      <td>corse-du-sud</td>\n",
       "      <td>2A</td>\n",
       "      <td>corse</td>\n",
       "      <td>Corse</td>\n",
       "    </tr>\n",
       "    <tr>\n",
       "      <th>26274</th>\n",
       "      <td>2A018</td>\n",
       "      <td>arbellara</td>\n",
       "      <td>20110</td>\n",
       "      <td>arbellara</td>\n",
       "      <td>41.671484</td>\n",
       "      <td>8.989411</td>\n",
       "      <td>corse-du-sud</td>\n",
       "      <td>2A</td>\n",
       "      <td>corse</td>\n",
       "      <td>Corse</td>\n",
       "    </tr>\n",
       "    <tr>\n",
       "      <th>26275</th>\n",
       "      <td>2A026</td>\n",
       "      <td>azilone ampaza</td>\n",
       "      <td>20190</td>\n",
       "      <td>azilone ampaza</td>\n",
       "      <td>41.870639</td>\n",
       "      <td>9.016697</td>\n",
       "      <td>corse-du-sud</td>\n",
       "      <td>2A</td>\n",
       "      <td>corse</td>\n",
       "      <td>Corse</td>\n",
       "    </tr>\n",
       "    <tr>\n",
       "      <th>26276</th>\n",
       "      <td>2A031</td>\n",
       "      <td>bastelica</td>\n",
       "      <td>20119</td>\n",
       "      <td>bastelica</td>\n",
       "      <td>41.988203</td>\n",
       "      <td>9.048771</td>\n",
       "      <td>corse-du-sud</td>\n",
       "      <td>2A</td>\n",
       "      <td>corse</td>\n",
       "      <td>Corse</td>\n",
       "    </tr>\n",
       "    <tr>\n",
       "      <th>26277</th>\n",
       "      <td>2A062</td>\n",
       "      <td>carbuccia</td>\n",
       "      <td>20133</td>\n",
       "      <td>carbuccia</td>\n",
       "      <td>42.030469</td>\n",
       "      <td>8.936785</td>\n",
       "      <td>corse-du-sud</td>\n",
       "      <td>2A</td>\n",
       "      <td>corse</td>\n",
       "      <td>Corse</td>\n",
       "    </tr>\n",
       "    <tr>\n",
       "      <th>...</th>\n",
       "      <td>...</td>\n",
       "      <td>...</td>\n",
       "      <td>...</td>\n",
       "      <td>...</td>\n",
       "      <td>...</td>\n",
       "      <td>...</td>\n",
       "      <td>...</td>\n",
       "      <td>...</td>\n",
       "      <td>...</td>\n",
       "      <td>...</td>\n",
       "    </tr>\n",
       "    <tr>\n",
       "      <th>26687</th>\n",
       "      <td>2B333</td>\n",
       "      <td>vallecalle</td>\n",
       "      <td>20232</td>\n",
       "      <td>vallecalle</td>\n",
       "      <td>42.599687</td>\n",
       "      <td>9.337179</td>\n",
       "      <td>haute-corse</td>\n",
       "      <td>2B</td>\n",
       "      <td>corse</td>\n",
       "      <td>Corse</td>\n",
       "    </tr>\n",
       "    <tr>\n",
       "      <th>26688</th>\n",
       "      <td>2B342</td>\n",
       "      <td>ventiseri</td>\n",
       "      <td>20240</td>\n",
       "      <td>ventiseri</td>\n",
       "      <td>41.941136</td>\n",
       "      <td>9.362670</td>\n",
       "      <td>haute-corse</td>\n",
       "      <td>2B</td>\n",
       "      <td>corse</td>\n",
       "      <td>Corse</td>\n",
       "    </tr>\n",
       "    <tr>\n",
       "      <th>26689</th>\n",
       "      <td>2B342</td>\n",
       "      <td>ventiseri</td>\n",
       "      <td>20240</td>\n",
       "      <td>ventiseri</td>\n",
       "      <td>41.941136</td>\n",
       "      <td>9.362670</td>\n",
       "      <td>haute-corse</td>\n",
       "      <td>2B</td>\n",
       "      <td>corse</td>\n",
       "      <td>Corse</td>\n",
       "    </tr>\n",
       "    <tr>\n",
       "      <th>26690</th>\n",
       "      <td>2B343</td>\n",
       "      <td>venzolasca</td>\n",
       "      <td>20215</td>\n",
       "      <td>venzolasca</td>\n",
       "      <td>42.501558</td>\n",
       "      <td>9.493174</td>\n",
       "      <td>haute-corse</td>\n",
       "      <td>2B</td>\n",
       "      <td>corse</td>\n",
       "      <td>Corse</td>\n",
       "    </tr>\n",
       "    <tr>\n",
       "      <th>26691</th>\n",
       "      <td>2B355</td>\n",
       "      <td>volpajola</td>\n",
       "      <td>20290</td>\n",
       "      <td>volpajola</td>\n",
       "      <td>42.519867</td>\n",
       "      <td>9.360363</td>\n",
       "      <td>haute-corse</td>\n",
       "      <td>2B</td>\n",
       "      <td>corse</td>\n",
       "      <td>Corse</td>\n",
       "    </tr>\n",
       "  </tbody>\n",
       "</table>\n",
       "<p>419 rows × 10 columns</p>\n",
       "</div>"
      ],
      "text/plain": [
       "      insee_code       city_code zip_code           label   latitude  \\\n",
       "26273      2A017        appietto    20167        appietto  42.003459   \n",
       "26274      2A018       arbellara    20110       arbellara  41.671484   \n",
       "26275      2A026  azilone ampaza    20190  azilone ampaza  41.870639   \n",
       "26276      2A031       bastelica    20119       bastelica  41.988203   \n",
       "26277      2A062       carbuccia    20133       carbuccia  42.030469   \n",
       "...          ...             ...      ...             ...        ...   \n",
       "26687      2B333      vallecalle    20232      vallecalle  42.599687   \n",
       "26688      2B342       ventiseri    20240       ventiseri  41.941136   \n",
       "26689      2B342       ventiseri    20240       ventiseri  41.941136   \n",
       "26690      2B343      venzolasca    20215      venzolasca  42.501558   \n",
       "26691      2B355       volpajola    20290       volpajola  42.519867   \n",
       "\n",
       "       longitude department_name department_number region_name  \\\n",
       "26273   8.733865    corse-du-sud                2A       corse   \n",
       "26274   8.989411    corse-du-sud                2A       corse   \n",
       "26275   9.016697    corse-du-sud                2A       corse   \n",
       "26276   9.048771    corse-du-sud                2A       corse   \n",
       "26277   8.936785    corse-du-sud                2A       corse   \n",
       "...          ...             ...               ...         ...   \n",
       "26687   9.337179     haute-corse                2B       corse   \n",
       "26688   9.362670     haute-corse                2B       corse   \n",
       "26689   9.362670     haute-corse                2B       corse   \n",
       "26690   9.493174     haute-corse                2B       corse   \n",
       "26691   9.360363     haute-corse                2B       corse   \n",
       "\n",
       "      region_geojson_name  \n",
       "26273               Corse  \n",
       "26274               Corse  \n",
       "26275               Corse  \n",
       "26276               Corse  \n",
       "26277               Corse  \n",
       "...                   ...  \n",
       "26687               Corse  \n",
       "26688               Corse  \n",
       "26689               Corse  \n",
       "26690               Corse  \n",
       "26691               Corse  \n",
       "\n",
       "[419 rows x 10 columns]"
      ]
     },
     "execution_count": 35,
     "metadata": {},
     "output_type": "execute_result"
    }
   ],
   "source": [
    "dfCities[dfCities.department_number.isin(['2A','2B'])]"
   ]
  },
  {
   "cell_type": "code",
   "execution_count": 36,
   "id": "d65dc984-a4d3-4a7e-b76a-6021f5e3718a",
   "metadata": {},
   "outputs": [
    {
     "data": {
      "text/plain": [
       "[['insee_code',\n",
       "  'city_code',\n",
       "  'zip_code',\n",
       "  'label',\n",
       "  'latitude',\n",
       "  'longitude',\n",
       "  'department_name',\n",
       "  'department_number',\n",
       "  'region_name',\n",
       "  'region_geojson_name'],\n",
       " ['25620',\n",
       "  'ville du pont',\n",
       "  '25650',\n",
       "  'ville du pont',\n",
       "  '46.999873398',\n",
       "  '6.498147193',\n",
       "  'doubs',\n",
       "  '25',\n",
       "  'bourgogne-franche-comté',\n",
       "  'Bourgogne-Franche-Comté'],\n",
       " ['25624',\n",
       "  'villers grelot',\n",
       "  '25640',\n",
       "  'villers grelot',\n",
       "  '47.361512085',\n",
       "  '6.235167025',\n",
       "  'doubs',\n",
       "  '25',\n",
       "  'bourgogne-franche-comté',\n",
       "  'Bourgogne-Franche-Comté'],\n",
       " ['25615',\n",
       "  'villars les blamont',\n",
       "  '25310',\n",
       "  'villars les blamont',\n",
       "  '47.368383721',\n",
       "  '6.871414913',\n",
       "  'doubs',\n",
       "  '25',\n",
       "  'bourgogne-franche-comté',\n",
       "  'Bourgogne-Franche-Comté'],\n",
       " ['25619',\n",
       "  'les villedieu',\n",
       "  '25240',\n",
       "  'les villedieu',\n",
       "  '46.713906258',\n",
       "  '6.26583065',\n",
       "  'doubs',\n",
       "  '25',\n",
       "  'bourgogne-franche-comté',\n",
       "  'Bourgogne-Franche-Comté']]"
      ]
     },
     "execution_count": 36,
     "metadata": {},
     "output_type": "execute_result"
    }
   ],
   "source": [
    "with open(old_path, encoding='UTF-8') as f:\n",
    "    data = list(csv.reader(f))\n",
    "data[:5]"
   ]
  },
  {
   "cell_type": "markdown",
   "id": "28804c5d-af1e-4b29-8b2f-8a8fd10e0e82",
   "metadata": {},
   "source": [
    "#### import/export json"
   ]
  },
  {
   "cell_type": "code",
   "execution_count": 37,
   "id": "0ab6624b-5f85-476a-b0cd-7216d0973fdd",
   "metadata": {},
   "outputs": [
    {
     "data": {
      "text/plain": [
       "\u001b[1;31mSignature:\u001b[0m\n",
       "\u001b[0mdfCities\u001b[0m\u001b[1;33m.\u001b[0m\u001b[0mto_json\u001b[0m\u001b[1;33m(\u001b[0m\u001b[1;33m\n",
       "\u001b[0m    \u001b[0mpath_or_buf\u001b[0m\u001b[1;33m:\u001b[0m \u001b[1;34m'FilePath | WriteBuffer[bytes] | WriteBuffer[str] | None'\u001b[0m \u001b[1;33m=\u001b[0m \u001b[1;32mNone\u001b[0m\u001b[1;33m,\u001b[0m\u001b[1;33m\n",
       "\u001b[0m    \u001b[0morient\u001b[0m\u001b[1;33m:\u001b[0m \u001b[1;34m\"Literal['split', 'records', 'index', 'table', 'columns', 'values'] | None\"\u001b[0m \u001b[1;33m=\u001b[0m \u001b[1;32mNone\u001b[0m\u001b[1;33m,\u001b[0m\u001b[1;33m\n",
       "\u001b[0m    \u001b[0mdate_format\u001b[0m\u001b[1;33m:\u001b[0m \u001b[1;34m'str | None'\u001b[0m \u001b[1;33m=\u001b[0m \u001b[1;32mNone\u001b[0m\u001b[1;33m,\u001b[0m\u001b[1;33m\n",
       "\u001b[0m    \u001b[0mdouble_precision\u001b[0m\u001b[1;33m:\u001b[0m \u001b[1;34m'int'\u001b[0m \u001b[1;33m=\u001b[0m \u001b[1;36m10\u001b[0m\u001b[1;33m,\u001b[0m\u001b[1;33m\n",
       "\u001b[0m    \u001b[0mforce_ascii\u001b[0m\u001b[1;33m:\u001b[0m \u001b[1;34m'bool_t'\u001b[0m \u001b[1;33m=\u001b[0m \u001b[1;32mTrue\u001b[0m\u001b[1;33m,\u001b[0m\u001b[1;33m\n",
       "\u001b[0m    \u001b[0mdate_unit\u001b[0m\u001b[1;33m:\u001b[0m \u001b[1;34m'TimeUnit'\u001b[0m \u001b[1;33m=\u001b[0m \u001b[1;34m'ms'\u001b[0m\u001b[1;33m,\u001b[0m\u001b[1;33m\n",
       "\u001b[0m    \u001b[0mdefault_handler\u001b[0m\u001b[1;33m:\u001b[0m \u001b[1;34m'Callable[[Any], JSONSerializable] | None'\u001b[0m \u001b[1;33m=\u001b[0m \u001b[1;32mNone\u001b[0m\u001b[1;33m,\u001b[0m\u001b[1;33m\n",
       "\u001b[0m    \u001b[0mlines\u001b[0m\u001b[1;33m:\u001b[0m \u001b[1;34m'bool_t'\u001b[0m \u001b[1;33m=\u001b[0m \u001b[1;32mFalse\u001b[0m\u001b[1;33m,\u001b[0m\u001b[1;33m\n",
       "\u001b[0m    \u001b[0mcompression\u001b[0m\u001b[1;33m:\u001b[0m \u001b[1;34m'CompressionOptions'\u001b[0m \u001b[1;33m=\u001b[0m \u001b[1;34m'infer'\u001b[0m\u001b[1;33m,\u001b[0m\u001b[1;33m\n",
       "\u001b[0m    \u001b[0mindex\u001b[0m\u001b[1;33m:\u001b[0m \u001b[1;34m'bool_t | None'\u001b[0m \u001b[1;33m=\u001b[0m \u001b[1;32mNone\u001b[0m\u001b[1;33m,\u001b[0m\u001b[1;33m\n",
       "\u001b[0m    \u001b[0mindent\u001b[0m\u001b[1;33m:\u001b[0m \u001b[1;34m'int | None'\u001b[0m \u001b[1;33m=\u001b[0m \u001b[1;32mNone\u001b[0m\u001b[1;33m,\u001b[0m\u001b[1;33m\n",
       "\u001b[0m    \u001b[0mstorage_options\u001b[0m\u001b[1;33m:\u001b[0m \u001b[1;34m'StorageOptions | None'\u001b[0m \u001b[1;33m=\u001b[0m \u001b[1;32mNone\u001b[0m\u001b[1;33m,\u001b[0m\u001b[1;33m\n",
       "\u001b[0m    \u001b[0mmode\u001b[0m\u001b[1;33m:\u001b[0m \u001b[1;34m\"Literal['a', 'w']\"\u001b[0m \u001b[1;33m=\u001b[0m \u001b[1;34m'w'\u001b[0m\u001b[1;33m,\u001b[0m\u001b[1;33m\n",
       "\u001b[0m\u001b[1;33m)\u001b[0m \u001b[1;33m->\u001b[0m \u001b[1;34m'str | None'\u001b[0m\u001b[1;33m\u001b[0m\u001b[1;33m\u001b[0m\u001b[0m\n",
       "\u001b[1;31mDocstring:\u001b[0m\n",
       "Convert the object to a JSON string.\n",
       "\n",
       "Note NaN's and None will be converted to null and datetime objects\n",
       "will be converted to UNIX timestamps.\n",
       "\n",
       "Parameters\n",
       "----------\n",
       "path_or_buf : str, path object, file-like object, or None, default None\n",
       "    String, path object (implementing os.PathLike[str]), or file-like\n",
       "    object implementing a write() function. If None, the result is\n",
       "    returned as a string.\n",
       "orient : str\n",
       "    Indication of expected JSON string format.\n",
       "\n",
       "    * Series:\n",
       "\n",
       "        - default is 'index'\n",
       "        - allowed values are: {'split', 'records', 'index', 'table'}.\n",
       "\n",
       "    * DataFrame:\n",
       "\n",
       "        - default is 'columns'\n",
       "        - allowed values are: {'split', 'records', 'index', 'columns',\n",
       "          'values', 'table'}.\n",
       "\n",
       "    * The format of the JSON string:\n",
       "\n",
       "        - 'split' : dict like {'index' -> [index], 'columns' -> [columns],\n",
       "          'data' -> [values]}\n",
       "        - 'records' : list like [{column -> value}, ... , {column -> value}]\n",
       "        - 'index' : dict like {index -> {column -> value}}\n",
       "        - 'columns' : dict like {column -> {index -> value}}\n",
       "        - 'values' : just the values array\n",
       "        - 'table' : dict like {'schema': {schema}, 'data': {data}}\n",
       "\n",
       "        Describing the data, where data component is like ``orient='records'``.\n",
       "\n",
       "date_format : {None, 'epoch', 'iso'}\n",
       "    Type of date conversion. 'epoch' = epoch milliseconds,\n",
       "    'iso' = ISO8601. The default depends on the `orient`. For\n",
       "    ``orient='table'``, the default is 'iso'. For all other orients,\n",
       "    the default is 'epoch'.\n",
       "double_precision : int, default 10\n",
       "    The number of decimal places to use when encoding\n",
       "    floating point values. The possible maximal value is 15.\n",
       "    Passing double_precision greater than 15 will raise a ValueError.\n",
       "force_ascii : bool, default True\n",
       "    Force encoded string to be ASCII.\n",
       "date_unit : str, default 'ms' (milliseconds)\n",
       "    The time unit to encode to, governs timestamp and ISO8601\n",
       "    precision.  One of 's', 'ms', 'us', 'ns' for second, millisecond,\n",
       "    microsecond, and nanosecond respectively.\n",
       "default_handler : callable, default None\n",
       "    Handler to call if object cannot otherwise be converted to a\n",
       "    suitable format for JSON. Should receive a single argument which is\n",
       "    the object to convert and return a serialisable object.\n",
       "lines : bool, default False\n",
       "    If 'orient' is 'records' write out line-delimited json format. Will\n",
       "    throw ValueError if incorrect 'orient' since others are not\n",
       "    list-like.\n",
       "compression : str or dict, default 'infer'\n",
       "    For on-the-fly compression of the output data. If 'infer' and 'path_or_buf' is\n",
       "    path-like, then detect compression from the following extensions: '.gz',\n",
       "    '.bz2', '.zip', '.xz', '.zst', '.tar', '.tar.gz', '.tar.xz' or '.tar.bz2'\n",
       "    (otherwise no compression).\n",
       "    Set to ``None`` for no compression.\n",
       "    Can also be a dict with key ``'method'`` set\n",
       "    to one of {``'zip'``, ``'gzip'``, ``'bz2'``, ``'zstd'``, ``'xz'``, ``'tar'``} and\n",
       "    other key-value pairs are forwarded to\n",
       "    ``zipfile.ZipFile``, ``gzip.GzipFile``,\n",
       "    ``bz2.BZ2File``, ``zstandard.ZstdCompressor``, ``lzma.LZMAFile`` or\n",
       "    ``tarfile.TarFile``, respectively.\n",
       "    As an example, the following could be passed for faster compression and to create\n",
       "    a reproducible gzip archive:\n",
       "    ``compression={'method': 'gzip', 'compresslevel': 1, 'mtime': 1}``.\n",
       "\n",
       "    .. versionadded:: 1.5.0\n",
       "        Added support for `.tar` files.\n",
       "\n",
       "    .. versionchanged:: 1.4.0 Zstandard support.\n",
       "\n",
       "index : bool or None, default None\n",
       "    The index is only used when 'orient' is 'split', 'index', 'column',\n",
       "    or 'table'. Of these, 'index' and 'column' do not support\n",
       "    `index=False`.\n",
       "\n",
       "indent : int, optional\n",
       "   Length of whitespace used to indent each record.\n",
       "\n",
       "storage_options : dict, optional\n",
       "    Extra options that make sense for a particular storage connection, e.g.\n",
       "    host, port, username, password, etc. For HTTP(S) URLs the key-value pairs\n",
       "    are forwarded to ``urllib.request.Request`` as header options. For other\n",
       "    URLs (e.g. starting with \"s3://\", and \"gcs://\") the key-value pairs are\n",
       "    forwarded to ``fsspec.open``. Please see ``fsspec`` and ``urllib`` for more\n",
       "    details, and for more examples on storage options refer `here\n",
       "    <https://pandas.pydata.org/docs/user_guide/io.html?\n",
       "    highlight=storage_options#reading-writing-remote-files>`_.\n",
       "\n",
       "    .. versionadded:: 1.2.0\n",
       "\n",
       "mode : str, default 'w' (writing)\n",
       "    Specify the IO mode for output when supplying a path_or_buf.\n",
       "    Accepted args are 'w' (writing) and 'a' (append) only.\n",
       "    mode='a' is only supported when lines is True and orient is 'records'.\n",
       "\n",
       "Returns\n",
       "-------\n",
       "None or str\n",
       "    If path_or_buf is None, returns the resulting json format as a\n",
       "    string. Otherwise returns None.\n",
       "\n",
       "See Also\n",
       "--------\n",
       "read_json : Convert a JSON string to pandas object.\n",
       "\n",
       "Notes\n",
       "-----\n",
       "The behavior of ``indent=0`` varies from the stdlib, which does not\n",
       "indent the output but does insert newlines. Currently, ``indent=0``\n",
       "and the default ``indent=None`` are equivalent in pandas, though this\n",
       "may change in a future release.\n",
       "\n",
       "``orient='table'`` contains a 'pandas_version' field under 'schema'.\n",
       "This stores the version of `pandas` used in the latest revision of the\n",
       "schema.\n",
       "\n",
       "Examples\n",
       "--------\n",
       ">>> from json import loads, dumps\n",
       ">>> df = pd.DataFrame(\n",
       "...     [[\"a\", \"b\"], [\"c\", \"d\"]],\n",
       "...     index=[\"row 1\", \"row 2\"],\n",
       "...     columns=[\"col 1\", \"col 2\"],\n",
       "... )\n",
       "\n",
       ">>> result = df.to_json(orient=\"split\")\n",
       ">>> parsed = loads(result)\n",
       ">>> dumps(parsed, indent=4)  # doctest: +SKIP\n",
       "{\n",
       "    \"columns\": [\n",
       "        \"col 1\",\n",
       "        \"col 2\"\n",
       "    ],\n",
       "    \"index\": [\n",
       "        \"row 1\",\n",
       "        \"row 2\"\n",
       "    ],\n",
       "    \"data\": [\n",
       "        [\n",
       "            \"a\",\n",
       "            \"b\"\n",
       "        ],\n",
       "        [\n",
       "            \"c\",\n",
       "            \"d\"\n",
       "        ]\n",
       "    ]\n",
       "}\n",
       "\n",
       "Encoding/decoding a Dataframe using ``'records'`` formatted JSON.\n",
       "Note that index labels are not preserved with this encoding.\n",
       "\n",
       ">>> result = df.to_json(orient=\"records\")\n",
       ">>> parsed = loads(result)\n",
       ">>> dumps(parsed, indent=4)  # doctest: +SKIP\n",
       "[\n",
       "    {\n",
       "        \"col 1\": \"a\",\n",
       "        \"col 2\": \"b\"\n",
       "    },\n",
       "    {\n",
       "        \"col 1\": \"c\",\n",
       "        \"col 2\": \"d\"\n",
       "    }\n",
       "]\n",
       "\n",
       "Encoding/decoding a Dataframe using ``'index'`` formatted JSON:\n",
       "\n",
       ">>> result = df.to_json(orient=\"index\")\n",
       ">>> parsed = loads(result)\n",
       ">>> dumps(parsed, indent=4)  # doctest: +SKIP\n",
       "{\n",
       "    \"row 1\": {\n",
       "        \"col 1\": \"a\",\n",
       "        \"col 2\": \"b\"\n",
       "    },\n",
       "    \"row 2\": {\n",
       "        \"col 1\": \"c\",\n",
       "        \"col 2\": \"d\"\n",
       "    }\n",
       "}\n",
       "\n",
       "Encoding/decoding a Dataframe using ``'columns'`` formatted JSON:\n",
       "\n",
       ">>> result = df.to_json(orient=\"columns\")\n",
       ">>> parsed = loads(result)\n",
       ">>> dumps(parsed, indent=4)  # doctest: +SKIP\n",
       "{\n",
       "    \"col 1\": {\n",
       "        \"row 1\": \"a\",\n",
       "        \"row 2\": \"c\"\n",
       "    },\n",
       "    \"col 2\": {\n",
       "        \"row 1\": \"b\",\n",
       "        \"row 2\": \"d\"\n",
       "    }\n",
       "}\n",
       "\n",
       "Encoding/decoding a Dataframe using ``'values'`` formatted JSON:\n",
       "\n",
       ">>> result = df.to_json(orient=\"values\")\n",
       ">>> parsed = loads(result)\n",
       ">>> dumps(parsed, indent=4)  # doctest: +SKIP\n",
       "[\n",
       "    [\n",
       "        \"a\",\n",
       "        \"b\"\n",
       "    ],\n",
       "    [\n",
       "        \"c\",\n",
       "        \"d\"\n",
       "    ]\n",
       "]\n",
       "\n",
       "Encoding with Table Schema:\n",
       "\n",
       ">>> result = df.to_json(orient=\"table\")\n",
       ">>> parsed = loads(result)\n",
       ">>> dumps(parsed, indent=4)  # doctest: +SKIP\n",
       "{\n",
       "    \"schema\": {\n",
       "        \"fields\": [\n",
       "            {\n",
       "                \"name\": \"index\",\n",
       "                \"type\": \"string\"\n",
       "            },\n",
       "            {\n",
       "                \"name\": \"col 1\",\n",
       "                \"type\": \"string\"\n",
       "            },\n",
       "            {\n",
       "                \"name\": \"col 2\",\n",
       "                \"type\": \"string\"\n",
       "            }\n",
       "        ],\n",
       "        \"primaryKey\": [\n",
       "            \"index\"\n",
       "        ],\n",
       "        \"pandas_version\": \"1.4.0\"\n",
       "    },\n",
       "    \"data\": [\n",
       "        {\n",
       "            \"index\": \"row 1\",\n",
       "            \"col 1\": \"a\",\n",
       "            \"col 2\": \"b\"\n",
       "        },\n",
       "        {\n",
       "            \"index\": \"row 2\",\n",
       "            \"col 1\": \"c\",\n",
       "            \"col 2\": \"d\"\n",
       "        }\n",
       "    ]\n",
       "}\n",
       "\u001b[1;31mFile:\u001b[0m      c:\\users\\matthias\\anaconda3\\envs\\env312\\lib\\site-packages\\pandas\\core\\generic.py\n",
       "\u001b[1;31mType:\u001b[0m      method"
      ]
     },
     "metadata": {},
     "output_type": "display_data"
    }
   ],
   "source": [
    "dfCities.to_json('"
   ]
  }
 ],
 "metadata": {
  "kernelspec": {
   "display_name": "k312",
   "language": "python",
   "name": "k312"
  },
  "language_info": {
   "codemirror_mode": {
    "name": "ipython",
    "version": 3
   },
   "file_extension": ".py",
   "mimetype": "text/x-python",
   "name": "python",
   "nbconvert_exporter": "python",
   "pygments_lexer": "ipython3",
   "version": "3.12.0"
  }
 },
 "nbformat": 4,
 "nbformat_minor": 5
}
