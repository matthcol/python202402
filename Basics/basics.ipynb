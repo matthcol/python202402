{
 "cells": [
  {
   "cell_type": "markdown",
   "id": "a0e1615e-b352-4291-a35d-fcbc98e9a475",
   "metadata": {},
   "source": [
    "# Python Basics"
   ]
  },
  {
   "cell_type": "code",
   "execution_count": 1,
   "id": "5a8b0387-997b-4efd-8546-a1984d1f2916",
   "metadata": {},
   "outputs": [],
   "source": [
    "import numpy as np\n",
    "from decimal import Decimal"
   ]
  },
  {
   "cell_type": "markdown",
   "id": "685aa176-6b30-43c5-a32b-54e5c8f1a922",
   "metadata": {},
   "source": [
    "## Introduction"
   ]
  },
  {
   "cell_type": "code",
   "execution_count": 2,
   "id": "5b4566cb-fad5-42f9-ae21-4bb1aa747312",
   "metadata": {},
   "outputs": [
    {
     "data": {
      "text/plain": [
       "['lundi', 'mardi', 'mercredi', 'jeudi', 'vendredi']"
      ]
     },
     "execution_count": 2,
     "metadata": {},
     "output_type": "execute_result"
    }
   ],
   "source": [
    "temperature = 8\n",
    "city = \"Pau\"\n",
    "days = ['lundi', 'mardi', 'mercredi', 'jeudi', 'vendredi']\n",
    "days"
   ]
  },
  {
   "cell_type": "code",
   "execution_count": 3,
   "id": "7cfe9e71-4305-48d6-a4ec-0796bcc92e77",
   "metadata": {},
   "outputs": [
    {
     "name": "stdout",
     "output_type": "stream",
     "text": [
      "I'm in Toulouse\n"
     ]
    }
   ],
   "source": [
    "city = \"Toulouse\"\n",
    "print(f\"I'm in {city}\") "
   ]
  },
  {
   "cell_type": "markdown",
   "id": "dd2c503f-9add-48a2-aeab-5ba176e79d81",
   "metadata": {},
   "source": [
    "## Integer type(s)\n",
    "- python 3: int\n",
    "- numpy: int8, ..., int64 (signed), uint8, ..., uint64 (unsigned)"
   ]
  },
  {
   "cell_type": "code",
   "execution_count": 4,
   "id": "a92c153d-1d67-431b-b051-51ab3a6b94f9",
   "metadata": {},
   "outputs": [
    {
     "data": {
      "text/plain": [
       "300000000000000000000000000000000000000000000000000000000000000000000000000000000000000000000000000000000000000000000000000000000000000000000000000000000000000000000000000000000000000000000000000000000000000000000000005"
      ]
     },
     "execution_count": 4,
     "metadata": {},
     "output_type": "execute_result"
    }
   ],
   "source": [
    "x = 300000000000000000000000000000000000000000000000000000000000000000000000000000000000000000000000000000000000000000000000000000000000000000000000000000000000000000000000000000000000000000000000000000000000000000000000004\n",
    "x + 1"
   ]
  },
  {
   "cell_type": "code",
   "execution_count": 5,
   "id": "b4c21287-8543-49a3-b1df-3fa0e186b9ae",
   "metadata": {},
   "outputs": [
    {
     "name": "stdout",
     "output_type": "stream",
     "text": [
      "254: <class 'numpy.uint8'>\n"
     ]
    }
   ],
   "source": [
    "color = np.uint8(254)\n",
    "print(color, type(color), sep=': ')"
   ]
  },
  {
   "cell_type": "markdown",
   "id": "4fa15df5-4e65-427d-81c7-714b968b75bd",
   "metadata": {},
   "source": [
    "## Floating types\n",
    "- float: simple/double precision according to architecture\n",
    "- numpy: float16, float32, float64"
   ]
  },
  {
   "cell_type": "code",
   "execution_count": 6,
   "id": "fb91563e-7bbb-4a1e-ae10-77945bc79672",
   "metadata": {},
   "outputs": [
    {
     "name": "stdout",
     "output_type": "stream",
     "text": [
      "<class 'float'>\n"
     ]
    },
    {
     "data": {
      "text/plain": [
       "(0.1, 0.2, 0.30000000000000004)"
      ]
     },
     "execution_count": 6,
     "metadata": {},
     "output_type": "execute_result"
    }
   ],
   "source": [
    "price = 0.1\n",
    "print(type(price))\n",
    "price, price * 2, price * 3"
   ]
  },
  {
   "cell_type": "markdown",
   "id": "1e8963cb-a487-4640-9cf1-1e1ee7ed2ec1",
   "metadata": {},
   "source": [
    "## Decimal type (fixed)\n"
   ]
  },
  {
   "cell_type": "code",
   "execution_count": 7,
   "id": "92d1eba0-4ccf-4174-9e59-ed6005d39133",
   "metadata": {},
   "outputs": [
    {
     "name": "stdout",
     "output_type": "stream",
     "text": [
      "<class 'decimal.Decimal'>\n"
     ]
    },
    {
     "data": {
      "text/plain": [
       "(Decimal('0.1'), Decimal('0.2'), Decimal('0.3'))"
      ]
     },
     "execution_count": 7,
     "metadata": {},
     "output_type": "execute_result"
    }
   ],
   "source": [
    "price = Decimal('0.1')\n",
    "print(type(price))\n",
    "price, price * 2, price * 3"
   ]
  },
  {
   "cell_type": "code",
   "execution_count": 8,
   "id": "d2e17f60-63fc-4bc2-a62f-c77c02e18c5a",
   "metadata": {},
   "outputs": [
    {
     "name": "stdout",
     "output_type": "stream",
     "text": [
      "0.1\n"
     ]
    }
   ],
   "source": [
    "print(price)"
   ]
  },
  {
   "cell_type": "markdown",
   "id": "11f5fa99-60a4-4587-be63-e770780d30f9",
   "metadata": {},
   "source": [
    "## Booleans\n",
    "- type bool"
   ]
  },
  {
   "cell_type": "code",
   "execution_count": 9,
   "id": "fade9a5d-8030-408c-80f7-fa7f8beeaabe",
   "metadata": {},
   "outputs": [
    {
     "data": {
      "text/plain": [
       "(True, False)"
      ]
     },
     "execution_count": 9,
     "metadata": {},
     "output_type": "execute_result"
    }
   ],
   "source": [
    "True, False"
   ]
  },
  {
   "cell_type": "markdown",
   "id": "ef6ffa81-bf05-4fb9-a345-e33b9e06e273",
   "metadata": {},
   "source": [
    "## None"
   ]
  },
  {
   "cell_type": "code",
   "execution_count": 10,
   "id": "21705e58-9916-4615-8e31-84b1fb62b95c",
   "metadata": {},
   "outputs": [],
   "source": [
    "city = None\n",
    "city"
   ]
  },
  {
   "cell_type": "code",
   "execution_count": 11,
   "id": "69236c8c-93a4-45a2-a4ce-1b4050bdee50",
   "metadata": {},
   "outputs": [
    {
     "data": {
      "text/plain": [
       "NoneType"
      ]
     },
     "execution_count": 11,
     "metadata": {},
     "output_type": "execute_result"
    }
   ],
   "source": [
    "type(city)"
   ]
  },
  {
   "cell_type": "code",
   "execution_count": 12,
   "id": "b25529b5-369c-4ca1-b9fa-4935249e974d",
   "metadata": {},
   "outputs": [
    {
     "data": {
      "text/plain": [
       "(True, False)"
      ]
     },
     "execution_count": 12,
     "metadata": {},
     "output_type": "execute_result"
    }
   ],
   "source": [
    "city is None, city is not None"
   ]
  },
  {
   "cell_type": "markdown",
   "id": "44c756a5-dc4f-426e-bfcd-402a0191f214",
   "metadata": {},
   "source": [
    "## Texte\n",
    "- type str, unicode (python 3)"
   ]
  },
  {
   "cell_type": "code",
   "execution_count": 13,
   "id": "f8d8824d-a856-47cc-b9e5-986ded0ea394",
   "metadata": {},
   "outputs": [
    {
     "data": {
      "text/plain": [
       "'東京'"
      ]
     },
     "execution_count": 13,
     "metadata": {},
     "output_type": "execute_result"
    }
   ],
   "source": [
    "city = \"東京\"\n",
    "city"
   ]
  },
  {
   "cell_type": "code",
   "execution_count": 14,
   "id": "6636dd13-4c34-4da0-8745-ccfd85696ed3",
   "metadata": {},
   "outputs": [
    {
     "name": "stdout",
     "output_type": "stream",
     "text": [
      "8\n",
      "toulouse\n",
      "TOULOUSE\n"
     ]
    }
   ],
   "source": [
    "city = \"Toulouse\"\n",
    "print(len(city))\n",
    "print(city.lower())\n",
    "print(city.upper())"
   ]
  },
  {
   "cell_type": "code",
   "execution_count": 15,
   "id": "6ac087df-b56a-4e37-afb2-9c4a08ec13e0",
   "metadata": {},
   "outputs": [],
   "source": [
    "# TypeError: 'str' object does not support item assignment\n",
    "# city[0] = 'B'"
   ]
  },
  {
   "cell_type": "code",
   "execution_count": 16,
   "id": "c5624df2-9e33-460b-b124-0cf11f8e1103",
   "metadata": {},
   "outputs": [
    {
     "data": {
      "text/plain": [
       "('T', 'e')"
      ]
     },
     "execution_count": 16,
     "metadata": {},
     "output_type": "execute_result"
    }
   ],
   "source": [
    "city[0], city[7]"
   ]
  },
  {
   "cell_type": "code",
   "execution_count": 17,
   "id": "fda86cba-ccbc-4071-beec-428157527022",
   "metadata": {},
   "outputs": [],
   "source": [
    "# IndexError: string index out of range\n",
    "# city[8]"
   ]
  },
  {
   "cell_type": "code",
   "execution_count": 18,
   "id": "0eb8c113-b56a-4df1-97e8-1f7d68388503",
   "metadata": {},
   "outputs": [
    {
     "data": {
      "text/plain": [
       "('e', 's', 'T')"
      ]
     },
     "execution_count": 18,
     "metadata": {},
     "output_type": "execute_result"
    }
   ],
   "source": [
    "# last elements\n",
    "city[-1], city[-2], city[-8]"
   ]
  },
  {
   "cell_type": "code",
   "execution_count": 20,
   "id": "c23116e6-e7e7-4bef-9503-c3b50f71eb6e",
   "metadata": {},
   "outputs": [
    {
     "name": "stdout",
     "output_type": "stream",
     "text": [
      "T\n",
      "oulou\n",
      "se\n",
      "Toulouse\n"
     ]
    }
   ],
   "source": [
    "# slices (forward, step=+1)\n",
    "print(city[:1])\n",
    "print(city[1:6])\n",
    "print(city[6:])\n",
    "print(city[:])"
   ]
  },
  {
   "cell_type": "code",
   "execution_count": 23,
   "id": "482939bc-3855-4328-a580-ed34ee802e74",
   "metadata": {},
   "outputs": [
    {
     "name": "stdout",
     "output_type": "stream",
     "text": [
      "use\n",
      "esuo\n",
      "Tuos olue\n"
     ]
    }
   ],
   "source": [
    "# other slices\n",
    "print(city[-3:]) # 3 last ones\n",
    "print(city[7:3:-1]) # slice, reverse order\n",
    "print(city[::2], city[1::2])"
   ]
  },
  {
   "cell_type": "markdown",
   "id": "9652281b-3234-40b7-b6dc-f6b05afd6524",
   "metadata": {},
   "source": [
    "## Function"
   ]
  },
  {
   "cell_type": "code",
   "execution_count": 30,
   "id": "232d80f8-7d1d-493e-b9dc-f66116d63bbf",
   "metadata": {},
   "outputs": [
    {
     "data": {
      "text/plain": [
       "10"
      ]
     },
     "execution_count": 30,
     "metadata": {},
     "output_type": "execute_result"
    }
   ],
   "source": [
    "def f(x):\n",
    "    return x**2 + 1\n",
    "\n",
    "f(3)"
   ]
  },
  {
   "cell_type": "code",
   "execution_count": 25,
   "id": "ebefff00-d9c8-4178-8a1f-23269dfdb60b",
   "metadata": {},
   "outputs": [
    {
     "data": {
      "text/plain": [
       "21.25"
      ]
     },
     "execution_count": 25,
     "metadata": {},
     "output_type": "execute_result"
    }
   ],
   "source": [
    "f(4.5)"
   ]
  },
  {
   "cell_type": "code",
   "execution_count": 27,
   "id": "cb64739b-1150-451f-b2bd-0bbee3ed2fe8",
   "metadata": {},
   "outputs": [],
   "source": [
    "# TypeError: unsupported operand type(s) for ** or pow(): 'str' and 'int'\n",
    "# f(city)"
   ]
  },
  {
   "cell_type": "markdown",
   "id": "8e9460c6-b4a6-4d5e-8fb8-e350614c7731",
   "metadata": {},
   "source": [
    "## Operators"
   ]
  },
  {
   "cell_type": "code",
   "execution_count": 31,
   "id": "c71210aa-7771-4fda-a075-27510755c4f4",
   "metadata": {},
   "outputs": [
    {
     "name": "stdout",
     "output_type": "stream",
     "text": [
      "6\n",
      "10\n",
      "-4\n"
     ]
    }
   ],
   "source": [
    "print(1 + 5)\n",
    "print(2 * 5)\n",
    "print(1 - 5)"
   ]
  },
  {
   "cell_type": "code",
   "execution_count": 36,
   "id": "0d6631fc-70ae-4bc2-8a1a-16d6248a3ba3",
   "metadata": {},
   "outputs": [
    {
     "name": "stdout",
     "output_type": "stream",
     "text": [
      "1.6666666666666667\n",
      "1\n",
      "2\n",
      "(1, 2)\n"
     ]
    }
   ],
   "source": [
    "print(5 / 3) # returns float\n",
    "print(5 // 3) # int division (Euclide)\n",
    "print(5 % 3) # modulo/reminder division (Euclide)\n",
    "print(divmod(5, 3)) # quotient + reminder"
   ]
  },
  {
   "cell_type": "code",
   "execution_count": 37,
   "id": "7e2dce44-170d-417b-94d4-a044deac25a8",
   "metadata": {},
   "outputs": [
    {
     "name": "stdout",
     "output_type": "stream",
     "text": [
      "1024\n"
     ]
    }
   ],
   "source": [
    "# power\n",
    "print(2**10)"
   ]
  },
  {
   "cell_type": "code",
   "execution_count": 39,
   "id": "b409c962-f654-477e-b9e9-f4f10178c92a",
   "metadata": {},
   "outputs": [
    {
     "name": "stdout",
     "output_type": "stream",
     "text": [
      "17.5\n",
      "17.5\n"
     ]
    }
   ],
   "source": [
    "# mixed types (float, int) -> float\n",
    "print(5 * 3.5)\n",
    "print(3.5 * 5)"
   ]
  },
  {
   "cell_type": "code",
   "execution_count": 42,
   "id": "6736a002-f14f-47e4-9817-f3727eeb9c1e",
   "metadata": {},
   "outputs": [
    {
     "data": {
      "text/plain": [
       "'Toulouse, ville rose'"
      ]
     },
     "execution_count": 42,
     "metadata": {},
     "output_type": "execute_result"
    }
   ],
   "source": [
    "# concatenate str \n",
    "city + ', ville rose'"
   ]
  },
  {
   "cell_type": "code",
   "execution_count": 45,
   "id": "97773628-3c04-4b5c-bb40-720f0bc551ee",
   "metadata": {},
   "outputs": [
    {
     "data": {
      "text/plain": [
       "'Toulouse, ville rose ; la température est de 8°C'"
      ]
     },
     "execution_count": 45,
     "metadata": {},
     "output_type": "execute_result"
    }
   ],
   "source": [
    "# formatted string\n",
    "f\"{city}, ville rose ; la température est de {temperature}°C\""
   ]
  },
  {
   "cell_type": "code",
   "execution_count": 46,
   "id": "52b1ad5b-a63f-4bef-b774-c2e79c8819d8",
   "metadata": {},
   "outputs": [
    {
     "data": {
      "text/plain": [
       "'ToulouseToulouseToulouseToulouseToulouse'"
      ]
     },
     "execution_count": 46,
     "metadata": {},
     "output_type": "execute_result"
    }
   ],
   "source": [
    "city * 5"
   ]
  },
  {
   "cell_type": "code",
   "execution_count": 48,
   "id": "abecd1cc-9f80-485c-ab05-63505c54fa7d",
   "metadata": {
    "scrolled": true
   },
   "outputs": [],
   "source": [
    "# TypeError: can't multiply sequence by non-int of type 'str'\n",
    "# city * city"
   ]
  }
 ],
 "metadata": {
  "kernelspec": {
   "display_name": "k312",
   "language": "python",
   "name": "k312"
  },
  "language_info": {
   "codemirror_mode": {
    "name": "ipython",
    "version": 3
   },
   "file_extension": ".py",
   "mimetype": "text/x-python",
   "name": "python",
   "nbconvert_exporter": "python",
   "pygments_lexer": "ipython3",
   "version": "3.12.0"
  }
 },
 "nbformat": 4,
 "nbformat_minor": 5
}
