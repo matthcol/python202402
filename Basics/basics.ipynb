{
 "cells": [
  {
   "cell_type": "markdown",
   "id": "a0e1615e-b352-4291-a35d-fcbc98e9a475",
   "metadata": {},
   "source": [
    "# Python Basics"
   ]
  },
  {
   "cell_type": "code",
   "execution_count": 1,
   "id": "5a8b0387-997b-4efd-8546-a1984d1f2916",
   "metadata": {},
   "outputs": [],
   "source": [
    "import numpy as np\n",
    "from decimal import Decimal"
   ]
  },
  {
   "cell_type": "markdown",
   "id": "685aa176-6b30-43c5-a32b-54e5c8f1a922",
   "metadata": {},
   "source": [
    "## Introduction"
   ]
  },
  {
   "cell_type": "code",
   "execution_count": 2,
   "id": "5b4566cb-fad5-42f9-ae21-4bb1aa747312",
   "metadata": {},
   "outputs": [
    {
     "data": {
      "text/plain": [
       "['lundi', 'mardi', 'mercredi', 'jeudi', 'vendredi']"
      ]
     },
     "execution_count": 2,
     "metadata": {},
     "output_type": "execute_result"
    }
   ],
   "source": [
    "temperature = 8\n",
    "city = \"Pau\"\n",
    "days = ['lundi', 'mardi', 'mercredi', 'jeudi', 'vendredi']\n",
    "days"
   ]
  },
  {
   "cell_type": "code",
   "execution_count": 3,
   "id": "7cfe9e71-4305-48d6-a4ec-0796bcc92e77",
   "metadata": {},
   "outputs": [
    {
     "name": "stdout",
     "output_type": "stream",
     "text": [
      "I'm in Toulouse\n"
     ]
    }
   ],
   "source": [
    "city = \"Toulouse\"\n",
    "print(f\"I'm in {city}\") "
   ]
  },
  {
   "cell_type": "markdown",
   "id": "dd2c503f-9add-48a2-aeab-5ba176e79d81",
   "metadata": {},
   "source": [
    "## Integer type(s)\n",
    "- python 3: int\n",
    "- numpy: int8, ..., int64 (signed), uint8, ..., uint64 (unsigned)"
   ]
  },
  {
   "cell_type": "code",
   "execution_count": 4,
   "id": "a92c153d-1d67-431b-b051-51ab3a6b94f9",
   "metadata": {},
   "outputs": [
    {
     "data": {
      "text/plain": [
       "300000000000000000000000000000000000000000000000000000000000000000000000000000000000000000000000000000000000000000000000000000000000000000000000000000000000000000000000000000000000000000000000000000000000000000000000005"
      ]
     },
     "execution_count": 4,
     "metadata": {},
     "output_type": "execute_result"
    }
   ],
   "source": [
    "x = 300000000000000000000000000000000000000000000000000000000000000000000000000000000000000000000000000000000000000000000000000000000000000000000000000000000000000000000000000000000000000000000000000000000000000000000000004\n",
    "x + 1"
   ]
  },
  {
   "cell_type": "code",
   "execution_count": 5,
   "id": "b4c21287-8543-49a3-b1df-3fa0e186b9ae",
   "metadata": {},
   "outputs": [
    {
     "name": "stdout",
     "output_type": "stream",
     "text": [
      "254: <class 'numpy.uint8'>\n"
     ]
    }
   ],
   "source": [
    "color = np.uint8(254)\n",
    "print(color, type(color), sep=': ')"
   ]
  },
  {
   "cell_type": "markdown",
   "id": "4fa15df5-4e65-427d-81c7-714b968b75bd",
   "metadata": {},
   "source": [
    "## Floating types\n",
    "- float: simple/double precision according to architecture\n",
    "- numpy: float16, float32, float64"
   ]
  },
  {
   "cell_type": "code",
   "execution_count": 6,
   "id": "fb91563e-7bbb-4a1e-ae10-77945bc79672",
   "metadata": {},
   "outputs": [
    {
     "name": "stdout",
     "output_type": "stream",
     "text": [
      "<class 'float'>\n"
     ]
    },
    {
     "data": {
      "text/plain": [
       "(0.1, 0.2, 0.30000000000000004)"
      ]
     },
     "execution_count": 6,
     "metadata": {},
     "output_type": "execute_result"
    }
   ],
   "source": [
    "price = 0.1\n",
    "print(type(price))\n",
    "price, price * 2, price * 3"
   ]
  },
  {
   "cell_type": "markdown",
   "id": "1e8963cb-a487-4640-9cf1-1e1ee7ed2ec1",
   "metadata": {},
   "source": [
    "## Decimal type (fixed)\n"
   ]
  },
  {
   "cell_type": "code",
   "execution_count": 7,
   "id": "92d1eba0-4ccf-4174-9e59-ed6005d39133",
   "metadata": {},
   "outputs": [
    {
     "name": "stdout",
     "output_type": "stream",
     "text": [
      "<class 'decimal.Decimal'>\n"
     ]
    },
    {
     "data": {
      "text/plain": [
       "(Decimal('0.1'), Decimal('0.2'), Decimal('0.3'))"
      ]
     },
     "execution_count": 7,
     "metadata": {},
     "output_type": "execute_result"
    }
   ],
   "source": [
    "price = Decimal('0.1')\n",
    "print(type(price))\n",
    "price, price * 2, price * 3"
   ]
  },
  {
   "cell_type": "code",
   "execution_count": 8,
   "id": "d2e17f60-63fc-4bc2-a62f-c77c02e18c5a",
   "metadata": {},
   "outputs": [
    {
     "name": "stdout",
     "output_type": "stream",
     "text": [
      "0.1\n"
     ]
    }
   ],
   "source": [
    "print(price)"
   ]
  },
  {
   "cell_type": "markdown",
   "id": "11f5fa99-60a4-4587-be63-e770780d30f9",
   "metadata": {},
   "source": [
    "## Booleans\n",
    "- type bool"
   ]
  },
  {
   "cell_type": "code",
   "execution_count": 9,
   "id": "fade9a5d-8030-408c-80f7-fa7f8beeaabe",
   "metadata": {},
   "outputs": [
    {
     "data": {
      "text/plain": [
       "(True, False)"
      ]
     },
     "execution_count": 9,
     "metadata": {},
     "output_type": "execute_result"
    }
   ],
   "source": [
    "True, False"
   ]
  },
  {
   "cell_type": "markdown",
   "id": "ef6ffa81-bf05-4fb9-a345-e33b9e06e273",
   "metadata": {},
   "source": [
    "## None"
   ]
  },
  {
   "cell_type": "code",
   "execution_count": 10,
   "id": "21705e58-9916-4615-8e31-84b1fb62b95c",
   "metadata": {},
   "outputs": [],
   "source": [
    "city = None\n",
    "city"
   ]
  },
  {
   "cell_type": "code",
   "execution_count": 11,
   "id": "69236c8c-93a4-45a2-a4ce-1b4050bdee50",
   "metadata": {},
   "outputs": [
    {
     "data": {
      "text/plain": [
       "NoneType"
      ]
     },
     "execution_count": 11,
     "metadata": {},
     "output_type": "execute_result"
    }
   ],
   "source": [
    "type(city)"
   ]
  },
  {
   "cell_type": "code",
   "execution_count": 12,
   "id": "b25529b5-369c-4ca1-b9fa-4935249e974d",
   "metadata": {},
   "outputs": [
    {
     "data": {
      "text/plain": [
       "(True, False)"
      ]
     },
     "execution_count": 12,
     "metadata": {},
     "output_type": "execute_result"
    }
   ],
   "source": [
    "city is None, city is not None"
   ]
  },
  {
   "cell_type": "markdown",
   "id": "44c756a5-dc4f-426e-bfcd-402a0191f214",
   "metadata": {},
   "source": [
    "## Texte\n",
    "- type str, unicode (python 3)"
   ]
  },
  {
   "cell_type": "code",
   "execution_count": 13,
   "id": "f8d8824d-a856-47cc-b9e5-986ded0ea394",
   "metadata": {},
   "outputs": [
    {
     "data": {
      "text/plain": [
       "'東京'"
      ]
     },
     "execution_count": 13,
     "metadata": {},
     "output_type": "execute_result"
    }
   ],
   "source": [
    "city = \"東京\"\n",
    "city"
   ]
  },
  {
   "cell_type": "code",
   "execution_count": 14,
   "id": "6636dd13-4c34-4da0-8745-ccfd85696ed3",
   "metadata": {},
   "outputs": [
    {
     "name": "stdout",
     "output_type": "stream",
     "text": [
      "8\n",
      "toulouse\n",
      "TOULOUSE\n"
     ]
    }
   ],
   "source": [
    "city = \"Toulouse\"\n",
    "print(len(city))\n",
    "print(city.lower())\n",
    "print(city.upper())"
   ]
  },
  {
   "cell_type": "code",
   "execution_count": 15,
   "id": "6ac087df-b56a-4e37-afb2-9c4a08ec13e0",
   "metadata": {},
   "outputs": [],
   "source": [
    "# TypeError: 'str' object does not support item assignment\n",
    "# city[0] = 'B'"
   ]
  },
  {
   "cell_type": "code",
   "execution_count": 16,
   "id": "c5624df2-9e33-460b-b124-0cf11f8e1103",
   "metadata": {},
   "outputs": [
    {
     "data": {
      "text/plain": [
       "('T', 'e')"
      ]
     },
     "execution_count": 16,
     "metadata": {},
     "output_type": "execute_result"
    }
   ],
   "source": [
    "city[0], city[7]"
   ]
  },
  {
   "cell_type": "code",
   "execution_count": 17,
   "id": "fda86cba-ccbc-4071-beec-428157527022",
   "metadata": {},
   "outputs": [],
   "source": [
    "# IndexError: string index out of range\n",
    "# city[8]"
   ]
  },
  {
   "cell_type": "code",
   "execution_count": 18,
   "id": "0eb8c113-b56a-4df1-97e8-1f7d68388503",
   "metadata": {},
   "outputs": [
    {
     "data": {
      "text/plain": [
       "('e', 's', 'T')"
      ]
     },
     "execution_count": 18,
     "metadata": {},
     "output_type": "execute_result"
    }
   ],
   "source": [
    "# last elements\n",
    "city[-1], city[-2], city[-8]"
   ]
  },
  {
   "cell_type": "code",
   "execution_count": 20,
   "id": "c23116e6-e7e7-4bef-9503-c3b50f71eb6e",
   "metadata": {},
   "outputs": [
    {
     "name": "stdout",
     "output_type": "stream",
     "text": [
      "T\n",
      "oulou\n",
      "se\n",
      "Toulouse\n"
     ]
    }
   ],
   "source": [
    "# slices (forward, step=+1)\n",
    "print(city[:1])\n",
    "print(city[1:6])\n",
    "print(city[6:])\n",
    "print(city[:])"
   ]
  },
  {
   "cell_type": "code",
   "execution_count": 23,
   "id": "482939bc-3855-4328-a580-ed34ee802e74",
   "metadata": {},
   "outputs": [
    {
     "name": "stdout",
     "output_type": "stream",
     "text": [
      "use\n",
      "esuo\n",
      "Tuos olue\n"
     ]
    }
   ],
   "source": [
    "# other slices\n",
    "print(city[-3:]) # 3 last ones\n",
    "print(city[7:3:-1]) # slice, reverse order\n",
    "print(city[::2], city[1::2])"
   ]
  },
  {
   "cell_type": "markdown",
   "id": "9652281b-3234-40b7-b6dc-f6b05afd6524",
   "metadata": {},
   "source": [
    "## Function"
   ]
  },
  {
   "cell_type": "code",
   "execution_count": 30,
   "id": "232d80f8-7d1d-493e-b9dc-f66116d63bbf",
   "metadata": {},
   "outputs": [
    {
     "data": {
      "text/plain": [
       "10"
      ]
     },
     "execution_count": 30,
     "metadata": {},
     "output_type": "execute_result"
    }
   ],
   "source": [
    "def f(x):\n",
    "    return x**2 + 1\n",
    "\n",
    "f(3)"
   ]
  },
  {
   "cell_type": "code",
   "execution_count": 25,
   "id": "ebefff00-d9c8-4178-8a1f-23269dfdb60b",
   "metadata": {},
   "outputs": [
    {
     "data": {
      "text/plain": [
       "21.25"
      ]
     },
     "execution_count": 25,
     "metadata": {},
     "output_type": "execute_result"
    }
   ],
   "source": [
    "f(4.5)"
   ]
  },
  {
   "cell_type": "code",
   "execution_count": 27,
   "id": "cb64739b-1150-451f-b2bd-0bbee3ed2fe8",
   "metadata": {},
   "outputs": [],
   "source": [
    "# TypeError: unsupported operand type(s) for ** or pow(): 'str' and 'int'\n",
    "# f(city)"
   ]
  },
  {
   "cell_type": "markdown",
   "id": "8e9460c6-b4a6-4d5e-8fb8-e350614c7731",
   "metadata": {},
   "source": [
    "## Operators"
   ]
  },
  {
   "cell_type": "code",
   "execution_count": 31,
   "id": "c71210aa-7771-4fda-a075-27510755c4f4",
   "metadata": {},
   "outputs": [
    {
     "name": "stdout",
     "output_type": "stream",
     "text": [
      "6\n",
      "10\n",
      "-4\n"
     ]
    }
   ],
   "source": [
    "print(1 + 5)\n",
    "print(2 * 5)\n",
    "print(1 - 5)"
   ]
  },
  {
   "cell_type": "code",
   "execution_count": 36,
   "id": "0d6631fc-70ae-4bc2-8a1a-16d6248a3ba3",
   "metadata": {},
   "outputs": [
    {
     "name": "stdout",
     "output_type": "stream",
     "text": [
      "1.6666666666666667\n",
      "1\n",
      "2\n",
      "(1, 2)\n"
     ]
    }
   ],
   "source": [
    "print(5 / 3) # returns float\n",
    "print(5 // 3) # int division (Euclide)\n",
    "print(5 % 3) # modulo/reminder division (Euclide)\n",
    "print(divmod(5, 3)) # quotient + reminder"
   ]
  },
  {
   "cell_type": "code",
   "execution_count": 37,
   "id": "7e2dce44-170d-417b-94d4-a044deac25a8",
   "metadata": {},
   "outputs": [
    {
     "name": "stdout",
     "output_type": "stream",
     "text": [
      "1024\n"
     ]
    }
   ],
   "source": [
    "# power\n",
    "print(2**10)"
   ]
  },
  {
   "cell_type": "code",
   "execution_count": 39,
   "id": "b409c962-f654-477e-b9e9-f4f10178c92a",
   "metadata": {},
   "outputs": [
    {
     "name": "stdout",
     "output_type": "stream",
     "text": [
      "17.5\n",
      "17.5\n"
     ]
    }
   ],
   "source": [
    "# mixed types (float, int) -> float\n",
    "print(5 * 3.5)\n",
    "print(3.5 * 5)"
   ]
  },
  {
   "cell_type": "code",
   "execution_count": 42,
   "id": "6736a002-f14f-47e4-9817-f3727eeb9c1e",
   "metadata": {},
   "outputs": [
    {
     "data": {
      "text/plain": [
       "'Toulouse, ville rose'"
      ]
     },
     "execution_count": 42,
     "metadata": {},
     "output_type": "execute_result"
    }
   ],
   "source": [
    "# concatenate str \n",
    "city + ', ville rose'"
   ]
  },
  {
   "cell_type": "code",
   "execution_count": 45,
   "id": "97773628-3c04-4b5c-bb40-720f0bc551ee",
   "metadata": {},
   "outputs": [
    {
     "data": {
      "text/plain": [
       "'Toulouse, ville rose ; la température est de 8°C'"
      ]
     },
     "execution_count": 45,
     "metadata": {},
     "output_type": "execute_result"
    }
   ],
   "source": [
    "# formatted string\n",
    "f\"{city}, ville rose ; la température est de {temperature}°C\""
   ]
  },
  {
   "cell_type": "code",
   "execution_count": 46,
   "id": "52b1ad5b-a63f-4bef-b774-c2e79c8819d8",
   "metadata": {},
   "outputs": [
    {
     "data": {
      "text/plain": [
       "'ToulouseToulouseToulouseToulouseToulouse'"
      ]
     },
     "execution_count": 46,
     "metadata": {},
     "output_type": "execute_result"
    }
   ],
   "source": [
    "city * 5"
   ]
  },
  {
   "cell_type": "code",
   "execution_count": 48,
   "id": "abecd1cc-9f80-485c-ab05-63505c54fa7d",
   "metadata": {
    "scrolled": true
   },
   "outputs": [],
   "source": [
    "# TypeError: can't multiply sequence by non-int of type 'str'\n",
    "# city * city"
   ]
  },
  {
   "cell_type": "markdown",
   "id": "b360b079-e4f6-441a-8692-a81cedb16f57",
   "metadata": {},
   "source": [
    "### In place Operators"
   ]
  },
  {
   "cell_type": "code",
   "execution_count": 50,
   "id": "5b35effb-102d-4d44-9291-58b3f8751c35",
   "metadata": {},
   "outputs": [
    {
     "data": {
      "text/plain": [
       "4"
      ]
     },
     "execution_count": 50,
     "metadata": {},
     "output_type": "execute_result"
    }
   ],
   "source": [
    "x = 3\n",
    "x += 1\n",
    "x"
   ]
  },
  {
   "cell_type": "code",
   "execution_count": 53,
   "id": "0c461b41-c564-4cd1-80bb-63e6e1877c69",
   "metadata": {},
   "outputs": [
    {
     "data": {
      "text/plain": [
       "'Toulouse, ville rose'"
      ]
     },
     "execution_count": 53,
     "metadata": {},
     "output_type": "execute_result"
    }
   ],
   "source": [
    "city = 'Toulouse'\n",
    "# += works for non mutable types: city = city + ', ville rose'\n",
    "city += ', ville rose' # new string, replacing previous one\n",
    "city"
   ]
  },
  {
   "cell_type": "markdown",
   "id": "2d13c144-1d00-4331-96e3-f4af442e4ba0",
   "metadata": {},
   "source": [
    "### logical operators\n",
    "- sequential and, or\n",
    "- keywords not special characters: not, and, or"
   ]
  },
  {
   "cell_type": "code",
   "execution_count": 54,
   "id": "6cbbe46b-fe02-44d2-aa69-1fe67abba4e4",
   "metadata": {},
   "outputs": [
    {
     "data": {
      "text/plain": [
       "False"
      ]
     },
     "execution_count": 54,
     "metadata": {},
     "output_type": "execute_result"
    }
   ],
   "source": [
    "(len(city) > 5) and (city[5] == 'o')"
   ]
  },
  {
   "cell_type": "code",
   "execution_count": 55,
   "id": "9e920dbf-e0c3-4dde-9d8a-98be7de8031b",
   "metadata": {},
   "outputs": [
    {
     "data": {
      "text/plain": [
       "False"
      ]
     },
     "execution_count": 55,
     "metadata": {},
     "output_type": "execute_result"
    }
   ],
   "source": [
    "city = 'Pau'\n",
    "(len(city) > 5) and (city[5] == 'o')"
   ]
  },
  {
   "cell_type": "code",
   "execution_count": 59,
   "id": "ecb222a1-e323-49a1-9ff5-8d73ad03e9f8",
   "metadata": {},
   "outputs": [
    {
     "name": "stdout",
     "output_type": "stream",
     "text": [
      "True\n",
      "True\n"
     ]
    },
    {
     "name": "stderr",
     "output_type": "stream",
     "text": [
      "<>:5: SyntaxWarning: \"is\" with 'str' literal. Did you mean \"==\"?\n",
      "<>:5: SyntaxWarning: \"is\" with 'str' literal. Did you mean \"==\"?\n",
      "C:\\Users\\Matthias\\AppData\\Local\\Temp\\ipykernel_10616\\2280567020.py:5: SyntaxWarning: \"is\" with 'str' literal. Did you mean \"==\"?\n",
      "  print(city is 'Pau')\n"
     ]
    }
   ],
   "source": [
    "# content\n",
    "print(city == 'Pau') \n",
    "\n",
    "# same object in memory\n",
    "print(city is 'Pau') "
   ]
  },
  {
   "cell_type": "code",
   "execution_count": 58,
   "id": "eecd72ef-5032-4b13-a040-9628d57b313f",
   "metadata": {},
   "outputs": [
    {
     "data": {
      "text/plain": [
       "True"
      ]
     },
     "execution_count": 58,
     "metadata": {},
     "output_type": "execute_result"
    }
   ],
   "source": [
    "city2 = city # 2 variables references same data\n",
    "city is city2"
   ]
  },
  {
   "cell_type": "markdown",
   "id": "d7a63d3d-32e9-4e2d-89e0-8bc15fe873dc",
   "metadata": {},
   "source": [
    "### containing"
   ]
  },
  {
   "cell_type": "code",
   "execution_count": 61,
   "id": "54841de0-394a-4f8c-bea9-cc8440367b58",
   "metadata": {},
   "outputs": [
    {
     "data": {
      "text/plain": [
       "True"
      ]
     },
     "execution_count": 61,
     "metadata": {},
     "output_type": "execute_result"
    }
   ],
   "source": [
    "'ou' in 'Toulouse'"
   ]
  },
  {
   "cell_type": "markdown",
   "id": "eb24700d-4d51-42d5-a10d-f4db604bdf5f",
   "metadata": {},
   "source": [
    "## Control flow"
   ]
  },
  {
   "cell_type": "markdown",
   "id": "b149f848-27ec-4343-96c2-5cbb5b0e399e",
   "metadata": {},
   "source": [
    "### Condition\n",
    "one, two, ..., n cases"
   ]
  },
  {
   "cell_type": "code",
   "execution_count": 62,
   "id": "c3dd1ed3-da8e-4365-bfed-d815322c3679",
   "metadata": {},
   "outputs": [
    {
     "name": "stdout",
     "output_type": "stream",
     "text": [
      "Pau\n"
     ]
    }
   ],
   "source": [
    "if len(city) > 5:\n",
    "    print(city[:6])\n",
    "else:\n",
    "    print(city)"
   ]
  },
  {
   "cell_type": "code",
   "execution_count": 64,
   "id": "7a532b20-3155-415b-a1b9-5788ef29965e",
   "metadata": {},
   "outputs": [
    {
     "name": "stdout",
     "output_type": "stream",
     "text": [
      "Pau\n"
     ]
    }
   ],
   "source": [
    "if len(city) == 0:\n",
    "    print('empty city')\n",
    "elif len(city) > 5:\n",
    "    print(city[:6])\n",
    "else:\n",
    "    print(city)"
   ]
  },
  {
   "cell_type": "code",
   "execution_count": 65,
   "id": "d126cfc5-ee14-4e14-8f22-b71fa45e54bd",
   "metadata": {},
   "outputs": [
    {
     "name": "stdout",
     "output_type": "stream",
     "text": [
      "Pau is a special case\n"
     ]
    }
   ],
   "source": [
    "# python 3.10+\n",
    "match city:\n",
    "    case '':\n",
    "        print('emptycity')\n",
    "    case 'Pau':\n",
    "        print('Pau is a special case')\n",
    "    case _ if len(city) > 5:\n",
    "        print(city[:6])\n",
    "    case _:\n",
    "        print(city)\n",
    "        "
   ]
  },
  {
   "cell_type": "code",
   "execution_count": 66,
   "id": "7977af59-5e69-4ac9-b654-c81b0875e12f",
   "metadata": {},
   "outputs": [
    {
     "data": {
      "text/plain": [
       "'Pau'"
      ]
     },
     "execution_count": 66,
     "metadata": {},
     "output_type": "execute_result"
    }
   ],
   "source": [
    "# ternary if expression:\n",
    "city[:6] if len(city)> 5 else city"
   ]
  },
  {
   "cell_type": "markdown",
   "id": "66c00716-5248-4c6f-acfe-be83613b1676",
   "metadata": {},
   "source": [
    "### Loops"
   ]
  },
  {
   "cell_type": "markdown",
   "id": "68eeb84b-2b04-4c7d-9bff-a6869cddc1c3",
   "metadata": {},
   "source": [
    "#### for"
   ]
  },
  {
   "cell_type": "code",
   "execution_count": 67,
   "id": "e847a341-ced7-43e9-9d11-424ef20833b0",
   "metadata": {},
   "outputs": [
    {
     "name": "stdout",
     "output_type": "stream",
     "text": [
      "T\n",
      "o\n",
      "u\n",
      "l\n",
      "o\n",
      "u\n",
      "s\n",
      "e\n"
     ]
    }
   ],
   "source": [
    "for letter in 'Toulouse':\n",
    "    print(letter)"
   ]
  },
  {
   "cell_type": "code",
   "execution_count": 69,
   "id": "58f158a9-9191-42a8-aa7e-a96de9d108cd",
   "metadata": {},
   "outputs": [
    {
     "name": "stdout",
     "output_type": "stream",
     "text": [
      "Toulouse\n",
      "Pau\n",
      "Nantes\n",
      "After loop: Nantes\n"
     ]
    }
   ],
   "source": [
    "cities = [ \"Toulouse\", \"Pau\", \"Nantes\" ]\n",
    "for city in cities:\n",
    "    print(city)\n",
    "print('After loop:', city) "
   ]
  },
  {
   "cell_type": "code",
   "execution_count": 71,
   "id": "4a40fc57-7155-47fc-aae9-5dacc9dd33c6",
   "metadata": {},
   "outputs": [
    {
     "name": "stdout",
     "output_type": "stream",
     "text": [
      "* 0\n",
      "* 1\n",
      "* 2\n",
      "* 3\n",
      "# 1\n",
      "# 2\n",
      "# 3\n",
      ". 5\n",
      ". 4\n",
      ". 3\n",
      ". 2\n",
      ". 1\n"
     ]
    }
   ],
   "source": [
    "for i in range(4):\n",
    "    print('*', i)\n",
    "\n",
    "for i in range(1, 4):\n",
    "    print('#', i)\n",
    "\n",
    "for i in range(5, 0, -1):\n",
    "    print('.', i)"
   ]
  },
  {
   "cell_type": "code",
   "execution_count": 72,
   "id": "4d651bdf-7d2f-445c-bf86-dd5497ab3021",
   "metadata": {},
   "outputs": [
    {
     "data": {
      "text/plain": [
       "\u001b[1;31mInit signature:\u001b[0m \u001b[0mrange\u001b[0m\u001b[1;33m(\u001b[0m\u001b[0mself\u001b[0m\u001b[1;33m,\u001b[0m \u001b[1;33m/\u001b[0m\u001b[1;33m,\u001b[0m \u001b[1;33m*\u001b[0m\u001b[0margs\u001b[0m\u001b[1;33m,\u001b[0m \u001b[1;33m**\u001b[0m\u001b[0mkwargs\u001b[0m\u001b[1;33m)\u001b[0m\u001b[1;33m\u001b[0m\u001b[1;33m\u001b[0m\u001b[0m\n",
       "\u001b[1;31mDocstring:\u001b[0m     \n",
       "range(stop) -> range object\n",
       "range(start, stop[, step]) -> range object\n",
       "\n",
       "Return an object that produces a sequence of integers from start (inclusive)\n",
       "to stop (exclusive) by step.  range(i, j) produces i, i+1, i+2, ..., j-1.\n",
       "start defaults to 0, and stop is omitted!  range(4) produces 0, 1, 2, 3.\n",
       "These are exactly the valid indices for a list of 4 elements.\n",
       "When step is given, it specifies the increment (or decrement).\n",
       "\u001b[1;31mType:\u001b[0m           type\n",
       "\u001b[1;31mSubclasses:\u001b[0m     "
      ]
     },
     "metadata": {},
     "output_type": "display_data"
    }
   ],
   "source": [
    "range?"
   ]
  },
  {
   "cell_type": "code",
   "execution_count": 73,
   "id": "c348e97d-990d-4ecb-b2ed-22cb90b54164",
   "metadata": {},
   "outputs": [
    {
     "data": {
      "text/plain": [
       "range(0, 10)"
      ]
     },
     "execution_count": 73,
     "metadata": {},
     "output_type": "execute_result"
    }
   ],
   "source": [
    "r = range(10)\n",
    "r"
   ]
  },
  {
   "cell_type": "code",
   "execution_count": 76,
   "id": "f330455d-9d35-4e94-b7e0-d33466d6e021",
   "metadata": {},
   "outputs": [
    {
     "name": "stdout",
     "output_type": "stream",
     "text": [
      "0 -> Toulouse\n",
      "1 -> Pau\n",
      "2 -> Nantes\n"
     ]
    }
   ],
   "source": [
    "for i, city in enumerate(cities):\n",
    "    print(i, city, sep=' -> ')"
   ]
  },
  {
   "cell_type": "code",
   "execution_count": 79,
   "id": "ec4bff84-c9d2-4631-9405-42188c022f17",
   "metadata": {},
   "outputs": [
    {
     "name": "stdout",
     "output_type": "stream",
     "text": [
      "1 -> Toulouse\n",
      "2 -> Pau\n",
      "3 -> Nantes\n"
     ]
    }
   ],
   "source": [
    "for i, city in enumerate(cities, start=1):\n",
    "    print(i, city, sep=' -> ')"
   ]
  },
  {
   "cell_type": "markdown",
   "id": "6af90a41-f258-484f-8a30-bac6db4ab8b4",
   "metadata": {},
   "source": [
    "#### while"
   ]
  },
  {
   "cell_type": "code",
   "execution_count": 81,
   "id": "adfc4e39-2980-4e72-bd7b-37e7f7d3f3b4",
   "metadata": {},
   "outputs": [
    {
     "name": "stdout",
     "output_type": "stream",
     "text": [
      "A4\n",
      "A3\n",
      "A2\n",
      "A1\n"
     ]
    }
   ],
   "source": [
    "i = 4\n",
    "while i > 0:\n",
    "    print('A', i, sep='')\n",
    "    i -= 1"
   ]
  },
  {
   "cell_type": "markdown",
   "id": "b64fe439-33db-452f-a8a4-ade4f7fdccb4",
   "metadata": {},
   "source": [
    "## Containers\n",
    "- list: [1, 2, 3]\n",
    "- tuple: (1, 2, 3)\n",
    "- set: {1, 2, 3}\n",
    "- dict: {'name': 'Pau', 'pop': 77000}"
   ]
  },
  {
   "cell_type": "code",
   "execution_count": 82,
   "id": "70cf5a26-f2a2-4575-bfb2-fcfc09bb95d7",
   "metadata": {},
   "outputs": [
    {
     "data": {
      "text/plain": [
       "dict"
      ]
     },
     "execution_count": 82,
     "metadata": {},
     "output_type": "execute_result"
    }
   ],
   "source": [
    "type({})"
   ]
  },
  {
   "cell_type": "code",
   "execution_count": 83,
   "id": "3b4ccf11-a441-46ac-bbc0-61276be15fb8",
   "metadata": {},
   "outputs": [
    {
     "data": {
      "text/plain": [
       "set"
      ]
     },
     "execution_count": 83,
     "metadata": {},
     "output_type": "execute_result"
    }
   ],
   "source": [
    "type(set())"
   ]
  },
  {
   "cell_type": "code",
   "execution_count": 85,
   "id": "43cfd7e5-26eb-4376-9b6e-d3ba3a1d2b13",
   "metadata": {},
   "outputs": [
    {
     "data": {
      "text/plain": [
       "tuple"
      ]
     },
     "execution_count": 85,
     "metadata": {},
     "output_type": "execute_result"
    }
   ],
   "source": [
    "t = ()\n",
    "type(t)"
   ]
  },
  {
   "cell_type": "code",
   "execution_count": 86,
   "id": "b60a3cb6-2a7b-435b-a89a-88590b51f53d",
   "metadata": {},
   "outputs": [
    {
     "data": {
      "text/plain": [
       "int"
      ]
     },
     "execution_count": 86,
     "metadata": {},
     "output_type": "execute_result"
    }
   ],
   "source": [
    "t = (5)\n",
    "type(t)"
   ]
  },
  {
   "cell_type": "code",
   "execution_count": 87,
   "id": "544d88da-e96a-4340-886c-f7f20ded3ea3",
   "metadata": {},
   "outputs": [
    {
     "data": {
      "text/plain": [
       "tuple"
      ]
     },
     "execution_count": 87,
     "metadata": {},
     "output_type": "execute_result"
    }
   ],
   "source": [
    "t = (5,)\n",
    "type(t)"
   ]
  },
  {
   "cell_type": "code",
   "execution_count": 89,
   "id": "94ed7092-bc0e-46ac-a094-cc2d4de1860e",
   "metadata": {},
   "outputs": [
    {
     "name": "stdout",
     "output_type": "stream",
     "text": [
      "<class 'tuple'>\n"
     ]
    },
    {
     "data": {
      "text/plain": [
       "(1, 2, 3)"
      ]
     },
     "execution_count": 89,
     "metadata": {},
     "output_type": "execute_result"
    }
   ],
   "source": [
    "t = 1, 2, 3\n",
    "print(type(t))\n",
    "t"
   ]
  },
  {
   "cell_type": "code",
   "execution_count": 90,
   "id": "6bc33281-dc8a-4e3d-a9a3-5004b4493adf",
   "metadata": {},
   "outputs": [
    {
     "name": "stdout",
     "output_type": "stream",
     "text": [
      "1 2 3\n"
     ]
    }
   ],
   "source": [
    "# unwrap tuple\n",
    "a, b, c = t\n",
    "print(a, b, c)"
   ]
  },
  {
   "cell_type": "markdown",
   "id": "20c3188b-a616-45e5-bba7-2cc768804d87",
   "metadata": {},
   "source": [
    "### Tuple vs List\n",
    "- list are homogenous\n",
    "- tuple can be heterogenous"
   ]
  },
  {
   "cell_type": "code",
   "execution_count": 92,
   "id": "d5c26ce4-807d-41a2-be00-da56bd026358",
   "metadata": {},
   "outputs": [],
   "source": [
    "city_list = ['Toulouse', 'Pau', 'Nantes']\n",
    "city_tuple = 'Toulouse', 'Pau', 'Nantes'"
   ]
  },
  {
   "cell_type": "code",
   "execution_count": 96,
   "id": "9ffe59d7-36ee-4dd2-b6ec-b41df660c8b0",
   "metadata": {},
   "outputs": [
    {
     "name": "stdout",
     "output_type": "stream",
     "text": [
      "Iteration: <class 'list'>\n",
      "Length: 3\n",
      "First: Toulouse\n",
      "Last: Nantes\n",
      "Slice: ['Toulouse', 'Pau']\n",
      "\t- Toulouse\n",
      "\t- Pau\n",
      "\t- Nantes\n",
      "Iteration: <class 'tuple'>\n",
      "Length: 3\n",
      "First: Toulouse\n",
      "Last: Nantes\n",
      "Slice: ('Toulouse', 'Pau')\n",
      "\t- Toulouse\n",
      "\t- Pau\n",
      "\t- Nantes\n"
     ]
    }
   ],
   "source": [
    "for source in (city_list, city_tuple):\n",
    "    print(\"Iteration:\", type(source))\n",
    "    print(\"Length:\", len(source))\n",
    "    print(\"First:\", source[0])\n",
    "    print(\"Last:\", source[-1])\n",
    "    print(\"Slice:\", source[:2]) \n",
    "    for city in source:\n",
    "        print('\\t-', city)"
   ]
  },
  {
   "cell_type": "code",
   "execution_count": 99,
   "id": "f4ff03d1-c0ae-4f58-9c37-d34806a1dbfc",
   "metadata": {},
   "outputs": [
    {
     "name": "stdout",
     "output_type": "stream",
     "text": [
      "['Toulouse', 'Pau', 'Nantes', 'Bayonne', 'Bayonne']\n",
      "['Toulouse', 'Pau', 'Nantes', 'Bayonne', 'Biarritz']\n"
     ]
    }
   ],
   "source": [
    "city_list.append('Bayonne')\n",
    "print(city_list)\n",
    "city_list[-1] = 'Biarritz'\n",
    "print(city_list)"
   ]
  },
  {
   "cell_type": "code",
   "execution_count": 101,
   "id": "326fd5e4-8cf2-40fa-a625-08fe33e7ed74",
   "metadata": {},
   "outputs": [],
   "source": [
    "# AttributeError: 'tuple' object has no attribute 'append'\n",
    "# city_tuple.append('Bayonne')\n",
    "\n",
    "# TypeError: 'tuple' object does not support item assignment\n",
    "# city_tuple[-1] = 'Biarritz'"
   ]
  },
  {
   "cell_type": "markdown",
   "id": "629730ae-7e6e-4628-a190-4c23bcb481ef",
   "metadata": {},
   "source": [
    "### Set"
   ]
  },
  {
   "cell_type": "code",
   "execution_count": 104,
   "id": "789c11f5-7c7e-4189-b052-50c777279f64",
   "metadata": {},
   "outputs": [
    {
     "data": {
      "text/plain": [
       "{2, 3, 5, 6, 12}"
      ]
     },
     "execution_count": 104,
     "metadata": {},
     "output_type": "execute_result"
    }
   ],
   "source": [
    "numbers = { 5, 2, 3, 12 }\n",
    "numbers.add(5)\n",
    "numbers.add(6)\n",
    "numbers"
   ]
  },
  {
   "cell_type": "code",
   "execution_count": 106,
   "id": "9741e553-1157-47e0-8f92-4e6891f07bf9",
   "metadata": {},
   "outputs": [],
   "source": [
    "# TypeError: 'set' object is not subscriptable\n",
    "# numbers[0]"
   ]
  },
  {
   "cell_type": "code",
   "execution_count": 107,
   "id": "c4f0db6d-7a7f-4f11-9f44-0c3efc7142b9",
   "metadata": {},
   "outputs": [
    {
     "name": "stdout",
     "output_type": "stream",
     "text": [
      "2\n",
      "3\n",
      "5\n",
      "6\n",
      "12\n"
     ]
    }
   ],
   "source": [
    "for n in numbers:\n",
    "    print(n)"
   ]
  },
  {
   "cell_type": "markdown",
   "id": "700da4da-6e95-4b0b-a988-30a729fedc70",
   "metadata": {},
   "source": [
    "### Dictionaries (dict)"
   ]
  },
  {
   "cell_type": "code",
   "execution_count": 114,
   "id": "680b1f39-bac1-4891-844b-a0a0f53c66a9",
   "metadata": {},
   "outputs": [
    {
     "data": {
      "text/plain": [
       "{'name': 'Pau', 'pop': 77000}"
      ]
     },
     "execution_count": 114,
     "metadata": {},
     "output_type": "execute_result"
    }
   ],
   "source": [
    "city_d = {'name': 'Pau', 'pop': 77000}\n",
    "city_d"
   ]
  },
  {
   "cell_type": "code",
   "execution_count": 115,
   "id": "ba101bbf-d573-4655-a695-00033c304b65",
   "metadata": {},
   "outputs": [
    {
     "data": {
      "text/plain": [
       "'Pau'"
      ]
     },
     "execution_count": 115,
     "metadata": {},
     "output_type": "execute_result"
    }
   ],
   "source": [
    "city_d['name']"
   ]
  },
  {
   "cell_type": "code",
   "execution_count": 116,
   "id": "64746325-0d0e-4505-b9c8-d2cdba6006c4",
   "metadata": {},
   "outputs": [
    {
     "data": {
      "text/plain": [
       "{'name': 'Pau', 'pop': 87000}"
      ]
     },
     "execution_count": 116,
     "metadata": {},
     "output_type": "execute_result"
    }
   ],
   "source": [
    "city_d['pop'] += 10000\n",
    "city_d"
   ]
  },
  {
   "cell_type": "code",
   "execution_count": 117,
   "id": "7772c44e-0168-4d8f-811d-dc6003011934",
   "metadata": {},
   "outputs": [
    {
     "data": {
      "text/plain": [
       "{'name': 'Pau', 'pop': 87000, 'dep': 64}"
      ]
     },
     "execution_count": 117,
     "metadata": {},
     "output_type": "execute_result"
    }
   ],
   "source": [
    "city_d['dep'] = 64\n",
    "city_d"
   ]
  },
  {
   "cell_type": "code",
   "execution_count": 118,
   "id": "ad2f3525-2c97-4326-9e4b-39da2a8388e1",
   "metadata": {},
   "outputs": [
    {
     "data": {
      "text/plain": [
       "{'name': 'Pau', 'pop': 87000}"
      ]
     },
     "execution_count": 118,
     "metadata": {},
     "output_type": "execute_result"
    }
   ],
   "source": [
    "# remove 1 entry: del instruction or pop method\n",
    "del city_d['dep']\n",
    "city_d"
   ]
  },
  {
   "cell_type": "code",
   "execution_count": 119,
   "id": "8ea9cf4b-d6b5-45fd-9329-53e05baeec77",
   "metadata": {},
   "outputs": [],
   "source": [
    "# NameError: name 'city_d' is not defined\n",
    "# del city_d\n",
    "# city_d"
   ]
  },
  {
   "cell_type": "code",
   "execution_count": 121,
   "id": "ad7a81c5-4a17-456e-99e9-7220f206938d",
   "metadata": {},
   "outputs": [
    {
     "name": "stdout",
     "output_type": "stream",
     "text": [
      "name\n",
      "pop\n"
     ]
    }
   ],
   "source": [
    "for key in city_d:\n",
    "    print(key)"
   ]
  },
  {
   "cell_type": "code",
   "execution_count": 122,
   "id": "30723ea4-cbb7-4529-a36c-c9386e7b90aa",
   "metadata": {},
   "outputs": [
    {
     "name": "stdout",
     "output_type": "stream",
     "text": [
      "name\n",
      "pop\n"
     ]
    }
   ],
   "source": [
    "for key in city_d.keys():\n",
    "    print(key)"
   ]
  },
  {
   "cell_type": "code",
   "execution_count": 124,
   "id": "0a227582-2a17-4d9c-9999-68d3d7896e3c",
   "metadata": {},
   "outputs": [
    {
     "name": "stdout",
     "output_type": "stream",
     "text": [
      "Pau\n",
      "87000\n"
     ]
    }
   ],
   "source": [
    "for value in city_d.values():\n",
    "    print(value)"
   ]
  },
  {
   "cell_type": "code",
   "execution_count": 125,
   "id": "385f63be-ae51-4c34-92e8-d0fbc8608e8c",
   "metadata": {},
   "outputs": [
    {
     "name": "stdout",
     "output_type": "stream",
     "text": [
      "name: Pau\n",
      "pop: 87000\n"
     ]
    }
   ],
   "source": [
    "for key, value in city_d.items():\n",
    "    print(key, value, sep=\": \")"
   ]
  },
  {
   "cell_type": "markdown",
   "id": "20cbbbe2-5e95-4f44-8b18-3740e1f927ba",
   "metadata": {},
   "source": [
    "### Exercise: List Modification "
   ]
  },
  {
   "cell_type": "code",
   "execution_count": 127,
   "id": "21e4b5c2-913c-4dc4-bc3e-d6a24c163b51",
   "metadata": {},
   "outputs": [],
   "source": [
    "# Modify list city_list (2 solutions: slice or method)\n",
    "# - add n values at the end\n",
    "# - add n values at pos 3\n",
    "# - add n values at begining\n",
    "# - remove 3 values from pos 2 to 4\n",
    "# - replace 2 values (pos 2 to 3) by 3 values\n",
    "# - replace 3 values (pos 2 to 4) by 2 values"
   ]
  },
  {
   "cell_type": "code",
   "execution_count": null,
   "id": "0c83ff41-c942-4479-bb5e-83d7e498136e",
   "metadata": {},
   "outputs": [],
   "source": [
    "infos = {\n",
    "    'Toulouse': (470_000, 31),\n",
    "    'Pau': (77_000, 64),\n",
    "    'Paris': (2_161_000, 75),\n",
    "    'Marseille': (861_000, 13),\n",
    "    'Nantes': (303_000, 44),\n",
    "    'Bordeaux': (249_000, 33),\n",
    "    'Montpellier': (277_000, 34)\n",
    "}\n",
    "# transform city_list in a list of dictionnary using infos\n",
    "# each entry of the resukt must have the following form:\n",
    "# {'name': 'Toulouse', 'population': 470000, 'department': 31}\n",
    "# NB: if city is not found in infos, entry is skipped"
   ]
  },
  {
   "cell_type": "code",
   "execution_count": null,
   "id": "def5701b-50f7-4780-b699-d407a2bbe3e8",
   "metadata": {},
   "outputs": [],
   "source": []
  },
  {
   "cell_type": "code",
   "execution_count": null,
   "id": "b698c843-646d-4600-9b76-027c9e86fe1c",
   "metadata": {},
   "outputs": [],
   "source": []
  }
 ],
 "metadata": {
  "kernelspec": {
   "display_name": "k312",
   "language": "python",
   "name": "k312"
  },
  "language_info": {
   "codemirror_mode": {
    "name": "ipython",
    "version": 3
   },
   "file_extension": ".py",
   "mimetype": "text/x-python",
   "name": "python",
   "nbconvert_exporter": "python",
   "pygments_lexer": "ipython3",
   "version": "3.12.0"
  }
 },
 "nbformat": 4,
 "nbformat_minor": 5
}
